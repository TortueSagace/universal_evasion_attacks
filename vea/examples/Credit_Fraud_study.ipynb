{
 "cells": [
  {
   "cell_type": "markdown",
   "metadata": {},
   "source": [
    "# Credit Card Fraud Study\n",
    "\n",
    "Developped by Alexandre Le Mercier. *This code is under the MIT license as the rest of this package content (cf. the README.md file).*"
   ]
  },
  {
   "cell_type": "code",
   "execution_count": 2,
   "metadata": {},
   "outputs": [
    {
     "name": "stdout",
     "output_type": "stream",
     "text": [
      "Python version: 3.13.0 (tags/v3.13.0:60403a5, Oct  7 2024, 09:38:07) [MSC v.1941 64 bit (AMD64)]\n",
      "\n",
      "pandas: 2.2.3\n",
      "numpy: 2.1.3\n",
      "seaborn: 0.13.2\n",
      "tqdm: 4.67.0\n",
      "xgboost: 2.1.2\n",
      "lightgbm: 4.5.0\n",
      "sklearn: 1.5.2\n",
      "optuna: 4.0.0\n",
      "\n",
      "Last run:  2024-12-15\n"
     ]
    }
   ],
   "source": [
    "%reload_ext autoreload\n",
    "%autoreload 2\n",
    "\n",
    "import pandas as pd\n",
    "import numpy as np\n",
    "import matplotlib.pyplot as plt\n",
    "import seaborn as sns\n",
    "from datetime import date\n",
    "import os\n",
    "import sys\n",
    "import tqdm as tq\n",
    "from tqdm.notebook import tqdm\n",
    "import warnings\n",
    "import gc\n",
    "import xgboost as xg\n",
    "import lightgbm as lgb\n",
    "import sklearn as sk\n",
    "from xgboost import XGBClassifier\n",
    "from lightgbm import LGBMClassifier\n",
    "from sklearn.model_selection import train_test_split\n",
    "from sklearn.metrics import accuracy_score, f1_score, roc_auc_score, confusion_matrix, classification_report\n",
    "from sklearn.ensemble import ExtraTreesClassifier, HistGradientBoostingClassifier\n",
    "import optuna\n",
    "\n",
    "libraries = [pd, np, sns, tq, xg, lgb, sk, optuna]\n",
    "\n",
    "warnings.filterwarnings(\"ignore\")\n",
    "\n",
    "# Print Python's version\n",
    "print(f'Python version: {sys.version}\\n')\n",
    "\n",
    "# Print libraries versions\n",
    "for lib in libraries:\n",
    "    print(f'{lib.__name__}: {lib.__version__}')\n",
    "\n",
    "# Set pandas options\n",
    "pd.set_option('display.max_columns', 500)\n",
    "\n",
    "# Print today's date\n",
    "print(\"\\nLast run: \", date.today())"
   ]
  },
  {
   "cell_type": "code",
   "execution_count": 3,
   "metadata": {},
   "outputs": [
    {
     "data": {
      "text/html": [
       "<div>\n",
       "<style scoped>\n",
       "    .dataframe tbody tr th:only-of-type {\n",
       "        vertical-align: middle;\n",
       "    }\n",
       "\n",
       "    .dataframe tbody tr th {\n",
       "        vertical-align: top;\n",
       "    }\n",
       "\n",
       "    .dataframe thead th {\n",
       "        text-align: right;\n",
       "    }\n",
       "</style>\n",
       "<table border=\"1\" class=\"dataframe\">\n",
       "  <thead>\n",
       "    <tr style=\"text-align: right;\">\n",
       "      <th></th>\n",
       "      <th>distance_from_home</th>\n",
       "      <th>distance_from_last_transaction</th>\n",
       "      <th>ratio_to_median_purchase_price</th>\n",
       "      <th>repeat_retailer</th>\n",
       "      <th>used_chip</th>\n",
       "      <th>used_pin_number</th>\n",
       "      <th>online_order</th>\n",
       "      <th>fraud</th>\n",
       "    </tr>\n",
       "  </thead>\n",
       "  <tbody>\n",
       "    <tr>\n",
       "      <th>0</th>\n",
       "      <td>57.877857</td>\n",
       "      <td>0.311140</td>\n",
       "      <td>1.945940</td>\n",
       "      <td>1.0</td>\n",
       "      <td>1.0</td>\n",
       "      <td>0.0</td>\n",
       "      <td>0.0</td>\n",
       "      <td>0.0</td>\n",
       "    </tr>\n",
       "    <tr>\n",
       "      <th>1</th>\n",
       "      <td>10.829943</td>\n",
       "      <td>0.175592</td>\n",
       "      <td>1.294219</td>\n",
       "      <td>1.0</td>\n",
       "      <td>0.0</td>\n",
       "      <td>0.0</td>\n",
       "      <td>0.0</td>\n",
       "      <td>0.0</td>\n",
       "    </tr>\n",
       "    <tr>\n",
       "      <th>2</th>\n",
       "      <td>5.091079</td>\n",
       "      <td>0.805153</td>\n",
       "      <td>0.427715</td>\n",
       "      <td>1.0</td>\n",
       "      <td>0.0</td>\n",
       "      <td>0.0</td>\n",
       "      <td>1.0</td>\n",
       "      <td>0.0</td>\n",
       "    </tr>\n",
       "    <tr>\n",
       "      <th>3</th>\n",
       "      <td>2.247564</td>\n",
       "      <td>5.600044</td>\n",
       "      <td>0.362663</td>\n",
       "      <td>1.0</td>\n",
       "      <td>1.0</td>\n",
       "      <td>0.0</td>\n",
       "      <td>1.0</td>\n",
       "      <td>0.0</td>\n",
       "    </tr>\n",
       "    <tr>\n",
       "      <th>4</th>\n",
       "      <td>44.190936</td>\n",
       "      <td>0.566486</td>\n",
       "      <td>2.222767</td>\n",
       "      <td>1.0</td>\n",
       "      <td>1.0</td>\n",
       "      <td>0.0</td>\n",
       "      <td>1.0</td>\n",
       "      <td>0.0</td>\n",
       "    </tr>\n",
       "  </tbody>\n",
       "</table>\n",
       "</div>"
      ],
      "text/plain": [
       "   distance_from_home  distance_from_last_transaction  \\\n",
       "0           57.877857                        0.311140   \n",
       "1           10.829943                        0.175592   \n",
       "2            5.091079                        0.805153   \n",
       "3            2.247564                        5.600044   \n",
       "4           44.190936                        0.566486   \n",
       "\n",
       "   ratio_to_median_purchase_price  repeat_retailer  used_chip  \\\n",
       "0                        1.945940              1.0        1.0   \n",
       "1                        1.294219              1.0        0.0   \n",
       "2                        0.427715              1.0        0.0   \n",
       "3                        0.362663              1.0        1.0   \n",
       "4                        2.222767              1.0        1.0   \n",
       "\n",
       "   used_pin_number  online_order  fraud  \n",
       "0              0.0           0.0    0.0  \n",
       "1              0.0           0.0    0.0  \n",
       "2              0.0           1.0    0.0  \n",
       "3              0.0           1.0    0.0  \n",
       "4              0.0           1.0    0.0  "
      ]
     },
     "execution_count": 3,
     "metadata": {},
     "output_type": "execute_result"
    }
   ],
   "source": [
    "df = pd.read_csv(\"../data/card_transdata.csv/card_transdata.csv\")\n",
    "df.head()"
   ]
  },
  {
   "cell_type": "code",
   "execution_count": 3,
   "metadata": {},
   "outputs": [
    {
     "data": {
      "text/html": [
       "<div>\n",
       "<style scoped>\n",
       "    .dataframe tbody tr th:only-of-type {\n",
       "        vertical-align: middle;\n",
       "    }\n",
       "\n",
       "    .dataframe tbody tr th {\n",
       "        vertical-align: top;\n",
       "    }\n",
       "\n",
       "    .dataframe thead th {\n",
       "        text-align: right;\n",
       "    }\n",
       "</style>\n",
       "<table border=\"1\" class=\"dataframe\">\n",
       "  <thead>\n",
       "    <tr style=\"text-align: right;\">\n",
       "      <th></th>\n",
       "      <th>distance_from_home</th>\n",
       "      <th>distance_from_last_transaction</th>\n",
       "      <th>ratio_to_median_purchase_price</th>\n",
       "      <th>repeat_retailer</th>\n",
       "      <th>used_chip</th>\n",
       "      <th>used_pin_number</th>\n",
       "      <th>online_order</th>\n",
       "      <th>fraud</th>\n",
       "    </tr>\n",
       "  </thead>\n",
       "  <tbody>\n",
       "    <tr>\n",
       "      <th>count</th>\n",
       "      <td>1000000.000000</td>\n",
       "      <td>1000000.000000</td>\n",
       "      <td>1000000.000000</td>\n",
       "      <td>1000000.000000</td>\n",
       "      <td>1000000.000000</td>\n",
       "      <td>1000000.000000</td>\n",
       "      <td>1000000.000000</td>\n",
       "      <td>1000000.000000</td>\n",
       "    </tr>\n",
       "    <tr>\n",
       "      <th>mean</th>\n",
       "      <td>26.628792</td>\n",
       "      <td>5.036519</td>\n",
       "      <td>1.824182</td>\n",
       "      <td>0.881536</td>\n",
       "      <td>0.350399</td>\n",
       "      <td>0.100608</td>\n",
       "      <td>0.650552</td>\n",
       "      <td>0.087403</td>\n",
       "    </tr>\n",
       "    <tr>\n",
       "      <th>std</th>\n",
       "      <td>65.390784</td>\n",
       "      <td>25.843093</td>\n",
       "      <td>2.799589</td>\n",
       "      <td>0.323157</td>\n",
       "      <td>0.477095</td>\n",
       "      <td>0.300809</td>\n",
       "      <td>0.476796</td>\n",
       "      <td>0.282425</td>\n",
       "    </tr>\n",
       "    <tr>\n",
       "      <th>min</th>\n",
       "      <td>0.004874</td>\n",
       "      <td>0.000118</td>\n",
       "      <td>0.004399</td>\n",
       "      <td>0.000000</td>\n",
       "      <td>0.000000</td>\n",
       "      <td>0.000000</td>\n",
       "      <td>0.000000</td>\n",
       "      <td>0.000000</td>\n",
       "    </tr>\n",
       "    <tr>\n",
       "      <th>25%</th>\n",
       "      <td>3.878008</td>\n",
       "      <td>0.296671</td>\n",
       "      <td>0.475673</td>\n",
       "      <td>1.000000</td>\n",
       "      <td>0.000000</td>\n",
       "      <td>0.000000</td>\n",
       "      <td>0.000000</td>\n",
       "      <td>0.000000</td>\n",
       "    </tr>\n",
       "    <tr>\n",
       "      <th>50%</th>\n",
       "      <td>9.967760</td>\n",
       "      <td>0.998650</td>\n",
       "      <td>0.997717</td>\n",
       "      <td>1.000000</td>\n",
       "      <td>0.000000</td>\n",
       "      <td>0.000000</td>\n",
       "      <td>1.000000</td>\n",
       "      <td>0.000000</td>\n",
       "    </tr>\n",
       "    <tr>\n",
       "      <th>75%</th>\n",
       "      <td>25.743985</td>\n",
       "      <td>3.355748</td>\n",
       "      <td>2.096370</td>\n",
       "      <td>1.000000</td>\n",
       "      <td>1.000000</td>\n",
       "      <td>0.000000</td>\n",
       "      <td>1.000000</td>\n",
       "      <td>0.000000</td>\n",
       "    </tr>\n",
       "    <tr>\n",
       "      <th>max</th>\n",
       "      <td>10632.723672</td>\n",
       "      <td>11851.104565</td>\n",
       "      <td>267.802942</td>\n",
       "      <td>1.000000</td>\n",
       "      <td>1.000000</td>\n",
       "      <td>1.000000</td>\n",
       "      <td>1.000000</td>\n",
       "      <td>1.000000</td>\n",
       "    </tr>\n",
       "  </tbody>\n",
       "</table>\n",
       "</div>"
      ],
      "text/plain": [
       "       distance_from_home  distance_from_last_transaction  \\\n",
       "count      1000000.000000                  1000000.000000   \n",
       "mean            26.628792                        5.036519   \n",
       "std             65.390784                       25.843093   \n",
       "min              0.004874                        0.000118   \n",
       "25%              3.878008                        0.296671   \n",
       "50%              9.967760                        0.998650   \n",
       "75%             25.743985                        3.355748   \n",
       "max          10632.723672                    11851.104565   \n",
       "\n",
       "       ratio_to_median_purchase_price  repeat_retailer       used_chip  \\\n",
       "count                  1000000.000000   1000000.000000  1000000.000000   \n",
       "mean                         1.824182         0.881536        0.350399   \n",
       "std                          2.799589         0.323157        0.477095   \n",
       "min                          0.004399         0.000000        0.000000   \n",
       "25%                          0.475673         1.000000        0.000000   \n",
       "50%                          0.997717         1.000000        0.000000   \n",
       "75%                          2.096370         1.000000        1.000000   \n",
       "max                        267.802942         1.000000        1.000000   \n",
       "\n",
       "       used_pin_number    online_order           fraud  \n",
       "count   1000000.000000  1000000.000000  1000000.000000  \n",
       "mean          0.100608        0.650552        0.087403  \n",
       "std           0.300809        0.476796        0.282425  \n",
       "min           0.000000        0.000000        0.000000  \n",
       "25%           0.000000        0.000000        0.000000  \n",
       "50%           0.000000        1.000000        0.000000  \n",
       "75%           0.000000        1.000000        0.000000  \n",
       "max           1.000000        1.000000        1.000000  "
      ]
     },
     "execution_count": 3,
     "metadata": {},
     "output_type": "execute_result"
    }
   ],
   "source": [
    "df.describe()"
   ]
  },
  {
   "cell_type": "code",
   "execution_count": 4,
   "metadata": {},
   "outputs": [
    {
     "name": "stdout",
     "output_type": "stream",
     "text": [
      "<class 'pandas.core.frame.DataFrame'>\n",
      "RangeIndex: 1000000 entries, 0 to 999999\n",
      "Data columns (total 8 columns):\n",
      " #   Column                          Non-Null Count    Dtype  \n",
      "---  ------                          --------------    -----  \n",
      " 0   distance_from_home              1000000 non-null  float64\n",
      " 1   distance_from_last_transaction  1000000 non-null  float64\n",
      " 2   ratio_to_median_purchase_price  1000000 non-null  float64\n",
      " 3   repeat_retailer                 1000000 non-null  float64\n",
      " 4   used_chip                       1000000 non-null  float64\n",
      " 5   used_pin_number                 1000000 non-null  float64\n",
      " 6   online_order                    1000000 non-null  float64\n",
      " 7   fraud                           1000000 non-null  float64\n",
      "dtypes: float64(8)\n",
      "memory usage: 61.0 MB\n"
     ]
    }
   ],
   "source": [
    "df.info()"
   ]
  },
  {
   "cell_type": "code",
   "execution_count": 4,
   "metadata": {},
   "outputs": [],
   "source": [
    "xgb = XGBClassifier(random_state=42)\n",
    "lgb = LGBMClassifier(random_state=42,verbose=-1)\n",
    "etc = ExtraTreesClassifier(random_state=42)\n",
    "hgbc = HistGradientBoostingClassifier(random_state=42)\n",
    "\n",
    "TARGET = 'fraud'\n",
    "\n",
    "models = [xgb, lgb, etc, hgbc]\n",
    "X_train, X_test, y_train, y_test = train_test_split(df.drop(TARGET, axis=1), df[TARGET], test_size=0.2, random_state=42)"
   ]
  },
  {
   "cell_type": "code",
   "execution_count": null,
   "metadata": {},
   "outputs": [
    {
     "name": "stdout",
     "output_type": "stream",
     "text": [
      "XGBClassifier accuracy: 0.998155 f1: 0.9894260251597559\n",
      "LGBMClassifier accuracy: 0.998855 f1: 0.993453589091221\n",
      "ExtraTreesClassifier accuracy: 0.999595 f1: 0.9976752862841891\n",
      "HistGradientBoostingClassifier accuracy: 0.998485 f1: 0.9913103329605093\n"
     ]
    }
   ],
   "source": [
    "for model in models:\n",
    "    model.fit(X_train, y_train)\n",
    "    y_pred = model.predict(X_test)\n",
    "    print(f\"{model.__class__.__name__} accuracy: {accuracy_score(y_test, y_pred)} f1: {f1_score(y_test, y_pred)}\")"
   ]
  },
  {
   "cell_type": "code",
   "execution_count": 6,
   "metadata": {},
   "outputs": [
    {
     "name": "stdout",
     "output_type": "stream",
     "text": [
      "XGBClassifier feature importances:\n",
      "                                importance\n",
      "online_order                      0.405270\n",
      "ratio_to_median_purchase_price    0.185790\n",
      "used_pin_number                   0.122453\n",
      "used_chip                         0.120168\n",
      "repeat_retailer                   0.108906\n",
      "distance_from_home                0.041703\n",
      "distance_from_last_transaction    0.015710\n",
      "LGBMClassifier feature importances:\n",
      "                                importance\n",
      "distance_from_home                     723\n",
      "distance_from_last_transaction         720\n",
      "ratio_to_median_purchase_price         501\n",
      "used_pin_number                        398\n",
      "used_chip                              276\n",
      "online_order                           271\n",
      "repeat_retailer                        111\n",
      "ExtraTreesClassifier feature importances:\n",
      "                                importance\n",
      "ratio_to_median_purchase_price    0.644492\n",
      "distance_from_home                0.199417\n",
      "distance_from_last_transaction    0.072443\n",
      "online_order                      0.051326\n",
      "used_pin_number                   0.017217\n",
      "used_chip                         0.011548\n",
      "repeat_retailer                   0.003556\n"
     ]
    }
   ],
   "source": [
    "# Match feature importance of each model with feature names (except for HistGradientBoostingClassifier)\n",
    "for model in models:\n",
    "    if model.__class__.__name__ != 'HistGradientBoostingClassifier':\n",
    "        feature_importances = pd.DataFrame(model.feature_importances_, index=X_train.columns, columns=['importance']).sort_values('importance', ascending=False)\n",
    "        print(f\"{model.__class__.__name__} feature importances:\")\n",
    "        print(feature_importances)"
   ]
  },
  {
   "cell_type": "code",
   "execution_count": null,
   "metadata": {},
   "outputs": [
    {
     "name": "stderr",
     "output_type": "stream",
     "text": [
      "[I 2024-11-20 15:25:29,903] A new study created in memory with name: no-name-3c30c558-74f2-4abb-9092-67ecc97af728\n",
      "[I 2024-11-20 15:25:59,720] Trial 0 finished with value: 0.9740478402229448 and parameters: {'learning_rate': 0.055717032118690585, 'max_depth': 10, 'subsample': 0.8134649456247576, 'colsample_bytree': 0.2683275254990483, 'gamma': 5.602211702046802e-05, 'min_child_weight': 172, 'reg_alpha': 0.00017401629300847253, 'reg_lambda': 0.0001362977678427805}. Best is trial 0 with value: 0.9740478402229448.\n",
      "[I 2024-11-20 15:26:21,766] Trial 1 finished with value: 0.9826813889126651 and parameters: {'learning_rate': 0.296555315705235, 'max_depth': 4, 'subsample': 0.26247216462650635, 'colsample_bytree': 0.19433544074142106, 'gamma': 6.412137293652065e-06, 'min_child_weight': 239, 'reg_alpha': 4.735124375509738e-05, 'reg_lambda': 0.00026315907114732214}. Best is trial 1 with value: 0.9826813889126651.\n",
      "[I 2024-11-20 15:26:45,661] Trial 2 finished with value: 0.9743306812242291 and parameters: {'learning_rate': 0.05110509919826052, 'max_depth': 6, 'subsample': 0.9289754558498288, 'colsample_bytree': 0.1934986025811568, 'gamma': 0.0002030330696001143, 'min_child_weight': 21, 'reg_alpha': 0.0001691266236114347, 'reg_lambda': 0.0017002051265452502}. Best is trial 1 with value: 0.9826813889126651.\n",
      "[I 2024-11-20 15:27:13,444] Trial 3 finished with value: 0.9861222617272623 and parameters: {'learning_rate': 0.07136865632301366, 'max_depth': 10, 'subsample': 0.10730051943170471, 'colsample_bytree': 0.2928810700255229, 'gamma': 0.001441569106679755, 'min_child_weight': 52, 'reg_alpha': 2.0487887695397446e-06, 'reg_lambda': 0.6420514163526277}. Best is trial 3 with value: 0.9861222617272623.\n",
      "[I 2024-11-20 15:27:43,056] Trial 4 finished with value: 0.9897704805295281 and parameters: {'learning_rate': 0.12007292220599645, 'max_depth': 4, 'subsample': 0.9273358654989113, 'colsample_bytree': 0.7926775472650724, 'gamma': 7.763993494773136e-05, 'min_child_weight': 57, 'reg_alpha': 0.0008846838347301822, 'reg_lambda': 0.017352552180529748}. Best is trial 4 with value: 0.9897704805295281.\n",
      "[I 2024-11-20 15:27:58,253] Trial 5 finished with value: 0.9833424436836503 and parameters: {'learning_rate': 0.03893367134324316, 'max_depth': 3, 'subsample': 0.3998865675440175, 'colsample_bytree': 0.375760920414847, 'gamma': 0.0058676694990013895, 'min_child_weight': 167, 'reg_alpha': 0.045007412425412015, 'reg_lambda': 2.9512149571003076e-05}. Best is trial 4 with value: 0.9897704805295281.\n",
      "[I 2024-11-20 15:28:11,602] Trial 6 finished with value: 0.9865496572887091 and parameters: {'learning_rate': 0.040907547097213164, 'max_depth': 2, 'subsample': 0.6036815828643286, 'colsample_bytree': 0.5844952975078748, 'gamma': 0.00021819852747903385, 'min_child_weight': 91, 'reg_alpha': 1.3626765303380031e-05, 'reg_lambda': 1.9541923218652177e-07}. Best is trial 4 with value: 0.9897704805295281.\n",
      "[I 2024-11-20 15:28:33,480] Trial 7 finished with value: 0.988898426323319 and parameters: {'learning_rate': 0.2355507767267765, 'max_depth': 9, 'subsample': 0.9817271817116631, 'colsample_bytree': 0.28178728476801335, 'gamma': 0.00010705554477139771, 'min_child_weight': 8, 'reg_alpha': 9.561927768322665e-05, 'reg_lambda': 2.7406128324296073e-05}. Best is trial 4 with value: 0.9897704805295281.\n",
      "[I 2024-11-20 15:29:00,097] Trial 8 finished with value: 0.9898567335243553 and parameters: {'learning_rate': 0.08316676683454885, 'max_depth': 6, 'subsample': 0.9132501126046438, 'colsample_bytree': 0.9596983891390776, 'gamma': 2.868392403831129e-07, 'min_child_weight': 59, 'reg_alpha': 2.273109598618818e-06, 'reg_lambda': 0.19269771167162483}. Best is trial 8 with value: 0.9898567335243553.\n",
      "[I 2024-11-20 15:29:22,645] Trial 9 finished with value: 0.9880014890753415 and parameters: {'learning_rate': 0.12176170126718625, 'max_depth': 9, 'subsample': 0.474598603167791, 'colsample_bytree': 0.5047763227658092, 'gamma': 0.05016019940457129, 'min_child_weight': 134, 'reg_alpha': 2.961351056182675e-06, 'reg_lambda': 2.6527301560804968e-05}. Best is trial 8 with value: 0.9898567335243553.\n",
      "[I 2024-11-20 15:29:41,959] Trial 10 finished with value: 0.9842971158555911 and parameters: {'learning_rate': 0.013653017775593771, 'max_depth': 7, 'subsample': 0.6989903220146165, 'colsample_bytree': 0.9969687975369806, 'gamma': 2.409256609773886e-08, 'min_child_weight': 290, 'reg_alpha': 2.132092025888822e-08, 'reg_lambda': 0.7167133733620308}. Best is trial 8 with value: 0.9898567335243553.\n",
      "[I 2024-11-20 15:30:00,953] Trial 11 finished with value: 0.9895466391728958 and parameters: {'learning_rate': 0.1245671701500871, 'max_depth': 5, 'subsample': 0.774698040192202, 'colsample_bytree': 0.9281358115723395, 'gamma': 2.4375998906453514e-07, 'min_child_weight': 89, 'reg_alpha': 0.01327720303349834, 'reg_lambda': 0.017586046925172107}. Best is trial 8 with value: 0.9898567335243553.\n",
      "[I 2024-11-20 15:30:12,695] Trial 12 finished with value: 0.9891597361628908 and parameters: {'learning_rate': 0.12148626099402658, 'max_depth': 1, 'subsample': 0.8714342002755071, 'colsample_bytree': 0.7687087588276833, 'gamma': 1.891115144883916e-06, 'min_child_weight': 76, 'reg_alpha': 6.190253416043429e-08, 'reg_lambda': 0.027412641282781064}. Best is trial 8 with value: 0.9898567335243553.\n",
      "[I 2024-11-20 15:30:32,241] Trial 13 finished with value: 0.9887769453773071 and parameters: {'learning_rate': 0.017227864458649596, 'max_depth': 7, 'subsample': 0.6773789748945972, 'colsample_bytree': 0.7858299012810332, 'gamma': 0.8958659815648818, 'min_child_weight': 114, 'reg_alpha': 0.0026002162113554564, 'reg_lambda': 0.016272047999408536}. Best is trial 8 with value: 0.9898567335243553.\n",
      "[I 2024-11-20 15:30:49,839] Trial 14 finished with value: 0.9898810376952845 and parameters: {'learning_rate': 0.08474117551954805, 'max_depth': 4, 'subsample': 0.9811408471932708, 'colsample_bytree': 0.81754436607072, 'gamma': 1.3786676116655433e-08, 'min_child_weight': 46, 'reg_alpha': 0.6445439457025044, 'reg_lambda': 0.05401787695236134}. Best is trial 14 with value: 0.9898810376952845.\n",
      "[I 2024-11-20 15:31:09,410] Trial 15 finished with value: 0.9898178689229886 and parameters: {'learning_rate': 0.024790248014614734, 'max_depth': 6, 'subsample': 0.99688721927199, 'colsample_bytree': 0.893827596160528, 'gamma': 1.0306394366348213e-08, 'min_child_weight': 31, 'reg_alpha': 0.38068070824763234, 'reg_lambda': 5.538949901214585e-07}. Best is trial 14 with value: 0.9898810376952845.\n",
      "[I 2024-11-20 15:31:26,015] Trial 16 finished with value: 0.9886223597856304 and parameters: {'learning_rate': 0.0902871211764555, 'max_depth': 4, 'subsample': 0.7789570721923019, 'colsample_bytree': 0.6627371628730234, 'gamma': 1.3189707047786321e-07, 'min_child_weight': 202, 'reg_alpha': 3.981328334422021e-07, 'reg_lambda': 0.13789907236012608}. Best is trial 14 with value: 0.9898810376952845.\n",
      "[I 2024-11-20 15:31:43,035] Trial 17 finished with value: 0.9894345025053687 and parameters: {'learning_rate': 0.186563002627803, 'max_depth': 7, 'subsample': 0.5837357160534898, 'colsample_bytree': 0.8777600603684298, 'gamma': 1.5062169752108768e-06, 'min_child_weight': 115, 'reg_alpha': 0.5560464090219345, 'reg_lambda': 0.0009574753268145887}. Best is trial 14 with value: 0.9898810376952845.\n",
      "[I 2024-11-20 15:32:03,561] Trial 18 finished with value: 0.9897037313218803 and parameters: {'learning_rate': 0.024906294865359585, 'max_depth': 5, 'subsample': 0.8726264628583391, 'colsample_bytree': 0.7118535239393297, 'gamma': 1.0328717047012752e-07, 'min_child_weight': 46, 'reg_alpha': 2.547474735506124e-07, 'reg_lambda': 2.0440850822172355e-06}. Best is trial 14 with value: 0.9898810376952845.\n",
      "[I 2024-11-20 15:32:30,437] Trial 19 finished with value: 0.9894477260996731 and parameters: {'learning_rate': 0.08229992498556092, 'max_depth': 2, 'subsample': 0.6961318475507534, 'colsample_bytree': 0.9977399223948122, 'gamma': 6.20725828531302e-06, 'min_child_weight': 1, 'reg_alpha': 0.06556855765131045, 'reg_lambda': 0.0021594727074184103}. Best is trial 14 with value: 0.9898810376952845.\n",
      "[I 2024-11-20 15:32:52,997] Trial 20 finished with value: 0.9890846583584014 and parameters: {'learning_rate': 0.17574826156165255, 'max_depth': 8, 'subsample': 0.3800805783584379, 'colsample_bytree': 0.4962510669425933, 'gamma': 5.195416296470717e-07, 'min_child_weight': 73, 'reg_alpha': 4.61712529848158e-06, 'reg_lambda': 0.09774155572721613}. Best is trial 14 with value: 0.9898810376952845.\n",
      "[I 2024-11-20 15:33:14,476] Trial 21 finished with value: 0.9898752330417324 and parameters: {'learning_rate': 0.024667456760884457, 'max_depth': 6, 'subsample': 0.9957982603531317, 'colsample_bytree': 0.878683001145101, 'gamma': 1.5394628954887936e-08, 'min_child_weight': 36, 'reg_alpha': 0.9554510987546271, 'reg_lambda': 3.4325600240977344e-08}. Best is trial 14 with value: 0.9898810376952845.\n",
      "[I 2024-11-20 15:33:36,867] Trial 22 finished with value: 0.9898433465312446 and parameters: {'learning_rate': 0.02556428766125468, 'max_depth': 5, 'subsample': 0.8828878981411791, 'colsample_bytree': 0.8563605089347671, 'gamma': 4.3015928665109987e-08, 'min_child_weight': 34, 'reg_alpha': 0.7874816248786659, 'reg_lambda': 1.5545179907060894e-06}. Best is trial 14 with value: 0.9898810376952845.\n",
      "[I 2024-11-20 15:33:57,844] Trial 23 finished with value: 0.9896830400641944 and parameters: {'learning_rate': 0.0367220859506571, 'max_depth': 6, 'subsample': 0.995271818036973, 'colsample_bytree': 0.6619413561744615, 'gamma': 2.076058558783396e-08, 'min_child_weight': 110, 'reg_alpha': 0.07764905302565986, 'reg_lambda': 1.1848952183427218e-07}. Best is trial 14 with value: 0.9898810376952845.\n",
      "[I 2024-11-20 15:34:16,597] Trial 24 finished with value: 0.9889169633628115 and parameters: {'learning_rate': 0.010606838099574875, 'max_depth': 3, 'subsample': 0.8244621082966261, 'colsample_bytree': 0.9605301886564757, 'gamma': 1.0257162676943931e-08, 'min_child_weight': 63, 'reg_alpha': 0.0020350239594694045, 'reg_lambda': 2.5515654906585945e-08}. Best is trial 14 with value: 0.9898810376952845.\n",
      "[I 2024-11-20 15:34:42,786] Trial 25 finished with value: 0.9894881562741672 and parameters: {'learning_rate': 0.06672290715875154, 'max_depth': 7, 'subsample': 0.9105919497577041, 'colsample_bytree': 0.841832908853829, 'gamma': 4.948879357614392e-07, 'min_child_weight': 22, 'reg_alpha': 0.015158625691217908, 'reg_lambda': 1.0449203608665936e-08}. Best is trial 14 with value: 0.9898810376952845.\n",
      "[I 2024-11-20 15:35:02,791] Trial 26 finished with value: 0.9898231230112089 and parameters: {'learning_rate': 0.030819814594448786, 'max_depth': 8, 'subsample': 0.7350314968398526, 'colsample_bytree': 0.9239015155107583, 'gamma': 9.766277234272745e-08, 'min_child_weight': 92, 'reg_alpha': 0.1601192730953518, 'reg_lambda': 0.1309196355899145}. Best is trial 14 with value: 0.9898810376952845.\n",
      "[I 2024-11-20 15:35:20,973] Trial 27 finished with value: 0.9886112625147021 and parameters: {'learning_rate': 0.018024887258929093, 'max_depth': 4, 'subsample': 0.9403680949468364, 'colsample_bytree': 0.7507679188273942, 'gamma': 6.303203829719708e-06, 'min_child_weight': 131, 'reg_alpha': 5.712628263008498e-07, 'reg_lambda': 0.006999483359419302}. Best is trial 14 with value: 0.9898810376952845.\n",
      "[I 2024-11-20 15:35:37,978] Trial 28 finished with value: 0.9895062790297608 and parameters: {'learning_rate': 0.05340336425833628, 'max_depth': 3, 'subsample': 0.8363417364816973, 'colsample_bytree': 0.8273767915039553, 'gamma': 5.1123680222680626e-08, 'min_child_weight': 43, 'reg_alpha': 0.010711956378374285, 'reg_lambda': 4.548156384516876e-06}. Best is trial 14 with value: 0.9898810376952845.\n",
      "[I 2024-11-20 15:35:58,228] Trial 29 finished with value: 0.9886803266943688 and parameters: {'learning_rate': 0.09154901278677745, 'max_depth': 6, 'subsample': 0.8154523639975618, 'colsample_bytree': 0.5997993748315124, 'gamma': 1.2491384845952425e-06, 'min_child_weight': 209, 'reg_alpha': 0.0006459029727097558, 'reg_lambda': 0.0001212173527504321}. Best is trial 14 with value: 0.9898810376952845.\n",
      "[I 2024-11-20 15:36:17,976] Trial 30 finished with value: 0.9897119931222238 and parameters: {'learning_rate': 0.061097206856277994, 'max_depth': 5, 'subsample': 0.9999408650136149, 'colsample_bytree': 0.7001371650568785, 'gamma': 3.4290248827514553e-07, 'min_child_weight': 155, 'reg_alpha': 3.2427751145950574e-05, 'reg_lambda': 0.3215421104405829}. Best is trial 14 with value: 0.9898810376952845.\n",
      "[I 2024-11-20 15:36:39,709] Trial 31 finished with value: 0.9897853781705498 and parameters: {'learning_rate': 0.023441267360273105, 'max_depth': 5, 'subsample': 0.8871025054397429, 'colsample_bytree': 0.8567390327903568, 'gamma': 5.271116835306486e-08, 'min_child_weight': 29, 'reg_alpha': 0.8419254914723094, 'reg_lambda': 4.283699378397603e-06}. Best is trial 14 with value: 0.9898810376952845.\n",
      "[I 2024-11-20 15:37:00,208] Trial 32 finished with value: 0.9899360610144221 and parameters: {'learning_rate': 0.04781168001006021, 'max_depth': 4, 'subsample': 0.9477739383862298, 'colsample_bytree': 0.9272820060667287, 'gamma': 3.394691168480097e-08, 'min_child_weight': 35, 'reg_alpha': 0.24693770659960584, 'reg_lambda': 9.771289220664405e-08}. Best is trial 32 with value: 0.9899360610144221.\n",
      "[I 2024-11-20 15:37:16,086] Trial 33 finished with value: 0.9742145304605377 and parameters: {'learning_rate': 0.045453544731081236, 'max_depth': 4, 'subsample': 0.9411834920959803, 'colsample_bytree': 0.11877134262205041, 'gamma': 1.1300851585998711e-08, 'min_child_weight': 12, 'reg_alpha': 0.1678746660523653, 'reg_lambda': 4.6161648323165165e-08}. Best is trial 32 with value: 0.9899360610144221.\n",
      "[I 2024-11-20 15:37:34,910] Trial 34 finished with value: 0.9886539453326457 and parameters: {'learning_rate': 0.07813203918584453, 'max_depth': 6, 'subsample': 0.17947145185346564, 'colsample_bytree': 0.927783438386807, 'gamma': 1.5054171063370186e-07, 'min_child_weight': 66, 'reg_alpha': 0.23353225923753754, 'reg_lambda': 1.467033196133853e-07}. Best is trial 32 with value: 0.9899360610144221.\n",
      "[I 2024-11-20 15:37:55,001] Trial 35 finished with value: 0.9898758138067514 and parameters: {'learning_rate': 0.03199898371570304, 'max_depth': 4, 'subsample': 0.9383231293609853, 'colsample_bytree': 0.9278722097521863, 'gamma': 2.0635630380932216e-05, 'min_child_weight': 47, 'reg_alpha': 0.028892514888855365, 'reg_lambda': 0.0003278712060137971}. Best is trial 32 with value: 0.9899360610144221.\n",
      "[I 2024-11-20 15:38:11,117] Trial 36 finished with value: 0.9842422147322328 and parameters: {'learning_rate': 0.018569839793714918, 'max_depth': 2, 'subsample': 0.9559523365035759, 'colsample_bytree': 0.8112130636854886, 'gamma': 0.0009039987856981578, 'min_child_weight': 45, 'reg_alpha': 0.029357137489619652, 'reg_lambda': 0.0011166239401907139}. Best is trial 32 with value: 0.9899360610144221.\n",
      "[I 2024-11-20 15:38:27,537] Trial 37 finished with value: 0.9874806179291334 and parameters: {'learning_rate': 0.03337128600463657, 'max_depth': 3, 'subsample': 0.7718839111774672, 'colsample_bytree': 0.392250466086674, 'gamma': 1.5027203967129208e-05, 'min_child_weight': 20, 'reg_alpha': 0.0041118092369542385, 'reg_lambda': 0.000398971853038476}. Best is trial 32 with value: 0.9899360610144221.\n",
      "[I 2024-11-20 15:38:46,850] Trial 38 finished with value: 0.9898781362007169 and parameters: {'learning_rate': 0.04624236594715276, 'max_depth': 4, 'subsample': 0.8508378624163767, 'colsample_bytree': 0.89475884250757, 'gamma': 2.2235870564247318e-05, 'min_child_weight': 80, 'reg_alpha': 0.10203096329981574, 'reg_lambda': 3.245042860830593e-07}. Best is trial 32 with value: 0.9899360610144221.\n",
      "[I 2024-11-20 15:39:04,760] Trial 39 finished with value: 0.989424812999742 and parameters: {'learning_rate': 0.04372990412207462, 'max_depth': 4, 'subsample': 0.6526363161865498, 'colsample_bytree': 0.7364270444167358, 'gamma': 2.608681057497922e-05, 'min_child_weight': 83, 'reg_alpha': 0.12918210477813072, 'reg_lambda': 4.864672855749935e-07}. Best is trial 32 with value: 0.9899360610144221.\n",
      "[I 2024-11-20 15:39:16,836] Trial 40 finished with value: 0.9742681226765799 and parameters: {'learning_rate': 0.050427944990271686, 'max_depth': 1, 'subsample': 0.8616240618541746, 'colsample_bytree': 0.9532105273517002, 'gamma': 0.00047961305208653305, 'min_child_weight': 102, 'reg_alpha': 0.0539771045917703, 'reg_lambda': 4.345229827960214e-05}. Best is trial 32 with value: 0.9899360610144221.\n",
      "[I 2024-11-20 15:39:37,479] Trial 41 finished with value: 0.9899308643391951 and parameters: {'learning_rate': 0.029185864980527606, 'max_depth': 4, 'subsample': 0.9475222721999241, 'colsample_bytree': 0.8818961312023975, 'gamma': 0.01074136395092768, 'min_child_weight': 36, 'reg_alpha': 0.2747418920612087, 'reg_lambda': 5.403607404510757e-08}. Best is trial 32 with value: 0.9899360610144221.\n",
      "[I 2024-11-20 15:39:57,869] Trial 42 finished with value: 0.9892220374935504 and parameters: {'learning_rate': 0.0328509080392308, 'max_depth': 3, 'subsample': 0.9226264688663391, 'colsample_bytree': 0.9001437854067557, 'gamma': 0.01679412932558484, 'min_child_weight': 56, 'reg_alpha': 0.30116633281572425, 'reg_lambda': 1.0640521112940023e-08}. Best is trial 32 with value: 0.9899360610144221.\n",
      "[I 2024-11-20 15:40:13,917] Trial 43 finished with value: 0.9898723282168986 and parameters: {'learning_rate': 0.060614802874213496, 'max_depth': 4, 'subsample': 0.9569166341087108, 'colsample_bytree': 0.8064806862336855, 'gamma': 0.977864198163434, 'min_child_weight': 13, 'reg_alpha': 0.024240102815491275, 'reg_lambda': 7.997054743453899e-08}. Best is trial 32 with value: 0.9899360610144221.\n",
      "[I 2024-11-20 15:40:34,050] Trial 44 finished with value: 0.9899627186693433 and parameters: {'learning_rate': 0.02897432445322031, 'max_depth': 4, 'subsample': 0.8503388842439057, 'colsample_bytree': 0.9986235720885874, 'gamma': 0.1931348279216036, 'min_child_weight': 50, 'reg_alpha': 0.005976856359019633, 'reg_lambda': 4.147848445846043e-07}. Best is trial 44 with value: 0.9899627186693433.\n",
      "[I 2024-11-20 15:40:50,016] Trial 45 finished with value: 0.9865779511299759 and parameters: {'learning_rate': 0.03892495562187168, 'max_depth': 2, 'subsample': 0.500362695182914, 'colsample_bytree': 0.9689800193379773, 'gamma': 0.15989338766440656, 'min_child_weight': 73, 'reg_alpha': 0.007023481796994654, 'reg_lambda': 7.84896626967646e-07}. Best is trial 44 with value: 0.9899627186693433.\n",
      "[I 2024-11-20 15:41:07,047] Trial 46 finished with value: 0.9886493923412062 and parameters: {'learning_rate': 0.10367502023272623, 'max_depth': 3, 'subsample': 0.7418077230452071, 'colsample_bytree': 0.997495073048835, 'gamma': 0.0038936219596561825, 'min_child_weight': 281, 'reg_alpha': 0.0004177205722152016, 'reg_lambda': 2.6297262020284163e-07}. Best is trial 44 with value: 0.9899627186693433.\n",
      "[I 2024-11-20 15:41:27,917] Trial 47 finished with value: 0.9898729093152021 and parameters: {'learning_rate': 0.029099421142295013, 'max_depth': 5, 'subsample': 0.8497212286779402, 'colsample_bytree': 0.8996322023931118, 'gamma': 0.2068155499355253, 'min_child_weight': 59, 'reg_alpha': 0.08640922475123745, 'reg_lambda': 1.1992543320203516e-05}. Best is trial 44 with value: 0.9899627186693433.\n",
      "[I 2024-11-20 15:41:47,687] Trial 48 finished with value: 0.9889296776413904 and parameters: {'learning_rate': 0.020468283671345906, 'max_depth': 4, 'subsample': 0.8055409281946402, 'colsample_bytree': 0.786851085062336, 'gamma': 0.02891223881117136, 'min_child_weight': 128, 'reg_alpha': 0.41931946456509794, 'reg_lambda': 3.23321176634416e-07}. Best is trial 44 with value: 0.9899627186693433.\n",
      "[I 2024-11-20 15:42:05,369] Trial 49 finished with value: 0.9869742353818787 and parameters: {'learning_rate': 0.04859256729892705, 'max_depth': 3, 'subsample': 0.33483222446675154, 'colsample_bytree': 0.9637303252522738, 'gamma': 0.004165373049241106, 'min_child_weight': 184, 'reg_alpha': 0.0015522266985638067, 'reg_lambda': 5.342617132721337e-08}. Best is trial 44 with value: 0.9899627186693433.\n"
     ]
    }
   ],
   "source": [
    "# Optuna grid for XGBoost\n",
    "def objective(trial):\n",
    "    param = {\n",
    "        'objective': 'binary:logistic',\n",
    "        'eval_metric': 'logloss',\n",
    "        'booster': 'gbtree',\n",
    "        'n_estimators': 1000,\n",
    "        'learning_rate': trial.suggest_loguniform('learning_rate', 0.01, 0.3),\n",
    "        'max_depth': trial.suggest_int('max_depth', 1, 10),\n",
    "        'subsample': trial.suggest_uniform('subsample', 0.1, 1),\n",
    "        'colsample_bytree': trial.suggest_uniform('colsample_bytree', 0.1, 1),\n",
    "        'gamma': trial.suggest_loguniform('gamma', 1e-8, 1.0),\n",
    "        'min_child_weight': trial.suggest_int('min_child_weight', 1, 300),\n",
    "        'reg_alpha': trial.suggest_loguniform('reg_alpha', 1e-8, 1.0),\n",
    "        'reg_lambda': trial.suggest_loguniform('reg_lambda', 1e-8, 1.0),\n",
    "        'random_state': 42\n",
    "    }\n",
    "    model = XGBClassifier(**param)\n",
    "    model.fit(X_train, y_train)\n",
    "    y_pred = model.predict(X_test)\n",
    "    return f1_score(y_test, y_pred)\n",
    "\n",
    "study = optuna.create_study(direction='maximize')\n",
    "study.optimize(objective, n_trials=50)"
   ]
  },
  {
   "cell_type": "code",
   "execution_count": 9,
   "metadata": {},
   "outputs": [
    {
     "name": "stderr",
     "output_type": "stream",
     "text": [
      "[I 2024-11-20 15:42:05,605] A new study created in memory with name: no-name-39ff7281-8bdc-434f-96f0-35de80cfc3a7\n",
      "[I 2024-11-20 15:42:15,597] Trial 0 finished with value: 0.9918880319908597 and parameters: {'learning_rate': 0.11673779699139929, 'max_depth': 5, 'subsample': 0.2831640754241587, 'colsample_bytree': 0.1857098630499125, 'reg_alpha': 1.0162630861916187e-07, 'reg_lambda': 0.0010797901567333188}. Best is trial 0 with value: 0.9918880319908597.\n",
      "[I 2024-11-20 15:42:26,721] Trial 1 finished with value: 0.9921792190678087 and parameters: {'learning_rate': 0.07120863083756623, 'max_depth': 7, 'subsample': 0.7947713341854947, 'colsample_bytree': 0.9384747396600377, 'reg_alpha': 0.001782851226902325, 'reg_lambda': 0.00319467491219979}. Best is trial 1 with value: 0.9921792190678087.\n",
      "[I 2024-11-20 15:42:34,734] Trial 2 finished with value: 0.9923039510199411 and parameters: {'learning_rate': 0.0582971336861329, 'max_depth': 2, 'subsample': 0.8119436759464816, 'colsample_bytree': 0.7011293551290658, 'reg_alpha': 3.397746734255357e-07, 'reg_lambda': 0.0019766528522144255}. Best is trial 2 with value: 0.9923039510199411.\n",
      "[I 2024-11-20 15:42:49,370] Trial 3 finished with value: 0.9931622464452264 and parameters: {'learning_rate': 0.05927299834718449, 'max_depth': 5, 'subsample': 0.37019285195035956, 'colsample_bytree': 0.5957891710939925, 'reg_alpha': 0.01022685625542704, 'reg_lambda': 0.008619358839810215}. Best is trial 3 with value: 0.9931622464452264.\n",
      "[I 2024-11-20 15:43:03,329] Trial 4 finished with value: 0.9922644969057988 and parameters: {'learning_rate': 0.08952660148263476, 'max_depth': 6, 'subsample': 0.2855311525134605, 'colsample_bytree': 0.6684771127867737, 'reg_alpha': 6.421494510130053e-06, 'reg_lambda': 0.00013923741210173816}. Best is trial 3 with value: 0.9931622464452264.\n",
      "[I 2024-11-20 15:43:16,795] Trial 5 finished with value: 0.9134014237078304 and parameters: {'learning_rate': 0.012432171080295682, 'max_depth': 9, 'subsample': 0.6223480364979599, 'colsample_bytree': 0.22456910839331518, 'reg_alpha': 4.564823937453648e-05, 'reg_lambda': 1.0074224107015393e-08}. Best is trial 3 with value: 0.9931622464452264.\n",
      "[I 2024-11-20 15:43:33,547] Trial 6 finished with value: 0.9931038429621999 and parameters: {'learning_rate': 0.07004838912842379, 'max_depth': 10, 'subsample': 0.478669928859345, 'colsample_bytree': 0.41935415882704596, 'reg_alpha': 0.05894724993979263, 'reg_lambda': 0.5798542231341954}. Best is trial 3 with value: 0.9931622464452264.\n",
      "[I 2024-11-20 15:43:46,185] Trial 7 finished with value: 0.9917412250516173 and parameters: {'learning_rate': 0.26208691560911024, 'max_depth': 9, 'subsample': 0.5608855328047131, 'colsample_bytree': 0.9083784340324026, 'reg_alpha': 8.734154806325705e-05, 'reg_lambda': 6.084696343151655e-07}. Best is trial 3 with value: 0.9931622464452264.\n",
      "[I 2024-11-20 15:43:55,183] Trial 8 finished with value: 0.9919451585261354 and parameters: {'learning_rate': 0.10633695675292333, 'max_depth': 1, 'subsample': 0.9102026836527234, 'colsample_bytree': 0.46899361938101514, 'reg_alpha': 0.0836822804591455, 'reg_lambda': 2.0602931604028188e-08}. Best is trial 3 with value: 0.9931622464452264.\n",
      "[I 2024-11-20 15:44:09,654] Trial 9 finished with value: 0.9932797620749807 and parameters: {'learning_rate': 0.02365870266130657, 'max_depth': 6, 'subsample': 0.9192947650182329, 'colsample_bytree': 0.4035074964967469, 'reg_alpha': 0.027474341962152555, 'reg_lambda': 0.05853783764180567}. Best is trial 9 with value: 0.9932797620749807.\n",
      "[I 2024-11-20 15:44:20,062] Trial 10 finished with value: 0.9861203289568605 and parameters: {'learning_rate': 0.018792386759072497, 'max_depth': 3, 'subsample': 0.9957854499472887, 'colsample_bytree': 0.3382163544820128, 'reg_alpha': 0.433304313131296, 'reg_lambda': 0.8852788392213563}. Best is trial 9 with value: 0.9932797620749807.\n",
      "[I 2024-11-20 15:44:32,398] Trial 11 finished with value: 0.9934827349645552 and parameters: {'learning_rate': 0.02519221433054741, 'max_depth': 4, 'subsample': 0.11099224283406267, 'colsample_bytree': 0.6147947546779251, 'reg_alpha': 0.003492120131137407, 'reg_lambda': 0.05289385489183213}. Best is trial 11 with value: 0.9934827349645552.\n",
      "[I 2024-11-20 15:44:44,610] Trial 12 finished with value: 0.9934251900977645 and parameters: {'learning_rate': 0.027188986748259203, 'max_depth': 4, 'subsample': 0.10625540138427961, 'colsample_bytree': 0.5156595590168814, 'reg_alpha': 0.0017702536282765261, 'reg_lambda': 0.08129978067945005}. Best is trial 11 with value: 0.9934827349645552.\n",
      "[I 2024-11-20 15:44:54,592] Trial 13 finished with value: 0.993367259420207 and parameters: {'learning_rate': 0.030582639703054134, 'max_depth': 3, 'subsample': 0.10578433408402688, 'colsample_bytree': 0.7821330764645618, 'reg_alpha': 0.0008175350684925699, 'reg_lambda': 6.732470941996432e-06}. Best is trial 11 with value: 0.9934827349645552.\n",
      "[I 2024-11-20 15:45:07,760] Trial 14 finished with value: 0.9934244382183086 and parameters: {'learning_rate': 0.036968055396515334, 'max_depth': 4, 'subsample': 0.10170773625263668, 'colsample_bytree': 0.5609965666027552, 'reg_alpha': 0.0007546478236975393, 'reg_lambda': 0.02291788063510199}. Best is trial 11 with value: 0.9934827349645552.\n",
      "[I 2024-11-20 15:45:18,203] Trial 15 finished with value: 0.9932778397551417 and parameters: {'learning_rate': 0.010889261122785656, 'max_depth': 4, 'subsample': 0.21017419604562798, 'colsample_bytree': 0.7771870925896773, 'reg_alpha': 6.2475094697457204e-06, 'reg_lambda': 0.09957345022433037}. Best is trial 11 with value: 0.9934827349645552.\n",
      "[I 2024-11-20 15:45:31,462] Trial 16 finished with value: 0.9864373521094246 and parameters: {'learning_rate': 0.016923924584551282, 'max_depth': 7, 'subsample': 0.4469582817352105, 'colsample_bytree': 0.2773854211230363, 'reg_alpha': 0.004251596616609049, 'reg_lambda': 0.00018938788547479874}. Best is trial 11 with value: 0.9934827349645552.\n",
      "[I 2024-11-20 15:45:39,604] Trial 17 finished with value: 0.9746569343065693 and parameters: {'learning_rate': 0.034979930009496424, 'max_depth': 1, 'subsample': 0.20447736071315392, 'colsample_bytree': 0.10959692554055045, 'reg_alpha': 0.6113303820501338, 'reg_lambda': 2.4136002152016023e-05}. Best is trial 11 with value: 0.9934827349645552.\n",
      "[I 2024-11-20 15:45:50,071] Trial 18 finished with value: 0.993482362357784 and parameters: {'learning_rate': 0.04473974511789344, 'max_depth': 3, 'subsample': 0.6636615194216475, 'colsample_bytree': 0.5015130065922451, 'reg_alpha': 0.0002759338096264139, 'reg_lambda': 0.17645652114358576}. Best is trial 11 with value: 0.9934827349645552.\n",
      "[I 2024-11-20 15:45:58,086] Trial 19 finished with value: 0.9914109024278516 and parameters: {'learning_rate': 0.04507624559599787, 'max_depth': 2, 'subsample': 0.6898358326594084, 'colsample_bytree': 0.6441402479081922, 'reg_alpha': 1.0013637584873124e-05, 'reg_lambda': 0.25366085722963705}. Best is trial 11 with value: 0.9934827349645552.\n",
      "[I 2024-11-20 15:46:07,042] Trial 20 finished with value: 0.9929577464788732 and parameters: {'learning_rate': 0.2097678416249144, 'max_depth': 3, 'subsample': 0.7323623636128165, 'colsample_bytree': 0.8085320572266237, 'reg_alpha': 0.00017839967801789802, 'reg_lambda': 0.012300018341430342}. Best is trial 11 with value: 0.9934827349645552.\n",
      "[I 2024-11-20 15:46:19,398] Trial 21 finished with value: 0.9934827349645552 and parameters: {'learning_rate': 0.024782413070164697, 'max_depth': 4, 'subsample': 0.20151926939374618, 'colsample_bytree': 0.5103715515822909, 'reg_alpha': 0.00033569311592317365, 'reg_lambda': 0.07884502586852735}. Best is trial 11 with value: 0.9934827349645552.\n",
      "[I 2024-11-20 15:46:28,860] Trial 22 finished with value: 0.9877607309084641 and parameters: {'learning_rate': 0.019415581780270454, 'max_depth': 2, 'subsample': 0.37048621356078587, 'colsample_bytree': 0.528656768870435, 'reg_alpha': 0.00020013734940064706, 'reg_lambda': 0.17370851957789804}. Best is trial 11 with value: 0.9934827349645552.\n",
      "[I 2024-11-20 15:46:41,641] Trial 23 finished with value: 0.993453589091221 and parameters: {'learning_rate': 0.04732166055913574, 'max_depth': 4, 'subsample': 0.20244344254394808, 'colsample_bytree': 0.3719103653479513, 'reg_alpha': 9.346734360724023e-07, 'reg_lambda': 0.0009894147920750192}. Best is trial 11 with value: 0.9934827349645552.\n",
      "[I 2024-11-20 15:46:55,814] Trial 24 finished with value: 0.993367259420207 and parameters: {'learning_rate': 0.025415987985470415, 'max_depth': 5, 'subsample': 0.6080464528217656, 'colsample_bytree': 0.4724141707375951, 'reg_alpha': 2.2722636061410014e-05, 'reg_lambda': 0.022750284690749564}. Best is trial 11 with value: 0.9934827349645552.\n",
      "[I 2024-11-20 15:47:06,555] Trial 25 finished with value: 0.9929921912988758 and parameters: {'learning_rate': 0.01380413691047055, 'max_depth': 3, 'subsample': 0.48346777331927593, 'colsample_bytree': 0.6050811381086387, 'reg_alpha': 0.0003325878534324506, 'reg_lambda': 0.7842080054867421}. Best is trial 11 with value: 0.9934827349645552.\n",
      "[I 2024-11-20 15:47:19,919] Trial 26 finished with value: 0.992989785115454 and parameters: {'learning_rate': 0.04002847580858904, 'max_depth': 7, 'subsample': 0.2982954441459823, 'colsample_bytree': 0.7163528719850345, 'reg_alpha': 1.5288736009655065e-08, 'reg_lambda': 0.004839747854027939}. Best is trial 11 with value: 0.9934827349645552.\n",
      "[I 2024-11-20 15:47:29,641] Trial 27 finished with value: 0.9902834704348076 and parameters: {'learning_rate': 0.022809165151308784, 'max_depth': 2, 'subsample': 0.18306715172855226, 'colsample_bytree': 0.318686229850977, 'reg_alpha': 0.008245896788653874, 'reg_lambda': 0.03273448194628173}. Best is trial 11 with value: 0.9934827349645552.\n",
      "[I 2024-11-20 15:47:42,179] Trial 28 finished with value: 0.9931062101318687 and parameters: {'learning_rate': 0.014906904010191083, 'max_depth': 4, 'subsample': 0.40502826766491484, 'colsample_bytree': 0.4644869019901312, 'reg_alpha': 1.7794528394910879e-06, 'reg_lambda': 0.2062917165364446}. Best is trial 11 with value: 0.9934827349645552.\n",
      "[I 2024-11-20 15:47:54,433] Trial 29 finished with value: 0.9919151376146789 and parameters: {'learning_rate': 0.14900273475026227, 'max_depth': 6, 'subsample': 0.31397418614727324, 'colsample_bytree': 0.854482123461429, 'reg_alpha': 4.7319569243474446e-05, 'reg_lambda': 0.0005476730308863928}. Best is trial 11 with value: 0.9934827349645552.\n",
      "[I 2024-11-20 15:48:08,121] Trial 30 finished with value: 0.993338098641887 and parameters: {'learning_rate': 0.031100245080613147, 'max_depth': 5, 'subsample': 0.5263840486260002, 'colsample_bytree': 0.5772796081185446, 'reg_alpha': 0.0005333264535341641, 'reg_lambda': 1.107983625740563e-05}. Best is trial 11 with value: 0.9934827349645552.\n",
      "[I 2024-11-20 15:48:21,350] Trial 31 finished with value: 0.9935111339793614 and parameters: {'learning_rate': 0.04734228290252065, 'max_depth': 4, 'subsample': 0.19104737028712052, 'colsample_bytree': 0.36513652790950635, 'reg_alpha': 1.3629196626436507e-07, 'reg_lambda': 0.000653875833637097}. Best is trial 31 with value: 0.9935111339793614.\n",
      "[I 2024-11-20 15:48:32,153] Trial 32 finished with value: 0.991010592613799 and parameters: {'learning_rate': 0.049405985145122074, 'max_depth': 3, 'subsample': 0.16260837353844357, 'colsample_bytree': 0.2545797267756748, 'reg_alpha': 2.942340778088894e-08, 'reg_lambda': 0.00039975495037400464}. Best is trial 31 with value: 0.9935111339793614.\n",
      "[I 2024-11-20 15:48:45,176] Trial 33 finished with value: 0.9933668801463861 and parameters: {'learning_rate': 0.06110150966900286, 'max_depth': 4, 'subsample': 0.2381674856641957, 'colsample_bytree': 0.4976293465173298, 'reg_alpha': 1.4700000646864912e-07, 'reg_lambda': 0.003165400747286392}. Best is trial 31 with value: 0.9935111339793614.\n",
      "[I 2024-11-20 15:49:00,054] Trial 34 finished with value: 0.9933100806221054 and parameters: {'learning_rate': 0.039258786701073335, 'max_depth': 5, 'subsample': 0.25228609008393893, 'colsample_bytree': 0.4177864527720144, 'reg_alpha': 0.005302395623957654, 'reg_lambda': 0.006913182724388844}. Best is trial 31 with value: 0.9935111339793614.\n",
      "[I 2024-11-20 15:49:09,343] Trial 35 finished with value: 0.9930217925985243 and parameters: {'learning_rate': 0.07320153557786951, 'max_depth': 2, 'subsample': 0.14916947322841972, 'colsample_bytree': 0.6289068294969717, 'reg_alpha': 0.0020892236514338824, 'reg_lambda': 4.7731532872410525e-05}. Best is trial 31 with value: 0.9935111339793614.\n",
      "[I 2024-11-20 15:49:19,648] Trial 36 finished with value: 0.9890973776324095 and parameters: {'learning_rate': 0.08289601181582949, 'max_depth': 6, 'subsample': 0.6726269744704889, 'colsample_bytree': 0.158709652026721, 'reg_alpha': 0.018837710771613746, 'reg_lambda': 1.1914674540230266e-06}. Best is trial 31 with value: 0.9935111339793614.\n",
      "[I 2024-11-20 15:49:28,936] Trial 37 finished with value: 0.9934819897084048 and parameters: {'learning_rate': 0.0547450911005991, 'max_depth': 3, 'subsample': 0.7831229102972609, 'colsample_bytree': 0.6994527859330016, 'reg_alpha': 2.5355060245474746e-06, 'reg_lambda': 0.001625724529853681}. Best is trial 31 with value: 0.9935111339793614.\n",
      "[I 2024-11-20 15:49:42,629] Trial 38 finished with value: 0.993338098641887 and parameters: {'learning_rate': 0.030034675195680673, 'max_depth': 5, 'subsample': 0.3388688887164632, 'colsample_bytree': 0.5508106448324946, 'reg_alpha': 0.0001015705831695044, 'reg_lambda': 0.23621552692136813}. Best is trial 31 with value: 0.9935111339793614.\n",
      "[I 2024-11-20 15:49:55,553] Trial 39 finished with value: 0.9884938442066505 and parameters: {'learning_rate': 0.02043239348693483, 'max_depth': 8, 'subsample': 0.2632151599346829, 'colsample_bytree': 0.3482528034939838, 'reg_alpha': 4.4243542600970706e-07, 'reg_lambda': 0.008143662685427046}. Best is trial 31 with value: 0.9935111339793614.\n",
      "[I 2024-11-20 15:50:08,235] Trial 40 finished with value: 0.993305487211764 and parameters: {'learning_rate': 0.09965999461362368, 'max_depth': 4, 'subsample': 0.1565454109831604, 'colsample_bytree': 0.4325499412857241, 'reg_alpha': 2.2926587969033423e-05, 'reg_lambda': 0.0420332822409448}. Best is trial 31 with value: 0.9935111339793614.\n",
      "[I 2024-11-20 15:50:17,911] Trial 41 finished with value: 0.993482362357784 and parameters: {'learning_rate': 0.052241893380876876, 'max_depth': 3, 'subsample': 0.7991587574631673, 'colsample_bytree': 0.7138469064497063, 'reg_alpha': 5.8285880163673716e-08, 'reg_lambda': 0.0014677565126597933}. Best is trial 31 with value: 0.9935111339793614.\n",
      "[I 2024-11-20 15:50:27,540] Trial 42 finished with value: 0.9933384795722904 and parameters: {'learning_rate': 0.06504130267938614, 'max_depth': 3, 'subsample': 0.8301810546006563, 'colsample_bytree': 0.6799485002365782, 'reg_alpha': 6.385313917036518e-08, 'reg_lambda': 0.00021775895726020364}. Best is trial 31 with value: 0.9935111339793614.\n",
      "[I 2024-11-20 15:50:35,539] Trial 43 finished with value: 0.9932202420116143 and parameters: {'learning_rate': 0.1352051919158517, 'max_depth': 2, 'subsample': 0.8728974191464014, 'colsample_bytree': 0.727250218223555, 'reg_alpha': 1.0936730937622188e-08, 'reg_lambda': 0.00212177740821052}. Best is trial 31 with value: 0.9935111339793614.\n",
      "[I 2024-11-20 15:50:43,763] Trial 44 finished with value: 0.9764258996143474 and parameters: {'learning_rate': 0.043702625658745754, 'max_depth': 1, 'subsample': 0.7489028605801228, 'colsample_bytree': 0.6167985000890963, 'reg_alpha': 2.3877524714311314e-07, 'reg_lambda': 0.01313039790987813}. Best is trial 31 with value: 0.9935111339793614.\n",
      "[I 2024-11-20 15:50:54,879] Trial 45 finished with value: 0.9933373366503675 and parameters: {'learning_rate': 0.03389463706875749, 'max_depth': 4, 'subsample': 0.655020305111142, 'colsample_bytree': 0.7472060401071204, 'reg_alpha': 7.212063821621763e-08, 'reg_lambda': 7.137891045081964e-05}. Best is trial 31 with value: 0.9935111339793614.\n",
      "[I 2024-11-20 15:51:07,231] Trial 46 finished with value: 0.9930746336996337 and parameters: {'learning_rate': 0.054170384667753146, 'max_depth': 5, 'subsample': 0.5726140069726635, 'colsample_bytree': 0.6658434896931057, 'reg_alpha': 0.0016850843535170426, 'reg_lambda': 0.3518727290864435}. Best is trial 31 with value: 0.9935111339793614.\n",
      "[I 2024-11-20 15:51:15,993] Trial 47 finished with value: 0.9933964151968211 and parameters: {'learning_rate': 0.07479010985106749, 'max_depth': 3, 'subsample': 0.983589696291779, 'colsample_bytree': 0.9962229039362323, 'reg_alpha': 2.8344572296783962e-08, 'reg_lambda': 0.08638368568891282}. Best is trial 31 with value: 0.9935111339793614.\n",
      "[I 2024-11-20 15:51:28,933] Trial 48 finished with value: 0.9935111339793614 and parameters: {'learning_rate': 0.029433107171810836, 'max_depth': 4, 'subsample': 0.8300335344448575, 'colsample_bytree': 0.5072215513920245, 'reg_alpha': 0.0013811441656500234, 'reg_lambda': 0.0008235289510787693}. Best is trial 31 with value: 0.9935111339793614.\n",
      "[I 2024-11-20 15:51:41,993] Trial 49 finished with value: 0.993482362357784 and parameters: {'learning_rate': 0.026962017237583825, 'max_depth': 4, 'subsample': 0.12436065181379916, 'colsample_bytree': 0.4951558479955438, 'reg_alpha': 0.03382328609916735, 'reg_lambda': 6.142163292635055e-08}. Best is trial 31 with value: 0.9935111339793614.\n"
     ]
    }
   ],
   "source": [
    "# Optimization grid for LightGBM\n",
    "def objective(trial):\n",
    "    param = {\n",
    "        'objective': 'binary',\n",
    "        'verbose': -1,\n",
    "        'metric': 'binary_logloss',\n",
    "        'boosting_type': 'gbdt',\n",
    "        'n_estimators': 1000,\n",
    "        'learning_rate': trial.suggest_loguniform('learning_rate', 0.01, 0.3),\n",
    "        'max_depth': trial.suggest_int('max_depth', 1, 10),\n",
    "        'subsample': trial.suggest_uniform('subsample', 0.1, 1),\n",
    "        'colsample_bytree': trial.suggest_uniform('colsample_bytree', 0.1, 1),\n",
    "        'reg_alpha': trial.suggest_loguniform('reg_alpha', 1e-8, 1.0),\n",
    "        'reg_lambda': trial.suggest_loguniform('reg_lambda', 1e-8, 1.0),\n",
    "        'random_state': 42\n",
    "    }\n",
    "    model = LGBMClassifier(**param)\n",
    "    model.fit(X_train, y_train)\n",
    "    y_pred = model.predict(X_test)\n",
    "    return f1_score(y_test, y_pred)\n",
    "\n",
    "study = optuna.create_study(direction='maximize')\n",
    "study.optimize(objective, n_trials=50)"
   ]
  },
  {
   "cell_type": "code",
   "execution_count": 12,
   "metadata": {},
   "outputs": [
    {
     "name": "stderr",
     "output_type": "stream",
     "text": [
      "[I 2024-11-20 15:53:00,910] A new study created in memory with name: no-name-a792f056-ccca-4940-a978-0197c77ffe9c\n",
      "[I 2024-11-20 15:53:03,943] Trial 0 finished with value: 0.9903307014532555 and parameters: {'learning_rate': 0.02091708046035103, 'max_depth': 28, 'l2_regularization': 0.00013756153842214212, 'max_bins': 250}. Best is trial 0 with value: 0.9903307014532555.\n",
      "[I 2024-11-20 15:53:07,197] Trial 1 finished with value: 0.9876772304212937 and parameters: {'learning_rate': 0.07392940927373393, 'max_depth': 99, 'l2_regularization': 0.001646899415416527, 'max_bins': 208}. Best is trial 0 with value: 0.9903307014532555.\n",
      "[I 2024-11-20 15:53:08,987] Trial 2 finished with value: 0.9873497968475348 and parameters: {'learning_rate': 0.22804325687809165, 'max_depth': 56, 'l2_regularization': 0.0034310305837649594, 'max_bins': 187}. Best is trial 0 with value: 0.9903307014532555.\n",
      "[I 2024-11-20 15:53:12,068] Trial 3 finished with value: 0.9218909966877447 and parameters: {'learning_rate': 0.027423001833276048, 'max_depth': 26, 'l2_regularization': 0.00023379479533129036, 'max_bins': 28}. Best is trial 0 with value: 0.9903307014532555.\n",
      "[I 2024-11-20 15:53:13,773] Trial 4 finished with value: 0.9939293282171697 and parameters: {'learning_rate': 0.21139575834284832, 'max_depth': 98, 'l2_regularization': 0.0003379971394039738, 'max_bins': 242}. Best is trial 4 with value: 0.9939293282171697.\n",
      "[I 2024-11-20 15:53:16,174] Trial 5 finished with value: 0.8193576711357266 and parameters: {'learning_rate': 0.01770100586992306, 'max_depth': 2, 'l2_regularization': 0.1545818309829566, 'max_bins': 87}. Best is trial 4 with value: 0.9939293282171697.\n",
      "[I 2024-11-20 15:53:19,388] Trial 6 finished with value: 0.9871578525870206 and parameters: {'learning_rate': 0.09454706958766149, 'max_depth': 50, 'l2_regularization': 0.00011106616351834913, 'max_bins': 118}. Best is trial 4 with value: 0.9939293282171697.\n",
      "[I 2024-11-20 15:53:22,143] Trial 7 finished with value: 0.9442332445295896 and parameters: {'learning_rate': 0.033732537565448945, 'max_depth': 3, 'l2_regularization': 6.743741496077255e-07, 'max_bins': 193}. Best is trial 4 with value: 0.9939293282171697.\n",
      "[I 2024-11-20 15:53:25,234] Trial 8 finished with value: 0.9700623456063993 and parameters: {'learning_rate': 0.013386848889343808, 'max_depth': 67, 'l2_regularization': 0.005837069585723411, 'max_bins': 109}. Best is trial 4 with value: 0.9939293282171697.\n",
      "[I 2024-11-20 15:53:28,312] Trial 9 finished with value: 0.9535406856423023 and parameters: {'learning_rate': 0.1257287752400625, 'max_depth': 63, 'l2_regularization': 1.140908446315121e-06, 'max_bins': 20}. Best is trial 4 with value: 0.9939293282171697.\n",
      "[I 2024-11-20 15:53:29,675] Trial 10 finished with value: 0.9939760755988237 and parameters: {'learning_rate': 0.29323451763613984, 'max_depth': 100, 'l2_regularization': 1.0945915282560497e-08, 'max_bins': 252}. Best is trial 10 with value: 0.9939760755988237.\n",
      "[I 2024-11-20 15:53:31,310] Trial 11 finished with value: 0.9882574783577612 and parameters: {'learning_rate': 0.2920177178276764, 'max_depth': 98, 'l2_regularization': 1.327405729043789e-08, 'max_bins': 248}. Best is trial 10 with value: 0.9939760755988237.\n",
      "[I 2024-11-20 15:53:33,468] Trial 12 finished with value: 0.9778246494128378 and parameters: {'learning_rate': 0.16346374507022776, 'max_depth': 82, 'l2_regularization': 2.1658127144165562e-06, 'max_bins': 170}. Best is trial 10 with value: 0.9939760755988237.\n",
      "[I 2024-11-20 15:53:35,809] Trial 13 finished with value: 0.9869453208672243 and parameters: {'learning_rate': 0.1832470221226719, 'max_depth': 84, 'l2_regularization': 2.439800813188548e-08, 'max_bins': 227}. Best is trial 10 with value: 0.9939760755988237.\n",
      "[I 2024-11-20 15:53:38,962] Trial 14 finished with value: 0.9822602584447971 and parameters: {'learning_rate': 0.045711818845332534, 'max_depth': 82, 'l2_regularization': 9.800305059315715e-06, 'max_bins': 151}. Best is trial 10 with value: 0.9939760755988237.\n",
      "[I 2024-11-20 15:53:42,084] Trial 15 finished with value: 0.9893767910382957 and parameters: {'learning_rate': 0.11942023795492734, 'max_depth': 91, 'l2_regularization': 0.5908030621294482, 'max_bins': 226}. Best is trial 10 with value: 0.9939760755988237.\n",
      "[I 2024-11-20 15:53:43,520] Trial 16 finished with value: 0.9846704581541037 and parameters: {'learning_rate': 0.29266124743899236, 'max_depth': 73, 'l2_regularization': 1.7946866044841357e-07, 'max_bins': 67}. Best is trial 10 with value: 0.9939760755988237.\n",
      "[I 2024-11-20 15:53:46,841] Trial 17 finished with value: 0.9903650970637847 and parameters: {'learning_rate': 0.058507726064445716, 'max_depth': 45, 'l2_regularization': 2.498539031358615e-05, 'max_bins': 154}. Best is trial 10 with value: 0.9939760755988237.\n",
      "[I 2024-11-20 15:53:49,422] Trial 18 finished with value: 0.992181906698359 and parameters: {'learning_rate': 0.1646275454261792, 'max_depth': 100, 'l2_regularization': 0.03262829363082146, 'max_bins': 254}. Best is trial 10 with value: 0.9939760755988237.\n",
      "[I 2024-11-20 15:53:51,638] Trial 19 finished with value: 0.991480052961833 and parameters: {'learning_rate': 0.21391253139745192, 'max_depth': 72, 'l2_regularization': 0.00115509260070212, 'max_bins': 216}. Best is trial 10 with value: 0.9939760755988237.\n",
      "[I 2024-11-20 15:53:54,452] Trial 20 finished with value: 0.9864481563189411 and parameters: {'learning_rate': 0.11094387965913792, 'max_depth': 35, 'l2_regularization': 1.0683775849318846e-07, 'max_bins': 179}. Best is trial 10 with value: 0.9939760755988237.\n",
      "[I 2024-11-20 15:53:57,207] Trial 21 finished with value: 0.994032152137289 and parameters: {'learning_rate': 0.15666044840255428, 'max_depth': 100, 'l2_regularization': 0.024172427537910223, 'max_bins': 252}. Best is trial 21 with value: 0.994032152137289.\n",
      "[I 2024-11-20 15:53:59,227] Trial 22 finished with value: 0.9916981564181839 and parameters: {'learning_rate': 0.23686576968202777, 'max_depth': 89, 'l2_regularization': 0.02412387027769345, 'max_bins': 232}. Best is trial 21 with value: 0.994032152137289.\n",
      "[I 2024-11-20 15:54:01,844] Trial 23 finished with value: 0.9952259798176153 and parameters: {'learning_rate': 0.14553925662893802, 'max_depth': 91, 'l2_regularization': 0.0004940577432735994, 'max_bins': 201}. Best is trial 23 with value: 0.9952259798176153.\n",
      "[I 2024-11-20 15:54:05,137] Trial 24 finished with value: 0.9979059694214165 and parameters: {'learning_rate': 0.08749310930438535, 'max_depth': 90, 'l2_regularization': 0.021661774012327894, 'max_bins': 203}. Best is trial 24 with value: 0.9979059694214165.\n",
      "[I 2024-11-20 15:54:08,561] Trial 25 finished with value: 0.9947846131681314 and parameters: {'learning_rate': 0.07294207160958395, 'max_depth': 77, 'l2_regularization': 0.026358111967555123, 'max_bins': 205}. Best is trial 24 with value: 0.9979059694214165.\n",
      "[I 2024-11-20 15:54:11,826] Trial 26 finished with value: 0.9947799298285649 and parameters: {'learning_rate': 0.07854110078115921, 'max_depth': 76, 'l2_regularization': 0.13481405783546302, 'max_bins': 135}. Best is trial 24 with value: 0.9979059694214165.\n",
      "[I 2024-11-20 15:54:15,125] Trial 27 finished with value: 0.9900124482529021 and parameters: {'learning_rate': 0.05280831036956681, 'max_depth': 89, 'l2_regularization': 0.9258171143298478, 'max_bins': 207}. Best is trial 24 with value: 0.9979059694214165.\n",
      "[I 2024-11-20 15:54:18,523] Trial 28 finished with value: 0.9845224613061533 and parameters: {'learning_rate': 0.07405097651033346, 'max_depth': 61, 'l2_regularization': 0.009013226768028657, 'max_bins': 167}. Best is trial 24 with value: 0.9979059694214165.\n",
      "[I 2024-11-20 15:54:21,759] Trial 29 finished with value: 0.9951461854728186 and parameters: {'learning_rate': 0.0606474220885983, 'max_depth': 79, 'l2_regularization': 0.0006776498866083358, 'max_bins': 194}. Best is trial 24 with value: 0.9979059694214165.\n",
      "[I 2024-11-20 15:54:25,004] Trial 30 finished with value: 0.9882185543540125 and parameters: {'learning_rate': 0.03787634734144582, 'max_depth': 89, 'l2_regularization': 3.325353802732444e-05, 'max_bins': 141}. Best is trial 24 with value: 0.9979059694214165.\n",
      "[I 2024-11-20 15:54:28,330] Trial 31 finished with value: 0.9901631887189402 and parameters: {'learning_rate': 0.09488064060318062, 'max_depth': 78, 'l2_regularization': 0.0006105380393057603, 'max_bins': 192}. Best is trial 24 with value: 0.9979059694214165.\n",
      "[I 2024-11-20 15:54:31,579] Trial 32 finished with value: 0.9954846822130773 and parameters: {'learning_rate': 0.06436395939285709, 'max_depth': 67, 'l2_regularization': 0.08122340687753218, 'max_bins': 201}. Best is trial 24 with value: 0.9979059694214165.\n",
      "[I 2024-11-20 15:54:34,715] Trial 33 finished with value: 0.9902537485582469 and parameters: {'learning_rate': 0.046509330327094235, 'max_depth': 70, 'l2_regularization': 0.001854352664346919, 'max_bins': 198}. Best is trial 24 with value: 0.9979059694214165.\n",
      "[I 2024-11-20 15:54:38,054] Trial 34 finished with value: 0.9859745558609356 and parameters: {'learning_rate': 0.060348138926745815, 'max_depth': 57, 'l2_regularization': 0.09393665228237963, 'max_bins': 173}. Best is trial 24 with value: 0.9979059694214165.\n",
      "[I 2024-11-20 15:54:41,472] Trial 35 finished with value: 0.9939525952251297 and parameters: {'learning_rate': 0.09517112824285263, 'max_depth': 93, 'l2_regularization': 0.0036449292801503394, 'max_bins': 221}. Best is trial 24 with value: 0.9979059694214165.\n",
      "[I 2024-11-20 15:54:44,646] Trial 36 finished with value: 0.9935941432166552 and parameters: {'learning_rate': 0.027101038439899725, 'max_depth': 83, 'l2_regularization': 0.00033058337460559396, 'max_bins': 184}. Best is trial 24 with value: 0.9979059694214165.\n",
      "[I 2024-11-20 15:54:48,054] Trial 37 finished with value: 0.9875470605270779 and parameters: {'learning_rate': 0.06675230655859216, 'max_depth': 93, 'l2_regularization': 0.3627540524292037, 'max_bins': 158}. Best is trial 24 with value: 0.9979059694214165.\n",
      "[I 2024-11-20 15:54:51,449] Trial 38 finished with value: 0.9883727623323548 and parameters: {'learning_rate': 0.08474495922227679, 'max_depth': 65, 'l2_regularization': 6.134179371338276e-05, 'max_bins': 236}. Best is trial 24 with value: 0.9979059694214165.\n",
      "[I 2024-11-20 15:54:54,310] Trial 39 finished with value: 0.9932874403724756 and parameters: {'learning_rate': 0.13435393969789686, 'max_depth': 10, 'l2_regularization': 0.010909220891602785, 'max_bins': 212}. Best is trial 24 with value: 0.9979059694214165.\n",
      "[I 2024-11-20 15:54:57,507] Trial 40 finished with value: 0.9749267154281811 and parameters: {'learning_rate': 0.03717066016221075, 'max_depth': 50, 'l2_regularization': 0.0010264265133420928, 'max_bins': 94}. Best is trial 24 with value: 0.9979059694214165.\n",
      "[I 2024-11-20 15:55:00,793] Trial 41 finished with value: 0.9954846822130773 and parameters: {'learning_rate': 0.06930421189479243, 'max_depth': 78, 'l2_regularization': 0.057942663001479516, 'max_bins': 201}. Best is trial 24 with value: 0.9979059694214165.\n",
      "[I 2024-11-20 15:55:04,027] Trial 42 finished with value: 0.9936736037557611 and parameters: {'learning_rate': 0.10199454153109841, 'max_depth': 85, 'l2_regularization': 0.2044694017125294, 'max_bins': 195}. Best is trial 24 with value: 0.9979059694214165.\n",
      "[I 2024-11-20 15:55:07,319] Trial 43 finished with value: 0.9970964496190887 and parameters: {'learning_rate': 0.05288475204213554, 'max_depth': 69, 'l2_regularization': 0.07931812517332722, 'max_bins': 204}. Best is trial 24 with value: 0.9979059694214165.\n",
      "[I 2024-11-20 15:55:10,580] Trial 44 finished with value: 0.988071964867545 and parameters: {'learning_rate': 0.05208789426599165, 'max_depth': 68, 'l2_regularization': 0.0805934451274224, 'max_bins': 180}. Best is trial 24 with value: 0.9979059694214165.\n",
      "[I 2024-11-20 15:55:14,681] Trial 45 finished with value: 0.6831635900700191 and parameters: {'learning_rate': 0.04397161490061924, 'max_depth': 56, 'l2_regularization': 0.06090516029407708, 'max_bins': 6}. Best is trial 24 with value: 0.9979059694214165.\n",
      "[I 2024-11-20 15:55:17,825] Trial 46 finished with value: 0.9632352941176471 and parameters: {'learning_rate': 0.030168465619820187, 'max_depth': 60, 'l2_regularization': 0.010004340930629664, 'max_bins': 55}. Best is trial 24 with value: 0.9979059694214165.\n",
      "[I 2024-11-20 15:55:21,220] Trial 47 finished with value: 0.9920850424634583 and parameters: {'learning_rate': 0.0852570947973119, 'max_depth': 43, 'l2_regularization': 0.27171474166015996, 'max_bins': 206}. Best is trial 24 with value: 0.9979059694214165.\n",
      "[I 2024-11-20 15:55:24,448] Trial 48 finished with value: 0.9798234187291938 and parameters: {'learning_rate': 0.02350077056563745, 'max_depth': 95, 'l2_regularization': 0.004852514139831778, 'max_bins': 121}. Best is trial 24 with value: 0.9979059694214165.\n",
      "[I 2024-11-20 15:55:27,644] Trial 49 finished with value: 0.9935201451487486 and parameters: {'learning_rate': 0.011684546939694227, 'max_depth': 86, 'l2_regularization': 0.05170668071053763, 'max_bins': 242}. Best is trial 24 with value: 0.9979059694214165.\n"
     ]
    }
   ],
   "source": [
    "# Same for HistGradientBoostingClassifier\n",
    "def objective(trial):\n",
    "    param = {\n",
    "        'learning_rate': trial.suggest_loguniform('learning_rate', 0.01, 0.3),\n",
    "        'max_depth': trial.suggest_int('max_depth', 1, 100),\n",
    "        'l2_regularization': trial.suggest_loguniform('l2_regularization', 1e-8, 1.0),\n",
    "        'max_bins': trial.suggest_int('max_bins', 2, 255),\n",
    "        'random_state': 42\n",
    "    }\n",
    "    model = HistGradientBoostingClassifier(**param)\n",
    "    model.fit(X_train, y_train)\n",
    "    y_pred = model.predict(X_test)\n",
    "    return f1_score(y_test, y_pred)\n",
    "\n",
    "study = optuna.create_study(direction='maximize')\n",
    "study.optimize(objective, n_trials=50)"
   ]
  },
  {
   "cell_type": "code",
   "execution_count": 14,
   "metadata": {},
   "outputs": [
    {
     "name": "stderr",
     "output_type": "stream",
     "text": [
      "[I 2024-11-20 16:03:06,728] A new study created in memory with name: no-name-6782156d-d5e2-4859-bbaa-3d95a777fb87\n",
      "[I 2024-11-20 16:03:46,283] Trial 0 finished with value: 0.9537234202081396 and parameters: {'max_depth': 13, 'min_samples_split': 8, 'min_samples_leaf': 7, 'max_features': 0.9372793018130161}. Best is trial 0 with value: 0.9537234202081396.\n",
      "[I 2024-11-20 16:04:02,665] Trial 1 finished with value: 0.0053744997141223555 and parameters: {'max_depth': 5, 'min_samples_split': 18, 'min_samples_leaf': 8, 'max_features': 0.664417124233858}. Best is trial 0 with value: 0.9537234202081396.\n",
      "[I 2024-11-20 16:04:25,431] Trial 2 finished with value: 0.7317871164752072 and parameters: {'max_depth': 18, 'min_samples_split': 4, 'min_samples_leaf': 1, 'max_features': 0.13333039095473362}. Best is trial 0 with value: 0.9537234202081396.\n",
      "[I 2024-11-20 16:05:06,170] Trial 3 finished with value: 0.9950747429361445 and parameters: {'max_depth': 20, 'min_samples_split': 2, 'min_samples_leaf': 1, 'max_features': 0.6530867013975789}. Best is trial 3 with value: 0.9950747429361445.\n",
      "[I 2024-11-20 16:05:46,824] Trial 4 finished with value: 0.9641308866322228 and parameters: {'max_depth': 14, 'min_samples_split': 20, 'min_samples_leaf': 14, 'max_features': 0.8752387767948534}. Best is trial 3 with value: 0.9950747429361445.\n",
      "[I 2024-11-20 16:06:16,527] Trial 5 finished with value: 0.877614053149733 and parameters: {'max_depth': 16, 'min_samples_split': 6, 'min_samples_leaf': 1, 'max_features': 0.559082784725942}. Best is trial 3 with value: 0.9950747429361445.\n",
      "[I 2024-11-20 16:06:30,264] Trial 6 finished with value: 0.0002292920607623961 and parameters: {'max_depth': 20, 'min_samples_split': 20, 'min_samples_leaf': 9, 'max_features': 0.40285088037501604}. Best is trial 3 with value: 0.9950747429361445.\n",
      "[I 2024-11-20 16:06:46,944] Trial 7 finished with value: 0.0005731315910132966 and parameters: {'max_depth': 4, 'min_samples_split': 4, 'min_samples_leaf': 3, 'max_features': 0.7198207933830989}. Best is trial 3 with value: 0.9950747429361445.\n",
      "[I 2024-11-20 16:06:55,056] Trial 8 finished with value: 0.0 and parameters: {'max_depth': 8, 'min_samples_split': 18, 'min_samples_leaf': 6, 'max_features': 0.1563010560949613}. Best is trial 3 with value: 0.9950747429361445.\n",
      "[I 2024-11-20 16:07:07,672] Trial 9 finished with value: 0.0 and parameters: {'max_depth': 14, 'min_samples_split': 15, 'min_samples_leaf': 12, 'max_features': 0.4123193813144135}. Best is trial 3 with value: 0.9950747429361445.\n",
      "[I 2024-11-20 16:07:20,255] Trial 10 finished with value: 0.0 and parameters: {'max_depth': 9, 'min_samples_split': 12, 'min_samples_leaf': 4, 'max_features': 0.3393746120271556}. Best is trial 3 with value: 0.9950747429361445.\n",
      "[I 2024-11-20 16:08:06,899] Trial 11 finished with value: 0.9990532204848659 and parameters: {'max_depth': 20, 'min_samples_split': 10, 'min_samples_leaf': 3, 'max_features': 0.9381096578478105}. Best is trial 11 with value: 0.9990532204848659.\n",
      "[I 2024-11-20 16:08:46,304] Trial 12 finished with value: 0.9964617553145586 and parameters: {'max_depth': 20, 'min_samples_split': 10, 'min_samples_leaf': 3, 'max_features': 0.8002851573202623}. Best is trial 11 with value: 0.9990532204848659.\n",
      "[I 2024-11-20 16:09:24,889] Trial 13 finished with value: 0.9632073228720875 and parameters: {'max_depth': 17, 'min_samples_split': 10, 'min_samples_leaf': 3, 'max_features': 0.8269884528375911}. Best is trial 11 with value: 0.9990532204848659.\n",
      "[I 2024-11-20 16:10:02,868] Trial 14 finished with value: 0.9907423479719956 and parameters: {'max_depth': 20, 'min_samples_split': 12, 'min_samples_leaf': 4, 'max_features': 0.7920630604177648}. Best is trial 11 with value: 0.9990532204848659.\n",
      "[I 2024-11-20 16:10:39,859] Trial 15 finished with value: 0.8948935631018753 and parameters: {'max_depth': 11, 'min_samples_split': 9, 'min_samples_leaf': 3, 'max_features': 0.9875511799591362}. Best is trial 11 with value: 0.9990532204848659.\n",
      "[I 2024-11-20 16:11:22,099] Trial 16 finished with value: 0.995161011579008 and parameters: {'max_depth': 17, 'min_samples_split': 14, 'min_samples_leaf': 5, 'max_features': 0.9918259576003811}. Best is trial 11 with value: 0.9990532204848659.\n",
      "[I 2024-11-20 16:11:56,542] Trial 17 finished with value: 0.971977487697793 and parameters: {'max_depth': 15, 'min_samples_split': 7, 'min_samples_leaf': 2, 'max_features': 0.7797195434454137}. Best is trial 11 with value: 0.9990532204848659.\n",
      "[I 2024-11-20 16:12:08,364] Trial 18 finished with value: 0.0 and parameters: {'max_depth': 2, 'min_samples_split': 14, 'min_samples_leaf': 10, 'max_features': 0.880265690586978}. Best is trial 11 with value: 0.9990532204848659.\n",
      "[I 2024-11-20 16:12:27,773] Trial 19 finished with value: 0.2681691818903892 and parameters: {'max_depth': 18, 'min_samples_split': 11, 'min_samples_leaf': 5, 'max_features': 0.5570350110196591}. Best is trial 11 with value: 0.9990532204848659.\n",
      "[I 2024-11-20 16:12:58,402] Trial 20 finished with value: 0.9652369935338435 and parameters: {'max_depth': 19, 'min_samples_split': 5, 'min_samples_leaf': 2, 'max_features': 0.6760686032685076}. Best is trial 11 with value: 0.9990532204848659.\n",
      "[I 2024-11-20 16:13:39,539] Trial 21 finished with value: 0.9949583705453603 and parameters: {'max_depth': 17, 'min_samples_split': 14, 'min_samples_leaf': 6, 'max_features': 0.9812831852725499}. Best is trial 11 with value: 0.9990532204848659.\n",
      "[I 2024-11-20 16:14:14,634] Trial 22 finished with value: 0.8909235415673183 and parameters: {'max_depth': 12, 'min_samples_split': 16, 'min_samples_leaf': 5, 'max_features': 0.9009107008757267}. Best is trial 11 with value: 0.9990532204848659.\n",
      "[I 2024-11-20 16:14:55,901] Trial 23 finished with value: 0.99718293664482 and parameters: {'max_depth': 18, 'min_samples_split': 12, 'min_samples_leaf': 4, 'max_features': 0.9916107924333796}. Best is trial 11 with value: 0.9990532204848659.\n",
      "[I 2024-11-20 16:15:31,618] Trial 24 finished with value: 0.9928983833718245 and parameters: {'max_depth': 19, 'min_samples_split': 10, 'min_samples_leaf': 4, 'max_features': 0.8326119181234207}. Best is trial 11 with value: 0.9990532204848659.\n",
      "[I 2024-11-20 16:16:06,597] Trial 25 finished with value: 0.9821735959153902 and parameters: {'max_depth': 16, 'min_samples_split': 12, 'min_samples_leaf': 2, 'max_features': 0.7651809413621344}. Best is trial 11 with value: 0.9990532204848659.\n",
      "[I 2024-11-20 16:16:47,590] Trial 26 finished with value: 0.9985073770021241 and parameters: {'max_depth': 19, 'min_samples_split': 9, 'min_samples_leaf': 3, 'max_features': 0.9179303590870964}. Best is trial 11 with value: 0.9990532204848659.\n",
      "[I 2024-11-20 16:17:29,857] Trial 27 finished with value: 0.9978745404411765 and parameters: {'max_depth': 18, 'min_samples_split': 8, 'min_samples_leaf': 4, 'max_features': 0.9158454672189988}. Best is trial 11 with value: 0.9990532204848659.\n",
      "[I 2024-11-20 16:18:09,418] Trial 28 finished with value: 0.9903339700179429 and parameters: {'max_depth': 15, 'min_samples_split': 8, 'min_samples_leaf': 2, 'max_features': 0.9212969207827082}. Best is trial 11 with value: 0.9990532204848659.\n",
      "[I 2024-11-20 16:18:43,862] Trial 29 finished with value: 0.9199046410105576 and parameters: {'max_depth': 11, 'min_samples_split': 8, 'min_samples_leaf': 3, 'max_features': 0.907244139860713}. Best is trial 11 with value: 0.9990532204848659.\n"
     ]
    }
   ],
   "source": [
    "def objective(trial):\n",
    "    max_depth = trial.suggest_int('max_depth', 2, 20)\n",
    "    min_samples_split = trial.suggest_int('min_samples_split', 2, 20)\n",
    "    min_samples_leaf = trial.suggest_int('min_samples_leaf', 1, min(min_samples_split - 1, 20))\n",
    "    max_features = trial.suggest_uniform('max_features', 0.1, 1.0)\n",
    "\n",
    "    param = {\n",
    "        'max_depth': max_depth,\n",
    "        'min_samples_split': min_samples_split,\n",
    "        'min_samples_leaf': min_samples_leaf,\n",
    "        'max_features': max_features,\n",
    "        'random_state': 42\n",
    "    }\n",
    "\n",
    "    model = ExtraTreesClassifier(**param)\n",
    "    model.fit(X_train, y_train)\n",
    "    y_pred = model.predict(X_test)\n",
    "    return f1_score(y_test, y_pred)\n",
    "\n",
    "study = optuna.create_study(direction='maximize')\n",
    "study.optimize(objective, n_trials=30)"
   ]
  },
  {
   "cell_type": "code",
   "execution_count": 12,
   "metadata": {},
   "outputs": [
    {
     "name": "stdout",
     "output_type": "stream",
     "text": [
      "ExtraTreesClassifier accuracy: 0.987065 f1: 0.9199046410105576\n",
      "ExtraTreesClassifier feature importances:\n",
      "                                importance\n",
      "ratio_to_median_purchase_price    0.657694\n",
      "distance_from_home                0.159689\n",
      "online_order                      0.074261\n",
      "distance_from_last_transaction    0.043188\n",
      "used_pin_number                   0.032980\n",
      "used_chip                         0.026230\n",
      "repeat_retailer                   0.005959\n"
     ]
    }
   ],
   "source": [
    "extra_trees_best_params = {'max_depth': 11, 'min_samples_split': 8, 'min_samples_leaf': 3, 'max_features': 0.907244139860713}\n",
    "model = ExtraTreesClassifier(**extra_trees_best_params, random_state=42)\n",
    "model.fit(X_train, y_train)\n",
    "y_pred = model.predict(X_test)\n",
    "print(f\"ExtraTreesClassifier accuracy: {accuracy_score(y_test, y_pred)} f1: {f1_score(y_test, y_pred)}\")\n",
    "# feature importances\n",
    "feature_importances = pd.DataFrame(model.feature_importances_, index=X_train.columns, columns=['importance']).sort_values('importance', ascending=False)\n",
    "print(\"ExtraTreesClassifier feature importances:\")\n",
    "print(feature_importances)"
   ]
  },
  {
   "cell_type": "code",
   "execution_count": 10,
   "metadata": {},
   "outputs": [],
   "source": [
    "def absolute_custom_cost(x, xi, alpha=1):\n",
    "    return np.sqrt((x[0]-xi[0])**2+(x[1]-xi[1])**2) - alpha*(x[2])\n",
    "\n",
    "def custom_cost(x, xi, alpha=1):\n",
    "    return absolute_custom_cost(x, xi, alpha) + alpha*(xi[2])"
   ]
  },
  {
   "cell_type": "code",
   "execution_count": 11,
   "metadata": {},
   "outputs": [],
   "source": [
    "%autoreload 2\n",
    "\n",
    "import sys\n",
    "\n",
    "# Add the parent directory of the 'Tests' folder to the system path\n",
    "sys.path.append(os.path.abspath(os.path.join(os.getcwd(), '..')))\n",
    "\n",
    "from attacks.header import *\n",
    "from attacks.HillClimbing import HillClimbing\n",
    "from attacks.SimulatedAnnealing import SimulatedAnnealing\n",
    "from attacks.TabuSearch import TabuSearch\n",
    "from attacks.GeneticAlgorithm import GeneticAlgorithm\n",
    "from attacks.ParticleSwarm import ParticleSwarm\n",
    "from attacks.DifferentialEvolution import DifferentialEvolution\n",
    "from attacks.FireflyAlgorithm import FireflyAlgorithm\n",
    "from attacks.HarmonySearch import HarmonySearch\n",
    "\n",
    "from neighborhoods.Radar import Radar\n",
    "\n",
    "omega_k_dict = {\n",
    "    'ratio_to_median_purchase_price':    0.651746,\n",
    "    'distance_from_home':                0.195162,\n",
    "    'distance_from_last_transaction':    0.062858,\n",
    "    'online_order':                      0.047815,\n",
    "    'used_pin_number':                   0.022070,\n",
    "    'used_chip':                         0.016432,\n",
    "    'repeat_retailer':                   0.003916,\n",
    "}\n",
    "\n",
    "# Select a list of 10 SlowLoris attacks in the test set\n",
    "X_attack = X_test[y_test == 1].iloc[:100].values\n",
    "\n",
    "# Compute μ_k, σ_k, x_k_min, x_k_max, and omega_k_series\n",
    "mu_k = X_train[y_train == 1].mean()\n",
    "sigma_k = X_train[y_train == 1].std().replace(0, 1e-6)  # Avoid division by zero\n",
    "x_k_min = X_train[y_train == 1].quantile(0.01)\n",
    "x_k_max = X_train[y_train == 1].quantile(0.99)\n",
    "\n",
    "class ModelWrapper:\n",
    "    def __init__(self):\n",
    "        self.model = model # Use ExtraTreesClassifier as the model\n",
    "\n",
    "    def predict_all(self, x):\n",
    "        return self.model.predict(x)\n",
    "\n",
    "    def predict(self, x):\n",
    "        if isinstance(x, list) and len(x) > 1:\n",
    "            print(x)\n",
    "            raise AssertionError\n",
    "        else:\n",
    "            return self.model.predict(x[0].reshape(1, -1))\n",
    "            \n",
    "\n",
    "# Set omega_k to 0 for unspecified features\n",
    "all_features = X_train.columns.tolist()\n",
    "omega_k = {feature: omega_k_dict.get(feature, 0) for feature in all_features}\n",
    "omega_k_series = pd.Series(omega_k)\n",
    "\n",
    "# Define the cost function as SLARC (sum of SLARC contributions of each feature)\n",
    "def SLARC_cost_function(x1, x0):\n",
    "    x1_series = pd.Series(x1, index=all_features)\n",
    "    x0_series = pd.Series(x0, index=all_features)\n",
    "    \n",
    "    delta = np.abs(x1_series - x0_series)\n",
    "    \n",
    "    sgn_term = np.sign(np.abs(x1_series - mu_k) - np.abs(x0_series - mu_k))\n",
    "    \n",
    "    # Compute rho_k_mu\n",
    "    denom_mu = mu_k - x_k_min\n",
    "    denom_mu = denom_mu.replace(0, 1e-6)  # Avoid division by zero\n",
    "    rho_k_mu = (x_k_max - mu_k) / denom_mu\n",
    "    rho_k_mu = rho_k_mu.replace([np.inf, -np.inf], 0).fillna(0)\n",
    "    \n",
    "    # Compute rho_k_x1\n",
    "    denom_x1 = x1_series - x_k_min\n",
    "    denom_x1 = denom_x1.replace(0, 1e-6)  # Avoid division by zero\n",
    "    rho_k_x1 = (x_k_max - x1_series) / denom_x1\n",
    "    rho_k_x1 = rho_k_x1.replace([np.inf, -np.inf], 0).fillna(0)\n",
    "    \n",
    "    # Compute epsilon_k\n",
    "    condition = (rho_k_mu - 1) * (rho_k_x1 - 1)\n",
    "    epsilon_k_values = np.where(condition >= 0, 1, np.maximum(rho_k_mu, 1 / rho_k_mu))\n",
    "    epsilon_k = pd.Series(epsilon_k_values, index=all_features)\n",
    "    epsilon_k = epsilon_k.replace([np.inf, -np.inf], 0).fillna(0)\n",
    "    \n",
    "    # Compute SLARC_k\n",
    "    slarc_k = (omega_k_series / sigma_k) * epsilon_k * delta * sgn_term\n",
    "    slarc_k = slarc_k.replace([np.inf, -np.inf], 0).fillna(0)\n",
    "    \n",
    "    total_SLARC = slarc_k.sum()\n",
    "    return total_SLARC"
   ]
  },
  {
   "cell_type": "code",
   "execution_count": 13,
   "metadata": {},
   "outputs": [
    {
     "name": "stdout",
     "output_type": "stream",
     "text": [
      "<class 'pandas.core.frame.DataFrame'>\n",
      "RangeIndex: 1000000 entries, 0 to 999999\n",
      "Data columns (total 8 columns):\n",
      " #   Column                          Non-Null Count    Dtype  \n",
      "---  ------                          --------------    -----  \n",
      " 0   distance_from_home              1000000 non-null  float64\n",
      " 1   distance_from_last_transaction  1000000 non-null  float64\n",
      " 2   ratio_to_median_purchase_price  1000000 non-null  float64\n",
      " 3   repeat_retailer                 1000000 non-null  float64\n",
      " 4   used_chip                       1000000 non-null  float64\n",
      " 5   used_pin_number                 1000000 non-null  float64\n",
      " 6   online_order                    1000000 non-null  float64\n",
      " 7   fraud                           1000000 non-null  float64\n",
      "dtypes: float64(8)\n",
      "memory usage: 61.0 MB\n"
     ]
    }
   ],
   "source": [
    "df.info()"
   ]
  },
  {
   "cell_type": "code",
   "execution_count": 14,
   "metadata": {},
   "outputs": [
    {
     "data": {
      "text/plain": [
       "used_chip\n",
       "0.0    649601\n",
       "1.0    350399\n",
       "Name: count, dtype: int64"
      ]
     },
     "execution_count": 14,
     "metadata": {},
     "output_type": "execute_result"
    }
   ],
   "source": [
    "df.used_chip.value_counts()"
   ]
  },
  {
   "cell_type": "code",
   "execution_count": null,
   "metadata": {},
   "outputs": [],
   "source": [
    "from attacks import *\n",
    "from neighborhoods import *"
   ]
  },
  {
   "cell_type": "code",
   "execution_count": 62,
   "metadata": {},
   "outputs": [
    {
     "data": {
      "text/plain": [
       "array([[1.31560300e+02, 1.87985860e+00, 5.76108956e-01, 1.00000000e+00,\n",
       "        0.00000000e+00, 0.00000000e+00, 1.00000000e+00],\n",
       "       [1.30347043e+02, 4.23151688e-01, 1.56389731e-01, 1.00000000e+00,\n",
       "        0.00000000e+00, 0.00000000e+00, 1.00000000e+00],\n",
       "       [2.79870079e+00, 2.30878548e+00, 6.68979346e+00, 1.00000000e+00,\n",
       "        0.00000000e+00, 0.00000000e+00, 1.00000000e+00],\n",
       "       [1.62426428e+01, 1.52434220e+00, 9.08391190e+00, 1.00000000e+00,\n",
       "        0.00000000e+00, 0.00000000e+00, 1.00000000e+00],\n",
       "       [1.57932599e+00, 3.08583850e+00, 6.42547615e+00, 0.00000000e+00,\n",
       "        1.00000000e+00, 0.00000000e+00, 1.00000000e+00],\n",
       "       [6.08145249e+00, 1.90869802e+00, 9.46043055e+00, 1.00000000e+00,\n",
       "        0.00000000e+00, 0.00000000e+00, 1.00000000e+00],\n",
       "       [2.08185777e+01, 8.36571975e+01, 4.33959755e-02, 1.00000000e+00,\n",
       "        0.00000000e+00, 0.00000000e+00, 1.00000000e+00],\n",
       "       [3.19528186e+01, 1.57582794e+01, 6.74148442e+00, 1.00000000e+00,\n",
       "        0.00000000e+00, 0.00000000e+00, 1.00000000e+00],\n",
       "       [3.17861459e+01, 6.45363388e+01, 9.34761142e+00, 1.00000000e+00,\n",
       "        1.00000000e+00, 0.00000000e+00, 0.00000000e+00],\n",
       "       [4.42355790e+00, 1.57236718e+01, 4.29473201e+00, 1.00000000e+00,\n",
       "        0.00000000e+00, 0.00000000e+00, 1.00000000e+00],\n",
       "       [2.03983196e+00, 8.86062950e+00, 4.43326379e+00, 1.00000000e+00,\n",
       "        1.00000000e+00, 0.00000000e+00, 1.00000000e+00],\n",
       "       [1.02137783e+02, 2.13143137e+00, 2.56669901e+00, 1.00000000e+00,\n",
       "        0.00000000e+00, 0.00000000e+00, 1.00000000e+00],\n",
       "       [6.28647653e+00, 1.09333682e+02, 1.52620146e+00, 1.00000000e+00,\n",
       "        0.00000000e+00, 0.00000000e+00, 1.00000000e+00],\n",
       "       [1.54070696e+00, 1.01293011e+01, 5.37854039e+00, 0.00000000e+00,\n",
       "        0.00000000e+00, 0.00000000e+00, 0.00000000e+00],\n",
       "       [3.40838788e+00, 3.34124195e+00, 4.83873818e+00, 1.00000000e+00,\n",
       "        1.00000000e+00, 0.00000000e+00, 1.00000000e+00],\n",
       "       [1.04057532e+01, 5.06512976e-01, 6.43255284e+00, 1.00000000e+00,\n",
       "        1.00000000e+00, 0.00000000e+00, 1.00000000e+00],\n",
       "       [1.24900559e+02, 7.38257732e+00, 5.54244003e+00, 1.00000000e+00,\n",
       "        1.00000000e+00, 0.00000000e+00, 1.00000000e+00],\n",
       "       [1.03358619e+02, 2.79693043e+00, 2.29444463e-01, 1.00000000e+00,\n",
       "        0.00000000e+00, 0.00000000e+00, 1.00000000e+00],\n",
       "       [9.00763333e+00, 8.80978933e-02, 2.10301359e+01, 1.00000000e+00,\n",
       "        1.00000000e+00, 0.00000000e+00, 1.00000000e+00],\n",
       "       [1.46369888e+00, 7.44209894e+00, 4.24302683e+00, 0.00000000e+00,\n",
       "        0.00000000e+00, 0.00000000e+00, 0.00000000e+00],\n",
       "       [1.24258679e+00, 4.67275939e+00, 4.26867967e+00, 0.00000000e+00,\n",
       "        1.00000000e+00, 0.00000000e+00, 1.00000000e+00],\n",
       "       [1.15776864e+01, 4.70565818e+00, 4.85561102e+00, 1.00000000e+00,\n",
       "        0.00000000e+00, 0.00000000e+00, 1.00000000e+00],\n",
       "       [1.73929998e+00, 1.56370073e-01, 1.00896017e+01, 0.00000000e+00,\n",
       "        0.00000000e+00, 0.00000000e+00, 1.00000000e+00],\n",
       "       [2.96683393e+01, 1.00860937e+00, 3.42527173e+01, 1.00000000e+00,\n",
       "        0.00000000e+00, 0.00000000e+00, 1.00000000e+00],\n",
       "       [5.53882073e+00, 2.17382787e-01, 1.27753743e+01, 1.00000000e+00,\n",
       "        0.00000000e+00, 0.00000000e+00, 1.00000000e+00],\n",
       "       [6.47423750e+00, 3.47479520e-02, 9.97934218e+00, 1.00000000e+00,\n",
       "        0.00000000e+00, 0.00000000e+00, 1.00000000e+00],\n",
       "       [1.04154100e+01, 1.49502517e+01, 5.31676573e+00, 1.00000000e+00,\n",
       "        1.00000000e+00, 0.00000000e+00, 1.00000000e+00],\n",
       "       [5.19686131e+00, 3.96564684e-01, 4.11185299e+00, 1.00000000e+00,\n",
       "        0.00000000e+00, 0.00000000e+00, 1.00000000e+00],\n",
       "       [2.33482339e+00, 1.02149228e+00, 4.82980710e+00, 1.00000000e+00,\n",
       "        0.00000000e+00, 0.00000000e+00, 1.00000000e+00],\n",
       "       [1.19030639e+02, 2.05645685e+00, 1.74492217e-01, 1.00000000e+00,\n",
       "        0.00000000e+00, 0.00000000e+00, 1.00000000e+00],\n",
       "       [6.75021210e+01, 1.97754165e-01, 5.99544868e+00, 1.00000000e+00,\n",
       "        1.00000000e+00, 0.00000000e+00, 1.00000000e+00],\n",
       "       [1.44689771e+00, 1.85291314e+01, 4.07217579e+00, 0.00000000e+00,\n",
       "        1.00000000e+00, 0.00000000e+00, 1.00000000e+00],\n",
       "       [1.02108945e+02, 4.96840186e-01, 1.21173633e+00, 1.00000000e+00,\n",
       "        0.00000000e+00, 0.00000000e+00, 1.00000000e+00],\n",
       "       [6.28038543e+02, 2.63976265e+00, 1.01737372e+00, 1.00000000e+00,\n",
       "        0.00000000e+00, 0.00000000e+00, 1.00000000e+00],\n",
       "       [1.07451027e+01, 6.72269054e-01, 4.75423503e+00, 1.00000000e+00,\n",
       "        0.00000000e+00, 0.00000000e+00, 1.00000000e+00],\n",
       "       [6.71631208e+00, 7.09221351e-01, 4.09214349e+00, 1.00000000e+00,\n",
       "        1.00000000e+00, 0.00000000e+00, 1.00000000e+00],\n",
       "       [4.38939869e+01, 4.67966407e-02, 4.06129923e+00, 1.00000000e+00,\n",
       "        0.00000000e+00, 0.00000000e+00, 1.00000000e+00],\n",
       "       [5.01444509e+01, 2.53195092e+00, 7.95270884e+00, 1.00000000e+00,\n",
       "        1.00000000e+00, 0.00000000e+00, 1.00000000e+00],\n",
       "       [4.04887833e+01, 1.00111228e+01, 4.31550704e+00, 1.00000000e+00,\n",
       "        0.00000000e+00, 0.00000000e+00, 1.00000000e+00],\n",
       "       [1.59346318e+00, 2.58941334e+00, 6.36320914e+00, 0.00000000e+00,\n",
       "        0.00000000e+00, 0.00000000e+00, 0.00000000e+00],\n",
       "       [6.62022306e+00, 7.79090932e-01, 4.00160846e+00, 1.00000000e+00,\n",
       "        1.00000000e+00, 0.00000000e+00, 1.00000000e+00],\n",
       "       [2.57944870e+00, 3.73564946e-01, 5.60260160e+00, 1.00000000e+00,\n",
       "        0.00000000e+00, 0.00000000e+00, 1.00000000e+00],\n",
       "       [2.95250842e+01, 7.02095744e-01, 4.99050109e+00, 1.00000000e+00,\n",
       "        0.00000000e+00, 0.00000000e+00, 1.00000000e+00],\n",
       "       [7.52181763e-01, 6.23054842e-01, 9.90338799e+00, 0.00000000e+00,\n",
       "        0.00000000e+00, 0.00000000e+00, 1.00000000e+00],\n",
       "       [2.25589417e+02, 3.26650476e+00, 2.90151973e+00, 1.00000000e+00,\n",
       "        0.00000000e+00, 0.00000000e+00, 1.00000000e+00],\n",
       "       [1.31353803e+02, 1.85981142e+00, 3.01586565e-01, 1.00000000e+00,\n",
       "        0.00000000e+00, 0.00000000e+00, 1.00000000e+00],\n",
       "       [3.77950193e+00, 1.08860008e-01, 4.26194152e+00, 1.00000000e+00,\n",
       "        0.00000000e+00, 0.00000000e+00, 1.00000000e+00],\n",
       "       [3.62593703e+01, 3.57391270e+00, 4.57034834e+00, 1.00000000e+00,\n",
       "        0.00000000e+00, 0.00000000e+00, 1.00000000e+00],\n",
       "       [1.98762276e+01, 3.98695812e+02, 9.99711243e-01, 1.00000000e+00,\n",
       "        0.00000000e+00, 0.00000000e+00, 1.00000000e+00],\n",
       "       [2.58128153e+01, 1.13956287e+02, 4.44849889e-01, 1.00000000e+00,\n",
       "        0.00000000e+00, 0.00000000e+00, 1.00000000e+00],\n",
       "       [1.45760351e+02, 5.31402185e-02, 1.13524183e+00, 1.00000000e+00,\n",
       "        0.00000000e+00, 0.00000000e+00, 1.00000000e+00],\n",
       "       [2.02775293e+00, 2.16861207e-01, 7.80129875e+00, 1.00000000e+00,\n",
       "        1.00000000e+00, 0.00000000e+00, 1.00000000e+00],\n",
       "       [6.72150720e+01, 6.69925971e+01, 7.99082001e+00, 1.00000000e+00,\n",
       "        0.00000000e+00, 0.00000000e+00, 0.00000000e+00],\n",
       "       [1.65678318e+01, 2.52578304e+00, 6.55562551e+00, 1.00000000e+00,\n",
       "        0.00000000e+00, 0.00000000e+00, 1.00000000e+00],\n",
       "       [1.68745855e+00, 1.15460695e+01, 6.12852895e+00, 0.00000000e+00,\n",
       "        0.00000000e+00, 0.00000000e+00, 1.00000000e+00],\n",
       "       [2.59057827e+01, 2.74904351e+00, 8.70017707e+00, 1.00000000e+00,\n",
       "        0.00000000e+00, 0.00000000e+00, 1.00000000e+00],\n",
       "       [9.08543366e+00, 1.30153989e+00, 1.03662802e+01, 1.00000000e+00,\n",
       "        0.00000000e+00, 0.00000000e+00, 1.00000000e+00],\n",
       "       [1.41077919e+00, 1.09335751e-01, 5.08531409e+00, 0.00000000e+00,\n",
       "        0.00000000e+00, 0.00000000e+00, 1.00000000e+00],\n",
       "       [1.56822651e+02, 2.84450256e+00, 2.09478744e+00, 1.00000000e+00,\n",
       "        0.00000000e+00, 0.00000000e+00, 1.00000000e+00],\n",
       "       [3.48801269e+00, 4.50134349e-01, 5.54849335e+00, 1.00000000e+00,\n",
       "        1.00000000e+00, 0.00000000e+00, 1.00000000e+00],\n",
       "       [1.71452497e+02, 2.77879937e-01, 5.50553209e-01, 1.00000000e+00,\n",
       "        0.00000000e+00, 0.00000000e+00, 1.00000000e+00],\n",
       "       [1.06060387e+02, 3.63547492e+00, 7.96890884e+00, 1.00000000e+00,\n",
       "        0.00000000e+00, 0.00000000e+00, 1.00000000e+00],\n",
       "       [1.39875909e+02, 1.16279747e+00, 2.85018064e+00, 1.00000000e+00,\n",
       "        0.00000000e+00, 0.00000000e+00, 1.00000000e+00],\n",
       "       [3.43164846e+00, 8.44631589e+01, 1.54006185e+00, 1.00000000e+00,\n",
       "        0.00000000e+00, 0.00000000e+00, 1.00000000e+00],\n",
       "       [1.67910729e+00, 8.70162220e+01, 9.90790953e-01, 0.00000000e+00,\n",
       "        1.00000000e+00, 0.00000000e+00, 1.00000000e+00],\n",
       "       [1.10675983e+01, 8.40536460e+01, 1.17191115e+00, 1.00000000e+00,\n",
       "        0.00000000e+00, 0.00000000e+00, 1.00000000e+00],\n",
       "       [6.32998798e+00, 3.43898977e-01, 4.04009266e+00, 1.00000000e+00,\n",
       "        0.00000000e+00, 0.00000000e+00, 1.00000000e+00],\n",
       "       [1.19094632e+01, 4.66015627e+00, 5.08279588e+00, 1.00000000e+00,\n",
       "        0.00000000e+00, 0.00000000e+00, 1.00000000e+00],\n",
       "       [4.18655879e+00, 4.11528134e-01, 1.07483187e+01, 1.00000000e+00,\n",
       "        1.00000000e+00, 0.00000000e+00, 1.00000000e+00],\n",
       "       [9.83075392e+00, 5.83904832e+01, 1.19452638e+00, 1.00000000e+00,\n",
       "        0.00000000e+00, 0.00000000e+00, 1.00000000e+00],\n",
       "       [1.14840337e+02, 4.42345323e-01, 5.17974635e-01, 1.00000000e+00,\n",
       "        0.00000000e+00, 0.00000000e+00, 1.00000000e+00],\n",
       "       [1.43101221e+02, 1.20297908e+01, 1.45332834e+00, 1.00000000e+00,\n",
       "        0.00000000e+00, 0.00000000e+00, 1.00000000e+00],\n",
       "       [2.19590528e+00, 3.17800952e-01, 4.48399208e+00, 1.00000000e+00,\n",
       "        1.00000000e+00, 0.00000000e+00, 1.00000000e+00],\n",
       "       [7.47677610e+00, 5.42739500e+01, 4.15436830e+00, 1.00000000e+00,\n",
       "        0.00000000e+00, 0.00000000e+00, 1.00000000e+00],\n",
       "       [1.54685232e+02, 2.64503230e-01, 4.34741119e+00, 1.00000000e+00,\n",
       "        0.00000000e+00, 1.00000000e+00, 1.00000000e+00],\n",
       "       [4.57341919e+00, 6.11756452e-01, 1.33256225e+01, 1.00000000e+00,\n",
       "        0.00000000e+00, 0.00000000e+00, 1.00000000e+00],\n",
       "       [1.10536873e+02, 1.91933149e+00, 1.57178448e+00, 1.00000000e+00,\n",
       "        0.00000000e+00, 0.00000000e+00, 1.00000000e+00],\n",
       "       [6.31251013e+00, 2.23226963e-01, 7.25033089e+00, 1.00000000e+00,\n",
       "        0.00000000e+00, 0.00000000e+00, 1.00000000e+00],\n",
       "       [2.85444169e+01, 1.23240281e+00, 1.14086326e+01, 1.00000000e+00,\n",
       "        1.00000000e+00, 0.00000000e+00, 1.00000000e+00],\n",
       "       [8.47635650e+00, 3.38615222e+00, 4.04858227e+00, 1.00000000e+00,\n",
       "        0.00000000e+00, 0.00000000e+00, 1.00000000e+00],\n",
       "       [1.50598058e+02, 8.39931331e-01, 9.27900801e-01, 1.00000000e+00,\n",
       "        0.00000000e+00, 0.00000000e+00, 1.00000000e+00],\n",
       "       [1.27437596e+01, 2.82366902e+01, 5.47255385e+00, 1.00000000e+00,\n",
       "        1.00000000e+00, 0.00000000e+00, 1.00000000e+00],\n",
       "       [9.70810204e+00, 2.27272989e+02, 4.10412734e+00, 1.00000000e+00,\n",
       "        1.00000000e+00, 0.00000000e+00, 1.00000000e+00],\n",
       "       [1.24050873e+02, 5.04757110e-01, 9.66173160e-01, 1.00000000e+00,\n",
       "        0.00000000e+00, 0.00000000e+00, 1.00000000e+00],\n",
       "       [3.46884684e+01, 1.15432401e+01, 7.90312033e+00, 1.00000000e+00,\n",
       "        1.00000000e+00, 0.00000000e+00, 1.00000000e+00],\n",
       "       [8.57976369e+00, 8.21155989e+00, 5.41481557e+00, 1.00000000e+00,\n",
       "        0.00000000e+00, 0.00000000e+00, 1.00000000e+00],\n",
       "       [3.25103077e+01, 3.58019089e+00, 8.09092223e+00, 1.00000000e+00,\n",
       "        0.00000000e+00, 0.00000000e+00, 1.00000000e+00],\n",
       "       [3.32630485e+02, 1.53210979e-01, 3.71879103e+00, 1.00000000e+00,\n",
       "        0.00000000e+00, 0.00000000e+00, 1.00000000e+00],\n",
       "       [3.86519900e+01, 5.02961596e+00, 5.92349389e+00, 1.00000000e+00,\n",
       "        1.00000000e+00, 0.00000000e+00, 1.00000000e+00],\n",
       "       [4.11328323e+01, 2.58492180e-02, 5.65420040e+00, 1.00000000e+00,\n",
       "        1.00000000e+00, 0.00000000e+00, 1.00000000e+00],\n",
       "       [2.06731205e+00, 6.59793512e-01, 4.91398803e+00, 1.00000000e+00,\n",
       "        1.00000000e+00, 0.00000000e+00, 1.00000000e+00],\n",
       "       [5.70544517e+00, 2.40075388e+00, 8.17820059e+00, 1.00000000e+00,\n",
       "        1.00000000e+00, 0.00000000e+00, 1.00000000e+00],\n",
       "       [2.94306719e+02, 1.04327786e+00, 1.37739016e+00, 1.00000000e+00,\n",
       "        0.00000000e+00, 0.00000000e+00, 1.00000000e+00],\n",
       "       [6.79199683e-01, 5.49152037e+01, 1.62206850e+00, 0.00000000e+00,\n",
       "        0.00000000e+00, 0.00000000e+00, 1.00000000e+00],\n",
       "       [1.82516103e+00, 3.65160270e+01, 6.82175780e+00, 0.00000000e+00,\n",
       "        1.00000000e+00, 0.00000000e+00, 1.00000000e+00],\n",
       "       [2.78861178e+02, 4.04943825e-01, 5.65997705e-01, 1.00000000e+00,\n",
       "        0.00000000e+00, 0.00000000e+00, 1.00000000e+00],\n",
       "       [1.07576149e+01, 4.80983682e-01, 4.23606809e+00, 1.00000000e+00,\n",
       "        0.00000000e+00, 0.00000000e+00, 1.00000000e+00],\n",
       "       [4.48804586e+00, 4.13470101e+00, 4.21299627e+00, 1.00000000e+00,\n",
       "        0.00000000e+00, 0.00000000e+00, 1.00000000e+00],\n",
       "       [1.26268348e+01, 8.27875198e-01, 4.51195025e+00, 1.00000000e+00,\n",
       "        1.00000000e+00, 0.00000000e+00, 1.00000000e+00],\n",
       "       [1.43763458e+02, 1.26213615e+00, 1.08997120e+00, 1.00000000e+00,\n",
       "        0.00000000e+00, 0.00000000e+00, 1.00000000e+00]])"
      ]
     },
     "execution_count": 62,
     "metadata": {},
     "output_type": "execute_result"
    }
   ],
   "source": [
    "X_attack"
   ]
  },
  {
   "cell_type": "code",
   "execution_count": null,
   "metadata": {},
   "outputs": [],
   "source": []
  },
  {
   "cell_type": "code",
   "execution_count": 63,
   "metadata": {},
   "outputs": [
    {
     "name": "stdout",
     "output_type": "stream",
     "text": [
      "Running attack for sample 1...\n",
      "Attack: HillClimbing: Relative cost: -2.008\n",
      "--------------------------------------------------\n",
      "Attack: SimulatedAnnealing: Relative cost: 0.367\n",
      "--------------------------------------------------\n",
      "Attack: TabuSearch: Relative cost: -1.738\n",
      "--------------------------------------------------\n",
      "Attack: GeneticAlgorithm: Relative cost: -0.076\n",
      "--------------------------------------------------\n",
      "Attack: ParticleSwarm: Relative cost: 0.002\n",
      "--------------------------------------------------\n",
      "Attack: DifferentialEvolution: Relative cost: 0.06\n",
      "--------------------------------------------------\n",
      "Attack: FireflyAlgorithm: Relative cost: 0.724\n",
      "--------------------------------------------------\n",
      "Attack: HarmonySearch: Relative cost: 0.286\n",
      "--------------------------------------------------\n",
      "Best model for sample 1: HillClimbing\n",
      "--------------------------------------------------\n",
      "Running attack for sample 2...\n",
      "Attack: HillClimbing: Relative cost: -0.523\n",
      "--------------------------------------------------\n",
      "Attack: SimulatedAnnealing: Relative cost: 0.04\n",
      "--------------------------------------------------\n",
      "Attack: TabuSearch: Relative cost: -1.427\n",
      "--------------------------------------------------\n",
      "Attack: GeneticAlgorithm: Relative cost: -0.085\n",
      "--------------------------------------------------\n",
      "Attack: ParticleSwarm: Relative cost: -0.124\n",
      "--------------------------------------------------\n",
      "Attack: DifferentialEvolution: Relative cost: 0.181\n",
      "--------------------------------------------------\n",
      "Attack: FireflyAlgorithm: Relative cost: -0.035\n",
      "--------------------------------------------------\n",
      "Attack: HarmonySearch: Relative cost: 0.131\n",
      "--------------------------------------------------\n",
      "Best model for sample 2: TabuSearch\n",
      "--------------------------------------------------\n",
      "Running attack for sample 3...\n",
      "Attack: HillClimbing: Relative cost: -6.108\n",
      "--------------------------------------------------\n",
      "Attack: SimulatedAnnealing: Relative cost: 0.43\n",
      "--------------------------------------------------\n",
      "Attack: TabuSearch: Relative cost: -6.079\n",
      "--------------------------------------------------\n",
      "Attack: GeneticAlgorithm: Relative cost: -0.682\n",
      "--------------------------------------------------\n",
      "Attack: ParticleSwarm: Relative cost: 0.085\n",
      "--------------------------------------------------\n",
      "Attack: DifferentialEvolution: Relative cost: 0.105\n",
      "--------------------------------------------------\n",
      "Attack: FireflyAlgorithm: Relative cost: -0.168\n",
      "--------------------------------------------------\n",
      "Attack: HarmonySearch: Relative cost: 0.711\n",
      "--------------------------------------------------\n",
      "Best model for sample 3: HillClimbing\n",
      "--------------------------------------------------\n",
      "Running attack for sample 4...\n",
      "Attack: HillClimbing: Relative cost: -3.702\n",
      "--------------------------------------------------\n",
      "Attack: SimulatedAnnealing: Relative cost: 0.406\n",
      "--------------------------------------------------\n",
      "Attack: TabuSearch: Relative cost: -3.705\n",
      "--------------------------------------------------\n",
      "Attack: GeneticAlgorithm: Relative cost: -0.247\n",
      "--------------------------------------------------\n",
      "Attack: ParticleSwarm: Relative cost: -0.322\n",
      "--------------------------------------------------\n",
      "Attack: DifferentialEvolution: Relative cost: -0.177\n",
      "--------------------------------------------------\n",
      "Attack: FireflyAlgorithm: Relative cost: 0.063\n",
      "--------------------------------------------------\n",
      "Attack: HarmonySearch: Relative cost: 0.256\n",
      "--------------------------------------------------\n",
      "Best model for sample 4: TabuSearch\n",
      "--------------------------------------------------\n",
      "Running attack for sample 5...\n",
      "Attack: HillClimbing: Relative cost: -6.3\n",
      "--------------------------------------------------\n",
      "Attack: SimulatedAnnealing: Relative cost: -0.825\n",
      "--------------------------------------------------\n",
      "Attack: TabuSearch: Relative cost: -6.337\n",
      "--------------------------------------------------\n",
      "Attack: GeneticAlgorithm: Relative cost: 0.077\n",
      "--------------------------------------------------\n",
      "Attack: ParticleSwarm: Relative cost: -0.788\n",
      "--------------------------------------------------\n",
      "Attack: DifferentialEvolution: Relative cost: -0.013\n",
      "--------------------------------------------------\n",
      "Attack: FireflyAlgorithm: Relative cost: 0.034\n",
      "--------------------------------------------------\n",
      "Attack: HarmonySearch: Relative cost: 0.039\n",
      "--------------------------------------------------\n",
      "Best model for sample 5: TabuSearch\n",
      "--------------------------------------------------\n",
      "Running attack for sample 6...\n",
      "Error in HillClimbing for sample 6: This is embarrassing... The final sample is not adversarial!\n",
      "Attack: SimulatedAnnealing: Relative cost: -0.165\n",
      "--------------------------------------------------\n",
      "Attack: TabuSearch: Relative cost: -3.273\n",
      "--------------------------------------------------\n",
      "Attack: GeneticAlgorithm: Relative cost: -0.077\n",
      "--------------------------------------------------\n",
      "Attack: ParticleSwarm: Relative cost: 0.825\n",
      "--------------------------------------------------\n",
      "Attack: DifferentialEvolution: Relative cost: -0.108\n",
      "--------------------------------------------------\n",
      "Attack: FireflyAlgorithm: Relative cost: 0.059\n",
      "--------------------------------------------------\n",
      "Attack: HarmonySearch: Relative cost: 0.964\n",
      "--------------------------------------------------\n",
      "Best model for sample 6: TabuSearch\n",
      "--------------------------------------------------\n",
      "Running attack for sample 7...\n",
      "Radar Warning: The number of trials exceeded 10% of maximum generation trials. Found 0 valid samples.\n",
      "Radar Warning: The number of trials exceeded 25% of maximum generation trials. Found 0 valid samples.\n",
      "Radar Warning: The number of trials exceeded 50% of maximum generation trials. Found 0 valid samples.\n",
      "Error in HillClimbing for sample 7: RADAR: No valid sample satisfied the constraints after 1000 trials.\n",
      "Radar Warning: The number of trials exceeded 10% of maximum generation trials. Found 0 valid samples.\n",
      "Radar Warning: The number of trials exceeded 25% of maximum generation trials. Found 0 valid samples.\n",
      "Radar Warning: The number of trials exceeded 50% of maximum generation trials. Found 0 valid samples.\n",
      "Error in SimulatedAnnealing for sample 7: RADAR: No valid sample satisfied the constraints after 1000 trials.\n",
      "Radar Warning: The number of trials exceeded 10% of maximum generation trials. Found 0 valid samples.\n",
      "Radar Warning: The number of trials exceeded 25% of maximum generation trials. Found 0 valid samples.\n",
      "Radar Warning: The number of trials exceeded 50% of maximum generation trials. Found 0 valid samples.\n",
      "Error in TabuSearch for sample 7: RADAR: No valid sample satisfied the constraints after 1000 trials.\n",
      "Error in GeneticAlgorithm for sample 7: Expected 2D array, got 1D array instead:\n",
      "array=[].\n",
      "Reshape your data either using array.reshape(-1, 1) if your data has a single feature or array.reshape(1, -1) if it contains a single sample.\n",
      "Error in ParticleSwarm for sample 7: Expected 2D array, got 1D array instead:\n",
      "array=[].\n",
      "Reshape your data either using array.reshape(-1, 1) if your data has a single feature or array.reshape(1, -1) if it contains a single sample.\n",
      "Error in DifferentialEvolution for sample 7: Expected 2D array, got 1D array instead:\n",
      "array=[].\n",
      "Reshape your data either using array.reshape(-1, 1) if your data has a single feature or array.reshape(1, -1) if it contains a single sample.\n",
      "Error in FireflyAlgorithm for sample 7: Expected 2D array, got 1D array instead:\n",
      "array=[].\n",
      "Reshape your data either using array.reshape(-1, 1) if your data has a single feature or array.reshape(1, -1) if it contains a single sample.\n",
      "Error in HarmonySearch for sample 7: Expected 2D array, got 1D array instead:\n",
      "array=[].\n",
      "Reshape your data either using array.reshape(-1, 1) if your data has a single feature or array.reshape(1, -1) if it contains a single sample.\n",
      "Best model for sample 7: None\n",
      "--------------------------------------------------\n",
      "Running attack for sample 8...\n",
      "Error in HillClimbing for sample 8: Expected 2D array, got 1D array instead:\n",
      "array=[].\n",
      "Reshape your data either using array.reshape(-1, 1) if your data has a single feature or array.reshape(1, -1) if it contains a single sample.\n",
      "Error in SimulatedAnnealing for sample 8: Expected 2D array, got 1D array instead:\n",
      "array=[].\n",
      "Reshape your data either using array.reshape(-1, 1) if your data has a single feature or array.reshape(1, -1) if it contains a single sample.\n",
      "Error in TabuSearch for sample 8: Expected 2D array, got 1D array instead:\n",
      "array=[].\n",
      "Reshape your data either using array.reshape(-1, 1) if your data has a single feature or array.reshape(1, -1) if it contains a single sample.\n",
      "Error in GeneticAlgorithm for sample 8: Expected 2D array, got 1D array instead:\n",
      "array=[].\n",
      "Reshape your data either using array.reshape(-1, 1) if your data has a single feature or array.reshape(1, -1) if it contains a single sample.\n",
      "Error in ParticleSwarm for sample 8: Expected 2D array, got 1D array instead:\n",
      "array=[].\n",
      "Reshape your data either using array.reshape(-1, 1) if your data has a single feature or array.reshape(1, -1) if it contains a single sample.\n",
      "Error in DifferentialEvolution for sample 8: Expected 2D array, got 1D array instead:\n",
      "array=[].\n",
      "Reshape your data either using array.reshape(-1, 1) if your data has a single feature or array.reshape(1, -1) if it contains a single sample.\n",
      "Error in FireflyAlgorithm for sample 8: Expected 2D array, got 1D array instead:\n",
      "array=[].\n",
      "Reshape your data either using array.reshape(-1, 1) if your data has a single feature or array.reshape(1, -1) if it contains a single sample.\n",
      "Error in HarmonySearch for sample 8: Expected 2D array, got 1D array instead:\n",
      "array=[].\n",
      "Reshape your data either using array.reshape(-1, 1) if your data has a single feature or array.reshape(1, -1) if it contains a single sample.\n",
      "Best model for sample 8: None\n",
      "--------------------------------------------------\n",
      "Running attack for sample 9...\n",
      "Error in HillClimbing for sample 9: Expected 2D array, got 1D array instead:\n",
      "array=[].\n",
      "Reshape your data either using array.reshape(-1, 1) if your data has a single feature or array.reshape(1, -1) if it contains a single sample.\n",
      "Error in SimulatedAnnealing for sample 9: Expected 2D array, got 1D array instead:\n",
      "array=[].\n",
      "Reshape your data either using array.reshape(-1, 1) if your data has a single feature or array.reshape(1, -1) if it contains a single sample.\n",
      "Error in TabuSearch for sample 9: Expected 2D array, got 1D array instead:\n",
      "array=[].\n",
      "Reshape your data either using array.reshape(-1, 1) if your data has a single feature or array.reshape(1, -1) if it contains a single sample.\n",
      "Error in GeneticAlgorithm for sample 9: Expected 2D array, got 1D array instead:\n",
      "array=[].\n",
      "Reshape your data either using array.reshape(-1, 1) if your data has a single feature or array.reshape(1, -1) if it contains a single sample.\n",
      "Error in ParticleSwarm for sample 9: Expected 2D array, got 1D array instead:\n",
      "array=[].\n",
      "Reshape your data either using array.reshape(-1, 1) if your data has a single feature or array.reshape(1, -1) if it contains a single sample.\n",
      "Error in DifferentialEvolution for sample 9: Expected 2D array, got 1D array instead:\n",
      "array=[].\n",
      "Reshape your data either using array.reshape(-1, 1) if your data has a single feature or array.reshape(1, -1) if it contains a single sample.\n",
      "Error in FireflyAlgorithm for sample 9: Expected 2D array, got 1D array instead:\n",
      "array=[].\n",
      "Reshape your data either using array.reshape(-1, 1) if your data has a single feature or array.reshape(1, -1) if it contains a single sample.\n",
      "Error in HarmonySearch for sample 9: Expected 2D array, got 1D array instead:\n",
      "array=[].\n",
      "Reshape your data either using array.reshape(-1, 1) if your data has a single feature or array.reshape(1, -1) if it contains a single sample.\n",
      "Best model for sample 9: None\n",
      "--------------------------------------------------\n",
      "Running attack for sample 10...\n",
      "Error in HillClimbing for sample 10: Expected 2D array, got 1D array instead:\n",
      "array=[].\n",
      "Reshape your data either using array.reshape(-1, 1) if your data has a single feature or array.reshape(1, -1) if it contains a single sample.\n",
      "Error in SimulatedAnnealing for sample 10: Expected 2D array, got 1D array instead:\n",
      "array=[].\n",
      "Reshape your data either using array.reshape(-1, 1) if your data has a single feature or array.reshape(1, -1) if it contains a single sample.\n",
      "Error in TabuSearch for sample 10: Expected 2D array, got 1D array instead:\n",
      "array=[].\n",
      "Reshape your data either using array.reshape(-1, 1) if your data has a single feature or array.reshape(1, -1) if it contains a single sample.\n",
      "Error in GeneticAlgorithm for sample 10: Expected 2D array, got 1D array instead:\n",
      "array=[].\n",
      "Reshape your data either using array.reshape(-1, 1) if your data has a single feature or array.reshape(1, -1) if it contains a single sample.\n",
      "Error in ParticleSwarm for sample 10: Expected 2D array, got 1D array instead:\n",
      "array=[].\n",
      "Reshape your data either using array.reshape(-1, 1) if your data has a single feature or array.reshape(1, -1) if it contains a single sample.\n",
      "Error in DifferentialEvolution for sample 10: Expected 2D array, got 1D array instead:\n",
      "array=[].\n",
      "Reshape your data either using array.reshape(-1, 1) if your data has a single feature or array.reshape(1, -1) if it contains a single sample.\n",
      "Error in FireflyAlgorithm for sample 10: Expected 2D array, got 1D array instead:\n",
      "array=[].\n",
      "Reshape your data either using array.reshape(-1, 1) if your data has a single feature or array.reshape(1, -1) if it contains a single sample.\n",
      "Error in HarmonySearch for sample 10: Expected 2D array, got 1D array instead:\n",
      "array=[].\n",
      "Reshape your data either using array.reshape(-1, 1) if your data has a single feature or array.reshape(1, -1) if it contains a single sample.\n",
      "Best model for sample 10: None\n",
      "--------------------------------------------------\n",
      "Running attack for sample 11...\n",
      "Error in HillClimbing for sample 11: Expected 2D array, got 1D array instead:\n",
      "array=[].\n",
      "Reshape your data either using array.reshape(-1, 1) if your data has a single feature or array.reshape(1, -1) if it contains a single sample.\n",
      "Error in SimulatedAnnealing for sample 11: Expected 2D array, got 1D array instead:\n",
      "array=[].\n",
      "Reshape your data either using array.reshape(-1, 1) if your data has a single feature or array.reshape(1, -1) if it contains a single sample.\n",
      "Error in TabuSearch for sample 11: Expected 2D array, got 1D array instead:\n",
      "array=[].\n",
      "Reshape your data either using array.reshape(-1, 1) if your data has a single feature or array.reshape(1, -1) if it contains a single sample.\n",
      "Error in GeneticAlgorithm for sample 11: Expected 2D array, got 1D array instead:\n",
      "array=[].\n",
      "Reshape your data either using array.reshape(-1, 1) if your data has a single feature or array.reshape(1, -1) if it contains a single sample.\n",
      "Error in ParticleSwarm for sample 11: Expected 2D array, got 1D array instead:\n",
      "array=[].\n",
      "Reshape your data either using array.reshape(-1, 1) if your data has a single feature or array.reshape(1, -1) if it contains a single sample.\n",
      "Error in DifferentialEvolution for sample 11: Expected 2D array, got 1D array instead:\n",
      "array=[].\n",
      "Reshape your data either using array.reshape(-1, 1) if your data has a single feature or array.reshape(1, -1) if it contains a single sample.\n",
      "Error in FireflyAlgorithm for sample 11: Expected 2D array, got 1D array instead:\n",
      "array=[].\n",
      "Reshape your data either using array.reshape(-1, 1) if your data has a single feature or array.reshape(1, -1) if it contains a single sample.\n",
      "Error in HarmonySearch for sample 11: Expected 2D array, got 1D array instead:\n",
      "array=[].\n",
      "Reshape your data either using array.reshape(-1, 1) if your data has a single feature or array.reshape(1, -1) if it contains a single sample.\n",
      "Best model for sample 11: None\n",
      "--------------------------------------------------\n",
      "Running attack for sample 12...\n",
      "Error in HillClimbing for sample 12: Expected 2D array, got 1D array instead:\n",
      "array=[].\n",
      "Reshape your data either using array.reshape(-1, 1) if your data has a single feature or array.reshape(1, -1) if it contains a single sample.\n",
      "Error in SimulatedAnnealing for sample 12: Expected 2D array, got 1D array instead:\n",
      "array=[].\n",
      "Reshape your data either using array.reshape(-1, 1) if your data has a single feature or array.reshape(1, -1) if it contains a single sample.\n",
      "Error in TabuSearch for sample 12: Expected 2D array, got 1D array instead:\n",
      "array=[].\n",
      "Reshape your data either using array.reshape(-1, 1) if your data has a single feature or array.reshape(1, -1) if it contains a single sample.\n",
      "Error in GeneticAlgorithm for sample 12: Expected 2D array, got 1D array instead:\n",
      "array=[].\n",
      "Reshape your data either using array.reshape(-1, 1) if your data has a single feature or array.reshape(1, -1) if it contains a single sample.\n",
      "Error in ParticleSwarm for sample 12: Expected 2D array, got 1D array instead:\n",
      "array=[].\n",
      "Reshape your data either using array.reshape(-1, 1) if your data has a single feature or array.reshape(1, -1) if it contains a single sample.\n",
      "Error in DifferentialEvolution for sample 12: Expected 2D array, got 1D array instead:\n",
      "array=[].\n",
      "Reshape your data either using array.reshape(-1, 1) if your data has a single feature or array.reshape(1, -1) if it contains a single sample.\n",
      "Error in FireflyAlgorithm for sample 12: Expected 2D array, got 1D array instead:\n",
      "array=[].\n",
      "Reshape your data either using array.reshape(-1, 1) if your data has a single feature or array.reshape(1, -1) if it contains a single sample.\n",
      "Error in HarmonySearch for sample 12: Expected 2D array, got 1D array instead:\n",
      "array=[].\n",
      "Reshape your data either using array.reshape(-1, 1) if your data has a single feature or array.reshape(1, -1) if it contains a single sample.\n",
      "Best model for sample 12: None\n",
      "--------------------------------------------------\n",
      "Running attack for sample 13...\n",
      "Error in HillClimbing for sample 13: Expected 2D array, got 1D array instead:\n",
      "array=[].\n",
      "Reshape your data either using array.reshape(-1, 1) if your data has a single feature or array.reshape(1, -1) if it contains a single sample.\n",
      "Error in SimulatedAnnealing for sample 13: Expected 2D array, got 1D array instead:\n",
      "array=[].\n",
      "Reshape your data either using array.reshape(-1, 1) if your data has a single feature or array.reshape(1, -1) if it contains a single sample.\n",
      "Error in TabuSearch for sample 13: Expected 2D array, got 1D array instead:\n",
      "array=[].\n",
      "Reshape your data either using array.reshape(-1, 1) if your data has a single feature or array.reshape(1, -1) if it contains a single sample.\n",
      "Error in GeneticAlgorithm for sample 13: Expected 2D array, got 1D array instead:\n",
      "array=[].\n",
      "Reshape your data either using array.reshape(-1, 1) if your data has a single feature or array.reshape(1, -1) if it contains a single sample.\n",
      "Error in ParticleSwarm for sample 13: Expected 2D array, got 1D array instead:\n",
      "array=[].\n",
      "Reshape your data either using array.reshape(-1, 1) if your data has a single feature or array.reshape(1, -1) if it contains a single sample.\n",
      "Error in DifferentialEvolution for sample 13: Expected 2D array, got 1D array instead:\n",
      "array=[].\n",
      "Reshape your data either using array.reshape(-1, 1) if your data has a single feature or array.reshape(1, -1) if it contains a single sample.\n",
      "Error in FireflyAlgorithm for sample 13: Expected 2D array, got 1D array instead:\n",
      "array=[].\n",
      "Reshape your data either using array.reshape(-1, 1) if your data has a single feature or array.reshape(1, -1) if it contains a single sample.\n",
      "Error in HarmonySearch for sample 13: Expected 2D array, got 1D array instead:\n",
      "array=[].\n",
      "Reshape your data either using array.reshape(-1, 1) if your data has a single feature or array.reshape(1, -1) if it contains a single sample.\n",
      "Best model for sample 13: None\n",
      "--------------------------------------------------\n",
      "Running attack for sample 14...\n",
      "Error in HillClimbing for sample 14: Expected 2D array, got 1D array instead:\n",
      "array=[].\n",
      "Reshape your data either using array.reshape(-1, 1) if your data has a single feature or array.reshape(1, -1) if it contains a single sample.\n",
      "Error in SimulatedAnnealing for sample 14: Expected 2D array, got 1D array instead:\n",
      "array=[].\n",
      "Reshape your data either using array.reshape(-1, 1) if your data has a single feature or array.reshape(1, -1) if it contains a single sample.\n",
      "Error in TabuSearch for sample 14: Expected 2D array, got 1D array instead:\n",
      "array=[].\n",
      "Reshape your data either using array.reshape(-1, 1) if your data has a single feature or array.reshape(1, -1) if it contains a single sample.\n",
      "Error in GeneticAlgorithm for sample 14: Expected 2D array, got 1D array instead:\n",
      "array=[].\n",
      "Reshape your data either using array.reshape(-1, 1) if your data has a single feature or array.reshape(1, -1) if it contains a single sample.\n",
      "Error in ParticleSwarm for sample 14: Expected 2D array, got 1D array instead:\n",
      "array=[].\n",
      "Reshape your data either using array.reshape(-1, 1) if your data has a single feature or array.reshape(1, -1) if it contains a single sample.\n",
      "Error in DifferentialEvolution for sample 14: Expected 2D array, got 1D array instead:\n",
      "array=[].\n",
      "Reshape your data either using array.reshape(-1, 1) if your data has a single feature or array.reshape(1, -1) if it contains a single sample.\n",
      "Error in FireflyAlgorithm for sample 14: Expected 2D array, got 1D array instead:\n",
      "array=[].\n",
      "Reshape your data either using array.reshape(-1, 1) if your data has a single feature or array.reshape(1, -1) if it contains a single sample.\n",
      "Error in HarmonySearch for sample 14: Expected 2D array, got 1D array instead:\n",
      "array=[].\n",
      "Reshape your data either using array.reshape(-1, 1) if your data has a single feature or array.reshape(1, -1) if it contains a single sample.\n",
      "Best model for sample 14: None\n",
      "--------------------------------------------------\n",
      "Running attack for sample 15...\n",
      "Error in HillClimbing for sample 15: Expected 2D array, got 1D array instead:\n",
      "array=[].\n",
      "Reshape your data either using array.reshape(-1, 1) if your data has a single feature or array.reshape(1, -1) if it contains a single sample.\n",
      "Error in SimulatedAnnealing for sample 15: Expected 2D array, got 1D array instead:\n",
      "array=[].\n",
      "Reshape your data either using array.reshape(-1, 1) if your data has a single feature or array.reshape(1, -1) if it contains a single sample.\n",
      "Error in TabuSearch for sample 15: Expected 2D array, got 1D array instead:\n",
      "array=[].\n",
      "Reshape your data either using array.reshape(-1, 1) if your data has a single feature or array.reshape(1, -1) if it contains a single sample.\n",
      "Error in GeneticAlgorithm for sample 15: Expected 2D array, got 1D array instead:\n",
      "array=[].\n",
      "Reshape your data either using array.reshape(-1, 1) if your data has a single feature or array.reshape(1, -1) if it contains a single sample.\n",
      "Error in ParticleSwarm for sample 15: Expected 2D array, got 1D array instead:\n",
      "array=[].\n",
      "Reshape your data either using array.reshape(-1, 1) if your data has a single feature or array.reshape(1, -1) if it contains a single sample.\n",
      "Error in DifferentialEvolution for sample 15: Expected 2D array, got 1D array instead:\n",
      "array=[].\n",
      "Reshape your data either using array.reshape(-1, 1) if your data has a single feature or array.reshape(1, -1) if it contains a single sample.\n",
      "Error in FireflyAlgorithm for sample 15: Expected 2D array, got 1D array instead:\n",
      "array=[].\n",
      "Reshape your data either using array.reshape(-1, 1) if your data has a single feature or array.reshape(1, -1) if it contains a single sample.\n",
      "Error in HarmonySearch for sample 15: Expected 2D array, got 1D array instead:\n",
      "array=[].\n",
      "Reshape your data either using array.reshape(-1, 1) if your data has a single feature or array.reshape(1, -1) if it contains a single sample.\n",
      "Best model for sample 15: None\n",
      "--------------------------------------------------\n",
      "Running attack for sample 16...\n",
      "Error in HillClimbing for sample 16: Expected 2D array, got 1D array instead:\n",
      "array=[].\n",
      "Reshape your data either using array.reshape(-1, 1) if your data has a single feature or array.reshape(1, -1) if it contains a single sample.\n",
      "Error in SimulatedAnnealing for sample 16: Expected 2D array, got 1D array instead:\n",
      "array=[].\n",
      "Reshape your data either using array.reshape(-1, 1) if your data has a single feature or array.reshape(1, -1) if it contains a single sample.\n",
      "Error in TabuSearch for sample 16: Expected 2D array, got 1D array instead:\n",
      "array=[].\n",
      "Reshape your data either using array.reshape(-1, 1) if your data has a single feature or array.reshape(1, -1) if it contains a single sample.\n",
      "Error in GeneticAlgorithm for sample 16: Expected 2D array, got 1D array instead:\n",
      "array=[].\n",
      "Reshape your data either using array.reshape(-1, 1) if your data has a single feature or array.reshape(1, -1) if it contains a single sample.\n",
      "Error in ParticleSwarm for sample 16: Expected 2D array, got 1D array instead:\n",
      "array=[].\n",
      "Reshape your data either using array.reshape(-1, 1) if your data has a single feature or array.reshape(1, -1) if it contains a single sample.\n",
      "Error in DifferentialEvolution for sample 16: Expected 2D array, got 1D array instead:\n",
      "array=[].\n",
      "Reshape your data either using array.reshape(-1, 1) if your data has a single feature or array.reshape(1, -1) if it contains a single sample.\n",
      "Error in FireflyAlgorithm for sample 16: Expected 2D array, got 1D array instead:\n",
      "array=[].\n",
      "Reshape your data either using array.reshape(-1, 1) if your data has a single feature or array.reshape(1, -1) if it contains a single sample.\n",
      "Error in HarmonySearch for sample 16: Expected 2D array, got 1D array instead:\n",
      "array=[].\n",
      "Reshape your data either using array.reshape(-1, 1) if your data has a single feature or array.reshape(1, -1) if it contains a single sample.\n",
      "Best model for sample 16: None\n",
      "--------------------------------------------------\n",
      "Running attack for sample 17...\n",
      "Error in HillClimbing for sample 17: Expected 2D array, got 1D array instead:\n",
      "array=[].\n",
      "Reshape your data either using array.reshape(-1, 1) if your data has a single feature or array.reshape(1, -1) if it contains a single sample.\n",
      "Error in SimulatedAnnealing for sample 17: Expected 2D array, got 1D array instead:\n",
      "array=[].\n",
      "Reshape your data either using array.reshape(-1, 1) if your data has a single feature or array.reshape(1, -1) if it contains a single sample.\n",
      "Error in TabuSearch for sample 17: Expected 2D array, got 1D array instead:\n",
      "array=[].\n",
      "Reshape your data either using array.reshape(-1, 1) if your data has a single feature or array.reshape(1, -1) if it contains a single sample.\n",
      "Error in GeneticAlgorithm for sample 17: Expected 2D array, got 1D array instead:\n",
      "array=[].\n",
      "Reshape your data either using array.reshape(-1, 1) if your data has a single feature or array.reshape(1, -1) if it contains a single sample.\n",
      "Error in ParticleSwarm for sample 17: Expected 2D array, got 1D array instead:\n",
      "array=[].\n",
      "Reshape your data either using array.reshape(-1, 1) if your data has a single feature or array.reshape(1, -1) if it contains a single sample.\n",
      "Error in DifferentialEvolution for sample 17: Expected 2D array, got 1D array instead:\n",
      "array=[].\n",
      "Reshape your data either using array.reshape(-1, 1) if your data has a single feature or array.reshape(1, -1) if it contains a single sample.\n",
      "Error in FireflyAlgorithm for sample 17: Expected 2D array, got 1D array instead:\n",
      "array=[].\n",
      "Reshape your data either using array.reshape(-1, 1) if your data has a single feature or array.reshape(1, -1) if it contains a single sample.\n",
      "Error in HarmonySearch for sample 17: Expected 2D array, got 1D array instead:\n",
      "array=[].\n",
      "Reshape your data either using array.reshape(-1, 1) if your data has a single feature or array.reshape(1, -1) if it contains a single sample.\n",
      "Best model for sample 17: None\n",
      "--------------------------------------------------\n",
      "Running attack for sample 18...\n",
      "Error in HillClimbing for sample 18: Expected 2D array, got 1D array instead:\n",
      "array=[].\n",
      "Reshape your data either using array.reshape(-1, 1) if your data has a single feature or array.reshape(1, -1) if it contains a single sample.\n",
      "Error in SimulatedAnnealing for sample 18: Expected 2D array, got 1D array instead:\n",
      "array=[].\n",
      "Reshape your data either using array.reshape(-1, 1) if your data has a single feature or array.reshape(1, -1) if it contains a single sample.\n",
      "Error in TabuSearch for sample 18: Expected 2D array, got 1D array instead:\n",
      "array=[].\n",
      "Reshape your data either using array.reshape(-1, 1) if your data has a single feature or array.reshape(1, -1) if it contains a single sample.\n",
      "Error in GeneticAlgorithm for sample 18: Expected 2D array, got 1D array instead:\n",
      "array=[].\n",
      "Reshape your data either using array.reshape(-1, 1) if your data has a single feature or array.reshape(1, -1) if it contains a single sample.\n",
      "Error in ParticleSwarm for sample 18: Expected 2D array, got 1D array instead:\n",
      "array=[].\n",
      "Reshape your data either using array.reshape(-1, 1) if your data has a single feature or array.reshape(1, -1) if it contains a single sample.\n",
      "Error in DifferentialEvolution for sample 18: Expected 2D array, got 1D array instead:\n",
      "array=[].\n",
      "Reshape your data either using array.reshape(-1, 1) if your data has a single feature or array.reshape(1, -1) if it contains a single sample.\n",
      "Error in FireflyAlgorithm for sample 18: Expected 2D array, got 1D array instead:\n",
      "array=[].\n",
      "Reshape your data either using array.reshape(-1, 1) if your data has a single feature or array.reshape(1, -1) if it contains a single sample.\n",
      "Error in HarmonySearch for sample 18: Expected 2D array, got 1D array instead:\n",
      "array=[].\n",
      "Reshape your data either using array.reshape(-1, 1) if your data has a single feature or array.reshape(1, -1) if it contains a single sample.\n",
      "Best model for sample 18: None\n",
      "--------------------------------------------------\n",
      "Running attack for sample 19...\n",
      "Error in HillClimbing for sample 19: Expected 2D array, got 1D array instead:\n",
      "array=[].\n",
      "Reshape your data either using array.reshape(-1, 1) if your data has a single feature or array.reshape(1, -1) if it contains a single sample.\n",
      "Error in SimulatedAnnealing for sample 19: Expected 2D array, got 1D array instead:\n",
      "array=[].\n",
      "Reshape your data either using array.reshape(-1, 1) if your data has a single feature or array.reshape(1, -1) if it contains a single sample.\n",
      "Error in TabuSearch for sample 19: Expected 2D array, got 1D array instead:\n",
      "array=[].\n",
      "Reshape your data either using array.reshape(-1, 1) if your data has a single feature or array.reshape(1, -1) if it contains a single sample.\n",
      "Error in GeneticAlgorithm for sample 19: Expected 2D array, got 1D array instead:\n",
      "array=[].\n",
      "Reshape your data either using array.reshape(-1, 1) if your data has a single feature or array.reshape(1, -1) if it contains a single sample.\n",
      "Error in ParticleSwarm for sample 19: Expected 2D array, got 1D array instead:\n",
      "array=[].\n",
      "Reshape your data either using array.reshape(-1, 1) if your data has a single feature or array.reshape(1, -1) if it contains a single sample.\n",
      "Error in DifferentialEvolution for sample 19: Expected 2D array, got 1D array instead:\n",
      "array=[].\n",
      "Reshape your data either using array.reshape(-1, 1) if your data has a single feature or array.reshape(1, -1) if it contains a single sample.\n",
      "Error in FireflyAlgorithm for sample 19: Expected 2D array, got 1D array instead:\n",
      "array=[].\n",
      "Reshape your data either using array.reshape(-1, 1) if your data has a single feature or array.reshape(1, -1) if it contains a single sample.\n",
      "Error in HarmonySearch for sample 19: Expected 2D array, got 1D array instead:\n",
      "array=[].\n",
      "Reshape your data either using array.reshape(-1, 1) if your data has a single feature or array.reshape(1, -1) if it contains a single sample.\n",
      "Best model for sample 19: None\n",
      "--------------------------------------------------\n",
      "Running attack for sample 20...\n",
      "Error in HillClimbing for sample 20: Expected 2D array, got 1D array instead:\n",
      "array=[].\n",
      "Reshape your data either using array.reshape(-1, 1) if your data has a single feature or array.reshape(1, -1) if it contains a single sample.\n",
      "Error in SimulatedAnnealing for sample 20: Expected 2D array, got 1D array instead:\n",
      "array=[].\n",
      "Reshape your data either using array.reshape(-1, 1) if your data has a single feature or array.reshape(1, -1) if it contains a single sample.\n",
      "Error in TabuSearch for sample 20: Expected 2D array, got 1D array instead:\n",
      "array=[].\n",
      "Reshape your data either using array.reshape(-1, 1) if your data has a single feature or array.reshape(1, -1) if it contains a single sample.\n",
      "Error in GeneticAlgorithm for sample 20: Expected 2D array, got 1D array instead:\n",
      "array=[].\n",
      "Reshape your data either using array.reshape(-1, 1) if your data has a single feature or array.reshape(1, -1) if it contains a single sample.\n",
      "Error in ParticleSwarm for sample 20: Expected 2D array, got 1D array instead:\n",
      "array=[].\n",
      "Reshape your data either using array.reshape(-1, 1) if your data has a single feature or array.reshape(1, -1) if it contains a single sample.\n",
      "Error in DifferentialEvolution for sample 20: Expected 2D array, got 1D array instead:\n",
      "array=[].\n",
      "Reshape your data either using array.reshape(-1, 1) if your data has a single feature or array.reshape(1, -1) if it contains a single sample.\n",
      "Error in FireflyAlgorithm for sample 20: Expected 2D array, got 1D array instead:\n",
      "array=[].\n",
      "Reshape your data either using array.reshape(-1, 1) if your data has a single feature or array.reshape(1, -1) if it contains a single sample.\n",
      "Error in HarmonySearch for sample 20: Expected 2D array, got 1D array instead:\n",
      "array=[].\n",
      "Reshape your data either using array.reshape(-1, 1) if your data has a single feature or array.reshape(1, -1) if it contains a single sample.\n",
      "Best model for sample 20: None\n",
      "--------------------------------------------------\n",
      "Running attack for sample 21...\n",
      "Error in HillClimbing for sample 21: Expected 2D array, got 1D array instead:\n",
      "array=[].\n",
      "Reshape your data either using array.reshape(-1, 1) if your data has a single feature or array.reshape(1, -1) if it contains a single sample.\n",
      "Error in SimulatedAnnealing for sample 21: Expected 2D array, got 1D array instead:\n",
      "array=[].\n",
      "Reshape your data either using array.reshape(-1, 1) if your data has a single feature or array.reshape(1, -1) if it contains a single sample.\n",
      "Error in TabuSearch for sample 21: Expected 2D array, got 1D array instead:\n",
      "array=[].\n",
      "Reshape your data either using array.reshape(-1, 1) if your data has a single feature or array.reshape(1, -1) if it contains a single sample.\n",
      "Error in GeneticAlgorithm for sample 21: Expected 2D array, got 1D array instead:\n",
      "array=[].\n",
      "Reshape your data either using array.reshape(-1, 1) if your data has a single feature or array.reshape(1, -1) if it contains a single sample.\n",
      "Error in ParticleSwarm for sample 21: Expected 2D array, got 1D array instead:\n",
      "array=[].\n",
      "Reshape your data either using array.reshape(-1, 1) if your data has a single feature or array.reshape(1, -1) if it contains a single sample.\n",
      "Error in DifferentialEvolution for sample 21: Expected 2D array, got 1D array instead:\n",
      "array=[].\n",
      "Reshape your data either using array.reshape(-1, 1) if your data has a single feature or array.reshape(1, -1) if it contains a single sample.\n",
      "Error in FireflyAlgorithm for sample 21: Expected 2D array, got 1D array instead:\n",
      "array=[].\n",
      "Reshape your data either using array.reshape(-1, 1) if your data has a single feature or array.reshape(1, -1) if it contains a single sample.\n",
      "Error in HarmonySearch for sample 21: Expected 2D array, got 1D array instead:\n",
      "array=[].\n",
      "Reshape your data either using array.reshape(-1, 1) if your data has a single feature or array.reshape(1, -1) if it contains a single sample.\n",
      "Best model for sample 21: None\n",
      "--------------------------------------------------\n",
      "Running attack for sample 22...\n",
      "Error in HillClimbing for sample 22: Expected 2D array, got 1D array instead:\n",
      "array=[].\n",
      "Reshape your data either using array.reshape(-1, 1) if your data has a single feature or array.reshape(1, -1) if it contains a single sample.\n",
      "Error in SimulatedAnnealing for sample 22: Expected 2D array, got 1D array instead:\n",
      "array=[].\n",
      "Reshape your data either using array.reshape(-1, 1) if your data has a single feature or array.reshape(1, -1) if it contains a single sample.\n",
      "Error in TabuSearch for sample 22: Expected 2D array, got 1D array instead:\n",
      "array=[].\n",
      "Reshape your data either using array.reshape(-1, 1) if your data has a single feature or array.reshape(1, -1) if it contains a single sample.\n",
      "Error in GeneticAlgorithm for sample 22: Expected 2D array, got 1D array instead:\n",
      "array=[].\n",
      "Reshape your data either using array.reshape(-1, 1) if your data has a single feature or array.reshape(1, -1) if it contains a single sample.\n",
      "Error in ParticleSwarm for sample 22: Expected 2D array, got 1D array instead:\n",
      "array=[].\n",
      "Reshape your data either using array.reshape(-1, 1) if your data has a single feature or array.reshape(1, -1) if it contains a single sample.\n",
      "Error in DifferentialEvolution for sample 22: Expected 2D array, got 1D array instead:\n",
      "array=[].\n",
      "Reshape your data either using array.reshape(-1, 1) if your data has a single feature or array.reshape(1, -1) if it contains a single sample.\n",
      "Error in FireflyAlgorithm for sample 22: Expected 2D array, got 1D array instead:\n",
      "array=[].\n",
      "Reshape your data either using array.reshape(-1, 1) if your data has a single feature or array.reshape(1, -1) if it contains a single sample.\n",
      "Error in HarmonySearch for sample 22: Expected 2D array, got 1D array instead:\n",
      "array=[].\n",
      "Reshape your data either using array.reshape(-1, 1) if your data has a single feature or array.reshape(1, -1) if it contains a single sample.\n",
      "Best model for sample 22: None\n",
      "--------------------------------------------------\n",
      "Running attack for sample 23...\n",
      "Error in HillClimbing for sample 23: Expected 2D array, got 1D array instead:\n",
      "array=[].\n",
      "Reshape your data either using array.reshape(-1, 1) if your data has a single feature or array.reshape(1, -1) if it contains a single sample.\n",
      "Error in SimulatedAnnealing for sample 23: Expected 2D array, got 1D array instead:\n",
      "array=[].\n",
      "Reshape your data either using array.reshape(-1, 1) if your data has a single feature or array.reshape(1, -1) if it contains a single sample.\n",
      "Error in TabuSearch for sample 23: Expected 2D array, got 1D array instead:\n",
      "array=[].\n",
      "Reshape your data either using array.reshape(-1, 1) if your data has a single feature or array.reshape(1, -1) if it contains a single sample.\n",
      "Error in GeneticAlgorithm for sample 23: Expected 2D array, got 1D array instead:\n",
      "array=[].\n",
      "Reshape your data either using array.reshape(-1, 1) if your data has a single feature or array.reshape(1, -1) if it contains a single sample.\n",
      "Error in ParticleSwarm for sample 23: Expected 2D array, got 1D array instead:\n",
      "array=[].\n",
      "Reshape your data either using array.reshape(-1, 1) if your data has a single feature or array.reshape(1, -1) if it contains a single sample.\n",
      "Error in DifferentialEvolution for sample 23: Expected 2D array, got 1D array instead:\n",
      "array=[].\n",
      "Reshape your data either using array.reshape(-1, 1) if your data has a single feature or array.reshape(1, -1) if it contains a single sample.\n",
      "Error in FireflyAlgorithm for sample 23: Expected 2D array, got 1D array instead:\n",
      "array=[].\n",
      "Reshape your data either using array.reshape(-1, 1) if your data has a single feature or array.reshape(1, -1) if it contains a single sample.\n",
      "Error in HarmonySearch for sample 23: Expected 2D array, got 1D array instead:\n",
      "array=[].\n",
      "Reshape your data either using array.reshape(-1, 1) if your data has a single feature or array.reshape(1, -1) if it contains a single sample.\n",
      "Best model for sample 23: None\n",
      "--------------------------------------------------\n",
      "Running attack for sample 24...\n",
      "Error in HillClimbing for sample 24: Expected 2D array, got 1D array instead:\n",
      "array=[].\n",
      "Reshape your data either using array.reshape(-1, 1) if your data has a single feature or array.reshape(1, -1) if it contains a single sample.\n",
      "Error in SimulatedAnnealing for sample 24: Expected 2D array, got 1D array instead:\n",
      "array=[].\n",
      "Reshape your data either using array.reshape(-1, 1) if your data has a single feature or array.reshape(1, -1) if it contains a single sample.\n",
      "Error in TabuSearch for sample 24: Expected 2D array, got 1D array instead:\n",
      "array=[].\n",
      "Reshape your data either using array.reshape(-1, 1) if your data has a single feature or array.reshape(1, -1) if it contains a single sample.\n",
      "Error in GeneticAlgorithm for sample 24: Expected 2D array, got 1D array instead:\n",
      "array=[].\n",
      "Reshape your data either using array.reshape(-1, 1) if your data has a single feature or array.reshape(1, -1) if it contains a single sample.\n",
      "Error in ParticleSwarm for sample 24: Expected 2D array, got 1D array instead:\n",
      "array=[].\n",
      "Reshape your data either using array.reshape(-1, 1) if your data has a single feature or array.reshape(1, -1) if it contains a single sample.\n",
      "Error in DifferentialEvolution for sample 24: Expected 2D array, got 1D array instead:\n",
      "array=[].\n",
      "Reshape your data either using array.reshape(-1, 1) if your data has a single feature or array.reshape(1, -1) if it contains a single sample.\n",
      "Error in FireflyAlgorithm for sample 24: Expected 2D array, got 1D array instead:\n",
      "array=[].\n",
      "Reshape your data either using array.reshape(-1, 1) if your data has a single feature or array.reshape(1, -1) if it contains a single sample.\n",
      "Error in HarmonySearch for sample 24: Expected 2D array, got 1D array instead:\n",
      "array=[].\n",
      "Reshape your data either using array.reshape(-1, 1) if your data has a single feature or array.reshape(1, -1) if it contains a single sample.\n",
      "Best model for sample 24: None\n",
      "--------------------------------------------------\n",
      "Running attack for sample 25...\n",
      "Error in HillClimbing for sample 25: Expected 2D array, got 1D array instead:\n",
      "array=[].\n",
      "Reshape your data either using array.reshape(-1, 1) if your data has a single feature or array.reshape(1, -1) if it contains a single sample.\n",
      "Error in SimulatedAnnealing for sample 25: Expected 2D array, got 1D array instead:\n",
      "array=[].\n",
      "Reshape your data either using array.reshape(-1, 1) if your data has a single feature or array.reshape(1, -1) if it contains a single sample.\n",
      "Error in TabuSearch for sample 25: Expected 2D array, got 1D array instead:\n",
      "array=[].\n",
      "Reshape your data either using array.reshape(-1, 1) if your data has a single feature or array.reshape(1, -1) if it contains a single sample.\n",
      "Error in GeneticAlgorithm for sample 25: Expected 2D array, got 1D array instead:\n",
      "array=[].\n",
      "Reshape your data either using array.reshape(-1, 1) if your data has a single feature or array.reshape(1, -1) if it contains a single sample.\n",
      "Error in ParticleSwarm for sample 25: Expected 2D array, got 1D array instead:\n",
      "array=[].\n",
      "Reshape your data either using array.reshape(-1, 1) if your data has a single feature or array.reshape(1, -1) if it contains a single sample.\n",
      "Error in DifferentialEvolution for sample 25: Expected 2D array, got 1D array instead:\n",
      "array=[].\n",
      "Reshape your data either using array.reshape(-1, 1) if your data has a single feature or array.reshape(1, -1) if it contains a single sample.\n",
      "Error in FireflyAlgorithm for sample 25: Expected 2D array, got 1D array instead:\n",
      "array=[].\n",
      "Reshape your data either using array.reshape(-1, 1) if your data has a single feature or array.reshape(1, -1) if it contains a single sample.\n",
      "Error in HarmonySearch for sample 25: Expected 2D array, got 1D array instead:\n",
      "array=[].\n",
      "Reshape your data either using array.reshape(-1, 1) if your data has a single feature or array.reshape(1, -1) if it contains a single sample.\n",
      "Best model for sample 25: None\n",
      "--------------------------------------------------\n",
      "Running attack for sample 26...\n",
      "Error in HillClimbing for sample 26: Expected 2D array, got 1D array instead:\n",
      "array=[].\n",
      "Reshape your data either using array.reshape(-1, 1) if your data has a single feature or array.reshape(1, -1) if it contains a single sample.\n",
      "Error in SimulatedAnnealing for sample 26: Expected 2D array, got 1D array instead:\n",
      "array=[].\n",
      "Reshape your data either using array.reshape(-1, 1) if your data has a single feature or array.reshape(1, -1) if it contains a single sample.\n",
      "Error in TabuSearch for sample 26: Expected 2D array, got 1D array instead:\n",
      "array=[].\n",
      "Reshape your data either using array.reshape(-1, 1) if your data has a single feature or array.reshape(1, -1) if it contains a single sample.\n",
      "Error in GeneticAlgorithm for sample 26: Expected 2D array, got 1D array instead:\n",
      "array=[].\n",
      "Reshape your data either using array.reshape(-1, 1) if your data has a single feature or array.reshape(1, -1) if it contains a single sample.\n",
      "Error in ParticleSwarm for sample 26: Expected 2D array, got 1D array instead:\n",
      "array=[].\n",
      "Reshape your data either using array.reshape(-1, 1) if your data has a single feature or array.reshape(1, -1) if it contains a single sample.\n",
      "Error in DifferentialEvolution for sample 26: Expected 2D array, got 1D array instead:\n",
      "array=[].\n",
      "Reshape your data either using array.reshape(-1, 1) if your data has a single feature or array.reshape(1, -1) if it contains a single sample.\n",
      "Error in FireflyAlgorithm for sample 26: Expected 2D array, got 1D array instead:\n",
      "array=[].\n",
      "Reshape your data either using array.reshape(-1, 1) if your data has a single feature or array.reshape(1, -1) if it contains a single sample.\n",
      "Error in HarmonySearch for sample 26: Expected 2D array, got 1D array instead:\n",
      "array=[].\n",
      "Reshape your data either using array.reshape(-1, 1) if your data has a single feature or array.reshape(1, -1) if it contains a single sample.\n",
      "Best model for sample 26: None\n",
      "--------------------------------------------------\n",
      "Running attack for sample 27...\n",
      "Error in HillClimbing for sample 27: Expected 2D array, got 1D array instead:\n",
      "array=[].\n",
      "Reshape your data either using array.reshape(-1, 1) if your data has a single feature or array.reshape(1, -1) if it contains a single sample.\n",
      "Error in SimulatedAnnealing for sample 27: Expected 2D array, got 1D array instead:\n",
      "array=[].\n",
      "Reshape your data either using array.reshape(-1, 1) if your data has a single feature or array.reshape(1, -1) if it contains a single sample.\n",
      "Error in TabuSearch for sample 27: Expected 2D array, got 1D array instead:\n",
      "array=[].\n",
      "Reshape your data either using array.reshape(-1, 1) if your data has a single feature or array.reshape(1, -1) if it contains a single sample.\n",
      "Error in GeneticAlgorithm for sample 27: Expected 2D array, got 1D array instead:\n",
      "array=[].\n",
      "Reshape your data either using array.reshape(-1, 1) if your data has a single feature or array.reshape(1, -1) if it contains a single sample.\n",
      "Error in ParticleSwarm for sample 27: Expected 2D array, got 1D array instead:\n",
      "array=[].\n",
      "Reshape your data either using array.reshape(-1, 1) if your data has a single feature or array.reshape(1, -1) if it contains a single sample.\n",
      "Error in DifferentialEvolution for sample 27: Expected 2D array, got 1D array instead:\n",
      "array=[].\n",
      "Reshape your data either using array.reshape(-1, 1) if your data has a single feature or array.reshape(1, -1) if it contains a single sample.\n",
      "Error in FireflyAlgorithm for sample 27: Expected 2D array, got 1D array instead:\n",
      "array=[].\n",
      "Reshape your data either using array.reshape(-1, 1) if your data has a single feature or array.reshape(1, -1) if it contains a single sample.\n",
      "Error in HarmonySearch for sample 27: Expected 2D array, got 1D array instead:\n",
      "array=[].\n",
      "Reshape your data either using array.reshape(-1, 1) if your data has a single feature or array.reshape(1, -1) if it contains a single sample.\n",
      "Best model for sample 27: None\n",
      "--------------------------------------------------\n",
      "Running attack for sample 28...\n",
      "Error in HillClimbing for sample 28: Expected 2D array, got 1D array instead:\n",
      "array=[].\n",
      "Reshape your data either using array.reshape(-1, 1) if your data has a single feature or array.reshape(1, -1) if it contains a single sample.\n",
      "Error in SimulatedAnnealing for sample 28: Expected 2D array, got 1D array instead:\n",
      "array=[].\n",
      "Reshape your data either using array.reshape(-1, 1) if your data has a single feature or array.reshape(1, -1) if it contains a single sample.\n",
      "Error in TabuSearch for sample 28: Expected 2D array, got 1D array instead:\n",
      "array=[].\n",
      "Reshape your data either using array.reshape(-1, 1) if your data has a single feature or array.reshape(1, -1) if it contains a single sample.\n",
      "Error in GeneticAlgorithm for sample 28: Expected 2D array, got 1D array instead:\n",
      "array=[].\n",
      "Reshape your data either using array.reshape(-1, 1) if your data has a single feature or array.reshape(1, -1) if it contains a single sample.\n",
      "Error in ParticleSwarm for sample 28: Expected 2D array, got 1D array instead:\n",
      "array=[].\n",
      "Reshape your data either using array.reshape(-1, 1) if your data has a single feature or array.reshape(1, -1) if it contains a single sample.\n",
      "Error in DifferentialEvolution for sample 28: Expected 2D array, got 1D array instead:\n",
      "array=[].\n",
      "Reshape your data either using array.reshape(-1, 1) if your data has a single feature or array.reshape(1, -1) if it contains a single sample.\n",
      "Error in FireflyAlgorithm for sample 28: Expected 2D array, got 1D array instead:\n",
      "array=[].\n",
      "Reshape your data either using array.reshape(-1, 1) if your data has a single feature or array.reshape(1, -1) if it contains a single sample.\n",
      "Error in HarmonySearch for sample 28: Expected 2D array, got 1D array instead:\n",
      "array=[].\n",
      "Reshape your data either using array.reshape(-1, 1) if your data has a single feature or array.reshape(1, -1) if it contains a single sample.\n",
      "Best model for sample 28: None\n",
      "--------------------------------------------------\n",
      "Running attack for sample 29...\n",
      "Error in HillClimbing for sample 29: Expected 2D array, got 1D array instead:\n",
      "array=[].\n",
      "Reshape your data either using array.reshape(-1, 1) if your data has a single feature or array.reshape(1, -1) if it contains a single sample.\n",
      "Error in SimulatedAnnealing for sample 29: Expected 2D array, got 1D array instead:\n",
      "array=[].\n",
      "Reshape your data either using array.reshape(-1, 1) if your data has a single feature or array.reshape(1, -1) if it contains a single sample.\n",
      "Error in TabuSearch for sample 29: Expected 2D array, got 1D array instead:\n",
      "array=[].\n",
      "Reshape your data either using array.reshape(-1, 1) if your data has a single feature or array.reshape(1, -1) if it contains a single sample.\n",
      "Error in GeneticAlgorithm for sample 29: Expected 2D array, got 1D array instead:\n",
      "array=[].\n",
      "Reshape your data either using array.reshape(-1, 1) if your data has a single feature or array.reshape(1, -1) if it contains a single sample.\n",
      "Error in ParticleSwarm for sample 29: Expected 2D array, got 1D array instead:\n",
      "array=[].\n",
      "Reshape your data either using array.reshape(-1, 1) if your data has a single feature or array.reshape(1, -1) if it contains a single sample.\n",
      "Error in DifferentialEvolution for sample 29: Expected 2D array, got 1D array instead:\n",
      "array=[].\n",
      "Reshape your data either using array.reshape(-1, 1) if your data has a single feature or array.reshape(1, -1) if it contains a single sample.\n",
      "Error in FireflyAlgorithm for sample 29: Expected 2D array, got 1D array instead:\n",
      "array=[].\n",
      "Reshape your data either using array.reshape(-1, 1) if your data has a single feature or array.reshape(1, -1) if it contains a single sample.\n",
      "Error in HarmonySearch for sample 29: Expected 2D array, got 1D array instead:\n",
      "array=[].\n",
      "Reshape your data either using array.reshape(-1, 1) if your data has a single feature or array.reshape(1, -1) if it contains a single sample.\n",
      "Best model for sample 29: None\n",
      "--------------------------------------------------\n",
      "Running attack for sample 30...\n",
      "Error in HillClimbing for sample 30: Expected 2D array, got 1D array instead:\n",
      "array=[].\n",
      "Reshape your data either using array.reshape(-1, 1) if your data has a single feature or array.reshape(1, -1) if it contains a single sample.\n",
      "Error in SimulatedAnnealing for sample 30: Expected 2D array, got 1D array instead:\n",
      "array=[].\n",
      "Reshape your data either using array.reshape(-1, 1) if your data has a single feature or array.reshape(1, -1) if it contains a single sample.\n",
      "Error in TabuSearch for sample 30: Expected 2D array, got 1D array instead:\n",
      "array=[].\n",
      "Reshape your data either using array.reshape(-1, 1) if your data has a single feature or array.reshape(1, -1) if it contains a single sample.\n",
      "Error in GeneticAlgorithm for sample 30: Expected 2D array, got 1D array instead:\n",
      "array=[].\n",
      "Reshape your data either using array.reshape(-1, 1) if your data has a single feature or array.reshape(1, -1) if it contains a single sample.\n",
      "Error in ParticleSwarm for sample 30: Expected 2D array, got 1D array instead:\n",
      "array=[].\n",
      "Reshape your data either using array.reshape(-1, 1) if your data has a single feature or array.reshape(1, -1) if it contains a single sample.\n",
      "Error in DifferentialEvolution for sample 30: Expected 2D array, got 1D array instead:\n",
      "array=[].\n",
      "Reshape your data either using array.reshape(-1, 1) if your data has a single feature or array.reshape(1, -1) if it contains a single sample.\n",
      "Error in FireflyAlgorithm for sample 30: Expected 2D array, got 1D array instead:\n",
      "array=[].\n",
      "Reshape your data either using array.reshape(-1, 1) if your data has a single feature or array.reshape(1, -1) if it contains a single sample.\n",
      "Error in HarmonySearch for sample 30: Expected 2D array, got 1D array instead:\n",
      "array=[].\n",
      "Reshape your data either using array.reshape(-1, 1) if your data has a single feature or array.reshape(1, -1) if it contains a single sample.\n",
      "Best model for sample 30: None\n",
      "--------------------------------------------------\n",
      "Running attack for sample 31...\n",
      "Error in HillClimbing for sample 31: Expected 2D array, got 1D array instead:\n",
      "array=[].\n",
      "Reshape your data either using array.reshape(-1, 1) if your data has a single feature or array.reshape(1, -1) if it contains a single sample.\n",
      "Error in SimulatedAnnealing for sample 31: Expected 2D array, got 1D array instead:\n",
      "array=[].\n",
      "Reshape your data either using array.reshape(-1, 1) if your data has a single feature or array.reshape(1, -1) if it contains a single sample.\n",
      "Error in TabuSearch for sample 31: Expected 2D array, got 1D array instead:\n",
      "array=[].\n",
      "Reshape your data either using array.reshape(-1, 1) if your data has a single feature or array.reshape(1, -1) if it contains a single sample.\n",
      "Error in GeneticAlgorithm for sample 31: Expected 2D array, got 1D array instead:\n",
      "array=[].\n",
      "Reshape your data either using array.reshape(-1, 1) if your data has a single feature or array.reshape(1, -1) if it contains a single sample.\n",
      "Error in ParticleSwarm for sample 31: Expected 2D array, got 1D array instead:\n",
      "array=[].\n",
      "Reshape your data either using array.reshape(-1, 1) if your data has a single feature or array.reshape(1, -1) if it contains a single sample.\n",
      "Error in DifferentialEvolution for sample 31: Expected 2D array, got 1D array instead:\n",
      "array=[].\n",
      "Reshape your data either using array.reshape(-1, 1) if your data has a single feature or array.reshape(1, -1) if it contains a single sample.\n",
      "Error in FireflyAlgorithm for sample 31: Expected 2D array, got 1D array instead:\n",
      "array=[].\n",
      "Reshape your data either using array.reshape(-1, 1) if your data has a single feature or array.reshape(1, -1) if it contains a single sample.\n",
      "Error in HarmonySearch for sample 31: Expected 2D array, got 1D array instead:\n",
      "array=[].\n",
      "Reshape your data either using array.reshape(-1, 1) if your data has a single feature or array.reshape(1, -1) if it contains a single sample.\n",
      "Best model for sample 31: None\n",
      "--------------------------------------------------\n",
      "Running attack for sample 32...\n",
      "Error in HillClimbing for sample 32: Expected 2D array, got 1D array instead:\n",
      "array=[].\n",
      "Reshape your data either using array.reshape(-1, 1) if your data has a single feature or array.reshape(1, -1) if it contains a single sample.\n",
      "Error in SimulatedAnnealing for sample 32: Expected 2D array, got 1D array instead:\n",
      "array=[].\n",
      "Reshape your data either using array.reshape(-1, 1) if your data has a single feature or array.reshape(1, -1) if it contains a single sample.\n",
      "Error in TabuSearch for sample 32: Expected 2D array, got 1D array instead:\n",
      "array=[].\n",
      "Reshape your data either using array.reshape(-1, 1) if your data has a single feature or array.reshape(1, -1) if it contains a single sample.\n",
      "Error in GeneticAlgorithm for sample 32: Expected 2D array, got 1D array instead:\n",
      "array=[].\n",
      "Reshape your data either using array.reshape(-1, 1) if your data has a single feature or array.reshape(1, -1) if it contains a single sample.\n",
      "Error in ParticleSwarm for sample 32: Expected 2D array, got 1D array instead:\n",
      "array=[].\n",
      "Reshape your data either using array.reshape(-1, 1) if your data has a single feature or array.reshape(1, -1) if it contains a single sample.\n",
      "Error in DifferentialEvolution for sample 32: Expected 2D array, got 1D array instead:\n",
      "array=[].\n",
      "Reshape your data either using array.reshape(-1, 1) if your data has a single feature or array.reshape(1, -1) if it contains a single sample.\n",
      "Error in FireflyAlgorithm for sample 32: Expected 2D array, got 1D array instead:\n",
      "array=[].\n",
      "Reshape your data either using array.reshape(-1, 1) if your data has a single feature or array.reshape(1, -1) if it contains a single sample.\n",
      "Error in HarmonySearch for sample 32: Expected 2D array, got 1D array instead:\n",
      "array=[].\n",
      "Reshape your data either using array.reshape(-1, 1) if your data has a single feature or array.reshape(1, -1) if it contains a single sample.\n",
      "Best model for sample 32: None\n",
      "--------------------------------------------------\n",
      "Running attack for sample 33...\n",
      "Error in HillClimbing for sample 33: Expected 2D array, got 1D array instead:\n",
      "array=[].\n",
      "Reshape your data either using array.reshape(-1, 1) if your data has a single feature or array.reshape(1, -1) if it contains a single sample.\n",
      "Error in SimulatedAnnealing for sample 33: Expected 2D array, got 1D array instead:\n",
      "array=[].\n",
      "Reshape your data either using array.reshape(-1, 1) if your data has a single feature or array.reshape(1, -1) if it contains a single sample.\n",
      "Error in TabuSearch for sample 33: Expected 2D array, got 1D array instead:\n",
      "array=[].\n",
      "Reshape your data either using array.reshape(-1, 1) if your data has a single feature or array.reshape(1, -1) if it contains a single sample.\n",
      "Error in GeneticAlgorithm for sample 33: Expected 2D array, got 1D array instead:\n",
      "array=[].\n",
      "Reshape your data either using array.reshape(-1, 1) if your data has a single feature or array.reshape(1, -1) if it contains a single sample.\n",
      "Error in ParticleSwarm for sample 33: Expected 2D array, got 1D array instead:\n",
      "array=[].\n",
      "Reshape your data either using array.reshape(-1, 1) if your data has a single feature or array.reshape(1, -1) if it contains a single sample.\n",
      "Error in DifferentialEvolution for sample 33: Expected 2D array, got 1D array instead:\n",
      "array=[].\n",
      "Reshape your data either using array.reshape(-1, 1) if your data has a single feature or array.reshape(1, -1) if it contains a single sample.\n",
      "Error in FireflyAlgorithm for sample 33: Expected 2D array, got 1D array instead:\n",
      "array=[].\n",
      "Reshape your data either using array.reshape(-1, 1) if your data has a single feature or array.reshape(1, -1) if it contains a single sample.\n",
      "Error in HarmonySearch for sample 33: Expected 2D array, got 1D array instead:\n",
      "array=[].\n",
      "Reshape your data either using array.reshape(-1, 1) if your data has a single feature or array.reshape(1, -1) if it contains a single sample.\n",
      "Best model for sample 33: None\n",
      "--------------------------------------------------\n",
      "Running attack for sample 34...\n",
      "Error in HillClimbing for sample 34: Expected 2D array, got 1D array instead:\n",
      "array=[].\n",
      "Reshape your data either using array.reshape(-1, 1) if your data has a single feature or array.reshape(1, -1) if it contains a single sample.\n",
      "Error in SimulatedAnnealing for sample 34: Expected 2D array, got 1D array instead:\n",
      "array=[].\n",
      "Reshape your data either using array.reshape(-1, 1) if your data has a single feature or array.reshape(1, -1) if it contains a single sample.\n",
      "Error in TabuSearch for sample 34: Expected 2D array, got 1D array instead:\n",
      "array=[].\n",
      "Reshape your data either using array.reshape(-1, 1) if your data has a single feature or array.reshape(1, -1) if it contains a single sample.\n",
      "Error in GeneticAlgorithm for sample 34: Expected 2D array, got 1D array instead:\n",
      "array=[].\n",
      "Reshape your data either using array.reshape(-1, 1) if your data has a single feature or array.reshape(1, -1) if it contains a single sample.\n",
      "Error in ParticleSwarm for sample 34: Expected 2D array, got 1D array instead:\n",
      "array=[].\n",
      "Reshape your data either using array.reshape(-1, 1) if your data has a single feature or array.reshape(1, -1) if it contains a single sample.\n",
      "Error in DifferentialEvolution for sample 34: Expected 2D array, got 1D array instead:\n",
      "array=[].\n",
      "Reshape your data either using array.reshape(-1, 1) if your data has a single feature or array.reshape(1, -1) if it contains a single sample.\n",
      "Error in FireflyAlgorithm for sample 34: Expected 2D array, got 1D array instead:\n",
      "array=[].\n",
      "Reshape your data either using array.reshape(-1, 1) if your data has a single feature or array.reshape(1, -1) if it contains a single sample.\n",
      "Error in HarmonySearch for sample 34: Expected 2D array, got 1D array instead:\n",
      "array=[].\n",
      "Reshape your data either using array.reshape(-1, 1) if your data has a single feature or array.reshape(1, -1) if it contains a single sample.\n",
      "Best model for sample 34: None\n",
      "--------------------------------------------------\n",
      "Running attack for sample 35...\n",
      "Error in HillClimbing for sample 35: Expected 2D array, got 1D array instead:\n",
      "array=[].\n",
      "Reshape your data either using array.reshape(-1, 1) if your data has a single feature or array.reshape(1, -1) if it contains a single sample.\n",
      "Error in SimulatedAnnealing for sample 35: Expected 2D array, got 1D array instead:\n",
      "array=[].\n",
      "Reshape your data either using array.reshape(-1, 1) if your data has a single feature or array.reshape(1, -1) if it contains a single sample.\n",
      "Error in TabuSearch for sample 35: Expected 2D array, got 1D array instead:\n",
      "array=[].\n",
      "Reshape your data either using array.reshape(-1, 1) if your data has a single feature or array.reshape(1, -1) if it contains a single sample.\n",
      "Error in GeneticAlgorithm for sample 35: Expected 2D array, got 1D array instead:\n",
      "array=[].\n",
      "Reshape your data either using array.reshape(-1, 1) if your data has a single feature or array.reshape(1, -1) if it contains a single sample.\n",
      "Error in ParticleSwarm for sample 35: Expected 2D array, got 1D array instead:\n",
      "array=[].\n",
      "Reshape your data either using array.reshape(-1, 1) if your data has a single feature or array.reshape(1, -1) if it contains a single sample.\n",
      "Error in DifferentialEvolution for sample 35: Expected 2D array, got 1D array instead:\n",
      "array=[].\n",
      "Reshape your data either using array.reshape(-1, 1) if your data has a single feature or array.reshape(1, -1) if it contains a single sample.\n",
      "Error in FireflyAlgorithm for sample 35: Expected 2D array, got 1D array instead:\n",
      "array=[].\n",
      "Reshape your data either using array.reshape(-1, 1) if your data has a single feature or array.reshape(1, -1) if it contains a single sample.\n",
      "Error in HarmonySearch for sample 35: Expected 2D array, got 1D array instead:\n",
      "array=[].\n",
      "Reshape your data either using array.reshape(-1, 1) if your data has a single feature or array.reshape(1, -1) if it contains a single sample.\n",
      "Best model for sample 35: None\n",
      "--------------------------------------------------\n",
      "Running attack for sample 36...\n",
      "Error in HillClimbing for sample 36: Expected 2D array, got 1D array instead:\n",
      "array=[].\n",
      "Reshape your data either using array.reshape(-1, 1) if your data has a single feature or array.reshape(1, -1) if it contains a single sample.\n",
      "Error in SimulatedAnnealing for sample 36: Expected 2D array, got 1D array instead:\n",
      "array=[].\n",
      "Reshape your data either using array.reshape(-1, 1) if your data has a single feature or array.reshape(1, -1) if it contains a single sample.\n",
      "Error in TabuSearch for sample 36: Expected 2D array, got 1D array instead:\n",
      "array=[].\n",
      "Reshape your data either using array.reshape(-1, 1) if your data has a single feature or array.reshape(1, -1) if it contains a single sample.\n",
      "Error in GeneticAlgorithm for sample 36: Expected 2D array, got 1D array instead:\n",
      "array=[].\n",
      "Reshape your data either using array.reshape(-1, 1) if your data has a single feature or array.reshape(1, -1) if it contains a single sample.\n",
      "Error in ParticleSwarm for sample 36: Expected 2D array, got 1D array instead:\n",
      "array=[].\n",
      "Reshape your data either using array.reshape(-1, 1) if your data has a single feature or array.reshape(1, -1) if it contains a single sample.\n",
      "Error in DifferentialEvolution for sample 36: Expected 2D array, got 1D array instead:\n",
      "array=[].\n",
      "Reshape your data either using array.reshape(-1, 1) if your data has a single feature or array.reshape(1, -1) if it contains a single sample.\n",
      "Error in FireflyAlgorithm for sample 36: Expected 2D array, got 1D array instead:\n",
      "array=[].\n",
      "Reshape your data either using array.reshape(-1, 1) if your data has a single feature or array.reshape(1, -1) if it contains a single sample.\n",
      "Error in HarmonySearch for sample 36: Expected 2D array, got 1D array instead:\n",
      "array=[].\n",
      "Reshape your data either using array.reshape(-1, 1) if your data has a single feature or array.reshape(1, -1) if it contains a single sample.\n",
      "Best model for sample 36: None\n",
      "--------------------------------------------------\n",
      "Running attack for sample 37...\n",
      "Error in HillClimbing for sample 37: Expected 2D array, got 1D array instead:\n",
      "array=[].\n",
      "Reshape your data either using array.reshape(-1, 1) if your data has a single feature or array.reshape(1, -1) if it contains a single sample.\n",
      "Error in SimulatedAnnealing for sample 37: Expected 2D array, got 1D array instead:\n",
      "array=[].\n",
      "Reshape your data either using array.reshape(-1, 1) if your data has a single feature or array.reshape(1, -1) if it contains a single sample.\n",
      "Error in TabuSearch for sample 37: Expected 2D array, got 1D array instead:\n",
      "array=[].\n",
      "Reshape your data either using array.reshape(-1, 1) if your data has a single feature or array.reshape(1, -1) if it contains a single sample.\n",
      "Error in GeneticAlgorithm for sample 37: Expected 2D array, got 1D array instead:\n",
      "array=[].\n",
      "Reshape your data either using array.reshape(-1, 1) if your data has a single feature or array.reshape(1, -1) if it contains a single sample.\n",
      "Error in ParticleSwarm for sample 37: Expected 2D array, got 1D array instead:\n",
      "array=[].\n",
      "Reshape your data either using array.reshape(-1, 1) if your data has a single feature or array.reshape(1, -1) if it contains a single sample.\n",
      "Error in DifferentialEvolution for sample 37: Expected 2D array, got 1D array instead:\n",
      "array=[].\n",
      "Reshape your data either using array.reshape(-1, 1) if your data has a single feature or array.reshape(1, -1) if it contains a single sample.\n",
      "Error in FireflyAlgorithm for sample 37: Expected 2D array, got 1D array instead:\n",
      "array=[].\n",
      "Reshape your data either using array.reshape(-1, 1) if your data has a single feature or array.reshape(1, -1) if it contains a single sample.\n",
      "Error in HarmonySearch for sample 37: Expected 2D array, got 1D array instead:\n",
      "array=[].\n",
      "Reshape your data either using array.reshape(-1, 1) if your data has a single feature or array.reshape(1, -1) if it contains a single sample.\n",
      "Best model for sample 37: None\n",
      "--------------------------------------------------\n",
      "Running attack for sample 38...\n",
      "Error in HillClimbing for sample 38: Expected 2D array, got 1D array instead:\n",
      "array=[].\n",
      "Reshape your data either using array.reshape(-1, 1) if your data has a single feature or array.reshape(1, -1) if it contains a single sample.\n",
      "Error in SimulatedAnnealing for sample 38: Expected 2D array, got 1D array instead:\n",
      "array=[].\n",
      "Reshape your data either using array.reshape(-1, 1) if your data has a single feature or array.reshape(1, -1) if it contains a single sample.\n",
      "Error in TabuSearch for sample 38: Expected 2D array, got 1D array instead:\n",
      "array=[].\n",
      "Reshape your data either using array.reshape(-1, 1) if your data has a single feature or array.reshape(1, -1) if it contains a single sample.\n",
      "Error in GeneticAlgorithm for sample 38: Expected 2D array, got 1D array instead:\n",
      "array=[].\n",
      "Reshape your data either using array.reshape(-1, 1) if your data has a single feature or array.reshape(1, -1) if it contains a single sample.\n",
      "Error in ParticleSwarm for sample 38: Expected 2D array, got 1D array instead:\n",
      "array=[].\n",
      "Reshape your data either using array.reshape(-1, 1) if your data has a single feature or array.reshape(1, -1) if it contains a single sample.\n",
      "Error in DifferentialEvolution for sample 38: Expected 2D array, got 1D array instead:\n",
      "array=[].\n",
      "Reshape your data either using array.reshape(-1, 1) if your data has a single feature or array.reshape(1, -1) if it contains a single sample.\n",
      "Error in FireflyAlgorithm for sample 38: Expected 2D array, got 1D array instead:\n",
      "array=[].\n",
      "Reshape your data either using array.reshape(-1, 1) if your data has a single feature or array.reshape(1, -1) if it contains a single sample.\n",
      "Error in HarmonySearch for sample 38: Expected 2D array, got 1D array instead:\n",
      "array=[].\n",
      "Reshape your data either using array.reshape(-1, 1) if your data has a single feature or array.reshape(1, -1) if it contains a single sample.\n",
      "Best model for sample 38: None\n",
      "--------------------------------------------------\n",
      "Running attack for sample 39...\n",
      "Error in HillClimbing for sample 39: Expected 2D array, got 1D array instead:\n",
      "array=[].\n",
      "Reshape your data either using array.reshape(-1, 1) if your data has a single feature or array.reshape(1, -1) if it contains a single sample.\n",
      "Error in SimulatedAnnealing for sample 39: Expected 2D array, got 1D array instead:\n",
      "array=[].\n",
      "Reshape your data either using array.reshape(-1, 1) if your data has a single feature or array.reshape(1, -1) if it contains a single sample.\n",
      "Error in TabuSearch for sample 39: Expected 2D array, got 1D array instead:\n",
      "array=[].\n",
      "Reshape your data either using array.reshape(-1, 1) if your data has a single feature or array.reshape(1, -1) if it contains a single sample.\n",
      "Error in GeneticAlgorithm for sample 39: Expected 2D array, got 1D array instead:\n",
      "array=[].\n",
      "Reshape your data either using array.reshape(-1, 1) if your data has a single feature or array.reshape(1, -1) if it contains a single sample.\n",
      "Error in ParticleSwarm for sample 39: Expected 2D array, got 1D array instead:\n",
      "array=[].\n",
      "Reshape your data either using array.reshape(-1, 1) if your data has a single feature or array.reshape(1, -1) if it contains a single sample.\n",
      "Error in DifferentialEvolution for sample 39: Expected 2D array, got 1D array instead:\n",
      "array=[].\n",
      "Reshape your data either using array.reshape(-1, 1) if your data has a single feature or array.reshape(1, -1) if it contains a single sample.\n",
      "Error in FireflyAlgorithm for sample 39: Expected 2D array, got 1D array instead:\n",
      "array=[].\n",
      "Reshape your data either using array.reshape(-1, 1) if your data has a single feature or array.reshape(1, -1) if it contains a single sample.\n",
      "Error in HarmonySearch for sample 39: Expected 2D array, got 1D array instead:\n",
      "array=[].\n",
      "Reshape your data either using array.reshape(-1, 1) if your data has a single feature or array.reshape(1, -1) if it contains a single sample.\n",
      "Best model for sample 39: None\n",
      "--------------------------------------------------\n",
      "Running attack for sample 40...\n",
      "Error in HillClimbing for sample 40: Expected 2D array, got 1D array instead:\n",
      "array=[].\n",
      "Reshape your data either using array.reshape(-1, 1) if your data has a single feature or array.reshape(1, -1) if it contains a single sample.\n",
      "Error in SimulatedAnnealing for sample 40: Expected 2D array, got 1D array instead:\n",
      "array=[].\n",
      "Reshape your data either using array.reshape(-1, 1) if your data has a single feature or array.reshape(1, -1) if it contains a single sample.\n",
      "Error in TabuSearch for sample 40: Expected 2D array, got 1D array instead:\n",
      "array=[].\n",
      "Reshape your data either using array.reshape(-1, 1) if your data has a single feature or array.reshape(1, -1) if it contains a single sample.\n",
      "Error in GeneticAlgorithm for sample 40: Expected 2D array, got 1D array instead:\n",
      "array=[].\n",
      "Reshape your data either using array.reshape(-1, 1) if your data has a single feature or array.reshape(1, -1) if it contains a single sample.\n",
      "Error in ParticleSwarm for sample 40: Expected 2D array, got 1D array instead:\n",
      "array=[].\n",
      "Reshape your data either using array.reshape(-1, 1) if your data has a single feature or array.reshape(1, -1) if it contains a single sample.\n",
      "Error in DifferentialEvolution for sample 40: Expected 2D array, got 1D array instead:\n",
      "array=[].\n",
      "Reshape your data either using array.reshape(-1, 1) if your data has a single feature or array.reshape(1, -1) if it contains a single sample.\n",
      "Error in FireflyAlgorithm for sample 40: Expected 2D array, got 1D array instead:\n",
      "array=[].\n",
      "Reshape your data either using array.reshape(-1, 1) if your data has a single feature or array.reshape(1, -1) if it contains a single sample.\n",
      "Error in HarmonySearch for sample 40: Expected 2D array, got 1D array instead:\n",
      "array=[].\n",
      "Reshape your data either using array.reshape(-1, 1) if your data has a single feature or array.reshape(1, -1) if it contains a single sample.\n",
      "Best model for sample 40: None\n",
      "--------------------------------------------------\n",
      "Running attack for sample 41...\n",
      "Error in HillClimbing for sample 41: Expected 2D array, got 1D array instead:\n",
      "array=[].\n",
      "Reshape your data either using array.reshape(-1, 1) if your data has a single feature or array.reshape(1, -1) if it contains a single sample.\n",
      "Error in SimulatedAnnealing for sample 41: Expected 2D array, got 1D array instead:\n",
      "array=[].\n",
      "Reshape your data either using array.reshape(-1, 1) if your data has a single feature or array.reshape(1, -1) if it contains a single sample.\n",
      "Error in TabuSearch for sample 41: Expected 2D array, got 1D array instead:\n",
      "array=[].\n",
      "Reshape your data either using array.reshape(-1, 1) if your data has a single feature or array.reshape(1, -1) if it contains a single sample.\n",
      "Error in GeneticAlgorithm for sample 41: Expected 2D array, got 1D array instead:\n",
      "array=[].\n",
      "Reshape your data either using array.reshape(-1, 1) if your data has a single feature or array.reshape(1, -1) if it contains a single sample.\n",
      "Error in ParticleSwarm for sample 41: Expected 2D array, got 1D array instead:\n",
      "array=[].\n",
      "Reshape your data either using array.reshape(-1, 1) if your data has a single feature or array.reshape(1, -1) if it contains a single sample.\n",
      "Error in DifferentialEvolution for sample 41: Expected 2D array, got 1D array instead:\n",
      "array=[].\n",
      "Reshape your data either using array.reshape(-1, 1) if your data has a single feature or array.reshape(1, -1) if it contains a single sample.\n",
      "Error in FireflyAlgorithm for sample 41: Expected 2D array, got 1D array instead:\n",
      "array=[].\n",
      "Reshape your data either using array.reshape(-1, 1) if your data has a single feature or array.reshape(1, -1) if it contains a single sample.\n",
      "Error in HarmonySearch for sample 41: Expected 2D array, got 1D array instead:\n",
      "array=[].\n",
      "Reshape your data either using array.reshape(-1, 1) if your data has a single feature or array.reshape(1, -1) if it contains a single sample.\n",
      "Best model for sample 41: None\n",
      "--------------------------------------------------\n",
      "Running attack for sample 42...\n",
      "Error in HillClimbing for sample 42: Expected 2D array, got 1D array instead:\n",
      "array=[].\n",
      "Reshape your data either using array.reshape(-1, 1) if your data has a single feature or array.reshape(1, -1) if it contains a single sample.\n",
      "Error in SimulatedAnnealing for sample 42: Expected 2D array, got 1D array instead:\n",
      "array=[].\n",
      "Reshape your data either using array.reshape(-1, 1) if your data has a single feature or array.reshape(1, -1) if it contains a single sample.\n",
      "Error in TabuSearch for sample 42: Expected 2D array, got 1D array instead:\n",
      "array=[].\n",
      "Reshape your data either using array.reshape(-1, 1) if your data has a single feature or array.reshape(1, -1) if it contains a single sample.\n",
      "Error in GeneticAlgorithm for sample 42: Expected 2D array, got 1D array instead:\n",
      "array=[].\n",
      "Reshape your data either using array.reshape(-1, 1) if your data has a single feature or array.reshape(1, -1) if it contains a single sample.\n",
      "Error in ParticleSwarm for sample 42: Expected 2D array, got 1D array instead:\n",
      "array=[].\n",
      "Reshape your data either using array.reshape(-1, 1) if your data has a single feature or array.reshape(1, -1) if it contains a single sample.\n",
      "Error in DifferentialEvolution for sample 42: Expected 2D array, got 1D array instead:\n",
      "array=[].\n",
      "Reshape your data either using array.reshape(-1, 1) if your data has a single feature or array.reshape(1, -1) if it contains a single sample.\n",
      "Error in FireflyAlgorithm for sample 42: Expected 2D array, got 1D array instead:\n",
      "array=[].\n",
      "Reshape your data either using array.reshape(-1, 1) if your data has a single feature or array.reshape(1, -1) if it contains a single sample.\n",
      "Error in HarmonySearch for sample 42: Expected 2D array, got 1D array instead:\n",
      "array=[].\n",
      "Reshape your data either using array.reshape(-1, 1) if your data has a single feature or array.reshape(1, -1) if it contains a single sample.\n",
      "Best model for sample 42: None\n",
      "--------------------------------------------------\n",
      "Running attack for sample 43...\n",
      "Error in HillClimbing for sample 43: Expected 2D array, got 1D array instead:\n",
      "array=[].\n",
      "Reshape your data either using array.reshape(-1, 1) if your data has a single feature or array.reshape(1, -1) if it contains a single sample.\n",
      "Error in SimulatedAnnealing for sample 43: Expected 2D array, got 1D array instead:\n",
      "array=[].\n",
      "Reshape your data either using array.reshape(-1, 1) if your data has a single feature or array.reshape(1, -1) if it contains a single sample.\n",
      "Error in TabuSearch for sample 43: Expected 2D array, got 1D array instead:\n",
      "array=[].\n",
      "Reshape your data either using array.reshape(-1, 1) if your data has a single feature or array.reshape(1, -1) if it contains a single sample.\n",
      "Error in GeneticAlgorithm for sample 43: Expected 2D array, got 1D array instead:\n",
      "array=[].\n",
      "Reshape your data either using array.reshape(-1, 1) if your data has a single feature or array.reshape(1, -1) if it contains a single sample.\n",
      "Error in ParticleSwarm for sample 43: Expected 2D array, got 1D array instead:\n",
      "array=[].\n",
      "Reshape your data either using array.reshape(-1, 1) if your data has a single feature or array.reshape(1, -1) if it contains a single sample.\n",
      "Error in DifferentialEvolution for sample 43: Expected 2D array, got 1D array instead:\n",
      "array=[].\n",
      "Reshape your data either using array.reshape(-1, 1) if your data has a single feature or array.reshape(1, -1) if it contains a single sample.\n",
      "Error in FireflyAlgorithm for sample 43: Expected 2D array, got 1D array instead:\n",
      "array=[].\n",
      "Reshape your data either using array.reshape(-1, 1) if your data has a single feature or array.reshape(1, -1) if it contains a single sample.\n",
      "Error in HarmonySearch for sample 43: Expected 2D array, got 1D array instead:\n",
      "array=[].\n",
      "Reshape your data either using array.reshape(-1, 1) if your data has a single feature or array.reshape(1, -1) if it contains a single sample.\n",
      "Best model for sample 43: None\n",
      "--------------------------------------------------\n",
      "Running attack for sample 44...\n",
      "Error in HillClimbing for sample 44: Expected 2D array, got 1D array instead:\n",
      "array=[].\n",
      "Reshape your data either using array.reshape(-1, 1) if your data has a single feature or array.reshape(1, -1) if it contains a single sample.\n",
      "Error in SimulatedAnnealing for sample 44: Expected 2D array, got 1D array instead:\n",
      "array=[].\n",
      "Reshape your data either using array.reshape(-1, 1) if your data has a single feature or array.reshape(1, -1) if it contains a single sample.\n",
      "Error in TabuSearch for sample 44: Expected 2D array, got 1D array instead:\n",
      "array=[].\n",
      "Reshape your data either using array.reshape(-1, 1) if your data has a single feature or array.reshape(1, -1) if it contains a single sample.\n",
      "Error in GeneticAlgorithm for sample 44: Expected 2D array, got 1D array instead:\n",
      "array=[].\n",
      "Reshape your data either using array.reshape(-1, 1) if your data has a single feature or array.reshape(1, -1) if it contains a single sample.\n",
      "Error in ParticleSwarm for sample 44: Expected 2D array, got 1D array instead:\n",
      "array=[].\n",
      "Reshape your data either using array.reshape(-1, 1) if your data has a single feature or array.reshape(1, -1) if it contains a single sample.\n",
      "Error in DifferentialEvolution for sample 44: Expected 2D array, got 1D array instead:\n",
      "array=[].\n",
      "Reshape your data either using array.reshape(-1, 1) if your data has a single feature or array.reshape(1, -1) if it contains a single sample.\n",
      "Error in FireflyAlgorithm for sample 44: Expected 2D array, got 1D array instead:\n",
      "array=[].\n",
      "Reshape your data either using array.reshape(-1, 1) if your data has a single feature or array.reshape(1, -1) if it contains a single sample.\n",
      "Error in HarmonySearch for sample 44: Expected 2D array, got 1D array instead:\n",
      "array=[].\n",
      "Reshape your data either using array.reshape(-1, 1) if your data has a single feature or array.reshape(1, -1) if it contains a single sample.\n",
      "Best model for sample 44: None\n",
      "--------------------------------------------------\n",
      "Running attack for sample 45...\n",
      "Error in HillClimbing for sample 45: Expected 2D array, got 1D array instead:\n",
      "array=[].\n",
      "Reshape your data either using array.reshape(-1, 1) if your data has a single feature or array.reshape(1, -1) if it contains a single sample.\n",
      "Error in SimulatedAnnealing for sample 45: Expected 2D array, got 1D array instead:\n",
      "array=[].\n",
      "Reshape your data either using array.reshape(-1, 1) if your data has a single feature or array.reshape(1, -1) if it contains a single sample.\n",
      "Error in TabuSearch for sample 45: Expected 2D array, got 1D array instead:\n",
      "array=[].\n",
      "Reshape your data either using array.reshape(-1, 1) if your data has a single feature or array.reshape(1, -1) if it contains a single sample.\n",
      "Error in GeneticAlgorithm for sample 45: Expected 2D array, got 1D array instead:\n",
      "array=[].\n",
      "Reshape your data either using array.reshape(-1, 1) if your data has a single feature or array.reshape(1, -1) if it contains a single sample.\n",
      "Error in ParticleSwarm for sample 45: Expected 2D array, got 1D array instead:\n",
      "array=[].\n",
      "Reshape your data either using array.reshape(-1, 1) if your data has a single feature or array.reshape(1, -1) if it contains a single sample.\n",
      "Error in DifferentialEvolution for sample 45: Expected 2D array, got 1D array instead:\n",
      "array=[].\n",
      "Reshape your data either using array.reshape(-1, 1) if your data has a single feature or array.reshape(1, -1) if it contains a single sample.\n",
      "Error in FireflyAlgorithm for sample 45: Expected 2D array, got 1D array instead:\n",
      "array=[].\n",
      "Reshape your data either using array.reshape(-1, 1) if your data has a single feature or array.reshape(1, -1) if it contains a single sample.\n",
      "Error in HarmonySearch for sample 45: Expected 2D array, got 1D array instead:\n",
      "array=[].\n",
      "Reshape your data either using array.reshape(-1, 1) if your data has a single feature or array.reshape(1, -1) if it contains a single sample.\n",
      "Best model for sample 45: None\n",
      "--------------------------------------------------\n",
      "Running attack for sample 46...\n",
      "Error in HillClimbing for sample 46: Expected 2D array, got 1D array instead:\n",
      "array=[].\n",
      "Reshape your data either using array.reshape(-1, 1) if your data has a single feature or array.reshape(1, -1) if it contains a single sample.\n",
      "Error in SimulatedAnnealing for sample 46: Expected 2D array, got 1D array instead:\n",
      "array=[].\n",
      "Reshape your data either using array.reshape(-1, 1) if your data has a single feature or array.reshape(1, -1) if it contains a single sample.\n",
      "Error in TabuSearch for sample 46: Expected 2D array, got 1D array instead:\n",
      "array=[].\n",
      "Reshape your data either using array.reshape(-1, 1) if your data has a single feature or array.reshape(1, -1) if it contains a single sample.\n",
      "Error in GeneticAlgorithm for sample 46: Expected 2D array, got 1D array instead:\n",
      "array=[].\n",
      "Reshape your data either using array.reshape(-1, 1) if your data has a single feature or array.reshape(1, -1) if it contains a single sample.\n",
      "Error in ParticleSwarm for sample 46: Expected 2D array, got 1D array instead:\n",
      "array=[].\n",
      "Reshape your data either using array.reshape(-1, 1) if your data has a single feature or array.reshape(1, -1) if it contains a single sample.\n",
      "Error in DifferentialEvolution for sample 46: Expected 2D array, got 1D array instead:\n",
      "array=[].\n",
      "Reshape your data either using array.reshape(-1, 1) if your data has a single feature or array.reshape(1, -1) if it contains a single sample.\n",
      "Error in FireflyAlgorithm for sample 46: Expected 2D array, got 1D array instead:\n",
      "array=[].\n",
      "Reshape your data either using array.reshape(-1, 1) if your data has a single feature or array.reshape(1, -1) if it contains a single sample.\n",
      "Error in HarmonySearch for sample 46: Expected 2D array, got 1D array instead:\n",
      "array=[].\n",
      "Reshape your data either using array.reshape(-1, 1) if your data has a single feature or array.reshape(1, -1) if it contains a single sample.\n",
      "Best model for sample 46: None\n",
      "--------------------------------------------------\n",
      "Running attack for sample 47...\n",
      "Error in HillClimbing for sample 47: Expected 2D array, got 1D array instead:\n",
      "array=[].\n",
      "Reshape your data either using array.reshape(-1, 1) if your data has a single feature or array.reshape(1, -1) if it contains a single sample.\n",
      "Error in SimulatedAnnealing for sample 47: Expected 2D array, got 1D array instead:\n",
      "array=[].\n",
      "Reshape your data either using array.reshape(-1, 1) if your data has a single feature or array.reshape(1, -1) if it contains a single sample.\n",
      "Error in TabuSearch for sample 47: Expected 2D array, got 1D array instead:\n",
      "array=[].\n",
      "Reshape your data either using array.reshape(-1, 1) if your data has a single feature or array.reshape(1, -1) if it contains a single sample.\n",
      "Error in GeneticAlgorithm for sample 47: Expected 2D array, got 1D array instead:\n",
      "array=[].\n",
      "Reshape your data either using array.reshape(-1, 1) if your data has a single feature or array.reshape(1, -1) if it contains a single sample.\n",
      "Error in ParticleSwarm for sample 47: Expected 2D array, got 1D array instead:\n",
      "array=[].\n",
      "Reshape your data either using array.reshape(-1, 1) if your data has a single feature or array.reshape(1, -1) if it contains a single sample.\n",
      "Error in DifferentialEvolution for sample 47: Expected 2D array, got 1D array instead:\n",
      "array=[].\n",
      "Reshape your data either using array.reshape(-1, 1) if your data has a single feature or array.reshape(1, -1) if it contains a single sample.\n",
      "Error in FireflyAlgorithm for sample 47: Expected 2D array, got 1D array instead:\n",
      "array=[].\n",
      "Reshape your data either using array.reshape(-1, 1) if your data has a single feature or array.reshape(1, -1) if it contains a single sample.\n",
      "Error in HarmonySearch for sample 47: Expected 2D array, got 1D array instead:\n",
      "array=[].\n",
      "Reshape your data either using array.reshape(-1, 1) if your data has a single feature or array.reshape(1, -1) if it contains a single sample.\n",
      "Best model for sample 47: None\n",
      "--------------------------------------------------\n",
      "Running attack for sample 48...\n",
      "Error in HillClimbing for sample 48: Expected 2D array, got 1D array instead:\n",
      "array=[].\n",
      "Reshape your data either using array.reshape(-1, 1) if your data has a single feature or array.reshape(1, -1) if it contains a single sample.\n",
      "Error in SimulatedAnnealing for sample 48: Expected 2D array, got 1D array instead:\n",
      "array=[].\n",
      "Reshape your data either using array.reshape(-1, 1) if your data has a single feature or array.reshape(1, -1) if it contains a single sample.\n",
      "Error in TabuSearch for sample 48: Expected 2D array, got 1D array instead:\n",
      "array=[].\n",
      "Reshape your data either using array.reshape(-1, 1) if your data has a single feature or array.reshape(1, -1) if it contains a single sample.\n",
      "Error in GeneticAlgorithm for sample 48: Expected 2D array, got 1D array instead:\n",
      "array=[].\n",
      "Reshape your data either using array.reshape(-1, 1) if your data has a single feature or array.reshape(1, -1) if it contains a single sample.\n",
      "Error in ParticleSwarm for sample 48: Expected 2D array, got 1D array instead:\n",
      "array=[].\n",
      "Reshape your data either using array.reshape(-1, 1) if your data has a single feature or array.reshape(1, -1) if it contains a single sample.\n",
      "Error in DifferentialEvolution for sample 48: Expected 2D array, got 1D array instead:\n",
      "array=[].\n",
      "Reshape your data either using array.reshape(-1, 1) if your data has a single feature or array.reshape(1, -1) if it contains a single sample.\n",
      "Error in FireflyAlgorithm for sample 48: Expected 2D array, got 1D array instead:\n",
      "array=[].\n",
      "Reshape your data either using array.reshape(-1, 1) if your data has a single feature or array.reshape(1, -1) if it contains a single sample.\n",
      "Error in HarmonySearch for sample 48: Expected 2D array, got 1D array instead:\n",
      "array=[].\n",
      "Reshape your data either using array.reshape(-1, 1) if your data has a single feature or array.reshape(1, -1) if it contains a single sample.\n",
      "Best model for sample 48: None\n",
      "--------------------------------------------------\n",
      "Running attack for sample 49...\n",
      "Error in HillClimbing for sample 49: Expected 2D array, got 1D array instead:\n",
      "array=[].\n",
      "Reshape your data either using array.reshape(-1, 1) if your data has a single feature or array.reshape(1, -1) if it contains a single sample.\n",
      "Error in SimulatedAnnealing for sample 49: Expected 2D array, got 1D array instead:\n",
      "array=[].\n",
      "Reshape your data either using array.reshape(-1, 1) if your data has a single feature or array.reshape(1, -1) if it contains a single sample.\n",
      "Error in TabuSearch for sample 49: Expected 2D array, got 1D array instead:\n",
      "array=[].\n",
      "Reshape your data either using array.reshape(-1, 1) if your data has a single feature or array.reshape(1, -1) if it contains a single sample.\n",
      "Error in GeneticAlgorithm for sample 49: Expected 2D array, got 1D array instead:\n",
      "array=[].\n",
      "Reshape your data either using array.reshape(-1, 1) if your data has a single feature or array.reshape(1, -1) if it contains a single sample.\n",
      "Error in ParticleSwarm for sample 49: Expected 2D array, got 1D array instead:\n",
      "array=[].\n",
      "Reshape your data either using array.reshape(-1, 1) if your data has a single feature or array.reshape(1, -1) if it contains a single sample.\n",
      "Error in DifferentialEvolution for sample 49: Expected 2D array, got 1D array instead:\n",
      "array=[].\n",
      "Reshape your data either using array.reshape(-1, 1) if your data has a single feature or array.reshape(1, -1) if it contains a single sample.\n",
      "Error in FireflyAlgorithm for sample 49: Expected 2D array, got 1D array instead:\n",
      "array=[].\n",
      "Reshape your data either using array.reshape(-1, 1) if your data has a single feature or array.reshape(1, -1) if it contains a single sample.\n",
      "Error in HarmonySearch for sample 49: Expected 2D array, got 1D array instead:\n",
      "array=[].\n",
      "Reshape your data either using array.reshape(-1, 1) if your data has a single feature or array.reshape(1, -1) if it contains a single sample.\n",
      "Best model for sample 49: None\n",
      "--------------------------------------------------\n",
      "Running attack for sample 50...\n",
      "Error in HillClimbing for sample 50: Expected 2D array, got 1D array instead:\n",
      "array=[].\n",
      "Reshape your data either using array.reshape(-1, 1) if your data has a single feature or array.reshape(1, -1) if it contains a single sample.\n",
      "Error in SimulatedAnnealing for sample 50: Expected 2D array, got 1D array instead:\n",
      "array=[].\n",
      "Reshape your data either using array.reshape(-1, 1) if your data has a single feature or array.reshape(1, -1) if it contains a single sample.\n",
      "Error in TabuSearch for sample 50: Expected 2D array, got 1D array instead:\n",
      "array=[].\n",
      "Reshape your data either using array.reshape(-1, 1) if your data has a single feature or array.reshape(1, -1) if it contains a single sample.\n",
      "Error in GeneticAlgorithm for sample 50: Expected 2D array, got 1D array instead:\n",
      "array=[].\n",
      "Reshape your data either using array.reshape(-1, 1) if your data has a single feature or array.reshape(1, -1) if it contains a single sample.\n",
      "Error in ParticleSwarm for sample 50: Expected 2D array, got 1D array instead:\n",
      "array=[].\n",
      "Reshape your data either using array.reshape(-1, 1) if your data has a single feature or array.reshape(1, -1) if it contains a single sample.\n",
      "Error in DifferentialEvolution for sample 50: Expected 2D array, got 1D array instead:\n",
      "array=[].\n",
      "Reshape your data either using array.reshape(-1, 1) if your data has a single feature or array.reshape(1, -1) if it contains a single sample.\n",
      "Error in FireflyAlgorithm for sample 50: Expected 2D array, got 1D array instead:\n",
      "array=[].\n",
      "Reshape your data either using array.reshape(-1, 1) if your data has a single feature or array.reshape(1, -1) if it contains a single sample.\n",
      "Error in HarmonySearch for sample 50: Expected 2D array, got 1D array instead:\n",
      "array=[].\n",
      "Reshape your data either using array.reshape(-1, 1) if your data has a single feature or array.reshape(1, -1) if it contains a single sample.\n",
      "Best model for sample 50: None\n",
      "--------------------------------------------------\n",
      "Running attack for sample 51...\n",
      "Error in HillClimbing for sample 51: Expected 2D array, got 1D array instead:\n",
      "array=[].\n",
      "Reshape your data either using array.reshape(-1, 1) if your data has a single feature or array.reshape(1, -1) if it contains a single sample.\n",
      "Error in SimulatedAnnealing for sample 51: Expected 2D array, got 1D array instead:\n",
      "array=[].\n",
      "Reshape your data either using array.reshape(-1, 1) if your data has a single feature or array.reshape(1, -1) if it contains a single sample.\n",
      "Error in TabuSearch for sample 51: Expected 2D array, got 1D array instead:\n",
      "array=[].\n",
      "Reshape your data either using array.reshape(-1, 1) if your data has a single feature or array.reshape(1, -1) if it contains a single sample.\n",
      "Error in GeneticAlgorithm for sample 51: Expected 2D array, got 1D array instead:\n",
      "array=[].\n",
      "Reshape your data either using array.reshape(-1, 1) if your data has a single feature or array.reshape(1, -1) if it contains a single sample.\n",
      "Error in ParticleSwarm for sample 51: Expected 2D array, got 1D array instead:\n",
      "array=[].\n",
      "Reshape your data either using array.reshape(-1, 1) if your data has a single feature or array.reshape(1, -1) if it contains a single sample.\n",
      "Error in DifferentialEvolution for sample 51: Expected 2D array, got 1D array instead:\n",
      "array=[].\n",
      "Reshape your data either using array.reshape(-1, 1) if your data has a single feature or array.reshape(1, -1) if it contains a single sample.\n",
      "Error in FireflyAlgorithm for sample 51: Expected 2D array, got 1D array instead:\n",
      "array=[].\n",
      "Reshape your data either using array.reshape(-1, 1) if your data has a single feature or array.reshape(1, -1) if it contains a single sample.\n",
      "Error in HarmonySearch for sample 51: Expected 2D array, got 1D array instead:\n",
      "array=[].\n",
      "Reshape your data either using array.reshape(-1, 1) if your data has a single feature or array.reshape(1, -1) if it contains a single sample.\n",
      "Best model for sample 51: None\n",
      "--------------------------------------------------\n",
      "Running attack for sample 52...\n",
      "Error in HillClimbing for sample 52: Expected 2D array, got 1D array instead:\n",
      "array=[].\n",
      "Reshape your data either using array.reshape(-1, 1) if your data has a single feature or array.reshape(1, -1) if it contains a single sample.\n",
      "Error in SimulatedAnnealing for sample 52: Expected 2D array, got 1D array instead:\n",
      "array=[].\n",
      "Reshape your data either using array.reshape(-1, 1) if your data has a single feature or array.reshape(1, -1) if it contains a single sample.\n",
      "Error in TabuSearch for sample 52: Expected 2D array, got 1D array instead:\n",
      "array=[].\n",
      "Reshape your data either using array.reshape(-1, 1) if your data has a single feature or array.reshape(1, -1) if it contains a single sample.\n",
      "Error in GeneticAlgorithm for sample 52: Expected 2D array, got 1D array instead:\n",
      "array=[].\n",
      "Reshape your data either using array.reshape(-1, 1) if your data has a single feature or array.reshape(1, -1) if it contains a single sample.\n",
      "Error in ParticleSwarm for sample 52: Expected 2D array, got 1D array instead:\n",
      "array=[].\n",
      "Reshape your data either using array.reshape(-1, 1) if your data has a single feature or array.reshape(1, -1) if it contains a single sample.\n",
      "Error in DifferentialEvolution for sample 52: Expected 2D array, got 1D array instead:\n",
      "array=[].\n",
      "Reshape your data either using array.reshape(-1, 1) if your data has a single feature or array.reshape(1, -1) if it contains a single sample.\n",
      "Error in FireflyAlgorithm for sample 52: Expected 2D array, got 1D array instead:\n",
      "array=[].\n",
      "Reshape your data either using array.reshape(-1, 1) if your data has a single feature or array.reshape(1, -1) if it contains a single sample.\n",
      "Error in HarmonySearch for sample 52: Expected 2D array, got 1D array instead:\n",
      "array=[].\n",
      "Reshape your data either using array.reshape(-1, 1) if your data has a single feature or array.reshape(1, -1) if it contains a single sample.\n",
      "Best model for sample 52: None\n",
      "--------------------------------------------------\n",
      "Running attack for sample 53...\n",
      "Error in HillClimbing for sample 53: Expected 2D array, got 1D array instead:\n",
      "array=[].\n",
      "Reshape your data either using array.reshape(-1, 1) if your data has a single feature or array.reshape(1, -1) if it contains a single sample.\n",
      "Error in SimulatedAnnealing for sample 53: Expected 2D array, got 1D array instead:\n",
      "array=[].\n",
      "Reshape your data either using array.reshape(-1, 1) if your data has a single feature or array.reshape(1, -1) if it contains a single sample.\n",
      "Error in TabuSearch for sample 53: Expected 2D array, got 1D array instead:\n",
      "array=[].\n",
      "Reshape your data either using array.reshape(-1, 1) if your data has a single feature or array.reshape(1, -1) if it contains a single sample.\n",
      "Error in GeneticAlgorithm for sample 53: Expected 2D array, got 1D array instead:\n",
      "array=[].\n",
      "Reshape your data either using array.reshape(-1, 1) if your data has a single feature or array.reshape(1, -1) if it contains a single sample.\n",
      "Error in ParticleSwarm for sample 53: Expected 2D array, got 1D array instead:\n",
      "array=[].\n",
      "Reshape your data either using array.reshape(-1, 1) if your data has a single feature or array.reshape(1, -1) if it contains a single sample.\n",
      "Error in DifferentialEvolution for sample 53: Expected 2D array, got 1D array instead:\n",
      "array=[].\n",
      "Reshape your data either using array.reshape(-1, 1) if your data has a single feature or array.reshape(1, -1) if it contains a single sample.\n",
      "Error in FireflyAlgorithm for sample 53: Expected 2D array, got 1D array instead:\n",
      "array=[].\n",
      "Reshape your data either using array.reshape(-1, 1) if your data has a single feature or array.reshape(1, -1) if it contains a single sample.\n",
      "Error in HarmonySearch for sample 53: Expected 2D array, got 1D array instead:\n",
      "array=[].\n",
      "Reshape your data either using array.reshape(-1, 1) if your data has a single feature or array.reshape(1, -1) if it contains a single sample.\n",
      "Best model for sample 53: None\n",
      "--------------------------------------------------\n",
      "Running attack for sample 54...\n",
      "Error in HillClimbing for sample 54: Expected 2D array, got 1D array instead:\n",
      "array=[].\n",
      "Reshape your data either using array.reshape(-1, 1) if your data has a single feature or array.reshape(1, -1) if it contains a single sample.\n",
      "Error in SimulatedAnnealing for sample 54: Expected 2D array, got 1D array instead:\n",
      "array=[].\n",
      "Reshape your data either using array.reshape(-1, 1) if your data has a single feature or array.reshape(1, -1) if it contains a single sample.\n",
      "Error in TabuSearch for sample 54: Expected 2D array, got 1D array instead:\n",
      "array=[].\n",
      "Reshape your data either using array.reshape(-1, 1) if your data has a single feature or array.reshape(1, -1) if it contains a single sample.\n",
      "Error in GeneticAlgorithm for sample 54: Expected 2D array, got 1D array instead:\n",
      "array=[].\n",
      "Reshape your data either using array.reshape(-1, 1) if your data has a single feature or array.reshape(1, -1) if it contains a single sample.\n",
      "Error in ParticleSwarm for sample 54: Expected 2D array, got 1D array instead:\n",
      "array=[].\n",
      "Reshape your data either using array.reshape(-1, 1) if your data has a single feature or array.reshape(1, -1) if it contains a single sample.\n",
      "Error in DifferentialEvolution for sample 54: Expected 2D array, got 1D array instead:\n",
      "array=[].\n",
      "Reshape your data either using array.reshape(-1, 1) if your data has a single feature or array.reshape(1, -1) if it contains a single sample.\n",
      "Error in FireflyAlgorithm for sample 54: Expected 2D array, got 1D array instead:\n",
      "array=[].\n",
      "Reshape your data either using array.reshape(-1, 1) if your data has a single feature or array.reshape(1, -1) if it contains a single sample.\n",
      "Error in HarmonySearch for sample 54: Expected 2D array, got 1D array instead:\n",
      "array=[].\n",
      "Reshape your data either using array.reshape(-1, 1) if your data has a single feature or array.reshape(1, -1) if it contains a single sample.\n",
      "Best model for sample 54: None\n",
      "--------------------------------------------------\n",
      "Running attack for sample 55...\n",
      "Error in HillClimbing for sample 55: Expected 2D array, got 1D array instead:\n",
      "array=[].\n",
      "Reshape your data either using array.reshape(-1, 1) if your data has a single feature or array.reshape(1, -1) if it contains a single sample.\n",
      "Error in SimulatedAnnealing for sample 55: Expected 2D array, got 1D array instead:\n",
      "array=[].\n",
      "Reshape your data either using array.reshape(-1, 1) if your data has a single feature or array.reshape(1, -1) if it contains a single sample.\n",
      "Error in TabuSearch for sample 55: Expected 2D array, got 1D array instead:\n",
      "array=[].\n",
      "Reshape your data either using array.reshape(-1, 1) if your data has a single feature or array.reshape(1, -1) if it contains a single sample.\n",
      "Error in GeneticAlgorithm for sample 55: Expected 2D array, got 1D array instead:\n",
      "array=[].\n",
      "Reshape your data either using array.reshape(-1, 1) if your data has a single feature or array.reshape(1, -1) if it contains a single sample.\n",
      "Error in ParticleSwarm for sample 55: Expected 2D array, got 1D array instead:\n",
      "array=[].\n",
      "Reshape your data either using array.reshape(-1, 1) if your data has a single feature or array.reshape(1, -1) if it contains a single sample.\n",
      "Error in DifferentialEvolution for sample 55: Expected 2D array, got 1D array instead:\n",
      "array=[].\n",
      "Reshape your data either using array.reshape(-1, 1) if your data has a single feature or array.reshape(1, -1) if it contains a single sample.\n",
      "Error in FireflyAlgorithm for sample 55: Expected 2D array, got 1D array instead:\n",
      "array=[].\n",
      "Reshape your data either using array.reshape(-1, 1) if your data has a single feature or array.reshape(1, -1) if it contains a single sample.\n",
      "Error in HarmonySearch for sample 55: Expected 2D array, got 1D array instead:\n",
      "array=[].\n",
      "Reshape your data either using array.reshape(-1, 1) if your data has a single feature or array.reshape(1, -1) if it contains a single sample.\n",
      "Best model for sample 55: None\n",
      "--------------------------------------------------\n",
      "Running attack for sample 56...\n",
      "Error in HillClimbing for sample 56: Expected 2D array, got 1D array instead:\n",
      "array=[].\n",
      "Reshape your data either using array.reshape(-1, 1) if your data has a single feature or array.reshape(1, -1) if it contains a single sample.\n",
      "Error in SimulatedAnnealing for sample 56: Expected 2D array, got 1D array instead:\n",
      "array=[].\n",
      "Reshape your data either using array.reshape(-1, 1) if your data has a single feature or array.reshape(1, -1) if it contains a single sample.\n",
      "Error in TabuSearch for sample 56: Expected 2D array, got 1D array instead:\n",
      "array=[].\n",
      "Reshape your data either using array.reshape(-1, 1) if your data has a single feature or array.reshape(1, -1) if it contains a single sample.\n",
      "Error in GeneticAlgorithm for sample 56: Expected 2D array, got 1D array instead:\n",
      "array=[].\n",
      "Reshape your data either using array.reshape(-1, 1) if your data has a single feature or array.reshape(1, -1) if it contains a single sample.\n",
      "Error in ParticleSwarm for sample 56: Expected 2D array, got 1D array instead:\n",
      "array=[].\n",
      "Reshape your data either using array.reshape(-1, 1) if your data has a single feature or array.reshape(1, -1) if it contains a single sample.\n",
      "Error in DifferentialEvolution for sample 56: Expected 2D array, got 1D array instead:\n",
      "array=[].\n",
      "Reshape your data either using array.reshape(-1, 1) if your data has a single feature or array.reshape(1, -1) if it contains a single sample.\n",
      "Error in FireflyAlgorithm for sample 56: Expected 2D array, got 1D array instead:\n",
      "array=[].\n",
      "Reshape your data either using array.reshape(-1, 1) if your data has a single feature or array.reshape(1, -1) if it contains a single sample.\n",
      "Error in HarmonySearch for sample 56: Expected 2D array, got 1D array instead:\n",
      "array=[].\n",
      "Reshape your data either using array.reshape(-1, 1) if your data has a single feature or array.reshape(1, -1) if it contains a single sample.\n",
      "Best model for sample 56: None\n",
      "--------------------------------------------------\n",
      "Running attack for sample 57...\n",
      "Error in HillClimbing for sample 57: Expected 2D array, got 1D array instead:\n",
      "array=[].\n",
      "Reshape your data either using array.reshape(-1, 1) if your data has a single feature or array.reshape(1, -1) if it contains a single sample.\n",
      "Error in SimulatedAnnealing for sample 57: Expected 2D array, got 1D array instead:\n",
      "array=[].\n",
      "Reshape your data either using array.reshape(-1, 1) if your data has a single feature or array.reshape(1, -1) if it contains a single sample.\n",
      "Error in TabuSearch for sample 57: Expected 2D array, got 1D array instead:\n",
      "array=[].\n",
      "Reshape your data either using array.reshape(-1, 1) if your data has a single feature or array.reshape(1, -1) if it contains a single sample.\n",
      "Error in GeneticAlgorithm for sample 57: Expected 2D array, got 1D array instead:\n",
      "array=[].\n",
      "Reshape your data either using array.reshape(-1, 1) if your data has a single feature or array.reshape(1, -1) if it contains a single sample.\n",
      "Error in ParticleSwarm for sample 57: Expected 2D array, got 1D array instead:\n",
      "array=[].\n",
      "Reshape your data either using array.reshape(-1, 1) if your data has a single feature or array.reshape(1, -1) if it contains a single sample.\n",
      "Error in DifferentialEvolution for sample 57: Expected 2D array, got 1D array instead:\n",
      "array=[].\n",
      "Reshape your data either using array.reshape(-1, 1) if your data has a single feature or array.reshape(1, -1) if it contains a single sample.\n",
      "Error in FireflyAlgorithm for sample 57: Expected 2D array, got 1D array instead:\n",
      "array=[].\n",
      "Reshape your data either using array.reshape(-1, 1) if your data has a single feature or array.reshape(1, -1) if it contains a single sample.\n",
      "Error in HarmonySearch for sample 57: Expected 2D array, got 1D array instead:\n",
      "array=[].\n",
      "Reshape your data either using array.reshape(-1, 1) if your data has a single feature or array.reshape(1, -1) if it contains a single sample.\n",
      "Best model for sample 57: None\n",
      "--------------------------------------------------\n",
      "Running attack for sample 58...\n",
      "Error in HillClimbing for sample 58: Expected 2D array, got 1D array instead:\n",
      "array=[].\n",
      "Reshape your data either using array.reshape(-1, 1) if your data has a single feature or array.reshape(1, -1) if it contains a single sample.\n",
      "Error in SimulatedAnnealing for sample 58: Expected 2D array, got 1D array instead:\n",
      "array=[].\n",
      "Reshape your data either using array.reshape(-1, 1) if your data has a single feature or array.reshape(1, -1) if it contains a single sample.\n",
      "Error in TabuSearch for sample 58: Expected 2D array, got 1D array instead:\n",
      "array=[].\n",
      "Reshape your data either using array.reshape(-1, 1) if your data has a single feature or array.reshape(1, -1) if it contains a single sample.\n",
      "Error in GeneticAlgorithm for sample 58: Expected 2D array, got 1D array instead:\n",
      "array=[].\n",
      "Reshape your data either using array.reshape(-1, 1) if your data has a single feature or array.reshape(1, -1) if it contains a single sample.\n",
      "Error in ParticleSwarm for sample 58: Expected 2D array, got 1D array instead:\n",
      "array=[].\n",
      "Reshape your data either using array.reshape(-1, 1) if your data has a single feature or array.reshape(1, -1) if it contains a single sample.\n",
      "Error in DifferentialEvolution for sample 58: Expected 2D array, got 1D array instead:\n",
      "array=[].\n",
      "Reshape your data either using array.reshape(-1, 1) if your data has a single feature or array.reshape(1, -1) if it contains a single sample.\n",
      "Error in FireflyAlgorithm for sample 58: Expected 2D array, got 1D array instead:\n",
      "array=[].\n",
      "Reshape your data either using array.reshape(-1, 1) if your data has a single feature or array.reshape(1, -1) if it contains a single sample.\n",
      "Error in HarmonySearch for sample 58: Expected 2D array, got 1D array instead:\n",
      "array=[].\n",
      "Reshape your data either using array.reshape(-1, 1) if your data has a single feature or array.reshape(1, -1) if it contains a single sample.\n",
      "Best model for sample 58: None\n",
      "--------------------------------------------------\n",
      "Running attack for sample 59...\n",
      "Error in HillClimbing for sample 59: Expected 2D array, got 1D array instead:\n",
      "array=[].\n",
      "Reshape your data either using array.reshape(-1, 1) if your data has a single feature or array.reshape(1, -1) if it contains a single sample.\n",
      "Error in SimulatedAnnealing for sample 59: Expected 2D array, got 1D array instead:\n",
      "array=[].\n",
      "Reshape your data either using array.reshape(-1, 1) if your data has a single feature or array.reshape(1, -1) if it contains a single sample.\n",
      "Error in TabuSearch for sample 59: Expected 2D array, got 1D array instead:\n",
      "array=[].\n",
      "Reshape your data either using array.reshape(-1, 1) if your data has a single feature or array.reshape(1, -1) if it contains a single sample.\n",
      "Error in GeneticAlgorithm for sample 59: Expected 2D array, got 1D array instead:\n",
      "array=[].\n",
      "Reshape your data either using array.reshape(-1, 1) if your data has a single feature or array.reshape(1, -1) if it contains a single sample.\n",
      "Error in ParticleSwarm for sample 59: Expected 2D array, got 1D array instead:\n",
      "array=[].\n",
      "Reshape your data either using array.reshape(-1, 1) if your data has a single feature or array.reshape(1, -1) if it contains a single sample.\n",
      "Error in DifferentialEvolution for sample 59: Expected 2D array, got 1D array instead:\n",
      "array=[].\n",
      "Reshape your data either using array.reshape(-1, 1) if your data has a single feature or array.reshape(1, -1) if it contains a single sample.\n",
      "Error in FireflyAlgorithm for sample 59: Expected 2D array, got 1D array instead:\n",
      "array=[].\n",
      "Reshape your data either using array.reshape(-1, 1) if your data has a single feature or array.reshape(1, -1) if it contains a single sample.\n",
      "Error in HarmonySearch for sample 59: Expected 2D array, got 1D array instead:\n",
      "array=[].\n",
      "Reshape your data either using array.reshape(-1, 1) if your data has a single feature or array.reshape(1, -1) if it contains a single sample.\n",
      "Best model for sample 59: None\n",
      "--------------------------------------------------\n",
      "Running attack for sample 60...\n",
      "Error in HillClimbing for sample 60: Expected 2D array, got 1D array instead:\n",
      "array=[].\n",
      "Reshape your data either using array.reshape(-1, 1) if your data has a single feature or array.reshape(1, -1) if it contains a single sample.\n",
      "Error in SimulatedAnnealing for sample 60: Expected 2D array, got 1D array instead:\n",
      "array=[].\n",
      "Reshape your data either using array.reshape(-1, 1) if your data has a single feature or array.reshape(1, -1) if it contains a single sample.\n",
      "Error in TabuSearch for sample 60: Expected 2D array, got 1D array instead:\n",
      "array=[].\n",
      "Reshape your data either using array.reshape(-1, 1) if your data has a single feature or array.reshape(1, -1) if it contains a single sample.\n",
      "Error in GeneticAlgorithm for sample 60: Expected 2D array, got 1D array instead:\n",
      "array=[].\n",
      "Reshape your data either using array.reshape(-1, 1) if your data has a single feature or array.reshape(1, -1) if it contains a single sample.\n",
      "Error in ParticleSwarm for sample 60: Expected 2D array, got 1D array instead:\n",
      "array=[].\n",
      "Reshape your data either using array.reshape(-1, 1) if your data has a single feature or array.reshape(1, -1) if it contains a single sample.\n",
      "Error in DifferentialEvolution for sample 60: Expected 2D array, got 1D array instead:\n",
      "array=[].\n",
      "Reshape your data either using array.reshape(-1, 1) if your data has a single feature or array.reshape(1, -1) if it contains a single sample.\n",
      "Error in FireflyAlgorithm for sample 60: Expected 2D array, got 1D array instead:\n",
      "array=[].\n",
      "Reshape your data either using array.reshape(-1, 1) if your data has a single feature or array.reshape(1, -1) if it contains a single sample.\n",
      "Error in HarmonySearch for sample 60: Expected 2D array, got 1D array instead:\n",
      "array=[].\n",
      "Reshape your data either using array.reshape(-1, 1) if your data has a single feature or array.reshape(1, -1) if it contains a single sample.\n",
      "Best model for sample 60: None\n",
      "--------------------------------------------------\n",
      "Running attack for sample 61...\n",
      "Error in HillClimbing for sample 61: Expected 2D array, got 1D array instead:\n",
      "array=[].\n",
      "Reshape your data either using array.reshape(-1, 1) if your data has a single feature or array.reshape(1, -1) if it contains a single sample.\n",
      "Error in SimulatedAnnealing for sample 61: Expected 2D array, got 1D array instead:\n",
      "array=[].\n",
      "Reshape your data either using array.reshape(-1, 1) if your data has a single feature or array.reshape(1, -1) if it contains a single sample.\n",
      "Error in TabuSearch for sample 61: Expected 2D array, got 1D array instead:\n",
      "array=[].\n",
      "Reshape your data either using array.reshape(-1, 1) if your data has a single feature or array.reshape(1, -1) if it contains a single sample.\n",
      "Error in GeneticAlgorithm for sample 61: Expected 2D array, got 1D array instead:\n",
      "array=[].\n",
      "Reshape your data either using array.reshape(-1, 1) if your data has a single feature or array.reshape(1, -1) if it contains a single sample.\n",
      "Error in ParticleSwarm for sample 61: Expected 2D array, got 1D array instead:\n",
      "array=[].\n",
      "Reshape your data either using array.reshape(-1, 1) if your data has a single feature or array.reshape(1, -1) if it contains a single sample.\n",
      "Error in DifferentialEvolution for sample 61: Expected 2D array, got 1D array instead:\n",
      "array=[].\n",
      "Reshape your data either using array.reshape(-1, 1) if your data has a single feature or array.reshape(1, -1) if it contains a single sample.\n",
      "Error in FireflyAlgorithm for sample 61: Expected 2D array, got 1D array instead:\n",
      "array=[].\n",
      "Reshape your data either using array.reshape(-1, 1) if your data has a single feature or array.reshape(1, -1) if it contains a single sample.\n",
      "Error in HarmonySearch for sample 61: Expected 2D array, got 1D array instead:\n",
      "array=[].\n",
      "Reshape your data either using array.reshape(-1, 1) if your data has a single feature or array.reshape(1, -1) if it contains a single sample.\n",
      "Best model for sample 61: None\n",
      "--------------------------------------------------\n",
      "Running attack for sample 62...\n",
      "Error in HillClimbing for sample 62: Expected 2D array, got 1D array instead:\n",
      "array=[].\n",
      "Reshape your data either using array.reshape(-1, 1) if your data has a single feature or array.reshape(1, -1) if it contains a single sample.\n",
      "Error in SimulatedAnnealing for sample 62: Expected 2D array, got 1D array instead:\n",
      "array=[].\n",
      "Reshape your data either using array.reshape(-1, 1) if your data has a single feature or array.reshape(1, -1) if it contains a single sample.\n",
      "Error in TabuSearch for sample 62: Expected 2D array, got 1D array instead:\n",
      "array=[].\n",
      "Reshape your data either using array.reshape(-1, 1) if your data has a single feature or array.reshape(1, -1) if it contains a single sample.\n",
      "Error in GeneticAlgorithm for sample 62: Expected 2D array, got 1D array instead:\n",
      "array=[].\n",
      "Reshape your data either using array.reshape(-1, 1) if your data has a single feature or array.reshape(1, -1) if it contains a single sample.\n",
      "Error in ParticleSwarm for sample 62: Expected 2D array, got 1D array instead:\n",
      "array=[].\n",
      "Reshape your data either using array.reshape(-1, 1) if your data has a single feature or array.reshape(1, -1) if it contains a single sample.\n",
      "Error in DifferentialEvolution for sample 62: Expected 2D array, got 1D array instead:\n",
      "array=[].\n",
      "Reshape your data either using array.reshape(-1, 1) if your data has a single feature or array.reshape(1, -1) if it contains a single sample.\n",
      "Error in FireflyAlgorithm for sample 62: Expected 2D array, got 1D array instead:\n",
      "array=[].\n",
      "Reshape your data either using array.reshape(-1, 1) if your data has a single feature or array.reshape(1, -1) if it contains a single sample.\n",
      "Error in HarmonySearch for sample 62: Expected 2D array, got 1D array instead:\n",
      "array=[].\n",
      "Reshape your data either using array.reshape(-1, 1) if your data has a single feature or array.reshape(1, -1) if it contains a single sample.\n",
      "Best model for sample 62: None\n",
      "--------------------------------------------------\n",
      "Running attack for sample 63...\n",
      "Error in HillClimbing for sample 63: Expected 2D array, got 1D array instead:\n",
      "array=[].\n",
      "Reshape your data either using array.reshape(-1, 1) if your data has a single feature or array.reshape(1, -1) if it contains a single sample.\n",
      "Error in SimulatedAnnealing for sample 63: Expected 2D array, got 1D array instead:\n",
      "array=[].\n",
      "Reshape your data either using array.reshape(-1, 1) if your data has a single feature or array.reshape(1, -1) if it contains a single sample.\n",
      "Error in TabuSearch for sample 63: Expected 2D array, got 1D array instead:\n",
      "array=[].\n",
      "Reshape your data either using array.reshape(-1, 1) if your data has a single feature or array.reshape(1, -1) if it contains a single sample.\n",
      "Error in GeneticAlgorithm for sample 63: Expected 2D array, got 1D array instead:\n",
      "array=[].\n",
      "Reshape your data either using array.reshape(-1, 1) if your data has a single feature or array.reshape(1, -1) if it contains a single sample.\n",
      "Error in ParticleSwarm for sample 63: Expected 2D array, got 1D array instead:\n",
      "array=[].\n",
      "Reshape your data either using array.reshape(-1, 1) if your data has a single feature or array.reshape(1, -1) if it contains a single sample.\n",
      "Error in DifferentialEvolution for sample 63: Expected 2D array, got 1D array instead:\n",
      "array=[].\n",
      "Reshape your data either using array.reshape(-1, 1) if your data has a single feature or array.reshape(1, -1) if it contains a single sample.\n",
      "Error in FireflyAlgorithm for sample 63: Expected 2D array, got 1D array instead:\n",
      "array=[].\n",
      "Reshape your data either using array.reshape(-1, 1) if your data has a single feature or array.reshape(1, -1) if it contains a single sample.\n",
      "Error in HarmonySearch for sample 63: Expected 2D array, got 1D array instead:\n",
      "array=[].\n",
      "Reshape your data either using array.reshape(-1, 1) if your data has a single feature or array.reshape(1, -1) if it contains a single sample.\n",
      "Best model for sample 63: None\n",
      "--------------------------------------------------\n",
      "Running attack for sample 64...\n",
      "Error in HillClimbing for sample 64: Expected 2D array, got 1D array instead:\n",
      "array=[].\n",
      "Reshape your data either using array.reshape(-1, 1) if your data has a single feature or array.reshape(1, -1) if it contains a single sample.\n",
      "Error in SimulatedAnnealing for sample 64: Expected 2D array, got 1D array instead:\n",
      "array=[].\n",
      "Reshape your data either using array.reshape(-1, 1) if your data has a single feature or array.reshape(1, -1) if it contains a single sample.\n",
      "Error in TabuSearch for sample 64: Expected 2D array, got 1D array instead:\n",
      "array=[].\n",
      "Reshape your data either using array.reshape(-1, 1) if your data has a single feature or array.reshape(1, -1) if it contains a single sample.\n",
      "Error in GeneticAlgorithm for sample 64: Expected 2D array, got 1D array instead:\n",
      "array=[].\n",
      "Reshape your data either using array.reshape(-1, 1) if your data has a single feature or array.reshape(1, -1) if it contains a single sample.\n",
      "Error in ParticleSwarm for sample 64: Expected 2D array, got 1D array instead:\n",
      "array=[].\n",
      "Reshape your data either using array.reshape(-1, 1) if your data has a single feature or array.reshape(1, -1) if it contains a single sample.\n",
      "Error in DifferentialEvolution for sample 64: Expected 2D array, got 1D array instead:\n",
      "array=[].\n",
      "Reshape your data either using array.reshape(-1, 1) if your data has a single feature or array.reshape(1, -1) if it contains a single sample.\n",
      "Error in FireflyAlgorithm for sample 64: Expected 2D array, got 1D array instead:\n",
      "array=[].\n",
      "Reshape your data either using array.reshape(-1, 1) if your data has a single feature or array.reshape(1, -1) if it contains a single sample.\n",
      "Error in HarmonySearch for sample 64: Expected 2D array, got 1D array instead:\n",
      "array=[].\n",
      "Reshape your data either using array.reshape(-1, 1) if your data has a single feature or array.reshape(1, -1) if it contains a single sample.\n",
      "Best model for sample 64: None\n",
      "--------------------------------------------------\n",
      "Running attack for sample 65...\n",
      "Error in HillClimbing for sample 65: Expected 2D array, got 1D array instead:\n",
      "array=[].\n",
      "Reshape your data either using array.reshape(-1, 1) if your data has a single feature or array.reshape(1, -1) if it contains a single sample.\n",
      "Error in SimulatedAnnealing for sample 65: Expected 2D array, got 1D array instead:\n",
      "array=[].\n",
      "Reshape your data either using array.reshape(-1, 1) if your data has a single feature or array.reshape(1, -1) if it contains a single sample.\n",
      "Error in TabuSearch for sample 65: Expected 2D array, got 1D array instead:\n",
      "array=[].\n",
      "Reshape your data either using array.reshape(-1, 1) if your data has a single feature or array.reshape(1, -1) if it contains a single sample.\n",
      "Error in GeneticAlgorithm for sample 65: Expected 2D array, got 1D array instead:\n",
      "array=[].\n",
      "Reshape your data either using array.reshape(-1, 1) if your data has a single feature or array.reshape(1, -1) if it contains a single sample.\n",
      "Error in ParticleSwarm for sample 65: Expected 2D array, got 1D array instead:\n",
      "array=[].\n",
      "Reshape your data either using array.reshape(-1, 1) if your data has a single feature or array.reshape(1, -1) if it contains a single sample.\n",
      "Error in DifferentialEvolution for sample 65: Expected 2D array, got 1D array instead:\n",
      "array=[].\n",
      "Reshape your data either using array.reshape(-1, 1) if your data has a single feature or array.reshape(1, -1) if it contains a single sample.\n",
      "Error in FireflyAlgorithm for sample 65: Expected 2D array, got 1D array instead:\n",
      "array=[].\n",
      "Reshape your data either using array.reshape(-1, 1) if your data has a single feature or array.reshape(1, -1) if it contains a single sample.\n",
      "Error in HarmonySearch for sample 65: Expected 2D array, got 1D array instead:\n",
      "array=[].\n",
      "Reshape your data either using array.reshape(-1, 1) if your data has a single feature or array.reshape(1, -1) if it contains a single sample.\n",
      "Best model for sample 65: None\n",
      "--------------------------------------------------\n",
      "Running attack for sample 66...\n",
      "Error in HillClimbing for sample 66: Expected 2D array, got 1D array instead:\n",
      "array=[].\n",
      "Reshape your data either using array.reshape(-1, 1) if your data has a single feature or array.reshape(1, -1) if it contains a single sample.\n",
      "Error in SimulatedAnnealing for sample 66: Expected 2D array, got 1D array instead:\n",
      "array=[].\n",
      "Reshape your data either using array.reshape(-1, 1) if your data has a single feature or array.reshape(1, -1) if it contains a single sample.\n",
      "Error in TabuSearch for sample 66: Expected 2D array, got 1D array instead:\n",
      "array=[].\n",
      "Reshape your data either using array.reshape(-1, 1) if your data has a single feature or array.reshape(1, -1) if it contains a single sample.\n",
      "Error in GeneticAlgorithm for sample 66: Expected 2D array, got 1D array instead:\n",
      "array=[].\n",
      "Reshape your data either using array.reshape(-1, 1) if your data has a single feature or array.reshape(1, -1) if it contains a single sample.\n",
      "Error in ParticleSwarm for sample 66: Expected 2D array, got 1D array instead:\n",
      "array=[].\n",
      "Reshape your data either using array.reshape(-1, 1) if your data has a single feature or array.reshape(1, -1) if it contains a single sample.\n",
      "Error in DifferentialEvolution for sample 66: Expected 2D array, got 1D array instead:\n",
      "array=[].\n",
      "Reshape your data either using array.reshape(-1, 1) if your data has a single feature or array.reshape(1, -1) if it contains a single sample.\n",
      "Error in FireflyAlgorithm for sample 66: Expected 2D array, got 1D array instead:\n",
      "array=[].\n",
      "Reshape your data either using array.reshape(-1, 1) if your data has a single feature or array.reshape(1, -1) if it contains a single sample.\n",
      "Error in HarmonySearch for sample 66: Expected 2D array, got 1D array instead:\n",
      "array=[].\n",
      "Reshape your data either using array.reshape(-1, 1) if your data has a single feature or array.reshape(1, -1) if it contains a single sample.\n",
      "Best model for sample 66: None\n",
      "--------------------------------------------------\n",
      "Running attack for sample 67...\n",
      "Error in HillClimbing for sample 67: Expected 2D array, got 1D array instead:\n",
      "array=[].\n",
      "Reshape your data either using array.reshape(-1, 1) if your data has a single feature or array.reshape(1, -1) if it contains a single sample.\n",
      "Error in SimulatedAnnealing for sample 67: Expected 2D array, got 1D array instead:\n",
      "array=[].\n",
      "Reshape your data either using array.reshape(-1, 1) if your data has a single feature or array.reshape(1, -1) if it contains a single sample.\n",
      "Error in TabuSearch for sample 67: Expected 2D array, got 1D array instead:\n",
      "array=[].\n",
      "Reshape your data either using array.reshape(-1, 1) if your data has a single feature or array.reshape(1, -1) if it contains a single sample.\n",
      "Error in GeneticAlgorithm for sample 67: Expected 2D array, got 1D array instead:\n",
      "array=[].\n",
      "Reshape your data either using array.reshape(-1, 1) if your data has a single feature or array.reshape(1, -1) if it contains a single sample.\n",
      "Error in ParticleSwarm for sample 67: Expected 2D array, got 1D array instead:\n",
      "array=[].\n",
      "Reshape your data either using array.reshape(-1, 1) if your data has a single feature or array.reshape(1, -1) if it contains a single sample.\n",
      "Error in DifferentialEvolution for sample 67: Expected 2D array, got 1D array instead:\n",
      "array=[].\n",
      "Reshape your data either using array.reshape(-1, 1) if your data has a single feature or array.reshape(1, -1) if it contains a single sample.\n",
      "Error in FireflyAlgorithm for sample 67: Expected 2D array, got 1D array instead:\n",
      "array=[].\n",
      "Reshape your data either using array.reshape(-1, 1) if your data has a single feature or array.reshape(1, -1) if it contains a single sample.\n",
      "Error in HarmonySearch for sample 67: Expected 2D array, got 1D array instead:\n",
      "array=[].\n",
      "Reshape your data either using array.reshape(-1, 1) if your data has a single feature or array.reshape(1, -1) if it contains a single sample.\n",
      "Best model for sample 67: None\n",
      "--------------------------------------------------\n",
      "Running attack for sample 68...\n",
      "Error in HillClimbing for sample 68: Expected 2D array, got 1D array instead:\n",
      "array=[].\n",
      "Reshape your data either using array.reshape(-1, 1) if your data has a single feature or array.reshape(1, -1) if it contains a single sample.\n",
      "Error in SimulatedAnnealing for sample 68: Expected 2D array, got 1D array instead:\n",
      "array=[].\n",
      "Reshape your data either using array.reshape(-1, 1) if your data has a single feature or array.reshape(1, -1) if it contains a single sample.\n",
      "Error in TabuSearch for sample 68: Expected 2D array, got 1D array instead:\n",
      "array=[].\n",
      "Reshape your data either using array.reshape(-1, 1) if your data has a single feature or array.reshape(1, -1) if it contains a single sample.\n",
      "Error in GeneticAlgorithm for sample 68: Expected 2D array, got 1D array instead:\n",
      "array=[].\n",
      "Reshape your data either using array.reshape(-1, 1) if your data has a single feature or array.reshape(1, -1) if it contains a single sample.\n",
      "Error in ParticleSwarm for sample 68: Expected 2D array, got 1D array instead:\n",
      "array=[].\n",
      "Reshape your data either using array.reshape(-1, 1) if your data has a single feature or array.reshape(1, -1) if it contains a single sample.\n",
      "Error in DifferentialEvolution for sample 68: Expected 2D array, got 1D array instead:\n",
      "array=[].\n",
      "Reshape your data either using array.reshape(-1, 1) if your data has a single feature or array.reshape(1, -1) if it contains a single sample.\n",
      "Error in FireflyAlgorithm for sample 68: Expected 2D array, got 1D array instead:\n",
      "array=[].\n",
      "Reshape your data either using array.reshape(-1, 1) if your data has a single feature or array.reshape(1, -1) if it contains a single sample.\n",
      "Error in HarmonySearch for sample 68: Expected 2D array, got 1D array instead:\n",
      "array=[].\n",
      "Reshape your data either using array.reshape(-1, 1) if your data has a single feature or array.reshape(1, -1) if it contains a single sample.\n",
      "Best model for sample 68: None\n",
      "--------------------------------------------------\n",
      "Running attack for sample 69...\n",
      "Error in HillClimbing for sample 69: Expected 2D array, got 1D array instead:\n",
      "array=[].\n",
      "Reshape your data either using array.reshape(-1, 1) if your data has a single feature or array.reshape(1, -1) if it contains a single sample.\n",
      "Error in SimulatedAnnealing for sample 69: Expected 2D array, got 1D array instead:\n",
      "array=[].\n",
      "Reshape your data either using array.reshape(-1, 1) if your data has a single feature or array.reshape(1, -1) if it contains a single sample.\n",
      "Error in TabuSearch for sample 69: Expected 2D array, got 1D array instead:\n",
      "array=[].\n",
      "Reshape your data either using array.reshape(-1, 1) if your data has a single feature or array.reshape(1, -1) if it contains a single sample.\n",
      "Error in GeneticAlgorithm for sample 69: Expected 2D array, got 1D array instead:\n",
      "array=[].\n",
      "Reshape your data either using array.reshape(-1, 1) if your data has a single feature or array.reshape(1, -1) if it contains a single sample.\n",
      "Error in ParticleSwarm for sample 69: Expected 2D array, got 1D array instead:\n",
      "array=[].\n",
      "Reshape your data either using array.reshape(-1, 1) if your data has a single feature or array.reshape(1, -1) if it contains a single sample.\n",
      "Error in DifferentialEvolution for sample 69: Expected 2D array, got 1D array instead:\n",
      "array=[].\n",
      "Reshape your data either using array.reshape(-1, 1) if your data has a single feature or array.reshape(1, -1) if it contains a single sample.\n",
      "Error in FireflyAlgorithm for sample 69: Expected 2D array, got 1D array instead:\n",
      "array=[].\n",
      "Reshape your data either using array.reshape(-1, 1) if your data has a single feature or array.reshape(1, -1) if it contains a single sample.\n",
      "Error in HarmonySearch for sample 69: Expected 2D array, got 1D array instead:\n",
      "array=[].\n",
      "Reshape your data either using array.reshape(-1, 1) if your data has a single feature or array.reshape(1, -1) if it contains a single sample.\n",
      "Best model for sample 69: None\n",
      "--------------------------------------------------\n",
      "Running attack for sample 70...\n",
      "Error in HillClimbing for sample 70: Expected 2D array, got 1D array instead:\n",
      "array=[].\n",
      "Reshape your data either using array.reshape(-1, 1) if your data has a single feature or array.reshape(1, -1) if it contains a single sample.\n",
      "Error in SimulatedAnnealing for sample 70: Expected 2D array, got 1D array instead:\n",
      "array=[].\n",
      "Reshape your data either using array.reshape(-1, 1) if your data has a single feature or array.reshape(1, -1) if it contains a single sample.\n",
      "Error in TabuSearch for sample 70: Expected 2D array, got 1D array instead:\n",
      "array=[].\n",
      "Reshape your data either using array.reshape(-1, 1) if your data has a single feature or array.reshape(1, -1) if it contains a single sample.\n",
      "Error in GeneticAlgorithm for sample 70: Expected 2D array, got 1D array instead:\n",
      "array=[].\n",
      "Reshape your data either using array.reshape(-1, 1) if your data has a single feature or array.reshape(1, -1) if it contains a single sample.\n",
      "Error in ParticleSwarm for sample 70: Expected 2D array, got 1D array instead:\n",
      "array=[].\n",
      "Reshape your data either using array.reshape(-1, 1) if your data has a single feature or array.reshape(1, -1) if it contains a single sample.\n",
      "Error in DifferentialEvolution for sample 70: Expected 2D array, got 1D array instead:\n",
      "array=[].\n",
      "Reshape your data either using array.reshape(-1, 1) if your data has a single feature or array.reshape(1, -1) if it contains a single sample.\n",
      "Error in FireflyAlgorithm for sample 70: Expected 2D array, got 1D array instead:\n",
      "array=[].\n",
      "Reshape your data either using array.reshape(-1, 1) if your data has a single feature or array.reshape(1, -1) if it contains a single sample.\n",
      "Error in HarmonySearch for sample 70: Expected 2D array, got 1D array instead:\n",
      "array=[].\n",
      "Reshape your data either using array.reshape(-1, 1) if your data has a single feature or array.reshape(1, -1) if it contains a single sample.\n",
      "Best model for sample 70: None\n",
      "--------------------------------------------------\n",
      "Running attack for sample 71...\n",
      "Error in HillClimbing for sample 71: Expected 2D array, got 1D array instead:\n",
      "array=[].\n",
      "Reshape your data either using array.reshape(-1, 1) if your data has a single feature or array.reshape(1, -1) if it contains a single sample.\n",
      "Error in SimulatedAnnealing for sample 71: Expected 2D array, got 1D array instead:\n",
      "array=[].\n",
      "Reshape your data either using array.reshape(-1, 1) if your data has a single feature or array.reshape(1, -1) if it contains a single sample.\n",
      "Error in TabuSearch for sample 71: Expected 2D array, got 1D array instead:\n",
      "array=[].\n",
      "Reshape your data either using array.reshape(-1, 1) if your data has a single feature or array.reshape(1, -1) if it contains a single sample.\n",
      "Error in GeneticAlgorithm for sample 71: Expected 2D array, got 1D array instead:\n",
      "array=[].\n",
      "Reshape your data either using array.reshape(-1, 1) if your data has a single feature or array.reshape(1, -1) if it contains a single sample.\n",
      "Error in ParticleSwarm for sample 71: Expected 2D array, got 1D array instead:\n",
      "array=[].\n",
      "Reshape your data either using array.reshape(-1, 1) if your data has a single feature or array.reshape(1, -1) if it contains a single sample.\n",
      "Error in DifferentialEvolution for sample 71: Expected 2D array, got 1D array instead:\n",
      "array=[].\n",
      "Reshape your data either using array.reshape(-1, 1) if your data has a single feature or array.reshape(1, -1) if it contains a single sample.\n",
      "Error in FireflyAlgorithm for sample 71: Expected 2D array, got 1D array instead:\n",
      "array=[].\n",
      "Reshape your data either using array.reshape(-1, 1) if your data has a single feature or array.reshape(1, -1) if it contains a single sample.\n",
      "Error in HarmonySearch for sample 71: Expected 2D array, got 1D array instead:\n",
      "array=[].\n",
      "Reshape your data either using array.reshape(-1, 1) if your data has a single feature or array.reshape(1, -1) if it contains a single sample.\n",
      "Best model for sample 71: None\n",
      "--------------------------------------------------\n",
      "Running attack for sample 72...\n",
      "Error in HillClimbing for sample 72: Expected 2D array, got 1D array instead:\n",
      "array=[].\n",
      "Reshape your data either using array.reshape(-1, 1) if your data has a single feature or array.reshape(1, -1) if it contains a single sample.\n",
      "Error in SimulatedAnnealing for sample 72: Expected 2D array, got 1D array instead:\n",
      "array=[].\n",
      "Reshape your data either using array.reshape(-1, 1) if your data has a single feature or array.reshape(1, -1) if it contains a single sample.\n",
      "Error in TabuSearch for sample 72: Expected 2D array, got 1D array instead:\n",
      "array=[].\n",
      "Reshape your data either using array.reshape(-1, 1) if your data has a single feature or array.reshape(1, -1) if it contains a single sample.\n",
      "Error in GeneticAlgorithm for sample 72: Expected 2D array, got 1D array instead:\n",
      "array=[].\n",
      "Reshape your data either using array.reshape(-1, 1) if your data has a single feature or array.reshape(1, -1) if it contains a single sample.\n",
      "Error in ParticleSwarm for sample 72: Expected 2D array, got 1D array instead:\n",
      "array=[].\n",
      "Reshape your data either using array.reshape(-1, 1) if your data has a single feature or array.reshape(1, -1) if it contains a single sample.\n",
      "Error in DifferentialEvolution for sample 72: Expected 2D array, got 1D array instead:\n",
      "array=[].\n",
      "Reshape your data either using array.reshape(-1, 1) if your data has a single feature or array.reshape(1, -1) if it contains a single sample.\n",
      "Error in FireflyAlgorithm for sample 72: Expected 2D array, got 1D array instead:\n",
      "array=[].\n",
      "Reshape your data either using array.reshape(-1, 1) if your data has a single feature or array.reshape(1, -1) if it contains a single sample.\n",
      "Error in HarmonySearch for sample 72: Expected 2D array, got 1D array instead:\n",
      "array=[].\n",
      "Reshape your data either using array.reshape(-1, 1) if your data has a single feature or array.reshape(1, -1) if it contains a single sample.\n",
      "Best model for sample 72: None\n",
      "--------------------------------------------------\n",
      "Running attack for sample 73...\n",
      "Error in HillClimbing for sample 73: Expected 2D array, got 1D array instead:\n",
      "array=[].\n",
      "Reshape your data either using array.reshape(-1, 1) if your data has a single feature or array.reshape(1, -1) if it contains a single sample.\n",
      "Error in SimulatedAnnealing for sample 73: Expected 2D array, got 1D array instead:\n",
      "array=[].\n",
      "Reshape your data either using array.reshape(-1, 1) if your data has a single feature or array.reshape(1, -1) if it contains a single sample.\n",
      "Error in TabuSearch for sample 73: Expected 2D array, got 1D array instead:\n",
      "array=[].\n",
      "Reshape your data either using array.reshape(-1, 1) if your data has a single feature or array.reshape(1, -1) if it contains a single sample.\n",
      "Error in GeneticAlgorithm for sample 73: Expected 2D array, got 1D array instead:\n",
      "array=[].\n",
      "Reshape your data either using array.reshape(-1, 1) if your data has a single feature or array.reshape(1, -1) if it contains a single sample.\n",
      "Error in ParticleSwarm for sample 73: Expected 2D array, got 1D array instead:\n",
      "array=[].\n",
      "Reshape your data either using array.reshape(-1, 1) if your data has a single feature or array.reshape(1, -1) if it contains a single sample.\n",
      "Error in DifferentialEvolution for sample 73: Expected 2D array, got 1D array instead:\n",
      "array=[].\n",
      "Reshape your data either using array.reshape(-1, 1) if your data has a single feature or array.reshape(1, -1) if it contains a single sample.\n",
      "Error in FireflyAlgorithm for sample 73: Expected 2D array, got 1D array instead:\n",
      "array=[].\n",
      "Reshape your data either using array.reshape(-1, 1) if your data has a single feature or array.reshape(1, -1) if it contains a single sample.\n",
      "Error in HarmonySearch for sample 73: Expected 2D array, got 1D array instead:\n",
      "array=[].\n",
      "Reshape your data either using array.reshape(-1, 1) if your data has a single feature or array.reshape(1, -1) if it contains a single sample.\n",
      "Best model for sample 73: None\n",
      "--------------------------------------------------\n",
      "Running attack for sample 74...\n",
      "Error in HillClimbing for sample 74: Expected 2D array, got 1D array instead:\n",
      "array=[].\n",
      "Reshape your data either using array.reshape(-1, 1) if your data has a single feature or array.reshape(1, -1) if it contains a single sample.\n",
      "Error in SimulatedAnnealing for sample 74: Expected 2D array, got 1D array instead:\n",
      "array=[].\n",
      "Reshape your data either using array.reshape(-1, 1) if your data has a single feature or array.reshape(1, -1) if it contains a single sample.\n",
      "Error in TabuSearch for sample 74: Expected 2D array, got 1D array instead:\n",
      "array=[].\n",
      "Reshape your data either using array.reshape(-1, 1) if your data has a single feature or array.reshape(1, -1) if it contains a single sample.\n",
      "Error in GeneticAlgorithm for sample 74: Expected 2D array, got 1D array instead:\n",
      "array=[].\n",
      "Reshape your data either using array.reshape(-1, 1) if your data has a single feature or array.reshape(1, -1) if it contains a single sample.\n",
      "Error in ParticleSwarm for sample 74: Expected 2D array, got 1D array instead:\n",
      "array=[].\n",
      "Reshape your data either using array.reshape(-1, 1) if your data has a single feature or array.reshape(1, -1) if it contains a single sample.\n",
      "Error in DifferentialEvolution for sample 74: Expected 2D array, got 1D array instead:\n",
      "array=[].\n",
      "Reshape your data either using array.reshape(-1, 1) if your data has a single feature or array.reshape(1, -1) if it contains a single sample.\n",
      "Error in FireflyAlgorithm for sample 74: Expected 2D array, got 1D array instead:\n",
      "array=[].\n",
      "Reshape your data either using array.reshape(-1, 1) if your data has a single feature or array.reshape(1, -1) if it contains a single sample.\n",
      "Error in HarmonySearch for sample 74: Expected 2D array, got 1D array instead:\n",
      "array=[].\n",
      "Reshape your data either using array.reshape(-1, 1) if your data has a single feature or array.reshape(1, -1) if it contains a single sample.\n",
      "Best model for sample 74: None\n",
      "--------------------------------------------------\n",
      "Running attack for sample 75...\n",
      "Error in HillClimbing for sample 75: Expected 2D array, got 1D array instead:\n",
      "array=[].\n",
      "Reshape your data either using array.reshape(-1, 1) if your data has a single feature or array.reshape(1, -1) if it contains a single sample.\n",
      "Error in SimulatedAnnealing for sample 75: Expected 2D array, got 1D array instead:\n",
      "array=[].\n",
      "Reshape your data either using array.reshape(-1, 1) if your data has a single feature or array.reshape(1, -1) if it contains a single sample.\n",
      "Error in TabuSearch for sample 75: Expected 2D array, got 1D array instead:\n",
      "array=[].\n",
      "Reshape your data either using array.reshape(-1, 1) if your data has a single feature or array.reshape(1, -1) if it contains a single sample.\n",
      "Error in GeneticAlgorithm for sample 75: Expected 2D array, got 1D array instead:\n",
      "array=[].\n",
      "Reshape your data either using array.reshape(-1, 1) if your data has a single feature or array.reshape(1, -1) if it contains a single sample.\n",
      "Error in ParticleSwarm for sample 75: Expected 2D array, got 1D array instead:\n",
      "array=[].\n",
      "Reshape your data either using array.reshape(-1, 1) if your data has a single feature or array.reshape(1, -1) if it contains a single sample.\n",
      "Error in DifferentialEvolution for sample 75: Expected 2D array, got 1D array instead:\n",
      "array=[].\n",
      "Reshape your data either using array.reshape(-1, 1) if your data has a single feature or array.reshape(1, -1) if it contains a single sample.\n",
      "Error in FireflyAlgorithm for sample 75: Expected 2D array, got 1D array instead:\n",
      "array=[].\n",
      "Reshape your data either using array.reshape(-1, 1) if your data has a single feature or array.reshape(1, -1) if it contains a single sample.\n",
      "Error in HarmonySearch for sample 75: Expected 2D array, got 1D array instead:\n",
      "array=[].\n",
      "Reshape your data either using array.reshape(-1, 1) if your data has a single feature or array.reshape(1, -1) if it contains a single sample.\n",
      "Best model for sample 75: None\n",
      "--------------------------------------------------\n",
      "Running attack for sample 76...\n",
      "Error in HillClimbing for sample 76: Expected 2D array, got 1D array instead:\n",
      "array=[].\n",
      "Reshape your data either using array.reshape(-1, 1) if your data has a single feature or array.reshape(1, -1) if it contains a single sample.\n",
      "Error in SimulatedAnnealing for sample 76: Expected 2D array, got 1D array instead:\n",
      "array=[].\n",
      "Reshape your data either using array.reshape(-1, 1) if your data has a single feature or array.reshape(1, -1) if it contains a single sample.\n",
      "Error in TabuSearch for sample 76: Expected 2D array, got 1D array instead:\n",
      "array=[].\n",
      "Reshape your data either using array.reshape(-1, 1) if your data has a single feature or array.reshape(1, -1) if it contains a single sample.\n",
      "Error in GeneticAlgorithm for sample 76: Expected 2D array, got 1D array instead:\n",
      "array=[].\n",
      "Reshape your data either using array.reshape(-1, 1) if your data has a single feature or array.reshape(1, -1) if it contains a single sample.\n",
      "Error in ParticleSwarm for sample 76: Expected 2D array, got 1D array instead:\n",
      "array=[].\n",
      "Reshape your data either using array.reshape(-1, 1) if your data has a single feature or array.reshape(1, -1) if it contains a single sample.\n",
      "Error in DifferentialEvolution for sample 76: Expected 2D array, got 1D array instead:\n",
      "array=[].\n",
      "Reshape your data either using array.reshape(-1, 1) if your data has a single feature or array.reshape(1, -1) if it contains a single sample.\n",
      "Error in FireflyAlgorithm for sample 76: Expected 2D array, got 1D array instead:\n",
      "array=[].\n",
      "Reshape your data either using array.reshape(-1, 1) if your data has a single feature or array.reshape(1, -1) if it contains a single sample.\n",
      "Error in HarmonySearch for sample 76: Expected 2D array, got 1D array instead:\n",
      "array=[].\n",
      "Reshape your data either using array.reshape(-1, 1) if your data has a single feature or array.reshape(1, -1) if it contains a single sample.\n",
      "Best model for sample 76: None\n",
      "--------------------------------------------------\n",
      "Running attack for sample 77...\n",
      "Error in HillClimbing for sample 77: Expected 2D array, got 1D array instead:\n",
      "array=[].\n",
      "Reshape your data either using array.reshape(-1, 1) if your data has a single feature or array.reshape(1, -1) if it contains a single sample.\n",
      "Error in SimulatedAnnealing for sample 77: Expected 2D array, got 1D array instead:\n",
      "array=[].\n",
      "Reshape your data either using array.reshape(-1, 1) if your data has a single feature or array.reshape(1, -1) if it contains a single sample.\n",
      "Error in TabuSearch for sample 77: Expected 2D array, got 1D array instead:\n",
      "array=[].\n",
      "Reshape your data either using array.reshape(-1, 1) if your data has a single feature or array.reshape(1, -1) if it contains a single sample.\n",
      "Error in GeneticAlgorithm for sample 77: Expected 2D array, got 1D array instead:\n",
      "array=[].\n",
      "Reshape your data either using array.reshape(-1, 1) if your data has a single feature or array.reshape(1, -1) if it contains a single sample.\n",
      "Error in ParticleSwarm for sample 77: Expected 2D array, got 1D array instead:\n",
      "array=[].\n",
      "Reshape your data either using array.reshape(-1, 1) if your data has a single feature or array.reshape(1, -1) if it contains a single sample.\n",
      "Error in DifferentialEvolution for sample 77: Expected 2D array, got 1D array instead:\n",
      "array=[].\n",
      "Reshape your data either using array.reshape(-1, 1) if your data has a single feature or array.reshape(1, -1) if it contains a single sample.\n",
      "Error in FireflyAlgorithm for sample 77: Expected 2D array, got 1D array instead:\n",
      "array=[].\n",
      "Reshape your data either using array.reshape(-1, 1) if your data has a single feature or array.reshape(1, -1) if it contains a single sample.\n",
      "Error in HarmonySearch for sample 77: Expected 2D array, got 1D array instead:\n",
      "array=[].\n",
      "Reshape your data either using array.reshape(-1, 1) if your data has a single feature or array.reshape(1, -1) if it contains a single sample.\n",
      "Best model for sample 77: None\n",
      "--------------------------------------------------\n",
      "Running attack for sample 78...\n",
      "Error in HillClimbing for sample 78: Expected 2D array, got 1D array instead:\n",
      "array=[].\n",
      "Reshape your data either using array.reshape(-1, 1) if your data has a single feature or array.reshape(1, -1) if it contains a single sample.\n",
      "Error in SimulatedAnnealing for sample 78: Expected 2D array, got 1D array instead:\n",
      "array=[].\n",
      "Reshape your data either using array.reshape(-1, 1) if your data has a single feature or array.reshape(1, -1) if it contains a single sample.\n",
      "Error in TabuSearch for sample 78: Expected 2D array, got 1D array instead:\n",
      "array=[].\n",
      "Reshape your data either using array.reshape(-1, 1) if your data has a single feature or array.reshape(1, -1) if it contains a single sample.\n",
      "Error in GeneticAlgorithm for sample 78: Expected 2D array, got 1D array instead:\n",
      "array=[].\n",
      "Reshape your data either using array.reshape(-1, 1) if your data has a single feature or array.reshape(1, -1) if it contains a single sample.\n",
      "Error in ParticleSwarm for sample 78: Expected 2D array, got 1D array instead:\n",
      "array=[].\n",
      "Reshape your data either using array.reshape(-1, 1) if your data has a single feature or array.reshape(1, -1) if it contains a single sample.\n",
      "Error in DifferentialEvolution for sample 78: Expected 2D array, got 1D array instead:\n",
      "array=[].\n",
      "Reshape your data either using array.reshape(-1, 1) if your data has a single feature or array.reshape(1, -1) if it contains a single sample.\n",
      "Error in FireflyAlgorithm for sample 78: Expected 2D array, got 1D array instead:\n",
      "array=[].\n",
      "Reshape your data either using array.reshape(-1, 1) if your data has a single feature or array.reshape(1, -1) if it contains a single sample.\n",
      "Error in HarmonySearch for sample 78: Expected 2D array, got 1D array instead:\n",
      "array=[].\n",
      "Reshape your data either using array.reshape(-1, 1) if your data has a single feature or array.reshape(1, -1) if it contains a single sample.\n",
      "Best model for sample 78: None\n",
      "--------------------------------------------------\n",
      "Running attack for sample 79...\n",
      "Error in HillClimbing for sample 79: Expected 2D array, got 1D array instead:\n",
      "array=[].\n",
      "Reshape your data either using array.reshape(-1, 1) if your data has a single feature or array.reshape(1, -1) if it contains a single sample.\n",
      "Error in SimulatedAnnealing for sample 79: Expected 2D array, got 1D array instead:\n",
      "array=[].\n",
      "Reshape your data either using array.reshape(-1, 1) if your data has a single feature or array.reshape(1, -1) if it contains a single sample.\n",
      "Error in TabuSearch for sample 79: Expected 2D array, got 1D array instead:\n",
      "array=[].\n",
      "Reshape your data either using array.reshape(-1, 1) if your data has a single feature or array.reshape(1, -1) if it contains a single sample.\n",
      "Error in GeneticAlgorithm for sample 79: Expected 2D array, got 1D array instead:\n",
      "array=[].\n",
      "Reshape your data either using array.reshape(-1, 1) if your data has a single feature or array.reshape(1, -1) if it contains a single sample.\n",
      "Error in ParticleSwarm for sample 79: Expected 2D array, got 1D array instead:\n",
      "array=[].\n",
      "Reshape your data either using array.reshape(-1, 1) if your data has a single feature or array.reshape(1, -1) if it contains a single sample.\n",
      "Error in DifferentialEvolution for sample 79: Expected 2D array, got 1D array instead:\n",
      "array=[].\n",
      "Reshape your data either using array.reshape(-1, 1) if your data has a single feature or array.reshape(1, -1) if it contains a single sample.\n",
      "Error in FireflyAlgorithm for sample 79: Expected 2D array, got 1D array instead:\n",
      "array=[].\n",
      "Reshape your data either using array.reshape(-1, 1) if your data has a single feature or array.reshape(1, -1) if it contains a single sample.\n",
      "Error in HarmonySearch for sample 79: Expected 2D array, got 1D array instead:\n",
      "array=[].\n",
      "Reshape your data either using array.reshape(-1, 1) if your data has a single feature or array.reshape(1, -1) if it contains a single sample.\n",
      "Best model for sample 79: None\n",
      "--------------------------------------------------\n",
      "Running attack for sample 80...\n",
      "Error in HillClimbing for sample 80: Expected 2D array, got 1D array instead:\n",
      "array=[].\n",
      "Reshape your data either using array.reshape(-1, 1) if your data has a single feature or array.reshape(1, -1) if it contains a single sample.\n",
      "Error in SimulatedAnnealing for sample 80: Expected 2D array, got 1D array instead:\n",
      "array=[].\n",
      "Reshape your data either using array.reshape(-1, 1) if your data has a single feature or array.reshape(1, -1) if it contains a single sample.\n",
      "Error in TabuSearch for sample 80: Expected 2D array, got 1D array instead:\n",
      "array=[].\n",
      "Reshape your data either using array.reshape(-1, 1) if your data has a single feature or array.reshape(1, -1) if it contains a single sample.\n",
      "Error in GeneticAlgorithm for sample 80: Expected 2D array, got 1D array instead:\n",
      "array=[].\n",
      "Reshape your data either using array.reshape(-1, 1) if your data has a single feature or array.reshape(1, -1) if it contains a single sample.\n",
      "Error in ParticleSwarm for sample 80: Expected 2D array, got 1D array instead:\n",
      "array=[].\n",
      "Reshape your data either using array.reshape(-1, 1) if your data has a single feature or array.reshape(1, -1) if it contains a single sample.\n",
      "Error in DifferentialEvolution for sample 80: Expected 2D array, got 1D array instead:\n",
      "array=[].\n",
      "Reshape your data either using array.reshape(-1, 1) if your data has a single feature or array.reshape(1, -1) if it contains a single sample.\n",
      "Error in FireflyAlgorithm for sample 80: Expected 2D array, got 1D array instead:\n",
      "array=[].\n",
      "Reshape your data either using array.reshape(-1, 1) if your data has a single feature or array.reshape(1, -1) if it contains a single sample.\n",
      "Error in HarmonySearch for sample 80: Expected 2D array, got 1D array instead:\n",
      "array=[].\n",
      "Reshape your data either using array.reshape(-1, 1) if your data has a single feature or array.reshape(1, -1) if it contains a single sample.\n",
      "Best model for sample 80: None\n",
      "--------------------------------------------------\n",
      "Running attack for sample 81...\n",
      "Error in HillClimbing for sample 81: Expected 2D array, got 1D array instead:\n",
      "array=[].\n",
      "Reshape your data either using array.reshape(-1, 1) if your data has a single feature or array.reshape(1, -1) if it contains a single sample.\n",
      "Error in SimulatedAnnealing for sample 81: Expected 2D array, got 1D array instead:\n",
      "array=[].\n",
      "Reshape your data either using array.reshape(-1, 1) if your data has a single feature or array.reshape(1, -1) if it contains a single sample.\n",
      "Error in TabuSearch for sample 81: Expected 2D array, got 1D array instead:\n",
      "array=[].\n",
      "Reshape your data either using array.reshape(-1, 1) if your data has a single feature or array.reshape(1, -1) if it contains a single sample.\n",
      "Error in GeneticAlgorithm for sample 81: Expected 2D array, got 1D array instead:\n",
      "array=[].\n",
      "Reshape your data either using array.reshape(-1, 1) if your data has a single feature or array.reshape(1, -1) if it contains a single sample.\n",
      "Error in ParticleSwarm for sample 81: Expected 2D array, got 1D array instead:\n",
      "array=[].\n",
      "Reshape your data either using array.reshape(-1, 1) if your data has a single feature or array.reshape(1, -1) if it contains a single sample.\n",
      "Error in DifferentialEvolution for sample 81: Expected 2D array, got 1D array instead:\n",
      "array=[].\n",
      "Reshape your data either using array.reshape(-1, 1) if your data has a single feature or array.reshape(1, -1) if it contains a single sample.\n",
      "Error in FireflyAlgorithm for sample 81: Expected 2D array, got 1D array instead:\n",
      "array=[].\n",
      "Reshape your data either using array.reshape(-1, 1) if your data has a single feature or array.reshape(1, -1) if it contains a single sample.\n",
      "Error in HarmonySearch for sample 81: Expected 2D array, got 1D array instead:\n",
      "array=[].\n",
      "Reshape your data either using array.reshape(-1, 1) if your data has a single feature or array.reshape(1, -1) if it contains a single sample.\n",
      "Best model for sample 81: None\n",
      "--------------------------------------------------\n",
      "Running attack for sample 82...\n",
      "Error in HillClimbing for sample 82: Expected 2D array, got 1D array instead:\n",
      "array=[].\n",
      "Reshape your data either using array.reshape(-1, 1) if your data has a single feature or array.reshape(1, -1) if it contains a single sample.\n",
      "Error in SimulatedAnnealing for sample 82: Expected 2D array, got 1D array instead:\n",
      "array=[].\n",
      "Reshape your data either using array.reshape(-1, 1) if your data has a single feature or array.reshape(1, -1) if it contains a single sample.\n",
      "Error in TabuSearch for sample 82: Expected 2D array, got 1D array instead:\n",
      "array=[].\n",
      "Reshape your data either using array.reshape(-1, 1) if your data has a single feature or array.reshape(1, -1) if it contains a single sample.\n",
      "Error in GeneticAlgorithm for sample 82: Expected 2D array, got 1D array instead:\n",
      "array=[].\n",
      "Reshape your data either using array.reshape(-1, 1) if your data has a single feature or array.reshape(1, -1) if it contains a single sample.\n",
      "Error in ParticleSwarm for sample 82: Expected 2D array, got 1D array instead:\n",
      "array=[].\n",
      "Reshape your data either using array.reshape(-1, 1) if your data has a single feature or array.reshape(1, -1) if it contains a single sample.\n",
      "Error in DifferentialEvolution for sample 82: Expected 2D array, got 1D array instead:\n",
      "array=[].\n",
      "Reshape your data either using array.reshape(-1, 1) if your data has a single feature or array.reshape(1, -1) if it contains a single sample.\n",
      "Error in FireflyAlgorithm for sample 82: Expected 2D array, got 1D array instead:\n",
      "array=[].\n",
      "Reshape your data either using array.reshape(-1, 1) if your data has a single feature or array.reshape(1, -1) if it contains a single sample.\n",
      "Error in HarmonySearch for sample 82: Expected 2D array, got 1D array instead:\n",
      "array=[].\n",
      "Reshape your data either using array.reshape(-1, 1) if your data has a single feature or array.reshape(1, -1) if it contains a single sample.\n",
      "Best model for sample 82: None\n",
      "--------------------------------------------------\n",
      "Running attack for sample 83...\n",
      "Error in HillClimbing for sample 83: Expected 2D array, got 1D array instead:\n",
      "array=[].\n",
      "Reshape your data either using array.reshape(-1, 1) if your data has a single feature or array.reshape(1, -1) if it contains a single sample.\n",
      "Error in SimulatedAnnealing for sample 83: Expected 2D array, got 1D array instead:\n",
      "array=[].\n",
      "Reshape your data either using array.reshape(-1, 1) if your data has a single feature or array.reshape(1, -1) if it contains a single sample.\n",
      "Error in TabuSearch for sample 83: Expected 2D array, got 1D array instead:\n",
      "array=[].\n",
      "Reshape your data either using array.reshape(-1, 1) if your data has a single feature or array.reshape(1, -1) if it contains a single sample.\n",
      "Error in GeneticAlgorithm for sample 83: Expected 2D array, got 1D array instead:\n",
      "array=[].\n",
      "Reshape your data either using array.reshape(-1, 1) if your data has a single feature or array.reshape(1, -1) if it contains a single sample.\n",
      "Error in ParticleSwarm for sample 83: Expected 2D array, got 1D array instead:\n",
      "array=[].\n",
      "Reshape your data either using array.reshape(-1, 1) if your data has a single feature or array.reshape(1, -1) if it contains a single sample.\n",
      "Error in DifferentialEvolution for sample 83: Expected 2D array, got 1D array instead:\n",
      "array=[].\n",
      "Reshape your data either using array.reshape(-1, 1) if your data has a single feature or array.reshape(1, -1) if it contains a single sample.\n",
      "Error in FireflyAlgorithm for sample 83: Expected 2D array, got 1D array instead:\n",
      "array=[].\n",
      "Reshape your data either using array.reshape(-1, 1) if your data has a single feature or array.reshape(1, -1) if it contains a single sample.\n",
      "Error in HarmonySearch for sample 83: Expected 2D array, got 1D array instead:\n",
      "array=[].\n",
      "Reshape your data either using array.reshape(-1, 1) if your data has a single feature or array.reshape(1, -1) if it contains a single sample.\n",
      "Best model for sample 83: None\n",
      "--------------------------------------------------\n",
      "Running attack for sample 84...\n",
      "Error in HillClimbing for sample 84: Expected 2D array, got 1D array instead:\n",
      "array=[].\n",
      "Reshape your data either using array.reshape(-1, 1) if your data has a single feature or array.reshape(1, -1) if it contains a single sample.\n",
      "Error in SimulatedAnnealing for sample 84: Expected 2D array, got 1D array instead:\n",
      "array=[].\n",
      "Reshape your data either using array.reshape(-1, 1) if your data has a single feature or array.reshape(1, -1) if it contains a single sample.\n",
      "Error in TabuSearch for sample 84: Expected 2D array, got 1D array instead:\n",
      "array=[].\n",
      "Reshape your data either using array.reshape(-1, 1) if your data has a single feature or array.reshape(1, -1) if it contains a single sample.\n",
      "Error in GeneticAlgorithm for sample 84: Expected 2D array, got 1D array instead:\n",
      "array=[].\n",
      "Reshape your data either using array.reshape(-1, 1) if your data has a single feature or array.reshape(1, -1) if it contains a single sample.\n",
      "Error in ParticleSwarm for sample 84: Expected 2D array, got 1D array instead:\n",
      "array=[].\n",
      "Reshape your data either using array.reshape(-1, 1) if your data has a single feature or array.reshape(1, -1) if it contains a single sample.\n",
      "Error in DifferentialEvolution for sample 84: Expected 2D array, got 1D array instead:\n",
      "array=[].\n",
      "Reshape your data either using array.reshape(-1, 1) if your data has a single feature or array.reshape(1, -1) if it contains a single sample.\n",
      "Error in FireflyAlgorithm for sample 84: Expected 2D array, got 1D array instead:\n",
      "array=[].\n",
      "Reshape your data either using array.reshape(-1, 1) if your data has a single feature or array.reshape(1, -1) if it contains a single sample.\n",
      "Error in HarmonySearch for sample 84: Expected 2D array, got 1D array instead:\n",
      "array=[].\n",
      "Reshape your data either using array.reshape(-1, 1) if your data has a single feature or array.reshape(1, -1) if it contains a single sample.\n",
      "Best model for sample 84: None\n",
      "--------------------------------------------------\n",
      "Running attack for sample 85...\n",
      "Error in HillClimbing for sample 85: Expected 2D array, got 1D array instead:\n",
      "array=[].\n",
      "Reshape your data either using array.reshape(-1, 1) if your data has a single feature or array.reshape(1, -1) if it contains a single sample.\n",
      "Error in SimulatedAnnealing for sample 85: Expected 2D array, got 1D array instead:\n",
      "array=[].\n",
      "Reshape your data either using array.reshape(-1, 1) if your data has a single feature or array.reshape(1, -1) if it contains a single sample.\n",
      "Error in TabuSearch for sample 85: Expected 2D array, got 1D array instead:\n",
      "array=[].\n",
      "Reshape your data either using array.reshape(-1, 1) if your data has a single feature or array.reshape(1, -1) if it contains a single sample.\n",
      "Error in GeneticAlgorithm for sample 85: Expected 2D array, got 1D array instead:\n",
      "array=[].\n",
      "Reshape your data either using array.reshape(-1, 1) if your data has a single feature or array.reshape(1, -1) if it contains a single sample.\n",
      "Error in ParticleSwarm for sample 85: Expected 2D array, got 1D array instead:\n",
      "array=[].\n",
      "Reshape your data either using array.reshape(-1, 1) if your data has a single feature or array.reshape(1, -1) if it contains a single sample.\n",
      "Error in DifferentialEvolution for sample 85: Expected 2D array, got 1D array instead:\n",
      "array=[].\n",
      "Reshape your data either using array.reshape(-1, 1) if your data has a single feature or array.reshape(1, -1) if it contains a single sample.\n",
      "Error in FireflyAlgorithm for sample 85: Expected 2D array, got 1D array instead:\n",
      "array=[].\n",
      "Reshape your data either using array.reshape(-1, 1) if your data has a single feature or array.reshape(1, -1) if it contains a single sample.\n",
      "Error in HarmonySearch for sample 85: Expected 2D array, got 1D array instead:\n",
      "array=[].\n",
      "Reshape your data either using array.reshape(-1, 1) if your data has a single feature or array.reshape(1, -1) if it contains a single sample.\n",
      "Best model for sample 85: None\n",
      "--------------------------------------------------\n",
      "Running attack for sample 86...\n",
      "Error in HillClimbing for sample 86: Expected 2D array, got 1D array instead:\n",
      "array=[].\n",
      "Reshape your data either using array.reshape(-1, 1) if your data has a single feature or array.reshape(1, -1) if it contains a single sample.\n",
      "Error in SimulatedAnnealing for sample 86: Expected 2D array, got 1D array instead:\n",
      "array=[].\n",
      "Reshape your data either using array.reshape(-1, 1) if your data has a single feature or array.reshape(1, -1) if it contains a single sample.\n",
      "Error in TabuSearch for sample 86: Expected 2D array, got 1D array instead:\n",
      "array=[].\n",
      "Reshape your data either using array.reshape(-1, 1) if your data has a single feature or array.reshape(1, -1) if it contains a single sample.\n",
      "Error in GeneticAlgorithm for sample 86: Expected 2D array, got 1D array instead:\n",
      "array=[].\n",
      "Reshape your data either using array.reshape(-1, 1) if your data has a single feature or array.reshape(1, -1) if it contains a single sample.\n",
      "Error in ParticleSwarm for sample 86: Expected 2D array, got 1D array instead:\n",
      "array=[].\n",
      "Reshape your data either using array.reshape(-1, 1) if your data has a single feature or array.reshape(1, -1) if it contains a single sample.\n",
      "Error in DifferentialEvolution for sample 86: Expected 2D array, got 1D array instead:\n",
      "array=[].\n",
      "Reshape your data either using array.reshape(-1, 1) if your data has a single feature or array.reshape(1, -1) if it contains a single sample.\n",
      "Error in FireflyAlgorithm for sample 86: Expected 2D array, got 1D array instead:\n",
      "array=[].\n",
      "Reshape your data either using array.reshape(-1, 1) if your data has a single feature or array.reshape(1, -1) if it contains a single sample.\n",
      "Error in HarmonySearch for sample 86: Expected 2D array, got 1D array instead:\n",
      "array=[].\n",
      "Reshape your data either using array.reshape(-1, 1) if your data has a single feature or array.reshape(1, -1) if it contains a single sample.\n",
      "Best model for sample 86: None\n",
      "--------------------------------------------------\n",
      "Running attack for sample 87...\n",
      "Error in HillClimbing for sample 87: Expected 2D array, got 1D array instead:\n",
      "array=[].\n",
      "Reshape your data either using array.reshape(-1, 1) if your data has a single feature or array.reshape(1, -1) if it contains a single sample.\n",
      "Error in SimulatedAnnealing for sample 87: Expected 2D array, got 1D array instead:\n",
      "array=[].\n",
      "Reshape your data either using array.reshape(-1, 1) if your data has a single feature or array.reshape(1, -1) if it contains a single sample.\n",
      "Error in TabuSearch for sample 87: Expected 2D array, got 1D array instead:\n",
      "array=[].\n",
      "Reshape your data either using array.reshape(-1, 1) if your data has a single feature or array.reshape(1, -1) if it contains a single sample.\n",
      "Error in GeneticAlgorithm for sample 87: Expected 2D array, got 1D array instead:\n",
      "array=[].\n",
      "Reshape your data either using array.reshape(-1, 1) if your data has a single feature or array.reshape(1, -1) if it contains a single sample.\n",
      "Error in ParticleSwarm for sample 87: Expected 2D array, got 1D array instead:\n",
      "array=[].\n",
      "Reshape your data either using array.reshape(-1, 1) if your data has a single feature or array.reshape(1, -1) if it contains a single sample.\n",
      "Error in DifferentialEvolution for sample 87: Expected 2D array, got 1D array instead:\n",
      "array=[].\n",
      "Reshape your data either using array.reshape(-1, 1) if your data has a single feature or array.reshape(1, -1) if it contains a single sample.\n",
      "Error in FireflyAlgorithm for sample 87: Expected 2D array, got 1D array instead:\n",
      "array=[].\n",
      "Reshape your data either using array.reshape(-1, 1) if your data has a single feature or array.reshape(1, -1) if it contains a single sample.\n",
      "Error in HarmonySearch for sample 87: Expected 2D array, got 1D array instead:\n",
      "array=[].\n",
      "Reshape your data either using array.reshape(-1, 1) if your data has a single feature or array.reshape(1, -1) if it contains a single sample.\n",
      "Best model for sample 87: None\n",
      "--------------------------------------------------\n",
      "Running attack for sample 88...\n",
      "Error in HillClimbing for sample 88: Expected 2D array, got 1D array instead:\n",
      "array=[].\n",
      "Reshape your data either using array.reshape(-1, 1) if your data has a single feature or array.reshape(1, -1) if it contains a single sample.\n",
      "Error in SimulatedAnnealing for sample 88: Expected 2D array, got 1D array instead:\n",
      "array=[].\n",
      "Reshape your data either using array.reshape(-1, 1) if your data has a single feature or array.reshape(1, -1) if it contains a single sample.\n",
      "Error in TabuSearch for sample 88: Expected 2D array, got 1D array instead:\n",
      "array=[].\n",
      "Reshape your data either using array.reshape(-1, 1) if your data has a single feature or array.reshape(1, -1) if it contains a single sample.\n",
      "Error in GeneticAlgorithm for sample 88: Expected 2D array, got 1D array instead:\n",
      "array=[].\n",
      "Reshape your data either using array.reshape(-1, 1) if your data has a single feature or array.reshape(1, -1) if it contains a single sample.\n",
      "Error in ParticleSwarm for sample 88: Expected 2D array, got 1D array instead:\n",
      "array=[].\n",
      "Reshape your data either using array.reshape(-1, 1) if your data has a single feature or array.reshape(1, -1) if it contains a single sample.\n",
      "Error in DifferentialEvolution for sample 88: Expected 2D array, got 1D array instead:\n",
      "array=[].\n",
      "Reshape your data either using array.reshape(-1, 1) if your data has a single feature or array.reshape(1, -1) if it contains a single sample.\n",
      "Error in FireflyAlgorithm for sample 88: Expected 2D array, got 1D array instead:\n",
      "array=[].\n",
      "Reshape your data either using array.reshape(-1, 1) if your data has a single feature or array.reshape(1, -1) if it contains a single sample.\n",
      "Error in HarmonySearch for sample 88: Expected 2D array, got 1D array instead:\n",
      "array=[].\n",
      "Reshape your data either using array.reshape(-1, 1) if your data has a single feature or array.reshape(1, -1) if it contains a single sample.\n",
      "Best model for sample 88: None\n",
      "--------------------------------------------------\n",
      "Running attack for sample 89...\n",
      "Error in HillClimbing for sample 89: Expected 2D array, got 1D array instead:\n",
      "array=[].\n",
      "Reshape your data either using array.reshape(-1, 1) if your data has a single feature or array.reshape(1, -1) if it contains a single sample.\n",
      "Error in SimulatedAnnealing for sample 89: Expected 2D array, got 1D array instead:\n",
      "array=[].\n",
      "Reshape your data either using array.reshape(-1, 1) if your data has a single feature or array.reshape(1, -1) if it contains a single sample.\n",
      "Error in TabuSearch for sample 89: Expected 2D array, got 1D array instead:\n",
      "array=[].\n",
      "Reshape your data either using array.reshape(-1, 1) if your data has a single feature or array.reshape(1, -1) if it contains a single sample.\n",
      "Error in GeneticAlgorithm for sample 89: Expected 2D array, got 1D array instead:\n",
      "array=[].\n",
      "Reshape your data either using array.reshape(-1, 1) if your data has a single feature or array.reshape(1, -1) if it contains a single sample.\n",
      "Error in ParticleSwarm for sample 89: Expected 2D array, got 1D array instead:\n",
      "array=[].\n",
      "Reshape your data either using array.reshape(-1, 1) if your data has a single feature or array.reshape(1, -1) if it contains a single sample.\n",
      "Error in DifferentialEvolution for sample 89: Expected 2D array, got 1D array instead:\n",
      "array=[].\n",
      "Reshape your data either using array.reshape(-1, 1) if your data has a single feature or array.reshape(1, -1) if it contains a single sample.\n",
      "Error in FireflyAlgorithm for sample 89: Expected 2D array, got 1D array instead:\n",
      "array=[].\n",
      "Reshape your data either using array.reshape(-1, 1) if your data has a single feature or array.reshape(1, -1) if it contains a single sample.\n",
      "Error in HarmonySearch for sample 89: Expected 2D array, got 1D array instead:\n",
      "array=[].\n",
      "Reshape your data either using array.reshape(-1, 1) if your data has a single feature or array.reshape(1, -1) if it contains a single sample.\n",
      "Best model for sample 89: None\n",
      "--------------------------------------------------\n",
      "Running attack for sample 90...\n",
      "Error in HillClimbing for sample 90: Expected 2D array, got 1D array instead:\n",
      "array=[].\n",
      "Reshape your data either using array.reshape(-1, 1) if your data has a single feature or array.reshape(1, -1) if it contains a single sample.\n",
      "Error in SimulatedAnnealing for sample 90: Expected 2D array, got 1D array instead:\n",
      "array=[].\n",
      "Reshape your data either using array.reshape(-1, 1) if your data has a single feature or array.reshape(1, -1) if it contains a single sample.\n",
      "Error in TabuSearch for sample 90: Expected 2D array, got 1D array instead:\n",
      "array=[].\n",
      "Reshape your data either using array.reshape(-1, 1) if your data has a single feature or array.reshape(1, -1) if it contains a single sample.\n",
      "Error in GeneticAlgorithm for sample 90: Expected 2D array, got 1D array instead:\n",
      "array=[].\n",
      "Reshape your data either using array.reshape(-1, 1) if your data has a single feature or array.reshape(1, -1) if it contains a single sample.\n",
      "Error in ParticleSwarm for sample 90: Expected 2D array, got 1D array instead:\n",
      "array=[].\n",
      "Reshape your data either using array.reshape(-1, 1) if your data has a single feature or array.reshape(1, -1) if it contains a single sample.\n",
      "Error in DifferentialEvolution for sample 90: Expected 2D array, got 1D array instead:\n",
      "array=[].\n",
      "Reshape your data either using array.reshape(-1, 1) if your data has a single feature or array.reshape(1, -1) if it contains a single sample.\n",
      "Error in FireflyAlgorithm for sample 90: Expected 2D array, got 1D array instead:\n",
      "array=[].\n",
      "Reshape your data either using array.reshape(-1, 1) if your data has a single feature or array.reshape(1, -1) if it contains a single sample.\n",
      "Error in HarmonySearch for sample 90: Expected 2D array, got 1D array instead:\n",
      "array=[].\n",
      "Reshape your data either using array.reshape(-1, 1) if your data has a single feature or array.reshape(1, -1) if it contains a single sample.\n",
      "Best model for sample 90: None\n",
      "--------------------------------------------------\n",
      "Running attack for sample 91...\n",
      "Error in HillClimbing for sample 91: Expected 2D array, got 1D array instead:\n",
      "array=[].\n",
      "Reshape your data either using array.reshape(-1, 1) if your data has a single feature or array.reshape(1, -1) if it contains a single sample.\n",
      "Error in SimulatedAnnealing for sample 91: Expected 2D array, got 1D array instead:\n",
      "array=[].\n",
      "Reshape your data either using array.reshape(-1, 1) if your data has a single feature or array.reshape(1, -1) if it contains a single sample.\n",
      "Error in TabuSearch for sample 91: Expected 2D array, got 1D array instead:\n",
      "array=[].\n",
      "Reshape your data either using array.reshape(-1, 1) if your data has a single feature or array.reshape(1, -1) if it contains a single sample.\n",
      "Error in GeneticAlgorithm for sample 91: Expected 2D array, got 1D array instead:\n",
      "array=[].\n",
      "Reshape your data either using array.reshape(-1, 1) if your data has a single feature or array.reshape(1, -1) if it contains a single sample.\n",
      "Error in ParticleSwarm for sample 91: Expected 2D array, got 1D array instead:\n",
      "array=[].\n",
      "Reshape your data either using array.reshape(-1, 1) if your data has a single feature or array.reshape(1, -1) if it contains a single sample.\n",
      "Error in DifferentialEvolution for sample 91: Expected 2D array, got 1D array instead:\n",
      "array=[].\n",
      "Reshape your data either using array.reshape(-1, 1) if your data has a single feature or array.reshape(1, -1) if it contains a single sample.\n",
      "Error in FireflyAlgorithm for sample 91: Expected 2D array, got 1D array instead:\n",
      "array=[].\n",
      "Reshape your data either using array.reshape(-1, 1) if your data has a single feature or array.reshape(1, -1) if it contains a single sample.\n",
      "Error in HarmonySearch for sample 91: Expected 2D array, got 1D array instead:\n",
      "array=[].\n",
      "Reshape your data either using array.reshape(-1, 1) if your data has a single feature or array.reshape(1, -1) if it contains a single sample.\n",
      "Best model for sample 91: None\n",
      "--------------------------------------------------\n",
      "Running attack for sample 92...\n",
      "Error in HillClimbing for sample 92: Expected 2D array, got 1D array instead:\n",
      "array=[].\n",
      "Reshape your data either using array.reshape(-1, 1) if your data has a single feature or array.reshape(1, -1) if it contains a single sample.\n",
      "Error in SimulatedAnnealing for sample 92: Expected 2D array, got 1D array instead:\n",
      "array=[].\n",
      "Reshape your data either using array.reshape(-1, 1) if your data has a single feature or array.reshape(1, -1) if it contains a single sample.\n",
      "Error in TabuSearch for sample 92: Expected 2D array, got 1D array instead:\n",
      "array=[].\n",
      "Reshape your data either using array.reshape(-1, 1) if your data has a single feature or array.reshape(1, -1) if it contains a single sample.\n",
      "Error in GeneticAlgorithm for sample 92: Expected 2D array, got 1D array instead:\n",
      "array=[].\n",
      "Reshape your data either using array.reshape(-1, 1) if your data has a single feature or array.reshape(1, -1) if it contains a single sample.\n",
      "Error in ParticleSwarm for sample 92: Expected 2D array, got 1D array instead:\n",
      "array=[].\n",
      "Reshape your data either using array.reshape(-1, 1) if your data has a single feature or array.reshape(1, -1) if it contains a single sample.\n",
      "Error in DifferentialEvolution for sample 92: Expected 2D array, got 1D array instead:\n",
      "array=[].\n",
      "Reshape your data either using array.reshape(-1, 1) if your data has a single feature or array.reshape(1, -1) if it contains a single sample.\n",
      "Error in FireflyAlgorithm for sample 92: Expected 2D array, got 1D array instead:\n",
      "array=[].\n",
      "Reshape your data either using array.reshape(-1, 1) if your data has a single feature or array.reshape(1, -1) if it contains a single sample.\n",
      "Error in HarmonySearch for sample 92: Expected 2D array, got 1D array instead:\n",
      "array=[].\n",
      "Reshape your data either using array.reshape(-1, 1) if your data has a single feature or array.reshape(1, -1) if it contains a single sample.\n",
      "Best model for sample 92: None\n",
      "--------------------------------------------------\n",
      "Running attack for sample 93...\n",
      "Error in HillClimbing for sample 93: Expected 2D array, got 1D array instead:\n",
      "array=[].\n",
      "Reshape your data either using array.reshape(-1, 1) if your data has a single feature or array.reshape(1, -1) if it contains a single sample.\n",
      "Error in SimulatedAnnealing for sample 93: Expected 2D array, got 1D array instead:\n",
      "array=[].\n",
      "Reshape your data either using array.reshape(-1, 1) if your data has a single feature or array.reshape(1, -1) if it contains a single sample.\n",
      "Error in TabuSearch for sample 93: Expected 2D array, got 1D array instead:\n",
      "array=[].\n",
      "Reshape your data either using array.reshape(-1, 1) if your data has a single feature or array.reshape(1, -1) if it contains a single sample.\n",
      "Error in GeneticAlgorithm for sample 93: Expected 2D array, got 1D array instead:\n",
      "array=[].\n",
      "Reshape your data either using array.reshape(-1, 1) if your data has a single feature or array.reshape(1, -1) if it contains a single sample.\n",
      "Error in ParticleSwarm for sample 93: Expected 2D array, got 1D array instead:\n",
      "array=[].\n",
      "Reshape your data either using array.reshape(-1, 1) if your data has a single feature or array.reshape(1, -1) if it contains a single sample.\n",
      "Error in DifferentialEvolution for sample 93: Expected 2D array, got 1D array instead:\n",
      "array=[].\n",
      "Reshape your data either using array.reshape(-1, 1) if your data has a single feature or array.reshape(1, -1) if it contains a single sample.\n",
      "Error in FireflyAlgorithm for sample 93: Expected 2D array, got 1D array instead:\n",
      "array=[].\n",
      "Reshape your data either using array.reshape(-1, 1) if your data has a single feature or array.reshape(1, -1) if it contains a single sample.\n",
      "Error in HarmonySearch for sample 93: Expected 2D array, got 1D array instead:\n",
      "array=[].\n",
      "Reshape your data either using array.reshape(-1, 1) if your data has a single feature or array.reshape(1, -1) if it contains a single sample.\n",
      "Best model for sample 93: None\n",
      "--------------------------------------------------\n",
      "Running attack for sample 94...\n",
      "Error in HillClimbing for sample 94: Expected 2D array, got 1D array instead:\n",
      "array=[].\n",
      "Reshape your data either using array.reshape(-1, 1) if your data has a single feature or array.reshape(1, -1) if it contains a single sample.\n",
      "Error in SimulatedAnnealing for sample 94: Expected 2D array, got 1D array instead:\n",
      "array=[].\n",
      "Reshape your data either using array.reshape(-1, 1) if your data has a single feature or array.reshape(1, -1) if it contains a single sample.\n",
      "Error in TabuSearch for sample 94: Expected 2D array, got 1D array instead:\n",
      "array=[].\n",
      "Reshape your data either using array.reshape(-1, 1) if your data has a single feature or array.reshape(1, -1) if it contains a single sample.\n",
      "Error in GeneticAlgorithm for sample 94: Expected 2D array, got 1D array instead:\n",
      "array=[].\n",
      "Reshape your data either using array.reshape(-1, 1) if your data has a single feature or array.reshape(1, -1) if it contains a single sample.\n",
      "Error in ParticleSwarm for sample 94: Expected 2D array, got 1D array instead:\n",
      "array=[].\n",
      "Reshape your data either using array.reshape(-1, 1) if your data has a single feature or array.reshape(1, -1) if it contains a single sample.\n",
      "Error in DifferentialEvolution for sample 94: Expected 2D array, got 1D array instead:\n",
      "array=[].\n",
      "Reshape your data either using array.reshape(-1, 1) if your data has a single feature or array.reshape(1, -1) if it contains a single sample.\n",
      "Error in FireflyAlgorithm for sample 94: Expected 2D array, got 1D array instead:\n",
      "array=[].\n",
      "Reshape your data either using array.reshape(-1, 1) if your data has a single feature or array.reshape(1, -1) if it contains a single sample.\n",
      "Error in HarmonySearch for sample 94: Expected 2D array, got 1D array instead:\n",
      "array=[].\n",
      "Reshape your data either using array.reshape(-1, 1) if your data has a single feature or array.reshape(1, -1) if it contains a single sample.\n",
      "Best model for sample 94: None\n",
      "--------------------------------------------------\n",
      "Running attack for sample 95...\n",
      "Error in HillClimbing for sample 95: Expected 2D array, got 1D array instead:\n",
      "array=[].\n",
      "Reshape your data either using array.reshape(-1, 1) if your data has a single feature or array.reshape(1, -1) if it contains a single sample.\n",
      "Error in SimulatedAnnealing for sample 95: Expected 2D array, got 1D array instead:\n",
      "array=[].\n",
      "Reshape your data either using array.reshape(-1, 1) if your data has a single feature or array.reshape(1, -1) if it contains a single sample.\n",
      "Error in TabuSearch for sample 95: Expected 2D array, got 1D array instead:\n",
      "array=[].\n",
      "Reshape your data either using array.reshape(-1, 1) if your data has a single feature or array.reshape(1, -1) if it contains a single sample.\n",
      "Error in GeneticAlgorithm for sample 95: Expected 2D array, got 1D array instead:\n",
      "array=[].\n",
      "Reshape your data either using array.reshape(-1, 1) if your data has a single feature or array.reshape(1, -1) if it contains a single sample.\n",
      "Error in ParticleSwarm for sample 95: Expected 2D array, got 1D array instead:\n",
      "array=[].\n",
      "Reshape your data either using array.reshape(-1, 1) if your data has a single feature or array.reshape(1, -1) if it contains a single sample.\n",
      "Error in DifferentialEvolution for sample 95: Expected 2D array, got 1D array instead:\n",
      "array=[].\n",
      "Reshape your data either using array.reshape(-1, 1) if your data has a single feature or array.reshape(1, -1) if it contains a single sample.\n",
      "Error in FireflyAlgorithm for sample 95: Expected 2D array, got 1D array instead:\n",
      "array=[].\n",
      "Reshape your data either using array.reshape(-1, 1) if your data has a single feature or array.reshape(1, -1) if it contains a single sample.\n",
      "Error in HarmonySearch for sample 95: Expected 2D array, got 1D array instead:\n",
      "array=[].\n",
      "Reshape your data either using array.reshape(-1, 1) if your data has a single feature or array.reshape(1, -1) if it contains a single sample.\n",
      "Best model for sample 95: None\n",
      "--------------------------------------------------\n",
      "Running attack for sample 96...\n",
      "Error in HillClimbing for sample 96: Expected 2D array, got 1D array instead:\n",
      "array=[].\n",
      "Reshape your data either using array.reshape(-1, 1) if your data has a single feature or array.reshape(1, -1) if it contains a single sample.\n",
      "Error in SimulatedAnnealing for sample 96: Expected 2D array, got 1D array instead:\n",
      "array=[].\n",
      "Reshape your data either using array.reshape(-1, 1) if your data has a single feature or array.reshape(1, -1) if it contains a single sample.\n",
      "Error in TabuSearch for sample 96: Expected 2D array, got 1D array instead:\n",
      "array=[].\n",
      "Reshape your data either using array.reshape(-1, 1) if your data has a single feature or array.reshape(1, -1) if it contains a single sample.\n",
      "Error in GeneticAlgorithm for sample 96: Expected 2D array, got 1D array instead:\n",
      "array=[].\n",
      "Reshape your data either using array.reshape(-1, 1) if your data has a single feature or array.reshape(1, -1) if it contains a single sample.\n",
      "Error in ParticleSwarm for sample 96: Expected 2D array, got 1D array instead:\n",
      "array=[].\n",
      "Reshape your data either using array.reshape(-1, 1) if your data has a single feature or array.reshape(1, -1) if it contains a single sample.\n",
      "Error in DifferentialEvolution for sample 96: Expected 2D array, got 1D array instead:\n",
      "array=[].\n",
      "Reshape your data either using array.reshape(-1, 1) if your data has a single feature or array.reshape(1, -1) if it contains a single sample.\n",
      "Error in FireflyAlgorithm for sample 96: Expected 2D array, got 1D array instead:\n",
      "array=[].\n",
      "Reshape your data either using array.reshape(-1, 1) if your data has a single feature or array.reshape(1, -1) if it contains a single sample.\n",
      "Error in HarmonySearch for sample 96: Expected 2D array, got 1D array instead:\n",
      "array=[].\n",
      "Reshape your data either using array.reshape(-1, 1) if your data has a single feature or array.reshape(1, -1) if it contains a single sample.\n",
      "Best model for sample 96: None\n",
      "--------------------------------------------------\n",
      "Running attack for sample 97...\n",
      "Error in HillClimbing for sample 97: Expected 2D array, got 1D array instead:\n",
      "array=[].\n",
      "Reshape your data either using array.reshape(-1, 1) if your data has a single feature or array.reshape(1, -1) if it contains a single sample.\n",
      "Error in SimulatedAnnealing for sample 97: Expected 2D array, got 1D array instead:\n",
      "array=[].\n",
      "Reshape your data either using array.reshape(-1, 1) if your data has a single feature or array.reshape(1, -1) if it contains a single sample.\n",
      "Error in TabuSearch for sample 97: Expected 2D array, got 1D array instead:\n",
      "array=[].\n",
      "Reshape your data either using array.reshape(-1, 1) if your data has a single feature or array.reshape(1, -1) if it contains a single sample.\n",
      "Error in GeneticAlgorithm for sample 97: Expected 2D array, got 1D array instead:\n",
      "array=[].\n",
      "Reshape your data either using array.reshape(-1, 1) if your data has a single feature or array.reshape(1, -1) if it contains a single sample.\n",
      "Error in ParticleSwarm for sample 97: Expected 2D array, got 1D array instead:\n",
      "array=[].\n",
      "Reshape your data either using array.reshape(-1, 1) if your data has a single feature or array.reshape(1, -1) if it contains a single sample.\n",
      "Error in DifferentialEvolution for sample 97: Expected 2D array, got 1D array instead:\n",
      "array=[].\n",
      "Reshape your data either using array.reshape(-1, 1) if your data has a single feature or array.reshape(1, -1) if it contains a single sample.\n",
      "Error in FireflyAlgorithm for sample 97: Expected 2D array, got 1D array instead:\n",
      "array=[].\n",
      "Reshape your data either using array.reshape(-1, 1) if your data has a single feature or array.reshape(1, -1) if it contains a single sample.\n",
      "Error in HarmonySearch for sample 97: Expected 2D array, got 1D array instead:\n",
      "array=[].\n",
      "Reshape your data either using array.reshape(-1, 1) if your data has a single feature or array.reshape(1, -1) if it contains a single sample.\n",
      "Best model for sample 97: None\n",
      "--------------------------------------------------\n",
      "Running attack for sample 98...\n",
      "Error in HillClimbing for sample 98: Expected 2D array, got 1D array instead:\n",
      "array=[].\n",
      "Reshape your data either using array.reshape(-1, 1) if your data has a single feature or array.reshape(1, -1) if it contains a single sample.\n",
      "Error in SimulatedAnnealing for sample 98: Expected 2D array, got 1D array instead:\n",
      "array=[].\n",
      "Reshape your data either using array.reshape(-1, 1) if your data has a single feature or array.reshape(1, -1) if it contains a single sample.\n",
      "Error in TabuSearch for sample 98: Expected 2D array, got 1D array instead:\n",
      "array=[].\n",
      "Reshape your data either using array.reshape(-1, 1) if your data has a single feature or array.reshape(1, -1) if it contains a single sample.\n",
      "Error in GeneticAlgorithm for sample 98: Expected 2D array, got 1D array instead:\n",
      "array=[].\n",
      "Reshape your data either using array.reshape(-1, 1) if your data has a single feature or array.reshape(1, -1) if it contains a single sample.\n",
      "Error in ParticleSwarm for sample 98: Expected 2D array, got 1D array instead:\n",
      "array=[].\n",
      "Reshape your data either using array.reshape(-1, 1) if your data has a single feature or array.reshape(1, -1) if it contains a single sample.\n",
      "Error in DifferentialEvolution for sample 98: Expected 2D array, got 1D array instead:\n",
      "array=[].\n",
      "Reshape your data either using array.reshape(-1, 1) if your data has a single feature or array.reshape(1, -1) if it contains a single sample.\n",
      "Error in FireflyAlgorithm for sample 98: Expected 2D array, got 1D array instead:\n",
      "array=[].\n",
      "Reshape your data either using array.reshape(-1, 1) if your data has a single feature or array.reshape(1, -1) if it contains a single sample.\n",
      "Error in HarmonySearch for sample 98: Expected 2D array, got 1D array instead:\n",
      "array=[].\n",
      "Reshape your data either using array.reshape(-1, 1) if your data has a single feature or array.reshape(1, -1) if it contains a single sample.\n",
      "Best model for sample 98: None\n",
      "--------------------------------------------------\n",
      "Running attack for sample 99...\n",
      "Error in HillClimbing for sample 99: Expected 2D array, got 1D array instead:\n",
      "array=[].\n",
      "Reshape your data either using array.reshape(-1, 1) if your data has a single feature or array.reshape(1, -1) if it contains a single sample.\n",
      "Error in SimulatedAnnealing for sample 99: Expected 2D array, got 1D array instead:\n",
      "array=[].\n",
      "Reshape your data either using array.reshape(-1, 1) if your data has a single feature or array.reshape(1, -1) if it contains a single sample.\n",
      "Error in TabuSearch for sample 99: Expected 2D array, got 1D array instead:\n",
      "array=[].\n",
      "Reshape your data either using array.reshape(-1, 1) if your data has a single feature or array.reshape(1, -1) if it contains a single sample.\n",
      "Error in GeneticAlgorithm for sample 99: Expected 2D array, got 1D array instead:\n",
      "array=[].\n",
      "Reshape your data either using array.reshape(-1, 1) if your data has a single feature or array.reshape(1, -1) if it contains a single sample.\n",
      "Error in ParticleSwarm for sample 99: Expected 2D array, got 1D array instead:\n",
      "array=[].\n",
      "Reshape your data either using array.reshape(-1, 1) if your data has a single feature or array.reshape(1, -1) if it contains a single sample.\n",
      "Error in DifferentialEvolution for sample 99: Expected 2D array, got 1D array instead:\n",
      "array=[].\n",
      "Reshape your data either using array.reshape(-1, 1) if your data has a single feature or array.reshape(1, -1) if it contains a single sample.\n",
      "Error in FireflyAlgorithm for sample 99: Expected 2D array, got 1D array instead:\n",
      "array=[].\n",
      "Reshape your data either using array.reshape(-1, 1) if your data has a single feature or array.reshape(1, -1) if it contains a single sample.\n",
      "Error in HarmonySearch for sample 99: Expected 2D array, got 1D array instead:\n",
      "array=[].\n",
      "Reshape your data either using array.reshape(-1, 1) if your data has a single feature or array.reshape(1, -1) if it contains a single sample.\n",
      "Best model for sample 99: None\n",
      "--------------------------------------------------\n",
      "Running attack for sample 100...\n",
      "Error in HillClimbing for sample 100: Expected 2D array, got 1D array instead:\n",
      "array=[].\n",
      "Reshape your data either using array.reshape(-1, 1) if your data has a single feature or array.reshape(1, -1) if it contains a single sample.\n",
      "Error in SimulatedAnnealing for sample 100: Expected 2D array, got 1D array instead:\n",
      "array=[].\n",
      "Reshape your data either using array.reshape(-1, 1) if your data has a single feature or array.reshape(1, -1) if it contains a single sample.\n",
      "Error in TabuSearch for sample 100: Expected 2D array, got 1D array instead:\n",
      "array=[].\n",
      "Reshape your data either using array.reshape(-1, 1) if your data has a single feature or array.reshape(1, -1) if it contains a single sample.\n",
      "Error in GeneticAlgorithm for sample 100: Expected 2D array, got 1D array instead:\n",
      "array=[].\n",
      "Reshape your data either using array.reshape(-1, 1) if your data has a single feature or array.reshape(1, -1) if it contains a single sample.\n",
      "Error in ParticleSwarm for sample 100: Expected 2D array, got 1D array instead:\n",
      "array=[].\n",
      "Reshape your data either using array.reshape(-1, 1) if your data has a single feature or array.reshape(1, -1) if it contains a single sample.\n",
      "Error in DifferentialEvolution for sample 100: Expected 2D array, got 1D array instead:\n",
      "array=[].\n",
      "Reshape your data either using array.reshape(-1, 1) if your data has a single feature or array.reshape(1, -1) if it contains a single sample.\n",
      "Error in FireflyAlgorithm for sample 100: Expected 2D array, got 1D array instead:\n",
      "array=[].\n",
      "Reshape your data either using array.reshape(-1, 1) if your data has a single feature or array.reshape(1, -1) if it contains a single sample.\n",
      "Error in HarmonySearch for sample 100: Expected 2D array, got 1D array instead:\n",
      "array=[].\n",
      "Reshape your data either using array.reshape(-1, 1) if your data has a single feature or array.reshape(1, -1) if it contains a single sample.\n",
      "Best model for sample 100: None\n",
      "--------------------------------------------------\n",
      "HillClimbing best: 2\n",
      "SimulatedAnnealing best: 0\n",
      "TabuSearch best: 4\n",
      "GeneticAlgorithm best: 0\n",
      "ParticleSwarm best: 0\n",
      "DifferentialEvolution best: 0\n",
      "FireflyAlgorithm best: 0\n",
      "HarmonySearch best: 0\n",
      "\n",
      "HillClimbing time: 33.49360752105713\n",
      "SimulatedAnnealing time: 25.837135076522827\n",
      "TabuSearch time: 65.80037903785706\n",
      "GeneticAlgorithm time: 2.6546835899353027\n",
      "ParticleSwarm time: 2.466284990310669\n",
      "DifferentialEvolution time: 0\n",
      "FireflyAlgorithm time: 2.517406463623047\n",
      "HarmonySearch time: 2.3346054553985596\n"
     ]
    }
   ],
   "source": [
    "model_wrapper = model\n",
    "\n",
    "# Define the constraints for the attack: clip values between 1st and 99th percentiles\n",
    "clip_min = X_train.quantile(0.01)\n",
    "clip_max = X_train.quantile(0.99)\n",
    "constraints = {\n",
    "    \"equality\": [\"x[4] = 0.0\", \"x[5] = 0.0\", \"x[6] = 1.0\"],\n",
    "    \"inequality\": [],\n",
    "    \"clip_min\": list(clip_min),\n",
    "    \"clip_max\": list(clip_max),\n",
    "    \"categorical\": [None] * X_test.shape[1]\n",
    "}\n",
    "\n",
    "# Define the neighborhood function\n",
    "neighborhood = Radar(constraints, num_samples=100)\n",
    "\n",
    "# Define the attack\n",
    "attack = HillClimbing(estimator=model_wrapper, verbose=0)\n",
    "attack2 = SimulatedAnnealing(estimator=model_wrapper, verbose=0)\n",
    "attack3 = TabuSearch(estimator=model_wrapper, verbose=0)\n",
    "attack4 = GeneticAlgorithm(estimator=model_wrapper, verbose=0)\n",
    "attack5 = ParticleSwarm(estimator=model_wrapper, verbose=0)\n",
    "attack6 = DifferentialEvolution(estimator=model_wrapper, verbose=0)\n",
    "attack7 = FireflyAlgorithm(estimator=model_wrapper, verbose=0)\n",
    "attack8 = HarmonySearch(estimator=model_wrapper, verbose=0)    \n",
    "\n",
    "# Initiate list to store results\n",
    "resulthc = list()\n",
    "resultsa = list()\n",
    "resultts = list()\n",
    "resultga = list()\n",
    "resultps = list()\n",
    "resultde = list()\n",
    "resultfa = list()\n",
    "resulths = list()\n",
    "\n",
    "hc_best = 0\n",
    "sa_best = 0\n",
    "ts_best = 0\n",
    "ga_best = 0\n",
    "ps_best = 0\n",
    "de_best = 0\n",
    "fa_best = 0\n",
    "hs_best = 0\n",
    "\n",
    "hc_time = 0\n",
    "sa_time = 0\n",
    "ts_time = 0\n",
    "ga_time = 0\n",
    "ps_time = 0\n",
    "de_time = 0\n",
    "fa_time = 0\n",
    "hs_time = 0\n",
    "\n",
    "hc_best_absolute_scores = []\n",
    "sa_best_absolute_scores = []\n",
    "ts_best_absolute_scores = []\n",
    "ga_best_absolute_scores = []\n",
    "ps_best_absolute_scores = []\n",
    "de_best_absolute_scores = []\n",
    "fa_best_absolute_scores = []\n",
    "hs_best_absolute_scores = []\n",
    "\n",
    "# Perform the attack for all samples in X_attack\n",
    "for k, x in enumerate(X_attack):\n",
    "    best_cost = np.inf\n",
    "    best_model = None\n",
    "    print(f\"Running attack for sample {k + 1}...\")\n",
    "    for at in [attack, attack2, attack3, attack4, attack5, attack6, attack7, attack8]:\n",
    "        t0 = time.time()\n",
    "        try:\n",
    "            result = at.run(\n",
    "                input=x,\n",
    "                cost_function=custom_cost,\n",
    "                targeted=False,\n",
    "                neighborhood=neighborhood,\n",
    "                max_iter=10,\n",
    "                patience=10,\n",
    "            )\n",
    "        except Exception as e:\n",
    "            #raise(e)\n",
    "            print(f\"Error in {at.__class__.__name__} for sample {k + 1}: {e}\")\n",
    "            continue\n",
    "        x_adv = result[0]\n",
    "        rel_cost = custom_cost(xi=x, x=x_adv)\n",
    "        abs_cost = absolute_custom_cost(xi=x, x=x_adv)\n",
    "        print(f\"Attack: {at.__class__.__name__}: Relative cost:\", round(rel_cost, 3))\n",
    "        print(\"-\" * 50)\n",
    "\n",
    "        res = {\n",
    "            \"sample\": k + 1,\n",
    "            \"attack\": at.__class__.__name__,\n",
    "            \"relative_cost\": rel_cost,\n",
    "            \"absolute_cost\": abs_cost,\n",
    "            \"x_adv\": x_adv\n",
    "        }\n",
    "\n",
    "        if abs_cost < best_cost:\n",
    "            best_cost = abs_cost\n",
    "            best_model = at.__class__.__name__\n",
    "        #print(res)\n",
    "        if at.__class__.__name__ == 'HillClimbing':\n",
    "            resulthc.append(result)\n",
    "        elif at.__class__.__name__ == 'SimulatedAnnealing':\n",
    "            resultsa.append(result)\n",
    "        elif at.__class__.__name__ == 'TabuSearch':\n",
    "            resultts.append(result)\n",
    "        elif at.__class__.__name__ == 'GeneticAlgorithm':\n",
    "            resultga.append(result)\n",
    "        elif at.__class__.__name__ == 'ParticleSwarm':\n",
    "            resultps.append(result)\n",
    "        elif at.__class__.__name__ == 'DifferentialEvolution':\n",
    "            resultde.append(result)\n",
    "        elif at.__class__.__name__ == 'FireflyAlgorithm':\n",
    "            resultfa.append(result)\n",
    "        elif at.__class__.__name__ == 'HarmonySearch':\n",
    "            resulths.append(result)\n",
    "    \n",
    "        time_taken = time.time() - t0\n",
    "        \n",
    "        hc_time += time_taken if at.__class__.__name__ == 'HillClimbing' else 0\n",
    "        sa_time += time_taken if at.__class__.__name__ == 'SimulatedAnnealing' else 0\n",
    "        ts_time += time_taken if at.__class__.__name__ == 'TabuSearch' else 0\n",
    "        ga_time += time_taken if at.__class__.__name__ == 'GeneticAlgorithm' else 0\n",
    "        ps_time += time_taken if at.__class__.__name__ == 'ParticleSwarm' else 0\n",
    "        de_time += time_taken if at.__class__.__class__.__name__ == 'DifferentialEvolution' else 0\n",
    "        fa_time += time_taken if at.__class__.__name__ == 'FireflyAlgorithm' else 0\n",
    "        hs_time += time_taken if at.__class__.__name__ == 'HarmonySearch' else 0\n",
    "\n",
    "        hc_best_absolute_scores.append(abs_cost) if at.__class__.__name__ == 'HillClimbing' else 0\n",
    "        sa_best_absolute_scores.append(abs_cost) if at.__class__.__name__ == 'SimulatedAnnealing' else 0\n",
    "        ts_best_absolute_scores.append(abs_cost) if at.__class__.__name__ == 'TabuSearch' else 0\n",
    "        ga_best_absolute_scores.append(abs_cost) if at.__class__.__name__ == 'GeneticAlgorithm' else 0\n",
    "        ps_best_absolute_scores.append(abs_cost) if at.__class__.__name__ == 'ParticleSwarm' else 0\n",
    "        de_best_absolute_scores.append(abs_cost) if at.__class__.__class__.__name__ == 'DifferentialEvolution' else 0\n",
    "        fa_best_absolute_scores.append(abs_cost) if at.__class__.__name__ == 'FireflyAlgorithm' else 0\n",
    "        hs_best_absolute_scores.append(abs_cost) if at.__class__.__name__ == 'HarmonySearch' else 0\n",
    "\n",
    "    print(f\"Best model for sample {k + 1}: {best_model}\")\n",
    "    print(\"-\" * 50)\n",
    "\n",
    "    hc_best += 1 if best_model == 'HillClimbing' else 0\n",
    "    sa_best += 1 if best_model == 'SimulatedAnnealing' else 0\n",
    "    ts_best += 1 if best_model == 'TabuSearch' else 0\n",
    "    ga_best += 1 if best_model == 'GeneticAlgorithm' else 0\n",
    "    ps_best += 1 if best_model == 'ParticleSwarm' else 0\n",
    "    de_best += 1 if best_model == 'DifferentialEvolution' else 0\n",
    "    fa_best += 1 if best_model == 'FireflyAlgorithm' else 0\n",
    "    hs_best += 1 if best_model == 'HarmonySearch' else 0\n",
    "\n",
    "\n",
    "print(f\"HillClimbing best: {hc_best}\")\n",
    "print(f\"SimulatedAnnealing best: {sa_best}\")\n",
    "print(f\"TabuSearch best: {ts_best}\")\n",
    "print(f\"GeneticAlgorithm best: {ga_best}\")\n",
    "print(f\"ParticleSwarm best: {ps_best}\")\n",
    "print(f\"DifferentialEvolution best: {de_best}\")\n",
    "print(f\"FireflyAlgorithm best: {fa_best}\")\n",
    "print(f\"HarmonySearch best: {hs_best}\")\n",
    "\n",
    "print(f\"\\nHillClimbing time: {hc_time}\")\n",
    "print(f\"SimulatedAnnealing time: {sa_time}\")\n",
    "print(f\"TabuSearch time: {ts_time}\")\n",
    "print(f\"GeneticAlgorithm time: {ga_time}\")\n",
    "print(f\"ParticleSwarm time: {ps_time}\")\n",
    "print(f\"DifferentialEvolution time: {de_time}\")\n",
    "print(f\"FireflyAlgorithm time: {fa_time}\")\n",
    "print(f\"HarmonySearch time: {hs_time}\")\n",
    "\n",
    "# Save the results (absolute costs) to a file\n",
    "np.save('Credit_hc_best_absolute_scores_custom.npy', hc_best_absolute_scores)\n",
    "np.save('Credit_sa_best_absolute_scores_custom.npy', sa_best_absolute_scores)\n",
    "np.save('Credit_ts_best_absolute_scores_custom.npy', ts_best_absolute_scores)\n",
    "np.save('Credit_ga_best_absolute_scores_custom.npy', ga_best_absolute_scores)\n",
    "np.save('Credit_ps_best_absolute_scores_custom.npy', ps_best_absolute_scores)\n",
    "np.save('Credit_de_best_absolute_scores_custom.npy', de_best_absolute_scores)\n",
    "np.save('Credit_fa_best_absolute_scores_custom.npy', fa_best_absolute_scores)\n",
    "np.save('Credit_hs_best_absolute_scores_custom.npy', hs_best_absolute_scores)"
   ]
  },
  {
   "cell_type": "code",
   "execution_count": 52,
   "metadata": {},
   "outputs": [
    {
     "name": "stdout",
     "output_type": "stream",
     "text": [
      "distance_from_home                66.287487\n",
      "distance_from_last_transaction    12.682910\n",
      "ratio_to_median_purchase_price     6.009123\n",
      "repeat_retailer                    0.879989\n",
      "used_chip                          0.256675\n",
      "used_pin_number                    0.003173\n",
      "online_order                       0.946670\n",
      "dtype: float64\n"
     ]
    }
   ],
   "source": [
    "print(mu_k)"
   ]
  },
  {
   "cell_type": "code",
   "execution_count": 15,
   "metadata": {},
   "outputs": [
    {
     "name": "stdout",
     "output_type": "stream",
     "text": [
      "Running attack for sample 1...\n"
     ]
    },
    {
     "data": {
      "application/vnd.jupyter.widget-view+json": {
       "model_id": "0a1f52b93c364933933de6445f2c9291",
       "version_major": 2,
       "version_minor": 0
      },
      "text/plain": [
       "  0%|          | 0/200 [00:00<?, ?it/s]"
      ]
     },
     "metadata": {},
     "output_type": "display_data"
    },
    {
     "name": "stdout",
     "output_type": "stream",
     "text": [
      "Relative cost: -0.638\n",
      "Absolute cost: 0.905\n",
      "--------------------------------------------------\n"
     ]
    },
    {
     "data": {
      "application/vnd.jupyter.widget-view+json": {
       "model_id": "0eae878493f4440bb2ea19f782a60ddd",
       "version_major": 2,
       "version_minor": 0
      },
      "text/plain": [
       "  0%|          | 0/200 [00:00<?, ?it/s]"
      ]
     },
     "metadata": {},
     "output_type": "display_data"
    },
    {
     "name": "stdout",
     "output_type": "stream",
     "text": [
      "Relative cost: 0.133\n",
      "Absolute cost: 0.874\n",
      "--------------------------------------------------\n"
     ]
    },
    {
     "data": {
      "application/vnd.jupyter.widget-view+json": {
       "model_id": "00802d785d404720bc5da407d3dcb481",
       "version_major": 2,
       "version_minor": 0
      },
      "text/plain": [
       "  0%|          | 0/200 [00:00<?, ?it/s]"
      ]
     },
     "metadata": {},
     "output_type": "display_data"
    },
    {
     "name": "stdout",
     "output_type": "stream",
     "text": [
      "Relative cost: 0.068\n",
      "Absolute cost: 0.833\n",
      "--------------------------------------------------\n",
      "Best model for sample 1: TabuSearch\n",
      "--------------------------------------------------\n",
      "Running attack for sample 2...\n"
     ]
    },
    {
     "data": {
      "application/vnd.jupyter.widget-view+json": {
       "model_id": "c6504f6297044d559193191688b03cae",
       "version_major": 2,
       "version_minor": 0
      },
      "text/plain": [
       "  0%|          | 0/200 [00:00<?, ?it/s]"
      ]
     },
     "metadata": {},
     "output_type": "display_data"
    },
    {
     "name": "stdout",
     "output_type": "stream",
     "text": [
      "Relative cost: -0.112\n",
      "Absolute cost: 0.701\n",
      "--------------------------------------------------\n"
     ]
    },
    {
     "data": {
      "application/vnd.jupyter.widget-view+json": {
       "model_id": "0d6ae79e5b144d61878ee3ba068cdd2c",
       "version_major": 2,
       "version_minor": 0
      },
      "text/plain": [
       "  0%|          | 0/200 [00:00<?, ?it/s]"
      ]
     },
     "metadata": {},
     "output_type": "display_data"
    },
    {
     "name": "stdout",
     "output_type": "stream",
     "text": [
      "Relative cost: 0.105\n",
      "Absolute cost: 2.601\n",
      "--------------------------------------------------\n"
     ]
    },
    {
     "data": {
      "application/vnd.jupyter.widget-view+json": {
       "model_id": "791228f30dd74cad8e3bf482fb30186f",
       "version_major": 2,
       "version_minor": 0
      },
      "text/plain": [
       "  0%|          | 0/200 [00:00<?, ?it/s]"
      ]
     },
     "metadata": {},
     "output_type": "display_data"
    },
    {
     "name": "stdout",
     "output_type": "stream",
     "text": [
      "Relative cost: 0.06\n",
      "Absolute cost: 2.558\n",
      "--------------------------------------------------\n",
      "Best model for sample 2: HillClimbing\n",
      "--------------------------------------------------\n",
      "Running attack for sample 3...\n"
     ]
    },
    {
     "data": {
      "application/vnd.jupyter.widget-view+json": {
       "model_id": "293bdcc1da334c8eb9a3e927e00d4971",
       "version_major": 2,
       "version_minor": 0
      },
      "text/plain": [
       "  0%|          | 0/200 [00:00<?, ?it/s]"
      ]
     },
     "metadata": {},
     "output_type": "display_data"
    },
    {
     "name": "stdout",
     "output_type": "stream",
     "text": [
      "Radar Warning: The number of trials exceeded 10% of maximum generation trials. Found 0 valid samples.\n",
      "Radar Warning: The number of trials exceeded 10% of maximum generation trials. Found 0 valid samples.\n",
      "Radar Warning: The number of trials exceeded 25% of maximum generation trials. Found 0 valid samples.\n",
      "Radar Warning: The number of trials exceeded 50% of maximum generation trials. Found 0 valid samples.\n",
      "Error: RADAR: No valid sample satisfied the constraints after 1000 trials.\n"
     ]
    },
    {
     "data": {
      "application/vnd.jupyter.widget-view+json": {
       "model_id": "80a64aa290374fe3a8f733702515ad80",
       "version_major": 2,
       "version_minor": 0
      },
      "text/plain": [
       "  0%|          | 0/200 [00:00<?, ?it/s]"
      ]
     },
     "metadata": {},
     "output_type": "display_data"
    },
    {
     "name": "stdout",
     "output_type": "stream",
     "text": [
      "Relative cost: 0.265\n",
      "Absolute cost: 0.474\n",
      "--------------------------------------------------\n"
     ]
    },
    {
     "data": {
      "application/vnd.jupyter.widget-view+json": {
       "model_id": "f2c8f5516056463597aa1f5538101a1c",
       "version_major": 2,
       "version_minor": 0
      },
      "text/plain": [
       "  0%|          | 0/200 [00:00<?, ?it/s]"
      ]
     },
     "metadata": {},
     "output_type": "display_data"
    },
    {
     "name": "stdout",
     "output_type": "stream",
     "text": [
      "Relative cost: 0.206\n",
      "Absolute cost: 0.392\n",
      "--------------------------------------------------\n",
      "Best model for sample 3: TabuSearch\n",
      "--------------------------------------------------\n",
      "Running attack for sample 4...\n"
     ]
    },
    {
     "data": {
      "application/vnd.jupyter.widget-view+json": {
       "model_id": "2e090dab924c4c70abd35943d5362c48",
       "version_major": 2,
       "version_minor": 0
      },
      "text/plain": [
       "  0%|          | 0/200 [00:00<?, ?it/s]"
      ]
     },
     "metadata": {},
     "output_type": "display_data"
    },
    {
     "name": "stdout",
     "output_type": "stream",
     "text": [
      "Relative cost: -0.555\n",
      "Absolute cost: 0.493\n",
      "--------------------------------------------------\n"
     ]
    },
    {
     "data": {
      "application/vnd.jupyter.widget-view+json": {
       "model_id": "23c7f62aaf9842ef939a05adfbf23cd9",
       "version_major": 2,
       "version_minor": 0
      },
      "text/plain": [
       "  0%|          | 0/200 [00:00<?, ?it/s]"
      ]
     },
     "metadata": {},
     "output_type": "display_data"
    },
    {
     "name": "stdout",
     "output_type": "stream",
     "text": [
      "Relative cost: 0.187\n",
      "Absolute cost: 0.633\n",
      "--------------------------------------------------\n"
     ]
    },
    {
     "data": {
      "application/vnd.jupyter.widget-view+json": {
       "model_id": "7c9f6d575feb4892af670c76d03027b7",
       "version_major": 2,
       "version_minor": 0
      },
      "text/plain": [
       "  0%|          | 0/200 [00:00<?, ?it/s]"
      ]
     },
     "metadata": {},
     "output_type": "display_data"
    },
    {
     "name": "stdout",
     "output_type": "stream",
     "text": [
      "Relative cost: 0.269\n",
      "Absolute cost: 0.725\n",
      "--------------------------------------------------\n",
      "Best model for sample 4: HillClimbing\n",
      "--------------------------------------------------\n",
      "Running attack for sample 5...\n"
     ]
    },
    {
     "data": {
      "application/vnd.jupyter.widget-view+json": {
       "model_id": "a8f155d4baaa47ab8b80dd1cc2e27348",
       "version_major": 2,
       "version_minor": 0
      },
      "text/plain": [
       "  0%|          | 0/200 [00:00<?, ?it/s]"
      ]
     },
     "metadata": {},
     "output_type": "display_data"
    },
    {
     "name": "stdout",
     "output_type": "stream",
     "text": [
      "Radar Warning: The number of trials exceeded 10% of maximum generation trials. Found 0 valid samples.\n",
      "Radar Warning: The number of trials exceeded 25% of maximum generation trials. Found 0 valid samples.\n",
      "Radar Warning: The number of trials exceeded 50% of maximum generation trials. Found 0 valid samples.\n",
      "Error: RADAR: No valid sample satisfied the constraints after 1000 trials.\n"
     ]
    },
    {
     "data": {
      "application/vnd.jupyter.widget-view+json": {
       "model_id": "98c724e18c6f42528ffe80afbcdbfad0",
       "version_major": 2,
       "version_minor": 0
      },
      "text/plain": [
       "  0%|          | 0/200 [00:00<?, ?it/s]"
      ]
     },
     "metadata": {},
     "output_type": "display_data"
    },
    {
     "name": "stdout",
     "output_type": "stream",
     "text": [
      "Relative cost: 0.354\n",
      "Absolute cost: 0.542\n",
      "--------------------------------------------------\n"
     ]
    },
    {
     "data": {
      "application/vnd.jupyter.widget-view+json": {
       "model_id": "66c577a528b844b19181fab7e36b3390",
       "version_major": 2,
       "version_minor": 0
      },
      "text/plain": [
       "  0%|          | 0/200 [00:00<?, ?it/s]"
      ]
     },
     "metadata": {},
     "output_type": "display_data"
    },
    {
     "name": "stdout",
     "output_type": "stream",
     "text": [
      "Relative cost: 0.18\n",
      "Absolute cost: 0.438\n",
      "--------------------------------------------------\n",
      "Best model for sample 5: TabuSearch\n",
      "--------------------------------------------------\n",
      "Running attack for sample 6...\n"
     ]
    },
    {
     "data": {
      "application/vnd.jupyter.widget-view+json": {
       "model_id": "a76d87d675b6466aa4afb359089e2ddc",
       "version_major": 2,
       "version_minor": 0
      },
      "text/plain": [
       "  0%|          | 0/200 [00:00<?, ?it/s]"
      ]
     },
     "metadata": {},
     "output_type": "display_data"
    },
    {
     "name": "stdout",
     "output_type": "stream",
     "text": [
      "Radar Warning: The number of trials exceeded 10% of maximum generation trials. Found 0 valid samples.\n",
      "Radar Warning: The number of trials exceeded 25% of maximum generation trials. Found 0 valid samples.\n",
      "Radar Warning: The number of trials exceeded 50% of maximum generation trials. Found 0 valid samples.\n",
      "Error: RADAR: No valid sample satisfied the constraints after 1000 trials.\n"
     ]
    },
    {
     "data": {
      "application/vnd.jupyter.widget-view+json": {
       "model_id": "dfdca9bdf74b44c9ba97c58667b597ae",
       "version_major": 2,
       "version_minor": 0
      },
      "text/plain": [
       "  0%|          | 0/200 [00:00<?, ?it/s]"
      ]
     },
     "metadata": {},
     "output_type": "display_data"
    },
    {
     "name": "stdout",
     "output_type": "stream",
     "text": [
      "Relative cost: 0.495\n",
      "Absolute cost: 0.981\n",
      "--------------------------------------------------\n"
     ]
    },
    {
     "data": {
      "application/vnd.jupyter.widget-view+json": {
       "model_id": "14fc9a8ad79344ee9c524d00a9ed382b",
       "version_major": 2,
       "version_minor": 0
      },
      "text/plain": [
       "  0%|          | 0/200 [00:00<?, ?it/s]"
      ]
     },
     "metadata": {},
     "output_type": "display_data"
    },
    {
     "name": "stdout",
     "output_type": "stream",
     "text": [
      "Relative cost: 0.244\n",
      "Absolute cost: 0.745\n",
      "--------------------------------------------------\n",
      "Best model for sample 6: TabuSearch\n",
      "--------------------------------------------------\n",
      "Running attack for sample 7...\n"
     ]
    },
    {
     "data": {
      "application/vnd.jupyter.widget-view+json": {
       "model_id": "04a058fa3d524a21aa9b1812d1914cc6",
       "version_major": 2,
       "version_minor": 0
      },
      "text/plain": [
       "  0%|          | 0/200 [00:00<?, ?it/s]"
      ]
     },
     "metadata": {},
     "output_type": "display_data"
    },
    {
     "name": "stdout",
     "output_type": "stream",
     "text": [
      "Radar Warning: The number of trials exceeded 10% of maximum generation trials. Found 0 valid samples.\n",
      "Radar Warning: The number of trials exceeded 25% of maximum generation trials. Found 0 valid samples.\n",
      "Radar Warning: The number of trials exceeded 50% of maximum generation trials. Found 0 valid samples.\n",
      "Error: RADAR: No valid sample satisfied the constraints after 1000 trials.\n"
     ]
    },
    {
     "data": {
      "application/vnd.jupyter.widget-view+json": {
       "model_id": "a33117ec219742d8a6939e351e70d317",
       "version_major": 2,
       "version_minor": 0
      },
      "text/plain": [
       "  0%|          | 0/200 [00:00<?, ?it/s]"
      ]
     },
     "metadata": {},
     "output_type": "display_data"
    },
    {
     "name": "stdout",
     "output_type": "stream",
     "text": [
      "Radar Warning: The number of trials exceeded 10% of maximum generation trials. Found 0 valid samples.\n",
      "Relative cost: -0.553\n",
      "Absolute cost: 0.314\n",
      "--------------------------------------------------\n"
     ]
    },
    {
     "data": {
      "application/vnd.jupyter.widget-view+json": {
       "model_id": "e75c9eb7b7074bbb803c48aa3d491563",
       "version_major": 2,
       "version_minor": 0
      },
      "text/plain": [
       "  0%|          | 0/200 [00:00<?, ?it/s]"
      ]
     },
     "metadata": {},
     "output_type": "display_data"
    },
    {
     "name": "stdout",
     "output_type": "stream",
     "text": [
      "Radar Warning: The number of trials exceeded 10% of maximum generation trials. Found 0 valid samples.\n",
      "Radar Warning: The number of trials exceeded 25% of maximum generation trials. Found 0 valid samples.\n",
      "Radar Warning: The number of trials exceeded 50% of maximum generation trials. Found 0 valid samples.\n",
      "Error: RADAR: No valid sample satisfied the constraints after 1000 trials.\n",
      "Best model for sample 7: SimulatedAnnealing\n",
      "--------------------------------------------------\n",
      "Running attack for sample 8...\n"
     ]
    },
    {
     "data": {
      "application/vnd.jupyter.widget-view+json": {
       "model_id": "ec6b9d01603940f7b1fba1f4f2c5d4a9",
       "version_major": 2,
       "version_minor": 0
      },
      "text/plain": [
       "  0%|          | 0/200 [00:00<?, ?it/s]"
      ]
     },
     "metadata": {},
     "output_type": "display_data"
    },
    {
     "name": "stdout",
     "output_type": "stream",
     "text": [
      "Radar Warning: The number of trials exceeded 10% of maximum generation trials. Found 0 valid samples.\n",
      "Radar Warning: The number of trials exceeded 25% of maximum generation trials. Found 0 valid samples.\n",
      "Radar Warning: The number of trials exceeded 50% of maximum generation trials. Found 0 valid samples.\n",
      "Error: RADAR: No valid sample satisfied the constraints after 1000 trials.\n"
     ]
    },
    {
     "data": {
      "application/vnd.jupyter.widget-view+json": {
       "model_id": "c912c92552d145da88f721596f7c1e5e",
       "version_major": 2,
       "version_minor": 0
      },
      "text/plain": [
       "  0%|          | 0/200 [00:00<?, ?it/s]"
      ]
     },
     "metadata": {},
     "output_type": "display_data"
    },
    {
     "name": "stdout",
     "output_type": "stream",
     "text": [
      "Relative cost: 0.099\n",
      "Absolute cost: 0.241\n",
      "--------------------------------------------------\n"
     ]
    },
    {
     "data": {
      "application/vnd.jupyter.widget-view+json": {
       "model_id": "4b8003747cae4553bd9f9354982cbf80",
       "version_major": 2,
       "version_minor": 0
      },
      "text/plain": [
       "  0%|          | 0/200 [00:00<?, ?it/s]"
      ]
     },
     "metadata": {},
     "output_type": "display_data"
    },
    {
     "name": "stdout",
     "output_type": "stream",
     "text": [
      "Relative cost: 0.4\n",
      "Absolute cost: 0.559\n",
      "--------------------------------------------------\n",
      "Best model for sample 8: SimulatedAnnealing\n",
      "--------------------------------------------------\n",
      "Running attack for sample 9...\n"
     ]
    },
    {
     "data": {
      "application/vnd.jupyter.widget-view+json": {
       "model_id": "d1076409d9af4f0497ea4dbebe7b35af",
       "version_major": 2,
       "version_minor": 0
      },
      "text/plain": [
       "  0%|          | 0/200 [00:00<?, ?it/s]"
      ]
     },
     "metadata": {},
     "output_type": "display_data"
    },
    {
     "name": "stdout",
     "output_type": "stream",
     "text": [
      "Relative cost: -0.0\n",
      "Absolute cost: 0.532\n",
      "--------------------------------------------------\n"
     ]
    },
    {
     "data": {
      "application/vnd.jupyter.widget-view+json": {
       "model_id": "4a521fda89f0410d80c5f2d9d036990c",
       "version_major": 2,
       "version_minor": 0
      },
      "text/plain": [
       "  0%|          | 0/200 [00:00<?, ?it/s]"
      ]
     },
     "metadata": {},
     "output_type": "display_data"
    },
    {
     "name": "stdout",
     "output_type": "stream",
     "text": [
      "Relative cost: 3.022\n",
      "Absolute cost: 3.298\n",
      "--------------------------------------------------\n"
     ]
    },
    {
     "data": {
      "application/vnd.jupyter.widget-view+json": {
       "model_id": "78fcc05be69a4bfa84b5ef31231f69c0",
       "version_major": 2,
       "version_minor": 0
      },
      "text/plain": [
       "  0%|          | 0/200 [00:00<?, ?it/s]"
      ]
     },
     "metadata": {},
     "output_type": "display_data"
    },
    {
     "name": "stdout",
     "output_type": "stream",
     "text": [
      "Relative cost: 3.464\n",
      "Absolute cost: 3.78\n",
      "--------------------------------------------------\n",
      "Best model for sample 9: HillClimbing\n",
      "--------------------------------------------------\n",
      "Running attack for sample 10...\n"
     ]
    },
    {
     "data": {
      "application/vnd.jupyter.widget-view+json": {
       "model_id": "aaad5ea01f314c58a7152de984da96fa",
       "version_major": 2,
       "version_minor": 0
      },
      "text/plain": [
       "  0%|          | 0/200 [00:00<?, ?it/s]"
      ]
     },
     "metadata": {},
     "output_type": "display_data"
    },
    {
     "name": "stdout",
     "output_type": "stream",
     "text": [
      "Relative cost: -0.004\n",
      "Absolute cost: 0.316\n",
      "--------------------------------------------------\n"
     ]
    },
    {
     "data": {
      "application/vnd.jupyter.widget-view+json": {
       "model_id": "f8ad67a098f8442189f86e1a2b010b2c",
       "version_major": 2,
       "version_minor": 0
      },
      "text/plain": [
       "  0%|          | 0/200 [00:00<?, ?it/s]"
      ]
     },
     "metadata": {},
     "output_type": "display_data"
    },
    {
     "name": "stdout",
     "output_type": "stream",
     "text": [
      "Relative cost: -0.003\n",
      "Absolute cost: 0.316\n",
      "--------------------------------------------------\n"
     ]
    },
    {
     "data": {
      "application/vnd.jupyter.widget-view+json": {
       "model_id": "b28c2bb4b6814843aac63b35a3b82b8f",
       "version_major": 2,
       "version_minor": 0
      },
      "text/plain": [
       "  0%|          | 0/200 [00:00<?, ?it/s]"
      ]
     },
     "metadata": {},
     "output_type": "display_data"
    },
    {
     "name": "stdout",
     "output_type": "stream",
     "text": [
      "Relative cost: -0.002\n",
      "Absolute cost: 0.317\n",
      "--------------------------------------------------\n",
      "Best model for sample 10: HillClimbing\n",
      "--------------------------------------------------\n",
      "Running attack for sample 11...\n"
     ]
    },
    {
     "data": {
      "application/vnd.jupyter.widget-view+json": {
       "model_id": "4b31b859a31949b89f8e63cd36241348",
       "version_major": 2,
       "version_minor": 0
      },
      "text/plain": [
       "  0%|          | 0/200 [00:00<?, ?it/s]"
      ]
     },
     "metadata": {},
     "output_type": "display_data"
    },
    {
     "name": "stdout",
     "output_type": "stream",
     "text": [
      "Radar Warning: The number of trials exceeded 10% of maximum generation trials. Found 0 valid samples.\n",
      "Radar Warning: The number of trials exceeded 25% of maximum generation trials. Found 0 valid samples.\n",
      "Radar Warning: The number of trials exceeded 50% of maximum generation trials. Found 0 valid samples.\n",
      "Error: RADAR: No valid sample satisfied the constraints after 1000 trials.\n"
     ]
    },
    {
     "data": {
      "application/vnd.jupyter.widget-view+json": {
       "model_id": "70a08edd5e5c4b1eb04b27dddccc1dce",
       "version_major": 2,
       "version_minor": 0
      },
      "text/plain": [
       "  0%|          | 0/200 [00:00<?, ?it/s]"
      ]
     },
     "metadata": {},
     "output_type": "display_data"
    },
    {
     "name": "stdout",
     "output_type": "stream",
     "text": [
      "Relative cost: -0.004\n",
      "Absolute cost: 0.304\n",
      "--------------------------------------------------\n"
     ]
    },
    {
     "data": {
      "application/vnd.jupyter.widget-view+json": {
       "model_id": "b5bb0dfd7fa742a08791a4b3b517e9e4",
       "version_major": 2,
       "version_minor": 0
      },
      "text/plain": [
       "  0%|          | 0/200 [00:00<?, ?it/s]"
      ]
     },
     "metadata": {},
     "output_type": "display_data"
    },
    {
     "name": "stdout",
     "output_type": "stream",
     "text": [
      "Relative cost: 0.01\n",
      "Absolute cost: 0.318\n",
      "--------------------------------------------------\n",
      "Best model for sample 11: SimulatedAnnealing\n",
      "--------------------------------------------------\n",
      "Running attack for sample 12...\n"
     ]
    },
    {
     "data": {
      "application/vnd.jupyter.widget-view+json": {
       "model_id": "b250724b626345259423c7af22930a5f",
       "version_major": 2,
       "version_minor": 0
      },
      "text/plain": [
       "  0%|          | 0/200 [00:00<?, ?it/s]"
      ]
     },
     "metadata": {},
     "output_type": "display_data"
    },
    {
     "name": "stdout",
     "output_type": "stream",
     "text": [
      "Relative cost: 0.98\n",
      "Absolute cost: 0.674\n",
      "--------------------------------------------------\n"
     ]
    },
    {
     "data": {
      "application/vnd.jupyter.widget-view+json": {
       "model_id": "0704b5ba6fa8456186b0e717174a1fe7",
       "version_major": 2,
       "version_minor": 0
      },
      "text/plain": [
       "  0%|          | 0/200 [00:00<?, ?it/s]"
      ]
     },
     "metadata": {},
     "output_type": "display_data"
    },
    {
     "name": "stdout",
     "output_type": "stream",
     "text": [
      "Radar Warning: The number of trials exceeded 10% of maximum generation trials. Found 0 valid samples.\n",
      "Relative cost: -0.257\n",
      "Absolute cost: 0.242\n",
      "--------------------------------------------------\n"
     ]
    },
    {
     "data": {
      "application/vnd.jupyter.widget-view+json": {
       "model_id": "96ff30c7ec514aa7ac5b4e96b5f74ba4",
       "version_major": 2,
       "version_minor": 0
      },
      "text/plain": [
       "  0%|          | 0/200 [00:00<?, ?it/s]"
      ]
     },
     "metadata": {},
     "output_type": "display_data"
    },
    {
     "name": "stdout",
     "output_type": "stream",
     "text": [
      "Relative cost: -0.248\n",
      "Absolute cost: 0.243\n",
      "--------------------------------------------------\n",
      "Best model for sample 12: SimulatedAnnealing\n",
      "--------------------------------------------------\n",
      "Running attack for sample 13...\n"
     ]
    },
    {
     "data": {
      "application/vnd.jupyter.widget-view+json": {
       "model_id": "d552d4f02cbb4fb79b58832c4c7fe5cf",
       "version_major": 2,
       "version_minor": 0
      },
      "text/plain": [
       "  0%|          | 0/200 [00:00<?, ?it/s]"
      ]
     },
     "metadata": {},
     "output_type": "display_data"
    },
    {
     "name": "stdout",
     "output_type": "stream",
     "text": [
      "Radar Warning: The number of trials exceeded 10% of maximum generation trials. Found 0 valid samples.\n",
      "Relative cost: -0.69\n",
      "Absolute cost: 0.293\n",
      "--------------------------------------------------\n"
     ]
    },
    {
     "data": {
      "application/vnd.jupyter.widget-view+json": {
       "model_id": "779c4b0ad06a4508aa0cd1b4393073a2",
       "version_major": 2,
       "version_minor": 0
      },
      "text/plain": [
       "  0%|          | 0/200 [00:00<?, ?it/s]"
      ]
     },
     "metadata": {},
     "output_type": "display_data"
    },
    {
     "name": "stdout",
     "output_type": "stream",
     "text": [
      "Radar Warning: The number of trials exceeded 10% of maximum generation trials. Found 0 valid samples.\n",
      "Relative cost: -0.369\n",
      "Absolute cost: 0.37\n",
      "--------------------------------------------------\n"
     ]
    },
    {
     "data": {
      "application/vnd.jupyter.widget-view+json": {
       "model_id": "35722caa3bda4b3e8dc371ca095ae087",
       "version_major": 2,
       "version_minor": 0
      },
      "text/plain": [
       "  0%|          | 0/200 [00:00<?, ?it/s]"
      ]
     },
     "metadata": {},
     "output_type": "display_data"
    },
    {
     "name": "stdout",
     "output_type": "stream",
     "text": [
      "Relative cost: -0.387\n",
      "Absolute cost: 0.363\n",
      "--------------------------------------------------\n",
      "Best model for sample 13: HillClimbing\n",
      "--------------------------------------------------\n",
      "Running attack for sample 14...\n"
     ]
    },
    {
     "data": {
      "application/vnd.jupyter.widget-view+json": {
       "model_id": "72692d5b01e040b0a726d0a14e0a4042",
       "version_major": 2,
       "version_minor": 0
      },
      "text/plain": [
       "  0%|          | 0/200 [00:00<?, ?it/s]"
      ]
     },
     "metadata": {},
     "output_type": "display_data"
    },
    {
     "name": "stdout",
     "output_type": "stream",
     "text": [
      "Radar Warning: The number of trials exceeded 10% of maximum generation trials. Found 0 valid samples.\n",
      "Radar Warning: The number of trials exceeded 25% of maximum generation trials. Found 0 valid samples.\n",
      "Radar Warning: The number of trials exceeded 50% of maximum generation trials. Found 0 valid samples.\n",
      "Error: RADAR: No valid sample satisfied the constraints after 1000 trials.\n"
     ]
    },
    {
     "data": {
      "application/vnd.jupyter.widget-view+json": {
       "model_id": "1335273a813f4bca880f54c6e1c5c46e",
       "version_major": 2,
       "version_minor": 0
      },
      "text/plain": [
       "  0%|          | 0/200 [00:00<?, ?it/s]"
      ]
     },
     "metadata": {},
     "output_type": "display_data"
    },
    {
     "name": "stdout",
     "output_type": "stream",
     "text": [
      "Relative cost: 0.132\n",
      "Absolute cost: 0.398\n",
      "--------------------------------------------------\n"
     ]
    },
    {
     "data": {
      "application/vnd.jupyter.widget-view+json": {
       "model_id": "6dd2f3a92b844fd9a05719fe3f4f2b19",
       "version_major": 2,
       "version_minor": 0
      },
      "text/plain": [
       "  0%|          | 0/200 [00:00<?, ?it/s]"
      ]
     },
     "metadata": {},
     "output_type": "display_data"
    },
    {
     "name": "stdout",
     "output_type": "stream",
     "text": [
      "Relative cost: 0.191\n",
      "Absolute cost: 0.439\n",
      "--------------------------------------------------\n",
      "Best model for sample 14: SimulatedAnnealing\n",
      "--------------------------------------------------\n",
      "Running attack for sample 15...\n"
     ]
    },
    {
     "data": {
      "application/vnd.jupyter.widget-view+json": {
       "model_id": "3fd60f5e2d7f4ae083c70ab2e4acbb27",
       "version_major": 2,
       "version_minor": 0
      },
      "text/plain": [
       "  0%|          | 0/200 [00:00<?, ?it/s]"
      ]
     },
     "metadata": {},
     "output_type": "display_data"
    },
    {
     "name": "stdout",
     "output_type": "stream",
     "text": [
      "Relative cost: 0.062\n",
      "Absolute cost: 0.328\n",
      "--------------------------------------------------\n"
     ]
    },
    {
     "data": {
      "application/vnd.jupyter.widget-view+json": {
       "model_id": "a44eae986ca14906817cb3800f84cb08",
       "version_major": 2,
       "version_minor": 0
      },
      "text/plain": [
       "  0%|          | 0/200 [00:00<?, ?it/s]"
      ]
     },
     "metadata": {},
     "output_type": "display_data"
    },
    {
     "name": "stdout",
     "output_type": "stream",
     "text": [
      "Relative cost: 0.099\n",
      "Absolute cost: 0.339\n",
      "--------------------------------------------------\n"
     ]
    },
    {
     "data": {
      "application/vnd.jupyter.widget-view+json": {
       "model_id": "d8660fd1d94a469caabdaf9aa7edb6f1",
       "version_major": 2,
       "version_minor": 0
      },
      "text/plain": [
       "  0%|          | 0/200 [00:00<?, ?it/s]"
      ]
     },
     "metadata": {},
     "output_type": "display_data"
    },
    {
     "name": "stdout",
     "output_type": "stream",
     "text": [
      "Relative cost: 0.109\n",
      "Absolute cost: 0.354\n",
      "--------------------------------------------------\n",
      "Best model for sample 15: HillClimbing\n",
      "--------------------------------------------------\n",
      "Running attack for sample 16...\n"
     ]
    },
    {
     "data": {
      "application/vnd.jupyter.widget-view+json": {
       "model_id": "f906559dc7bf4576beb0a6fe011c1b0c",
       "version_major": 2,
       "version_minor": 0
      },
      "text/plain": [
       "  0%|          | 0/200 [00:00<?, ?it/s]"
      ]
     },
     "metadata": {},
     "output_type": "display_data"
    },
    {
     "name": "stdout",
     "output_type": "stream",
     "text": [
      "Radar Warning: The number of trials exceeded 10% of maximum generation trials. Found 0 valid samples.\n",
      "Radar Warning: The number of trials exceeded 25% of maximum generation trials. Found 0 valid samples.\n",
      "Radar Warning: The number of trials exceeded 50% of maximum generation trials. Found 0 valid samples.\n",
      "Error: RADAR: No valid sample satisfied the constraints after 1000 trials.\n"
     ]
    },
    {
     "data": {
      "application/vnd.jupyter.widget-view+json": {
       "model_id": "8bf33db3ad2b424d8a5fc4aa5f49208b",
       "version_major": 2,
       "version_minor": 0
      },
      "text/plain": [
       "  0%|          | 0/200 [00:00<?, ?it/s]"
      ]
     },
     "metadata": {},
     "output_type": "display_data"
    },
    {
     "name": "stdout",
     "output_type": "stream",
     "text": [
      "Relative cost: 0.406\n",
      "Absolute cost: 0.541\n",
      "--------------------------------------------------\n"
     ]
    },
    {
     "data": {
      "application/vnd.jupyter.widget-view+json": {
       "model_id": "cc5ecc23fbad451193dec5d5a2e9b8aa",
       "version_major": 2,
       "version_minor": 0
      },
      "text/plain": [
       "  0%|          | 0/200 [00:00<?, ?it/s]"
      ]
     },
     "metadata": {},
     "output_type": "display_data"
    },
    {
     "name": "stdout",
     "output_type": "stream",
     "text": [
      "Relative cost: 0.119\n",
      "Absolute cost: 0.271\n",
      "--------------------------------------------------\n",
      "Best model for sample 16: TabuSearch\n",
      "--------------------------------------------------\n",
      "Running attack for sample 17...\n"
     ]
    },
    {
     "data": {
      "application/vnd.jupyter.widget-view+json": {
       "model_id": "c4fa33dc1ed24eaeaada7a8b7b93c10c",
       "version_major": 2,
       "version_minor": 0
      },
      "text/plain": [
       "  0%|          | 0/200 [00:00<?, ?it/s]"
      ]
     },
     "metadata": {},
     "output_type": "display_data"
    },
    {
     "name": "stdout",
     "output_type": "stream",
     "text": [
      "Radar Warning: The number of trials exceeded 10% of maximum generation trials. Found 0 valid samples.\n",
      "Radar Warning: The number of trials exceeded 25% of maximum generation trials. Found 0 valid samples.\n",
      "Radar Warning: The number of trials exceeded 50% of maximum generation trials. Found 0 valid samples.\n",
      "Error: RADAR: No valid sample satisfied the constraints after 1000 trials.\n"
     ]
    },
    {
     "data": {
      "application/vnd.jupyter.widget-view+json": {
       "model_id": "7359506879964100994eff6a83c9265f",
       "version_major": 2,
       "version_minor": 0
      },
      "text/plain": [
       "  0%|          | 0/200 [00:00<?, ?it/s]"
      ]
     },
     "metadata": {},
     "output_type": "display_data"
    },
    {
     "name": "stdout",
     "output_type": "stream",
     "text": [
      "Relative cost: 3.697\n",
      "Absolute cost: 3.654\n",
      "--------------------------------------------------\n"
     ]
    },
    {
     "data": {
      "application/vnd.jupyter.widget-view+json": {
       "model_id": "c372e57b0a924cb28e145112adfb0638",
       "version_major": 2,
       "version_minor": 0
      },
      "text/plain": [
       "  0%|          | 0/200 [00:00<?, ?it/s]"
      ]
     },
     "metadata": {},
     "output_type": "display_data"
    },
    {
     "name": "stdout",
     "output_type": "stream",
     "text": [
      "Relative cost: 3.078\n",
      "Absolute cost: 2.933\n",
      "--------------------------------------------------\n",
      "Best model for sample 17: TabuSearch\n",
      "--------------------------------------------------\n",
      "Running attack for sample 18...\n"
     ]
    },
    {
     "data": {
      "application/vnd.jupyter.widget-view+json": {
       "model_id": "1825b835bc2a4e9fb23c868661347540",
       "version_major": 2,
       "version_minor": 0
      },
      "text/plain": [
       "  0%|          | 0/200 [00:00<?, ?it/s]"
      ]
     },
     "metadata": {},
     "output_type": "display_data"
    },
    {
     "name": "stdout",
     "output_type": "stream",
     "text": [
      "Radar Warning: The number of trials exceeded 10% of maximum generation trials. Found 0 valid samples.\n",
      "Relative cost: 0.154\n",
      "Absolute cost: 2.599\n",
      "--------------------------------------------------\n"
     ]
    },
    {
     "data": {
      "application/vnd.jupyter.widget-view+json": {
       "model_id": "1e453e8933d94f5387a7efc0bf980d81",
       "version_major": 2,
       "version_minor": 0
      },
      "text/plain": [
       "  0%|          | 0/200 [00:00<?, ?it/s]"
      ]
     },
     "metadata": {},
     "output_type": "display_data"
    },
    {
     "name": "stdout",
     "output_type": "stream",
     "text": [
      "Radar Warning: The number of trials exceeded 10% of maximum generation trials. Found 0 valid samples.\n",
      "Radar Warning: The number of trials exceeded 25% of maximum generation trials. Found 0 valid samples.\n",
      "Radar Warning: The number of trials exceeded 50% of maximum generation trials. Found 0 valid samples.\n",
      "Relative cost: -0.464\n",
      "Absolute cost: 0.26\n",
      "--------------------------------------------------\n"
     ]
    },
    {
     "data": {
      "application/vnd.jupyter.widget-view+json": {
       "model_id": "1a5fe2bb984943f1afb9f20a90b9af18",
       "version_major": 2,
       "version_minor": 0
      },
      "text/plain": [
       "  0%|          | 0/200 [00:00<?, ?it/s]"
      ]
     },
     "metadata": {},
     "output_type": "display_data"
    },
    {
     "name": "stdout",
     "output_type": "stream",
     "text": [
      "Radar Warning: The number of trials exceeded 10% of maximum generation trials. Found 0 valid samples.\n",
      "Relative cost: 0.159\n",
      "Absolute cost: 2.607\n",
      "--------------------------------------------------\n",
      "Best model for sample 18: SimulatedAnnealing\n",
      "--------------------------------------------------\n",
      "Running attack for sample 19...\n"
     ]
    },
    {
     "data": {
      "application/vnd.jupyter.widget-view+json": {
       "model_id": "f73bec7815f74489a2060b06f2f78319",
       "version_major": 2,
       "version_minor": 0
      },
      "text/plain": [
       "  0%|          | 0/200 [00:00<?, ?it/s]"
      ]
     },
     "metadata": {},
     "output_type": "display_data"
    },
    {
     "name": "stdout",
     "output_type": "stream",
     "text": [
      "Relative cost: -2.044\n",
      "Absolute cost: 0.623\n",
      "--------------------------------------------------\n"
     ]
    },
    {
     "data": {
      "application/vnd.jupyter.widget-view+json": {
       "model_id": "7585f008b776407aade40d90085dda97",
       "version_major": 2,
       "version_minor": 0
      },
      "text/plain": [
       "  0%|          | 0/200 [00:00<?, ?it/s]"
      ]
     },
     "metadata": {},
     "output_type": "display_data"
    },
    {
     "name": "stdout",
     "output_type": "stream",
     "text": [
      "Relative cost: -0.865\n",
      "Absolute cost: 1.196\n",
      "--------------------------------------------------\n"
     ]
    },
    {
     "data": {
      "application/vnd.jupyter.widget-view+json": {
       "model_id": "96921643e49442a5a7537cbb0d29a4c6",
       "version_major": 2,
       "version_minor": 0
      },
      "text/plain": [
       "  0%|          | 0/200 [00:00<?, ?it/s]"
      ]
     },
     "metadata": {},
     "output_type": "display_data"
    },
    {
     "name": "stdout",
     "output_type": "stream",
     "text": [
      "Relative cost: -0.692\n",
      "Absolute cost: 1.39\n",
      "--------------------------------------------------\n",
      "Best model for sample 19: HillClimbing\n",
      "--------------------------------------------------\n",
      "Running attack for sample 20...\n"
     ]
    },
    {
     "data": {
      "application/vnd.jupyter.widget-view+json": {
       "model_id": "faff8d88849c4fe9acea5a92b119c9d8",
       "version_major": 2,
       "version_minor": 0
      },
      "text/plain": [
       "  0%|          | 0/200 [00:00<?, ?it/s]"
      ]
     },
     "metadata": {},
     "output_type": "display_data"
    },
    {
     "name": "stdout",
     "output_type": "stream",
     "text": [
      "Relative cost: 0.023\n",
      "Absolute cost: 0.432\n",
      "--------------------------------------------------\n"
     ]
    },
    {
     "data": {
      "application/vnd.jupyter.widget-view+json": {
       "model_id": "c7a4482db32d4d8a9cf3dc27be592e29",
       "version_major": 2,
       "version_minor": 0
      },
      "text/plain": [
       "  0%|          | 0/200 [00:00<?, ?it/s]"
      ]
     },
     "metadata": {},
     "output_type": "display_data"
    },
    {
     "name": "stdout",
     "output_type": "stream",
     "text": [
      "Relative cost: 0.007\n",
      "Absolute cost: 0.414\n",
      "--------------------------------------------------\n"
     ]
    },
    {
     "data": {
      "application/vnd.jupyter.widget-view+json": {
       "model_id": "8528870dbad0418d8d5e7972a6f8a2af",
       "version_major": 2,
       "version_minor": 0
      },
      "text/plain": [
       "  0%|          | 0/200 [00:00<?, ?it/s]"
      ]
     },
     "metadata": {},
     "output_type": "display_data"
    },
    {
     "name": "stdout",
     "output_type": "stream",
     "text": [
      "Relative cost: 0.004\n",
      "Absolute cost: 0.431\n",
      "--------------------------------------------------\n",
      "Best model for sample 20: SimulatedAnnealing\n",
      "--------------------------------------------------\n",
      "Running attack for sample 21...\n"
     ]
    },
    {
     "data": {
      "application/vnd.jupyter.widget-view+json": {
       "model_id": "4c3121f090c640d88fb807a8d5a23864",
       "version_major": 2,
       "version_minor": 0
      },
      "text/plain": [
       "  0%|          | 0/200 [00:00<?, ?it/s]"
      ]
     },
     "metadata": {},
     "output_type": "display_data"
    },
    {
     "name": "stdout",
     "output_type": "stream",
     "text": [
      "Relative cost: 0.019\n",
      "Absolute cost: 0.429\n",
      "--------------------------------------------------\n"
     ]
    },
    {
     "data": {
      "application/vnd.jupyter.widget-view+json": {
       "model_id": "38a6647c8bd14126b1945a33c7dd5ca9",
       "version_major": 2,
       "version_minor": 0
      },
      "text/plain": [
       "  0%|          | 0/200 [00:00<?, ?it/s]"
      ]
     },
     "metadata": {},
     "output_type": "display_data"
    },
    {
     "name": "stdout",
     "output_type": "stream",
     "text": [
      "Relative cost: 0.054\n",
      "Absolute cost: 0.461\n",
      "--------------------------------------------------\n"
     ]
    },
    {
     "data": {
      "application/vnd.jupyter.widget-view+json": {
       "model_id": "3279a2ef30b041d6880bcc8dac31dacf",
       "version_major": 2,
       "version_minor": 0
      },
      "text/plain": [
       "  0%|          | 0/200 [00:00<?, ?it/s]"
      ]
     },
     "metadata": {},
     "output_type": "display_data"
    },
    {
     "name": "stdout",
     "output_type": "stream",
     "text": [
      "Relative cost: 0.068\n",
      "Absolute cost: 0.453\n",
      "--------------------------------------------------\n",
      "Best model for sample 21: HillClimbing\n",
      "--------------------------------------------------\n",
      "Running attack for sample 22...\n"
     ]
    },
    {
     "data": {
      "application/vnd.jupyter.widget-view+json": {
       "model_id": "325a7e6803cb409192af61125e7c4154",
       "version_major": 2,
       "version_minor": 0
      },
      "text/plain": [
       "  0%|          | 0/200 [00:00<?, ?it/s]"
      ]
     },
     "metadata": {},
     "output_type": "display_data"
    },
    {
     "name": "stdout",
     "output_type": "stream",
     "text": [
      "Radar Warning: The number of trials exceeded 10% of maximum generation trials. Found 0 valid samples.\n",
      "Radar Warning: The number of trials exceeded 25% of maximum generation trials. Found 0 valid samples.\n",
      "Radar Warning: The number of trials exceeded 50% of maximum generation trials. Found 0 valid samples.\n",
      "Error: RADAR: No valid sample satisfied the constraints after 1000 trials.\n"
     ]
    },
    {
     "data": {
      "application/vnd.jupyter.widget-view+json": {
       "model_id": "46e92becacde4057becc611151baa14e",
       "version_major": 2,
       "version_minor": 0
      },
      "text/plain": [
       "  0%|          | 0/200 [00:00<?, ?it/s]"
      ]
     },
     "metadata": {},
     "output_type": "display_data"
    },
    {
     "name": "stdout",
     "output_type": "stream",
     "text": [
      "Relative cost: 0.096\n",
      "Absolute cost: 0.321\n",
      "--------------------------------------------------\n"
     ]
    },
    {
     "data": {
      "application/vnd.jupyter.widget-view+json": {
       "model_id": "0412dc987644490b9b806b0f3ec48460",
       "version_major": 2,
       "version_minor": 0
      },
      "text/plain": [
       "  0%|          | 0/200 [00:00<?, ?it/s]"
      ]
     },
     "metadata": {},
     "output_type": "display_data"
    },
    {
     "name": "stdout",
     "output_type": "stream",
     "text": [
      "Relative cost: 0.074\n",
      "Absolute cost: 0.299\n",
      "--------------------------------------------------\n",
      "Best model for sample 22: TabuSearch\n",
      "--------------------------------------------------\n",
      "Running attack for sample 23...\n"
     ]
    },
    {
     "data": {
      "application/vnd.jupyter.widget-view+json": {
       "model_id": "c7745bf83f134464a5e2901d9b126c89",
       "version_major": 2,
       "version_minor": 0
      },
      "text/plain": [
       "  0%|          | 0/200 [00:00<?, ?it/s]"
      ]
     },
     "metadata": {},
     "output_type": "display_data"
    },
    {
     "name": "stdout",
     "output_type": "stream",
     "text": [
      "Relative cost: -0.765\n",
      "Absolute cost: 0.409\n",
      "--------------------------------------------------\n"
     ]
    },
    {
     "data": {
      "application/vnd.jupyter.widget-view+json": {
       "model_id": "18fefc5309484a93b03c9f72bec2921f",
       "version_major": 2,
       "version_minor": 0
      },
      "text/plain": [
       "  0%|          | 0/200 [00:00<?, ?it/s]"
      ]
     },
     "metadata": {},
     "output_type": "display_data"
    },
    {
     "name": "stdout",
     "output_type": "stream",
     "text": [
      "Relative cost: 0.189\n",
      "Absolute cost: 1.085\n",
      "--------------------------------------------------\n"
     ]
    },
    {
     "data": {
      "application/vnd.jupyter.widget-view+json": {
       "model_id": "c8b1e77d38c8470f887b9f425ecf24ce",
       "version_major": 2,
       "version_minor": 0
      },
      "text/plain": [
       "  0%|          | 0/200 [00:00<?, ?it/s]"
      ]
     },
     "metadata": {},
     "output_type": "display_data"
    },
    {
     "name": "stdout",
     "output_type": "stream",
     "text": [
      "Relative cost: 0.334\n",
      "Absolute cost: 0.996\n",
      "--------------------------------------------------\n",
      "Best model for sample 23: HillClimbing\n",
      "--------------------------------------------------\n",
      "Running attack for sample 24...\n"
     ]
    },
    {
     "data": {
      "application/vnd.jupyter.widget-view+json": {
       "model_id": "1819c9f0890d471abdba2e35086b0641",
       "version_major": 2,
       "version_minor": 0
      },
      "text/plain": [
       "  0%|          | 0/200 [00:00<?, ?it/s]"
      ]
     },
     "metadata": {},
     "output_type": "display_data"
    },
    {
     "name": "stdout",
     "output_type": "stream",
     "text": [
      "Relative cost: -3.567\n",
      "Absolute cost: 0.399\n",
      "--------------------------------------------------\n"
     ]
    },
    {
     "data": {
      "application/vnd.jupyter.widget-view+json": {
       "model_id": "31f61f9c645646808a77d5858d8b588d",
       "version_major": 2,
       "version_minor": 0
      },
      "text/plain": [
       "  0%|          | 0/200 [00:00<?, ?it/s]"
      ]
     },
     "metadata": {},
     "output_type": "display_data"
    },
    {
     "name": "stdout",
     "output_type": "stream",
     "text": [
      "Relative cost: -2.342\n",
      "Absolute cost: 1.009\n",
      "--------------------------------------------------\n"
     ]
    },
    {
     "data": {
      "application/vnd.jupyter.widget-view+json": {
       "model_id": "a9e50be893184bf8ac52d20ee73999cc",
       "version_major": 2,
       "version_minor": 0
      },
      "text/plain": [
       "  0%|          | 0/200 [00:00<?, ?it/s]"
      ]
     },
     "metadata": {},
     "output_type": "display_data"
    },
    {
     "name": "stdout",
     "output_type": "stream",
     "text": [
      "Relative cost: -2.412\n",
      "Absolute cost: 0.947\n",
      "--------------------------------------------------\n",
      "Best model for sample 24: HillClimbing\n",
      "--------------------------------------------------\n",
      "Running attack for sample 25...\n"
     ]
    },
    {
     "data": {
      "application/vnd.jupyter.widget-view+json": {
       "model_id": "b0c6a934dd154f758fbc5b203b7f9cae",
       "version_major": 2,
       "version_minor": 0
      },
      "text/plain": [
       "  0%|          | 0/200 [00:00<?, ?it/s]"
      ]
     },
     "metadata": {},
     "output_type": "display_data"
    },
    {
     "name": "stdout",
     "output_type": "stream",
     "text": [
      "Relative cost: -5.224\n",
      "Absolute cost: 2.5\n",
      "--------------------------------------------------\n"
     ]
    },
    {
     "data": {
      "application/vnd.jupyter.widget-view+json": {
       "model_id": "f1b6c4df256e4e2cb06708d44ec7f4bb",
       "version_major": 2,
       "version_minor": 0
      },
      "text/plain": [
       "  0%|          | 0/200 [00:00<?, ?it/s]"
      ]
     },
     "metadata": {},
     "output_type": "display_data"
    },
    {
     "name": "stdout",
     "output_type": "stream",
     "text": [
      "Relative cost: 0.286\n",
      "Absolute cost: 1.166\n",
      "--------------------------------------------------\n"
     ]
    },
    {
     "data": {
      "application/vnd.jupyter.widget-view+json": {
       "model_id": "41df7b05f3ca4170a71b7525f7183906",
       "version_major": 2,
       "version_minor": 0
      },
      "text/plain": [
       "  0%|          | 0/200 [00:00<?, ?it/s]"
      ]
     },
     "metadata": {},
     "output_type": "display_data"
    },
    {
     "name": "stdout",
     "output_type": "stream",
     "text": [
      "Relative cost: 2.054\n",
      "Absolute cost: 2.771\n",
      "--------------------------------------------------\n",
      "Best model for sample 25: SimulatedAnnealing\n",
      "--------------------------------------------------\n",
      "Running attack for sample 26...\n"
     ]
    },
    {
     "data": {
      "application/vnd.jupyter.widget-view+json": {
       "model_id": "e649289f930847c584a08149a6c73524",
       "version_major": 2,
       "version_minor": 0
      },
      "text/plain": [
       "  0%|          | 0/200 [00:00<?, ?it/s]"
      ]
     },
     "metadata": {},
     "output_type": "display_data"
    },
    {
     "name": "stdout",
     "output_type": "stream",
     "text": [
      "Radar Warning: The number of trials exceeded 10% of maximum generation trials. Found 0 valid samples.\n",
      "Radar Warning: The number of trials exceeded 25% of maximum generation trials. Found 0 valid samples.\n",
      "Radar Warning: The number of trials exceeded 50% of maximum generation trials. Found 0 valid samples.\n",
      "Error: RADAR: No valid sample satisfied the constraints after 1000 trials.\n"
     ]
    },
    {
     "data": {
      "application/vnd.jupyter.widget-view+json": {
       "model_id": "b214426791d74970aeae6310ce60c7d4",
       "version_major": 2,
       "version_minor": 0
      },
      "text/plain": [
       "  0%|          | 0/200 [00:00<?, ?it/s]"
      ]
     },
     "metadata": {},
     "output_type": "display_data"
    },
    {
     "name": "stdout",
     "output_type": "stream",
     "text": [
      "Relative cost: 0.096\n",
      "Absolute cost: 0.662\n",
      "--------------------------------------------------\n"
     ]
    },
    {
     "data": {
      "application/vnd.jupyter.widget-view+json": {
       "model_id": "09c5733f3f8240f8afdee1fb01420209",
       "version_major": 2,
       "version_minor": 0
      },
      "text/plain": [
       "  0%|          | 0/200 [00:00<?, ?it/s]"
      ]
     },
     "metadata": {},
     "output_type": "display_data"
    },
    {
     "name": "stdout",
     "output_type": "stream",
     "text": [
      "Relative cost: 0.178\n",
      "Absolute cost: 0.958\n",
      "--------------------------------------------------\n",
      "Best model for sample 26: SimulatedAnnealing\n",
      "--------------------------------------------------\n",
      "Running attack for sample 27...\n"
     ]
    },
    {
     "data": {
      "application/vnd.jupyter.widget-view+json": {
       "model_id": "45f5dac655e34af9b503f6eb0a2f4246",
       "version_major": 2,
       "version_minor": 0
      },
      "text/plain": [
       "  0%|          | 0/200 [00:00<?, ?it/s]"
      ]
     },
     "metadata": {},
     "output_type": "display_data"
    },
    {
     "name": "stdout",
     "output_type": "stream",
     "text": [
      "Radar Warning: The number of trials exceeded 10% of maximum generation trials. Found 0 valid samples.\n",
      "Radar Warning: The number of trials exceeded 25% of maximum generation trials. Found 0 valid samples.\n",
      "Radar Warning: The number of trials exceeded 50% of maximum generation trials. Found 0 valid samples.\n",
      "Error: RADAR: No valid sample satisfied the constraints after 1000 trials.\n"
     ]
    },
    {
     "data": {
      "application/vnd.jupyter.widget-view+json": {
       "model_id": "d579357176f8422c86ee9d386f32bb40",
       "version_major": 2,
       "version_minor": 0
      },
      "text/plain": [
       "  0%|          | 0/200 [00:00<?, ?it/s]"
      ]
     },
     "metadata": {},
     "output_type": "display_data"
    },
    {
     "name": "stdout",
     "output_type": "stream",
     "text": [
      "Relative cost: 0.175\n",
      "Absolute cost: 0.35\n",
      "--------------------------------------------------\n"
     ]
    },
    {
     "data": {
      "application/vnd.jupyter.widget-view+json": {
       "model_id": "f381683659304b8e90d6249a0c6f6724",
       "version_major": 2,
       "version_minor": 0
      },
      "text/plain": [
       "  0%|          | 0/200 [00:00<?, ?it/s]"
      ]
     },
     "metadata": {},
     "output_type": "display_data"
    },
    {
     "name": "stdout",
     "output_type": "stream",
     "text": [
      "Relative cost: 0.182\n",
      "Absolute cost: 0.347\n",
      "--------------------------------------------------\n",
      "Best model for sample 27: TabuSearch\n",
      "--------------------------------------------------\n",
      "Running attack for sample 28...\n"
     ]
    },
    {
     "data": {
      "application/vnd.jupyter.widget-view+json": {
       "model_id": "836bfd7a58924dada5609e02f8569424",
       "version_major": 2,
       "version_minor": 0
      },
      "text/plain": [
       "  0%|          | 0/200 [00:00<?, ?it/s]"
      ]
     },
     "metadata": {},
     "output_type": "display_data"
    },
    {
     "name": "stdout",
     "output_type": "stream",
     "text": [
      "Relative cost: -0.032\n",
      "Absolute cost: 0.32\n",
      "--------------------------------------------------\n"
     ]
    },
    {
     "data": {
      "application/vnd.jupyter.widget-view+json": {
       "model_id": "f1e90cc2f09f4d789fc1e8d8b2128ce1",
       "version_major": 2,
       "version_minor": 0
      },
      "text/plain": [
       "  0%|          | 0/200 [00:00<?, ?it/s]"
      ]
     },
     "metadata": {},
     "output_type": "display_data"
    },
    {
     "name": "stdout",
     "output_type": "stream",
     "text": [
      "Relative cost: -0.078\n",
      "Absolute cost: 0.236\n",
      "--------------------------------------------------\n"
     ]
    },
    {
     "data": {
      "application/vnd.jupyter.widget-view+json": {
       "model_id": "a9ad0628f98749a390caa02c30587d98",
       "version_major": 2,
       "version_minor": 0
      },
      "text/plain": [
       "  0%|          | 0/200 [00:00<?, ?it/s]"
      ]
     },
     "metadata": {},
     "output_type": "display_data"
    },
    {
     "name": "stdout",
     "output_type": "stream",
     "text": [
      "Relative cost: 0.004\n",
      "Absolute cost: 0.318\n",
      "--------------------------------------------------\n",
      "Best model for sample 28: SimulatedAnnealing\n",
      "--------------------------------------------------\n",
      "Running attack for sample 29...\n"
     ]
    },
    {
     "data": {
      "application/vnd.jupyter.widget-view+json": {
       "model_id": "8f2d199e3a414f0e96ca7562aca3fcb0",
       "version_major": 2,
       "version_minor": 0
      },
      "text/plain": [
       "  0%|          | 0/200 [00:00<?, ?it/s]"
      ]
     },
     "metadata": {},
     "output_type": "display_data"
    },
    {
     "name": "stdout",
     "output_type": "stream",
     "text": [
      "Relative cost: 0.086\n",
      "Absolute cost: 0.355\n",
      "--------------------------------------------------\n"
     ]
    },
    {
     "data": {
      "application/vnd.jupyter.widget-view+json": {
       "model_id": "c2bfe9a659c7413caf65eb38e582c339",
       "version_major": 2,
       "version_minor": 0
      },
      "text/plain": [
       "  0%|          | 0/200 [00:00<?, ?it/s]"
      ]
     },
     "metadata": {},
     "output_type": "display_data"
    },
    {
     "name": "stdout",
     "output_type": "stream",
     "text": [
      "Relative cost: 0.107\n",
      "Absolute cost: 0.378\n",
      "--------------------------------------------------\n"
     ]
    },
    {
     "data": {
      "application/vnd.jupyter.widget-view+json": {
       "model_id": "40cffa6e659a4346a0b906b7b76269bd",
       "version_major": 2,
       "version_minor": 0
      },
      "text/plain": [
       "  0%|          | 0/200 [00:00<?, ?it/s]"
      ]
     },
     "metadata": {},
     "output_type": "display_data"
    },
    {
     "name": "stdout",
     "output_type": "stream",
     "text": [
      "Relative cost: 0.093\n",
      "Absolute cost: 0.339\n",
      "--------------------------------------------------\n",
      "Best model for sample 29: TabuSearch\n",
      "--------------------------------------------------\n",
      "Running attack for sample 30...\n"
     ]
    },
    {
     "data": {
      "application/vnd.jupyter.widget-view+json": {
       "model_id": "f2a6217e58604da19646956625a4ee97",
       "version_major": 2,
       "version_minor": 0
      },
      "text/plain": [
       "  0%|          | 0/200 [00:00<?, ?it/s]"
      ]
     },
     "metadata": {},
     "output_type": "display_data"
    },
    {
     "name": "stdout",
     "output_type": "stream",
     "text": [
      "Error: This is embarrassing... The final sample is not adversarial!\n"
     ]
    },
    {
     "data": {
      "application/vnd.jupyter.widget-view+json": {
       "model_id": "6a108d8308714e75a0f134fd43960a98",
       "version_major": 2,
       "version_minor": 0
      },
      "text/plain": [
       "  0%|          | 0/200 [00:00<?, ?it/s]"
      ]
     },
     "metadata": {},
     "output_type": "display_data"
    },
    {
     "name": "stdout",
     "output_type": "stream",
     "text": [
      "Relative cost: -0.001\n",
      "Absolute cost: 0.791\n",
      "--------------------------------------------------\n"
     ]
    },
    {
     "data": {
      "application/vnd.jupyter.widget-view+json": {
       "model_id": "82608628de0e4212bf973eabba75e2b8",
       "version_major": 2,
       "version_minor": 0
      },
      "text/plain": [
       "  0%|          | 0/200 [00:00<?, ?it/s]"
      ]
     },
     "metadata": {},
     "output_type": "display_data"
    },
    {
     "name": "stdout",
     "output_type": "stream",
     "text": [
      "Relative cost: 0.009\n",
      "Absolute cost: 0.801\n",
      "--------------------------------------------------\n",
      "Best model for sample 30: SimulatedAnnealing\n",
      "--------------------------------------------------\n",
      "Running attack for sample 31...\n"
     ]
    },
    {
     "data": {
      "application/vnd.jupyter.widget-view+json": {
       "model_id": "37e3780862d34cb181efa49305be3c64",
       "version_major": 2,
       "version_minor": 0
      },
      "text/plain": [
       "  0%|          | 0/200 [00:00<?, ?it/s]"
      ]
     },
     "metadata": {},
     "output_type": "display_data"
    },
    {
     "name": "stdout",
     "output_type": "stream",
     "text": [
      "Radar Warning: The number of trials exceeded 10% of maximum generation trials. Found 0 valid samples.\n",
      "Radar Warning: The number of trials exceeded 25% of maximum generation trials. Found 0 valid samples.\n",
      "Radar Warning: The number of trials exceeded 50% of maximum generation trials. Found 0 valid samples.\n",
      "Error: RADAR: No valid sample satisfied the constraints after 1000 trials.\n"
     ]
    },
    {
     "data": {
      "application/vnd.jupyter.widget-view+json": {
       "model_id": "3029902e5d60452b93169f967dadc4c1",
       "version_major": 2,
       "version_minor": 0
      },
      "text/plain": [
       "  0%|          | 0/200 [00:00<?, ?it/s]"
      ]
     },
     "metadata": {},
     "output_type": "display_data"
    },
    {
     "name": "stdout",
     "output_type": "stream",
     "text": [
      "Relative cost: 0.301\n",
      "Absolute cost: 0.342\n",
      "--------------------------------------------------\n"
     ]
    },
    {
     "data": {
      "application/vnd.jupyter.widget-view+json": {
       "model_id": "afc4d2bebcd14281b3d5f1956fb5c35c",
       "version_major": 2,
       "version_minor": 0
      },
      "text/plain": [
       "  0%|          | 0/200 [00:00<?, ?it/s]"
      ]
     },
     "metadata": {},
     "output_type": "display_data"
    },
    {
     "name": "stdout",
     "output_type": "stream",
     "text": [
      "Relative cost: 0.201\n",
      "Absolute cost: 0.453\n",
      "--------------------------------------------------\n",
      "Best model for sample 31: SimulatedAnnealing\n",
      "--------------------------------------------------\n",
      "Running attack for sample 32...\n"
     ]
    },
    {
     "data": {
      "application/vnd.jupyter.widget-view+json": {
       "model_id": "51a1245183c34e749842348e0a6b991d",
       "version_major": 2,
       "version_minor": 0
      },
      "text/plain": [
       "  0%|          | 0/200 [00:00<?, ?it/s]"
      ]
     },
     "metadata": {},
     "output_type": "display_data"
    },
    {
     "name": "stdout",
     "output_type": "stream",
     "text": [
      "Relative cost: -0.0\n",
      "Absolute cost: 0.43\n",
      "--------------------------------------------------\n"
     ]
    },
    {
     "data": {
      "application/vnd.jupyter.widget-view+json": {
       "model_id": "2930a9980d014ae3a3b80edcbe677446",
       "version_major": 2,
       "version_minor": 0
      },
      "text/plain": [
       "  0%|          | 0/200 [00:00<?, ?it/s]"
      ]
     },
     "metadata": {},
     "output_type": "display_data"
    },
    {
     "name": "stdout",
     "output_type": "stream",
     "text": [
      "Relative cost: -0.014\n",
      "Absolute cost: 0.416\n",
      "--------------------------------------------------\n"
     ]
    },
    {
     "data": {
      "application/vnd.jupyter.widget-view+json": {
       "model_id": "636f6032b8b9428b881bae426fb58c00",
       "version_major": 2,
       "version_minor": 0
      },
      "text/plain": [
       "  0%|          | 0/200 [00:00<?, ?it/s]"
      ]
     },
     "metadata": {},
     "output_type": "display_data"
    },
    {
     "name": "stdout",
     "output_type": "stream",
     "text": [
      "Relative cost: -0.009\n",
      "Absolute cost: 0.421\n",
      "--------------------------------------------------\n",
      "Best model for sample 32: SimulatedAnnealing\n",
      "--------------------------------------------------\n",
      "Running attack for sample 33...\n"
     ]
    },
    {
     "data": {
      "application/vnd.jupyter.widget-view+json": {
       "model_id": "ae1162d3e24b4bf78508a875ea2c600d",
       "version_major": 2,
       "version_minor": 0
      },
      "text/plain": [
       "  0%|          | 0/200 [00:00<?, ?it/s]"
      ]
     },
     "metadata": {},
     "output_type": "display_data"
    },
    {
     "name": "stdout",
     "output_type": "stream",
     "text": [
      "Radar Warning: The number of trials exceeded 10% of maximum generation trials. Found 0 valid samples.\n",
      "Relative cost: 0.123\n",
      "Absolute cost: 0.774\n",
      "--------------------------------------------------\n"
     ]
    },
    {
     "data": {
      "application/vnd.jupyter.widget-view+json": {
       "model_id": "b2683a3be0844235ad2a98a6277d733f",
       "version_major": 2,
       "version_minor": 0
      },
      "text/plain": [
       "  0%|          | 0/200 [00:00<?, ?it/s]"
      ]
     },
     "metadata": {},
     "output_type": "display_data"
    },
    {
     "name": "stdout",
     "output_type": "stream",
     "text": [
      "Radar Warning: The number of trials exceeded 10% of maximum generation trials. Found 0 valid samples.\n",
      "Relative cost: -0.399\n",
      "Absolute cost: 0.252\n",
      "--------------------------------------------------\n"
     ]
    },
    {
     "data": {
      "application/vnd.jupyter.widget-view+json": {
       "model_id": "05ad616ec7364efdae2628a232236498",
       "version_major": 2,
       "version_minor": 0
      },
      "text/plain": [
       "  0%|          | 0/200 [00:00<?, ?it/s]"
      ]
     },
     "metadata": {},
     "output_type": "display_data"
    },
    {
     "name": "stdout",
     "output_type": "stream",
     "text": [
      "Relative cost: -0.398\n",
      "Absolute cost: 0.458\n",
      "--------------------------------------------------\n",
      "Best model for sample 33: SimulatedAnnealing\n",
      "--------------------------------------------------\n",
      "Running attack for sample 34...\n"
     ]
    },
    {
     "data": {
      "application/vnd.jupyter.widget-view+json": {
       "model_id": "16875c5df9364ce7aa6b91c00699641f",
       "version_major": 2,
       "version_minor": 0
      },
      "text/plain": [
       "  0%|          | 0/200 [00:00<?, ?it/s]"
      ]
     },
     "metadata": {},
     "output_type": "display_data"
    },
    {
     "name": "stdout",
     "output_type": "stream",
     "text": [
      "Radar Warning: The number of trials exceeded 10% of maximum generation trials. Found 0 valid samples.\n",
      "Radar Warning: The number of trials exceeded 25% of maximum generation trials. Found 0 valid samples.\n",
      "Radar Warning: The number of trials exceeded 50% of maximum generation trials. Found 0 valid samples.\n",
      "Error: RADAR: No valid sample satisfied the constraints after 1000 trials.\n"
     ]
    },
    {
     "data": {
      "application/vnd.jupyter.widget-view+json": {
       "model_id": "cbaa64e7026b446f9d0058705ebdcc27",
       "version_major": 2,
       "version_minor": 0
      },
      "text/plain": [
       "  0%|          | 0/200 [00:00<?, ?it/s]"
      ]
     },
     "metadata": {},
     "output_type": "display_data"
    },
    {
     "name": "stdout",
     "output_type": "stream",
     "text": [
      "Relative cost: -0.529\n",
      "Absolute cost: 0.904\n",
      "--------------------------------------------------\n"
     ]
    },
    {
     "data": {
      "application/vnd.jupyter.widget-view+json": {
       "model_id": "70c45ffc77224c7ba50c1a3eb120a2d4",
       "version_major": 2,
       "version_minor": 0
      },
      "text/plain": [
       "  0%|          | 0/200 [00:00<?, ?it/s]"
      ]
     },
     "metadata": {},
     "output_type": "display_data"
    },
    {
     "name": "stdout",
     "output_type": "stream",
     "text": [
      "Relative cost: -0.494\n",
      "Absolute cost: 0.937\n",
      "--------------------------------------------------\n",
      "Best model for sample 34: SimulatedAnnealing\n",
      "--------------------------------------------------\n",
      "Running attack for sample 35...\n"
     ]
    },
    {
     "data": {
      "application/vnd.jupyter.widget-view+json": {
       "model_id": "3dd96d0ecc3e4224b2b447466d0e24a1",
       "version_major": 2,
       "version_minor": 0
      },
      "text/plain": [
       "  0%|          | 0/200 [00:00<?, ?it/s]"
      ]
     },
     "metadata": {},
     "output_type": "display_data"
    },
    {
     "name": "stdout",
     "output_type": "stream",
     "text": [
      "Radar Warning: The number of trials exceeded 10% of maximum generation trials. Found 0 valid samples.\n",
      "Radar Warning: The number of trials exceeded 25% of maximum generation trials. Found 0 valid samples.\n",
      "Radar Warning: The number of trials exceeded 50% of maximum generation trials. Found 0 valid samples.\n",
      "Error: RADAR: No valid sample satisfied the constraints after 1000 trials.\n"
     ]
    },
    {
     "data": {
      "application/vnd.jupyter.widget-view+json": {
       "model_id": "8da0cd64437d40ac9251af8366a32410",
       "version_major": 2,
       "version_minor": 0
      },
      "text/plain": [
       "  0%|          | 0/200 [00:00<?, ?it/s]"
      ]
     },
     "metadata": {},
     "output_type": "display_data"
    },
    {
     "name": "stdout",
     "output_type": "stream",
     "text": [
      "Relative cost: 0.183\n",
      "Absolute cost: 0.414\n",
      "--------------------------------------------------\n"
     ]
    },
    {
     "data": {
      "application/vnd.jupyter.widget-view+json": {
       "model_id": "9821e419b4f842ee954d9c0520fd0e47",
       "version_major": 2,
       "version_minor": 0
      },
      "text/plain": [
       "  0%|          | 0/200 [00:00<?, ?it/s]"
      ]
     },
     "metadata": {},
     "output_type": "display_data"
    },
    {
     "name": "stdout",
     "output_type": "stream",
     "text": [
      "Relative cost: 0.036\n",
      "Absolute cost: 0.282\n",
      "--------------------------------------------------\n",
      "Best model for sample 35: TabuSearch\n",
      "--------------------------------------------------\n",
      "Running attack for sample 36...\n"
     ]
    },
    {
     "data": {
      "application/vnd.jupyter.widget-view+json": {
       "model_id": "3ef7a3f0c51f4e1d9c0610e595ba678d",
       "version_major": 2,
       "version_minor": 0
      },
      "text/plain": [
       "  0%|          | 0/200 [00:00<?, ?it/s]"
      ]
     },
     "metadata": {},
     "output_type": "display_data"
    },
    {
     "name": "stdout",
     "output_type": "stream",
     "text": [
      "Relative cost: -0.0\n",
      "Absolute cost: 0.351\n",
      "--------------------------------------------------\n"
     ]
    },
    {
     "data": {
      "application/vnd.jupyter.widget-view+json": {
       "model_id": "cfc298b6ffff46d0ac96235bc54ce89c",
       "version_major": 2,
       "version_minor": 0
      },
      "text/plain": [
       "  0%|          | 0/200 [00:00<?, ?it/s]"
      ]
     },
     "metadata": {},
     "output_type": "display_data"
    },
    {
     "name": "stdout",
     "output_type": "stream",
     "text": [
      "Relative cost: -0.0\n",
      "Absolute cost: 0.35\n",
      "--------------------------------------------------\n"
     ]
    },
    {
     "data": {
      "application/vnd.jupyter.widget-view+json": {
       "model_id": "45ef16aece494471abd422fb8dde6434",
       "version_major": 2,
       "version_minor": 0
      },
      "text/plain": [
       "  0%|          | 0/200 [00:00<?, ?it/s]"
      ]
     },
     "metadata": {},
     "output_type": "display_data"
    },
    {
     "name": "stdout",
     "output_type": "stream",
     "text": [
      "Relative cost: -0.018\n",
      "Absolute cost: 0.331\n",
      "--------------------------------------------------\n",
      "Best model for sample 36: TabuSearch\n",
      "--------------------------------------------------\n",
      "Running attack for sample 37...\n"
     ]
    },
    {
     "data": {
      "application/vnd.jupyter.widget-view+json": {
       "model_id": "3a3e81bd89ef4ff7b7b1605b5dc2b072",
       "version_major": 2,
       "version_minor": 0
      },
      "text/plain": [
       "  0%|          | 0/200 [00:00<?, ?it/s]"
      ]
     },
     "metadata": {},
     "output_type": "display_data"
    },
    {
     "name": "stdout",
     "output_type": "stream",
     "text": [
      "Relative cost: 0.063\n",
      "Absolute cost: 0.565\n",
      "--------------------------------------------------\n"
     ]
    },
    {
     "data": {
      "application/vnd.jupyter.widget-view+json": {
       "model_id": "938c2d133a5148798d5b150824860ac1",
       "version_major": 2,
       "version_minor": 0
      },
      "text/plain": [
       "  0%|          | 0/200 [00:00<?, ?it/s]"
      ]
     },
     "metadata": {},
     "output_type": "display_data"
    },
    {
     "name": "stdout",
     "output_type": "stream",
     "text": [
      "Relative cost: -0.132\n",
      "Absolute cost: 0.398\n",
      "--------------------------------------------------\n"
     ]
    },
    {
     "data": {
      "application/vnd.jupyter.widget-view+json": {
       "model_id": "8172cf5ba49045c9b16e230005ac6253",
       "version_major": 2,
       "version_minor": 0
      },
      "text/plain": [
       "  0%|          | 0/200 [00:00<?, ?it/s]"
      ]
     },
     "metadata": {},
     "output_type": "display_data"
    },
    {
     "name": "stdout",
     "output_type": "stream",
     "text": [
      "Relative cost: -0.038\n",
      "Absolute cost: 0.473\n",
      "--------------------------------------------------\n",
      "Best model for sample 37: SimulatedAnnealing\n",
      "--------------------------------------------------\n",
      "Running attack for sample 38...\n"
     ]
    },
    {
     "data": {
      "application/vnd.jupyter.widget-view+json": {
       "model_id": "3fc6e3cc312a4745a79fff86f8ba7df8",
       "version_major": 2,
       "version_minor": 0
      },
      "text/plain": [
       "  0%|          | 0/200 [00:00<?, ?it/s]"
      ]
     },
     "metadata": {},
     "output_type": "display_data"
    },
    {
     "name": "stdout",
     "output_type": "stream",
     "text": [
      "Radar Warning: The number of trials exceeded 10% of maximum generation trials. Found 0 valid samples.\n",
      "Radar Warning: The number of trials exceeded 25% of maximum generation trials. Found 0 valid samples.\n",
      "Radar Warning: The number of trials exceeded 50% of maximum generation trials. Found 0 valid samples.\n",
      "Error: RADAR: No valid sample satisfied the constraints after 1000 trials.\n"
     ]
    },
    {
     "data": {
      "application/vnd.jupyter.widget-view+json": {
       "model_id": "4680a4ef63ef4887932bee30acaca83e",
       "version_major": 2,
       "version_minor": 0
      },
      "text/plain": [
       "  0%|          | 0/200 [00:00<?, ?it/s]"
      ]
     },
     "metadata": {},
     "output_type": "display_data"
    },
    {
     "name": "stdout",
     "output_type": "stream",
     "text": [
      "Relative cost: 0.241\n",
      "Absolute cost: 0.533\n",
      "--------------------------------------------------\n"
     ]
    },
    {
     "data": {
      "application/vnd.jupyter.widget-view+json": {
       "model_id": "9438781e6b3e4989beb2950cc080963e",
       "version_major": 2,
       "version_minor": 0
      },
      "text/plain": [
       "  0%|          | 0/200 [00:00<?, ?it/s]"
      ]
     },
     "metadata": {},
     "output_type": "display_data"
    },
    {
     "name": "stdout",
     "output_type": "stream",
     "text": [
      "Relative cost: 2.383\n",
      "Absolute cost: 2.417\n",
      "--------------------------------------------------\n",
      "Best model for sample 38: SimulatedAnnealing\n",
      "--------------------------------------------------\n",
      "Running attack for sample 39...\n"
     ]
    },
    {
     "data": {
      "application/vnd.jupyter.widget-view+json": {
       "model_id": "5e71af8621e545bda1aa2a825990b7fb",
       "version_major": 2,
       "version_minor": 0
      },
      "text/plain": [
       "  0%|          | 0/200 [00:00<?, ?it/s]"
      ]
     },
     "metadata": {},
     "output_type": "display_data"
    },
    {
     "name": "stdout",
     "output_type": "stream",
     "text": [
      "Relative cost: -0.017\n",
      "Absolute cost: 0.246\n",
      "--------------------------------------------------\n"
     ]
    },
    {
     "data": {
      "application/vnd.jupyter.widget-view+json": {
       "model_id": "671d0da2c9974a1582bc3971af7fde4c",
       "version_major": 2,
       "version_minor": 0
      },
      "text/plain": [
       "  0%|          | 0/200 [00:00<?, ?it/s]"
      ]
     },
     "metadata": {},
     "output_type": "display_data"
    },
    {
     "name": "stdout",
     "output_type": "stream",
     "text": [
      "Relative cost: -0.002\n",
      "Absolute cost: 0.261\n",
      "--------------------------------------------------\n"
     ]
    },
    {
     "data": {
      "application/vnd.jupyter.widget-view+json": {
       "model_id": "164af453f225466fa09bcb014474b904",
       "version_major": 2,
       "version_minor": 0
      },
      "text/plain": [
       "  0%|          | 0/200 [00:00<?, ?it/s]"
      ]
     },
     "metadata": {},
     "output_type": "display_data"
    },
    {
     "name": "stdout",
     "output_type": "stream",
     "text": [
      "Relative cost: 0.003\n",
      "Absolute cost: 0.263\n",
      "--------------------------------------------------\n",
      "Best model for sample 39: HillClimbing\n",
      "--------------------------------------------------\n",
      "Running attack for sample 40...\n"
     ]
    },
    {
     "data": {
      "application/vnd.jupyter.widget-view+json": {
       "model_id": "893467e754af4ff4bde145d38163bfc8",
       "version_major": 2,
       "version_minor": 0
      },
      "text/plain": [
       "  0%|          | 0/200 [00:00<?, ?it/s]"
      ]
     },
     "metadata": {},
     "output_type": "display_data"
    },
    {
     "name": "stdout",
     "output_type": "stream",
     "text": [
      "Relative cost: 0.247\n",
      "Absolute cost: 0.416\n",
      "--------------------------------------------------\n"
     ]
    },
    {
     "data": {
      "application/vnd.jupyter.widget-view+json": {
       "model_id": "cd550ce9fc8a4e6a983e04cb4f5d5955",
       "version_major": 2,
       "version_minor": 0
      },
      "text/plain": [
       "  0%|          | 0/200 [00:00<?, ?it/s]"
      ]
     },
     "metadata": {},
     "output_type": "display_data"
    },
    {
     "name": "stdout",
     "output_type": "stream",
     "text": [
      "Relative cost: 3.917\n",
      "Absolute cost: 3.915\n",
      "--------------------------------------------------\n"
     ]
    },
    {
     "data": {
      "application/vnd.jupyter.widget-view+json": {
       "model_id": "8e61f3b52aff4ce8b898c7fb72e65d67",
       "version_major": 2,
       "version_minor": 0
      },
      "text/plain": [
       "  0%|          | 0/200 [00:00<?, ?it/s]"
      ]
     },
     "metadata": {},
     "output_type": "display_data"
    },
    {
     "name": "stdout",
     "output_type": "stream",
     "text": [
      "Relative cost: 2.36\n",
      "Absolute cost: 2.396\n",
      "--------------------------------------------------\n",
      "Best model for sample 40: HillClimbing\n",
      "--------------------------------------------------\n",
      "Running attack for sample 41...\n"
     ]
    },
    {
     "data": {
      "application/vnd.jupyter.widget-view+json": {
       "model_id": "9b83f1bbe3714052a01866a14c78fed6",
       "version_major": 2,
       "version_minor": 0
      },
      "text/plain": [
       "  0%|          | 0/200 [00:00<?, ?it/s]"
      ]
     },
     "metadata": {},
     "output_type": "display_data"
    },
    {
     "name": "stdout",
     "output_type": "stream",
     "text": [
      "Relative cost: 0.022\n",
      "Absolute cost: 0.372\n",
      "--------------------------------------------------\n"
     ]
    },
    {
     "data": {
      "application/vnd.jupyter.widget-view+json": {
       "model_id": "ac7f6cc800e348f694b1ddeeae11075d",
       "version_major": 2,
       "version_minor": 0
      },
      "text/plain": [
       "  0%|          | 0/200 [00:00<?, ?it/s]"
      ]
     },
     "metadata": {},
     "output_type": "display_data"
    },
    {
     "name": "stdout",
     "output_type": "stream",
     "text": [
      "Relative cost: -0.118\n",
      "Absolute cost: 0.241\n",
      "--------------------------------------------------\n"
     ]
    },
    {
     "data": {
      "application/vnd.jupyter.widget-view+json": {
       "model_id": "ce386b5017aa40f6aae64dcad42474aa",
       "version_major": 2,
       "version_minor": 0
      },
      "text/plain": [
       "  0%|          | 0/200 [00:00<?, ?it/s]"
      ]
     },
     "metadata": {},
     "output_type": "display_data"
    },
    {
     "name": "stdout",
     "output_type": "stream",
     "text": [
      "Relative cost: -0.05\n",
      "Absolute cost: 0.52\n",
      "--------------------------------------------------\n",
      "Best model for sample 41: SimulatedAnnealing\n",
      "--------------------------------------------------\n",
      "Running attack for sample 42...\n"
     ]
    },
    {
     "data": {
      "application/vnd.jupyter.widget-view+json": {
       "model_id": "f9d0b4aa47ba4a11b202685728c6e726",
       "version_major": 2,
       "version_minor": 0
      },
      "text/plain": [
       "  0%|          | 0/200 [00:00<?, ?it/s]"
      ]
     },
     "metadata": {},
     "output_type": "display_data"
    },
    {
     "name": "stdout",
     "output_type": "stream",
     "text": [
      "Radar Warning: The number of trials exceeded 10% of maximum generation trials. Found 0 valid samples.\n",
      "Radar Warning: The number of trials exceeded 25% of maximum generation trials. Found 0 valid samples.\n",
      "Radar Warning: The number of trials exceeded 50% of maximum generation trials. Found 0 valid samples.\n",
      "Error: RADAR: No valid sample satisfied the constraints after 1000 trials.\n"
     ]
    },
    {
     "data": {
      "application/vnd.jupyter.widget-view+json": {
       "model_id": "954b6ed34ba14b63a1763d425a4cfd9a",
       "version_major": 2,
       "version_minor": 0
      },
      "text/plain": [
       "  0%|          | 0/200 [00:00<?, ?it/s]"
      ]
     },
     "metadata": {},
     "output_type": "display_data"
    },
    {
     "name": "stdout",
     "output_type": "stream",
     "text": [
      "Relative cost: 0.148\n",
      "Absolute cost: 0.305\n",
      "--------------------------------------------------\n"
     ]
    },
    {
     "data": {
      "application/vnd.jupyter.widget-view+json": {
       "model_id": "26542aba9a924f0e8f75683b70e03387",
       "version_major": 2,
       "version_minor": 0
      },
      "text/plain": [
       "  0%|          | 0/200 [00:00<?, ?it/s]"
      ]
     },
     "metadata": {},
     "output_type": "display_data"
    },
    {
     "name": "stdout",
     "output_type": "stream",
     "text": [
      "Relative cost: 3.079\n",
      "Absolute cost: 3.121\n",
      "--------------------------------------------------\n",
      "Best model for sample 42: SimulatedAnnealing\n",
      "--------------------------------------------------\n",
      "Running attack for sample 43...\n"
     ]
    },
    {
     "data": {
      "application/vnd.jupyter.widget-view+json": {
       "model_id": "16f7b04a9bc9401c9ca4756daa937978",
       "version_major": 2,
       "version_minor": 0
      },
      "text/plain": [
       "  0%|          | 0/200 [00:00<?, ?it/s]"
      ]
     },
     "metadata": {},
     "output_type": "display_data"
    },
    {
     "name": "stdout",
     "output_type": "stream",
     "text": [
      "Relative cost: 0.069\n",
      "Absolute cost: 0.282\n",
      "--------------------------------------------------\n"
     ]
    },
    {
     "data": {
      "application/vnd.jupyter.widget-view+json": {
       "model_id": "6ae10912126144bebe18a29fc515a9d8",
       "version_major": 2,
       "version_minor": 0
      },
      "text/plain": [
       "  0%|          | 0/200 [00:00<?, ?it/s]"
      ]
     },
     "metadata": {},
     "output_type": "display_data"
    },
    {
     "name": "stdout",
     "output_type": "stream",
     "text": [
      "Relative cost: 0.11\n",
      "Absolute cost: 0.298\n",
      "--------------------------------------------------\n"
     ]
    },
    {
     "data": {
      "application/vnd.jupyter.widget-view+json": {
       "model_id": "b2e5168c97e747afb120c740de66ba23",
       "version_major": 2,
       "version_minor": 0
      },
      "text/plain": [
       "  0%|          | 0/200 [00:00<?, ?it/s]"
      ]
     },
     "metadata": {},
     "output_type": "display_data"
    },
    {
     "name": "stdout",
     "output_type": "stream",
     "text": [
      "Relative cost: 0.113\n",
      "Absolute cost: 0.3\n",
      "--------------------------------------------------\n",
      "Best model for sample 43: HillClimbing\n",
      "--------------------------------------------------\n",
      "Running attack for sample 44...\n"
     ]
    },
    {
     "data": {
      "application/vnd.jupyter.widget-view+json": {
       "model_id": "d6b175f8339044d880f721f6d0d864c4",
       "version_major": 2,
       "version_minor": 0
      },
      "text/plain": [
       "  0%|          | 0/200 [00:00<?, ?it/s]"
      ]
     },
     "metadata": {},
     "output_type": "display_data"
    },
    {
     "name": "stdout",
     "output_type": "stream",
     "text": [
      "Relative cost: -0.718\n",
      "Absolute cost: 0.693\n",
      "--------------------------------------------------\n"
     ]
    },
    {
     "data": {
      "application/vnd.jupyter.widget-view+json": {
       "model_id": "26254149f07c41fd8f179d8b39ee3de8",
       "version_major": 2,
       "version_minor": 0
      },
      "text/plain": [
       "  0%|          | 0/200 [00:00<?, ?it/s]"
      ]
     },
     "metadata": {},
     "output_type": "display_data"
    },
    {
     "name": "stdout",
     "output_type": "stream",
     "text": [
      "Relative cost: 2.896\n",
      "Absolute cost: 3.551\n",
      "--------------------------------------------------\n"
     ]
    },
    {
     "data": {
      "application/vnd.jupyter.widget-view+json": {
       "model_id": "b88c85943ea64613b307d20e6c49ed77",
       "version_major": 2,
       "version_minor": 0
      },
      "text/plain": [
       "  0%|          | 0/200 [00:00<?, ?it/s]"
      ]
     },
     "metadata": {},
     "output_type": "display_data"
    },
    {
     "name": "stdout",
     "output_type": "stream",
     "text": [
      "Relative cost: 1.803\n",
      "Absolute cost: 2.219\n",
      "--------------------------------------------------\n",
      "Best model for sample 44: HillClimbing\n",
      "--------------------------------------------------\n",
      "Running attack for sample 45...\n"
     ]
    },
    {
     "data": {
      "application/vnd.jupyter.widget-view+json": {
       "model_id": "b76249f52d8d440faa295d0979970ee7",
       "version_major": 2,
       "version_minor": 0
      },
      "text/plain": [
       "  0%|          | 0/200 [00:00<?, ?it/s]"
      ]
     },
     "metadata": {},
     "output_type": "display_data"
    },
    {
     "name": "stdout",
     "output_type": "stream",
     "text": [
      "Radar Warning: The number of trials exceeded 10% of maximum generation trials. Found 0 valid samples.\n",
      "Radar Warning: The number of trials exceeded 25% of maximum generation trials. Found 0 valid samples.\n",
      "Radar Warning: The number of trials exceeded 50% of maximum generation trials. Found 0 valid samples.\n",
      "Error: RADAR: No valid sample satisfied the constraints after 1000 trials.\n"
     ]
    },
    {
     "data": {
      "application/vnd.jupyter.widget-view+json": {
       "model_id": "f6957fb6054b48918fd48be638a06bcd",
       "version_major": 2,
       "version_minor": 0
      },
      "text/plain": [
       "  0%|          | 0/200 [00:00<?, ?it/s]"
      ]
     },
     "metadata": {},
     "output_type": "display_data"
    },
    {
     "name": "stdout",
     "output_type": "stream",
     "text": [
      "Relative cost: -0.036\n",
      "Absolute cost: 0.605\n",
      "--------------------------------------------------\n"
     ]
    },
    {
     "data": {
      "application/vnd.jupyter.widget-view+json": {
       "model_id": "15fadacd208847aaaa131f71835f005c",
       "version_major": 2,
       "version_minor": 0
      },
      "text/plain": [
       "  0%|          | 0/200 [00:00<?, ?it/s]"
      ]
     },
     "metadata": {},
     "output_type": "display_data"
    },
    {
     "name": "stdout",
     "output_type": "stream",
     "text": [
      "Relative cost: 0.072\n",
      "Absolute cost: 0.682\n",
      "--------------------------------------------------\n",
      "Best model for sample 45: SimulatedAnnealing\n",
      "--------------------------------------------------\n",
      "Running attack for sample 46...\n"
     ]
    },
    {
     "data": {
      "application/vnd.jupyter.widget-view+json": {
       "model_id": "5a1d1a7e72fd42c683cff9bcac73c694",
       "version_major": 2,
       "version_minor": 0
      },
      "text/plain": [
       "  0%|          | 0/200 [00:00<?, ?it/s]"
      ]
     },
     "metadata": {},
     "output_type": "display_data"
    },
    {
     "name": "stdout",
     "output_type": "stream",
     "text": [
      "Relative cost: -0.202\n",
      "Absolute cost: 0.584\n",
      "--------------------------------------------------\n"
     ]
    },
    {
     "data": {
      "application/vnd.jupyter.widget-view+json": {
       "model_id": "692f18d06c0949e3a85bb7982ffdbcdb",
       "version_major": 2,
       "version_minor": 0
      },
      "text/plain": [
       "  0%|          | 0/200 [00:00<?, ?it/s]"
      ]
     },
     "metadata": {},
     "output_type": "display_data"
    },
    {
     "name": "stdout",
     "output_type": "stream",
     "text": [
      "Relative cost: 0.022\n",
      "Absolute cost: 0.798\n",
      "--------------------------------------------------\n"
     ]
    },
    {
     "data": {
      "application/vnd.jupyter.widget-view+json": {
       "model_id": "ebf33e2176e5446d8ae7e06842e59277",
       "version_major": 2,
       "version_minor": 0
      },
      "text/plain": [
       "  0%|          | 0/200 [00:00<?, ?it/s]"
      ]
     },
     "metadata": {},
     "output_type": "display_data"
    },
    {
     "name": "stdout",
     "output_type": "stream",
     "text": [
      "Relative cost: 0.027\n",
      "Absolute cost: 0.832\n",
      "--------------------------------------------------\n",
      "Best model for sample 46: HillClimbing\n",
      "--------------------------------------------------\n",
      "Running attack for sample 47...\n"
     ]
    },
    {
     "data": {
      "application/vnd.jupyter.widget-view+json": {
       "model_id": "822eb9b1c8af4f15b027b6c246f87435",
       "version_major": 2,
       "version_minor": 0
      },
      "text/plain": [
       "  0%|          | 0/200 [00:00<?, ?it/s]"
      ]
     },
     "metadata": {},
     "output_type": "display_data"
    },
    {
     "name": "stdout",
     "output_type": "stream",
     "text": [
      "Relative cost: -0.007\n",
      "Absolute cost: 0.33\n",
      "--------------------------------------------------\n"
     ]
    },
    {
     "data": {
      "application/vnd.jupyter.widget-view+json": {
       "model_id": "f1d018dcb9184e4899d04e4c54f75046",
       "version_major": 2,
       "version_minor": 0
      },
      "text/plain": [
       "  0%|          | 0/200 [00:00<?, ?it/s]"
      ]
     },
     "metadata": {},
     "output_type": "display_data"
    },
    {
     "name": "stdout",
     "output_type": "stream",
     "text": [
      "Relative cost: 0.003\n",
      "Absolute cost: 0.339\n",
      "--------------------------------------------------\n"
     ]
    },
    {
     "data": {
      "application/vnd.jupyter.widget-view+json": {
       "model_id": "adb9a88092db4074aa322ffa4de9ce55",
       "version_major": 2,
       "version_minor": 0
      },
      "text/plain": [
       "  0%|          | 0/200 [00:00<?, ?it/s]"
      ]
     },
     "metadata": {},
     "output_type": "display_data"
    },
    {
     "name": "stdout",
     "output_type": "stream",
     "text": [
      "Relative cost: -0.01\n",
      "Absolute cost: 0.327\n",
      "--------------------------------------------------\n",
      "Best model for sample 47: TabuSearch\n",
      "--------------------------------------------------\n",
      "Running attack for sample 48...\n"
     ]
    },
    {
     "data": {
      "application/vnd.jupyter.widget-view+json": {
       "model_id": "e2abb97557824ac9b203941fab448148",
       "version_major": 2,
       "version_minor": 0
      },
      "text/plain": [
       "  0%|          | 0/200 [00:00<?, ?it/s]"
      ]
     },
     "metadata": {},
     "output_type": "display_data"
    },
    {
     "name": "stdout",
     "output_type": "stream",
     "text": [
      "Error: This is embarrassing... The final sample is not adversarial!\n"
     ]
    },
    {
     "data": {
      "application/vnd.jupyter.widget-view+json": {
       "model_id": "97b0f6d7e2214d4d95d8399073f8ef28",
       "version_major": 2,
       "version_minor": 0
      },
      "text/plain": [
       "  0%|          | 0/200 [00:00<?, ?it/s]"
      ]
     },
     "metadata": {},
     "output_type": "display_data"
    },
    {
     "name": "stdout",
     "output_type": "stream",
     "text": [
      "Relative cost: 0.009\n",
      "Absolute cost: 0.264\n",
      "--------------------------------------------------\n"
     ]
    },
    {
     "data": {
      "application/vnd.jupyter.widget-view+json": {
       "model_id": "bda9e3d452004204a100b7e033224289",
       "version_major": 2,
       "version_minor": 0
      },
      "text/plain": [
       "  0%|          | 0/200 [00:00<?, ?it/s]"
      ]
     },
     "metadata": {},
     "output_type": "display_data"
    },
    {
     "name": "stdout",
     "output_type": "stream",
     "text": [
      "Relative cost: 0.021\n",
      "Absolute cost: 0.246\n",
      "--------------------------------------------------\n",
      "Best model for sample 48: TabuSearch\n",
      "--------------------------------------------------\n",
      "Running attack for sample 49...\n"
     ]
    },
    {
     "data": {
      "application/vnd.jupyter.widget-view+json": {
       "model_id": "8908d9007e8942ff90f7b4cb238dcb29",
       "version_major": 2,
       "version_minor": 0
      },
      "text/plain": [
       "  0%|          | 0/200 [00:00<?, ?it/s]"
      ]
     },
     "metadata": {},
     "output_type": "display_data"
    },
    {
     "name": "stdout",
     "output_type": "stream",
     "text": [
      "Relative cost: -0.439\n",
      "Absolute cost: 0.745\n",
      "--------------------------------------------------\n"
     ]
    },
    {
     "data": {
      "application/vnd.jupyter.widget-view+json": {
       "model_id": "744f722e1cee4d01ada7dc7d045a1b11",
       "version_major": 2,
       "version_minor": 0
      },
      "text/plain": [
       "  0%|          | 0/200 [00:00<?, ?it/s]"
      ]
     },
     "metadata": {},
     "output_type": "display_data"
    },
    {
     "name": "stdout",
     "output_type": "stream",
     "text": [
      "Relative cost: -0.439\n",
      "Absolute cost: 0.745\n",
      "--------------------------------------------------\n"
     ]
    },
    {
     "data": {
      "application/vnd.jupyter.widget-view+json": {
       "model_id": "49cab1ac2ea04948b58067bfd8d9a3b4",
       "version_major": 2,
       "version_minor": 0
      },
      "text/plain": [
       "  0%|          | 0/200 [00:00<?, ?it/s]"
      ]
     },
     "metadata": {},
     "output_type": "display_data"
    },
    {
     "name": "stdout",
     "output_type": "stream",
     "text": [
      "Relative cost: -0.439\n",
      "Absolute cost: 0.745\n",
      "--------------------------------------------------\n",
      "Best model for sample 49: SimulatedAnnealing\n",
      "--------------------------------------------------\n",
      "Running attack for sample 50...\n"
     ]
    },
    {
     "data": {
      "application/vnd.jupyter.widget-view+json": {
       "model_id": "175980a794234bd3a72b794d71948e98",
       "version_major": 2,
       "version_minor": 0
      },
      "text/plain": [
       "  0%|          | 0/200 [00:00<?, ?it/s]"
      ]
     },
     "metadata": {},
     "output_type": "display_data"
    },
    {
     "name": "stdout",
     "output_type": "stream",
     "text": [
      "Relative cost: -0.064\n",
      "Absolute cost: 0.801\n",
      "--------------------------------------------------\n"
     ]
    },
    {
     "data": {
      "application/vnd.jupyter.widget-view+json": {
       "model_id": "88272bc88a544071a561759d19befd22",
       "version_major": 2,
       "version_minor": 0
      },
      "text/plain": [
       "  0%|          | 0/200 [00:00<?, ?it/s]"
      ]
     },
     "metadata": {},
     "output_type": "display_data"
    },
    {
     "name": "stdout",
     "output_type": "stream",
     "text": [
      "Relative cost: -0.064\n",
      "Absolute cost: 0.801\n",
      "--------------------------------------------------\n"
     ]
    },
    {
     "data": {
      "application/vnd.jupyter.widget-view+json": {
       "model_id": "dff5e93eeb284d3d848a55d4c418e454",
       "version_major": 2,
       "version_minor": 0
      },
      "text/plain": [
       "  0%|          | 0/200 [00:00<?, ?it/s]"
      ]
     },
     "metadata": {},
     "output_type": "display_data"
    },
    {
     "name": "stdout",
     "output_type": "stream",
     "text": [
      "Relative cost: -0.064\n",
      "Absolute cost: 0.801\n",
      "--------------------------------------------------\n",
      "Best model for sample 50: SimulatedAnnealing\n",
      "--------------------------------------------------\n",
      "Running attack for sample 51...\n"
     ]
    },
    {
     "data": {
      "application/vnd.jupyter.widget-view+json": {
       "model_id": "f91b04beb8f746f383673e6c834d3a8d",
       "version_major": 2,
       "version_minor": 0
      },
      "text/plain": [
       "  0%|          | 0/200 [00:00<?, ?it/s]"
      ]
     },
     "metadata": {},
     "output_type": "display_data"
    },
    {
     "name": "stdout",
     "output_type": "stream",
     "text": [
      "Relative cost: -0.081\n",
      "Absolute cost: 0.642\n",
      "--------------------------------------------------\n"
     ]
    },
    {
     "data": {
      "application/vnd.jupyter.widget-view+json": {
       "model_id": "b5d29c1a582e4f73ae44cf2c59eb51a2",
       "version_major": 2,
       "version_minor": 0
      },
      "text/plain": [
       "  0%|          | 0/200 [00:00<?, ?it/s]"
      ]
     },
     "metadata": {},
     "output_type": "display_data"
    },
    {
     "name": "stdout",
     "output_type": "stream",
     "text": [
      "Relative cost: 0.073\n",
      "Absolute cost: 1.017\n",
      "--------------------------------------------------\n"
     ]
    },
    {
     "data": {
      "application/vnd.jupyter.widget-view+json": {
       "model_id": "3ed1900d2642420d89d03e24d0097fa2",
       "version_major": 2,
       "version_minor": 0
      },
      "text/plain": [
       "  0%|          | 0/200 [00:00<?, ?it/s]"
      ]
     },
     "metadata": {},
     "output_type": "display_data"
    },
    {
     "name": "stdout",
     "output_type": "stream",
     "text": [
      "Relative cost: 0.042\n",
      "Absolute cost: 0.979\n",
      "--------------------------------------------------\n",
      "Best model for sample 51: HillClimbing\n",
      "--------------------------------------------------\n",
      "Running attack for sample 52...\n"
     ]
    },
    {
     "data": {
      "application/vnd.jupyter.widget-view+json": {
       "model_id": "c0a9b194cea646829840d84cdf24bf82",
       "version_major": 2,
       "version_minor": 0
      },
      "text/plain": [
       "  0%|          | 0/200 [00:00<?, ?it/s]"
      ]
     },
     "metadata": {},
     "output_type": "display_data"
    },
    {
     "name": "stdout",
     "output_type": "stream",
     "text": [
      "Radar Warning: The number of trials exceeded 10% of maximum generation trials. Found 0 valid samples.\n",
      "Radar Warning: The number of trials exceeded 25% of maximum generation trials. Found 0 valid samples.\n",
      "Radar Warning: The number of trials exceeded 50% of maximum generation trials. Found 0 valid samples.\n",
      "Error: RADAR: No valid sample satisfied the constraints after 1000 trials.\n"
     ]
    },
    {
     "data": {
      "application/vnd.jupyter.widget-view+json": {
       "model_id": "3098a4e8053c42aa91b47b4e21c07683",
       "version_major": 2,
       "version_minor": 0
      },
      "text/plain": [
       "  0%|          | 0/200 [00:00<?, ?it/s]"
      ]
     },
     "metadata": {},
     "output_type": "display_data"
    },
    {
     "name": "stdout",
     "output_type": "stream",
     "text": [
      "Relative cost: 0.235\n",
      "Absolute cost: 0.555\n",
      "--------------------------------------------------\n"
     ]
    },
    {
     "data": {
      "application/vnd.jupyter.widget-view+json": {
       "model_id": "2007e867c85a47f98455524590cb33cf",
       "version_major": 2,
       "version_minor": 0
      },
      "text/plain": [
       "  0%|          | 0/200 [00:00<?, ?it/s]"
      ]
     },
     "metadata": {},
     "output_type": "display_data"
    },
    {
     "name": "stdout",
     "output_type": "stream",
     "text": [
      "Relative cost: 0.003\n",
      "Absolute cost: 0.327\n",
      "--------------------------------------------------\n",
      "Best model for sample 52: TabuSearch\n",
      "--------------------------------------------------\n",
      "Running attack for sample 53...\n"
     ]
    },
    {
     "data": {
      "application/vnd.jupyter.widget-view+json": {
       "model_id": "0006f3c9847e4f37ab247a269a92bbec",
       "version_major": 2,
       "version_minor": 0
      },
      "text/plain": [
       "  0%|          | 0/200 [00:00<?, ?it/s]"
      ]
     },
     "metadata": {},
     "output_type": "display_data"
    },
    {
     "name": "stdout",
     "output_type": "stream",
     "text": [
      "Relative cost: -0.002\n",
      "Absolute cost: 0.325\n",
      "--------------------------------------------------\n"
     ]
    },
    {
     "data": {
      "application/vnd.jupyter.widget-view+json": {
       "model_id": "dce0d3bf365b4e4b9d53a8534e291371",
       "version_major": 2,
       "version_minor": 0
      },
      "text/plain": [
       "  0%|          | 0/200 [00:00<?, ?it/s]"
      ]
     },
     "metadata": {},
     "output_type": "display_data"
    },
    {
     "name": "stdout",
     "output_type": "stream",
     "text": [
      "Relative cost: 0.744\n",
      "Absolute cost: 0.606\n",
      "--------------------------------------------------\n"
     ]
    },
    {
     "data": {
      "application/vnd.jupyter.widget-view+json": {
       "model_id": "94ceb883f2c047a585a60600dac0bbc0",
       "version_major": 2,
       "version_minor": 0
      },
      "text/plain": [
       "  0%|          | 0/200 [00:00<?, ?it/s]"
      ]
     },
     "metadata": {},
     "output_type": "display_data"
    },
    {
     "name": "stdout",
     "output_type": "stream",
     "text": [
      "Relative cost: 3.09\n",
      "Absolute cost: 3.167\n",
      "--------------------------------------------------\n",
      "Best model for sample 53: HillClimbing\n",
      "--------------------------------------------------\n",
      "Running attack for sample 54...\n"
     ]
    },
    {
     "data": {
      "application/vnd.jupyter.widget-view+json": {
       "model_id": "955ffe69bb594cd7a476815301a84319",
       "version_major": 2,
       "version_minor": 0
      },
      "text/plain": [
       "  0%|          | 0/200 [00:00<?, ?it/s]"
      ]
     },
     "metadata": {},
     "output_type": "display_data"
    },
    {
     "name": "stdout",
     "output_type": "stream",
     "text": [
      "Radar Warning: The number of trials exceeded 10% of maximum generation trials. Found 0 valid samples.\n",
      "Radar Warning: The number of trials exceeded 25% of maximum generation trials. Found 0 valid samples.\n",
      "Radar Warning: The number of trials exceeded 50% of maximum generation trials. Found 0 valid samples.\n",
      "Error: RADAR: No valid sample satisfied the constraints after 1000 trials.\n"
     ]
    },
    {
     "data": {
      "application/vnd.jupyter.widget-view+json": {
       "model_id": "a210aa9bc6a4487c8ad2e5839e0e21ca",
       "version_major": 2,
       "version_minor": 0
      },
      "text/plain": [
       "  0%|          | 0/200 [00:00<?, ?it/s]"
      ]
     },
     "metadata": {},
     "output_type": "display_data"
    },
    {
     "name": "stdout",
     "output_type": "stream",
     "text": [
      "Relative cost: 1.896\n",
      "Absolute cost: 1.858\n",
      "--------------------------------------------------\n"
     ]
    },
    {
     "data": {
      "application/vnd.jupyter.widget-view+json": {
       "model_id": "2536db3a96e9459f8a67eb0054489d34",
       "version_major": 2,
       "version_minor": 0
      },
      "text/plain": [
       "  0%|          | 0/200 [00:00<?, ?it/s]"
      ]
     },
     "metadata": {},
     "output_type": "display_data"
    },
    {
     "name": "stdout",
     "output_type": "stream",
     "text": [
      "Relative cost: 0.303\n",
      "Absolute cost: 0.45\n",
      "--------------------------------------------------\n",
      "Best model for sample 54: TabuSearch\n",
      "--------------------------------------------------\n",
      "Running attack for sample 55...\n"
     ]
    },
    {
     "data": {
      "application/vnd.jupyter.widget-view+json": {
       "model_id": "6b495d9bae5a488593f131d6bd0e46d6",
       "version_major": 2,
       "version_minor": 0
      },
      "text/plain": [
       "  0%|          | 0/200 [00:00<?, ?it/s]"
      ]
     },
     "metadata": {},
     "output_type": "display_data"
    },
    {
     "name": "stdout",
     "output_type": "stream",
     "text": [
      "Radar Warning: The number of trials exceeded 10% of maximum generation trials. Found 0 valid samples.\n",
      "Radar Warning: The number of trials exceeded 25% of maximum generation trials. Found 0 valid samples.\n",
      "Radar Warning: The number of trials exceeded 50% of maximum generation trials. Found 0 valid samples.\n",
      "Error: RADAR: No valid sample satisfied the constraints after 1000 trials.\n"
     ]
    },
    {
     "data": {
      "application/vnd.jupyter.widget-view+json": {
       "model_id": "56794ee396624fc1bd52e4b3cf5b6b3c",
       "version_major": 2,
       "version_minor": 0
      },
      "text/plain": [
       "  0%|          | 0/200 [00:00<?, ?it/s]"
      ]
     },
     "metadata": {},
     "output_type": "display_data"
    },
    {
     "name": "stdout",
     "output_type": "stream",
     "text": [
      "Relative cost: 0.179\n",
      "Absolute cost: 0.36\n",
      "--------------------------------------------------\n"
     ]
    },
    {
     "data": {
      "application/vnd.jupyter.widget-view+json": {
       "model_id": "1f2c2b318c63407091d2048540c205f3",
       "version_major": 2,
       "version_minor": 0
      },
      "text/plain": [
       "  0%|          | 0/200 [00:00<?, ?it/s]"
      ]
     },
     "metadata": {},
     "output_type": "display_data"
    },
    {
     "name": "stdout",
     "output_type": "stream",
     "text": [
      "Relative cost: 0.171\n",
      "Absolute cost: 0.38\n",
      "--------------------------------------------------\n",
      "Best model for sample 55: SimulatedAnnealing\n",
      "--------------------------------------------------\n",
      "Running attack for sample 56...\n"
     ]
    },
    {
     "data": {
      "application/vnd.jupyter.widget-view+json": {
       "model_id": "d810b27f8ebc4467bb94595613517e4b",
       "version_major": 2,
       "version_minor": 0
      },
      "text/plain": [
       "  0%|          | 0/200 [00:00<?, ?it/s]"
      ]
     },
     "metadata": {},
     "output_type": "display_data"
    },
    {
     "name": "stdout",
     "output_type": "stream",
     "text": [
      "Radar Warning: The number of trials exceeded 10% of maximum generation trials. Found 0 valid samples.\n",
      "Radar Warning: The number of trials exceeded 25% of maximum generation trials. Found 0 valid samples.\n",
      "Radar Warning: The number of trials exceeded 50% of maximum generation trials. Found 0 valid samples.\n",
      "Error: RADAR: No valid sample satisfied the constraints after 1000 trials.\n"
     ]
    },
    {
     "data": {
      "application/vnd.jupyter.widget-view+json": {
       "model_id": "dfb7ccbe529b439fba395e928b974a91",
       "version_major": 2,
       "version_minor": 0
      },
      "text/plain": [
       "  0%|          | 0/200 [00:00<?, ?it/s]"
      ]
     },
     "metadata": {},
     "output_type": "display_data"
    },
    {
     "name": "stdout",
     "output_type": "stream",
     "text": [
      "Relative cost: 0.291\n",
      "Absolute cost: 0.673\n",
      "--------------------------------------------------\n"
     ]
    },
    {
     "data": {
      "application/vnd.jupyter.widget-view+json": {
       "model_id": "3ed2906152de44e3b15848771f375ff8",
       "version_major": 2,
       "version_minor": 0
      },
      "text/plain": [
       "  0%|          | 0/200 [00:00<?, ?it/s]"
      ]
     },
     "metadata": {},
     "output_type": "display_data"
    },
    {
     "name": "stdout",
     "output_type": "stream",
     "text": [
      "Relative cost: 0.014\n",
      "Absolute cost: 0.403\n",
      "--------------------------------------------------\n",
      "Best model for sample 56: TabuSearch\n",
      "--------------------------------------------------\n",
      "Running attack for sample 57...\n"
     ]
    },
    {
     "data": {
      "application/vnd.jupyter.widget-view+json": {
       "model_id": "1a2c7f8a94504afebde662895d6d1c34",
       "version_major": 2,
       "version_minor": 0
      },
      "text/plain": [
       "  0%|          | 0/200 [00:00<?, ?it/s]"
      ]
     },
     "metadata": {},
     "output_type": "display_data"
    },
    {
     "name": "stdout",
     "output_type": "stream",
     "text": [
      "Radar Warning: The number of trials exceeded 10% of maximum generation trials. Found 0 valid samples.\n",
      "Radar Warning: The number of trials exceeded 10% of maximum generation trials. Found 0 valid samples.\n",
      "Radar Warning: The number of trials exceeded 25% of maximum generation trials. Found 0 valid samples.\n",
      "Radar Warning: The number of trials exceeded 50% of maximum generation trials. Found 0 valid samples.\n",
      "Error: RADAR: No valid sample satisfied the constraints after 1000 trials.\n"
     ]
    },
    {
     "data": {
      "application/vnd.jupyter.widget-view+json": {
       "model_id": "381c59de29704f8083d0f7e7441fec63",
       "version_major": 2,
       "version_minor": 0
      },
      "text/plain": [
       "  0%|          | 0/200 [00:00<?, ?it/s]"
      ]
     },
     "metadata": {},
     "output_type": "display_data"
    },
    {
     "name": "stdout",
     "output_type": "stream",
     "text": [
      "Relative cost: 0.307\n",
      "Absolute cost: 0.913\n",
      "--------------------------------------------------\n"
     ]
    },
    {
     "data": {
      "application/vnd.jupyter.widget-view+json": {
       "model_id": "a65cfc34886042939832b4bbafe8c46c",
       "version_major": 2,
       "version_minor": 0
      },
      "text/plain": [
       "  0%|          | 0/200 [00:00<?, ?it/s]"
      ]
     },
     "metadata": {},
     "output_type": "display_data"
    },
    {
     "name": "stdout",
     "output_type": "stream",
     "text": [
      "Relative cost: 2.01\n",
      "Absolute cost: 2.388\n",
      "--------------------------------------------------\n",
      "Best model for sample 57: SimulatedAnnealing\n",
      "--------------------------------------------------\n",
      "Running attack for sample 58...\n"
     ]
    },
    {
     "data": {
      "application/vnd.jupyter.widget-view+json": {
       "model_id": "c9ae6b9d212c4bdc838858b8e6552265",
       "version_major": 2,
       "version_minor": 0
      },
      "text/plain": [
       "  0%|          | 0/200 [00:00<?, ?it/s]"
      ]
     },
     "metadata": {},
     "output_type": "display_data"
    },
    {
     "name": "stdout",
     "output_type": "stream",
     "text": [
      "Radar Warning: The number of trials exceeded 10% of maximum generation trials. Found 0 valid samples.\n",
      "Radar Warning: The number of trials exceeded 25% of maximum generation trials. Found 0 valid samples.\n",
      "Radar Warning: The number of trials exceeded 50% of maximum generation trials. Found 0 valid samples.\n",
      "Error: RADAR: No valid sample satisfied the constraints after 1000 trials.\n"
     ]
    },
    {
     "data": {
      "application/vnd.jupyter.widget-view+json": {
       "model_id": "0326538767164df1b3dcc74ffb71e94c",
       "version_major": 2,
       "version_minor": 0
      },
      "text/plain": [
       "  0%|          | 0/200 [00:00<?, ?it/s]"
      ]
     },
     "metadata": {},
     "output_type": "display_data"
    },
    {
     "name": "stdout",
     "output_type": "stream",
     "text": [
      "Relative cost: 0.107\n",
      "Absolute cost: 0.624\n",
      "--------------------------------------------------\n"
     ]
    },
    {
     "data": {
      "application/vnd.jupyter.widget-view+json": {
       "model_id": "9450ea8362d347f5ba3326ca3e910ab2",
       "version_major": 2,
       "version_minor": 0
      },
      "text/plain": [
       "  0%|          | 0/200 [00:00<?, ?it/s]"
      ]
     },
     "metadata": {},
     "output_type": "display_data"
    },
    {
     "name": "stdout",
     "output_type": "stream",
     "text": [
      "Relative cost: 0.094\n",
      "Absolute cost: 0.627\n",
      "--------------------------------------------------\n",
      "Best model for sample 58: SimulatedAnnealing\n",
      "--------------------------------------------------\n",
      "Running attack for sample 59...\n"
     ]
    },
    {
     "data": {
      "application/vnd.jupyter.widget-view+json": {
       "model_id": "ac8ff996550241cea719ec50f4b170a7",
       "version_major": 2,
       "version_minor": 0
      },
      "text/plain": [
       "  0%|          | 0/200 [00:00<?, ?it/s]"
      ]
     },
     "metadata": {},
     "output_type": "display_data"
    },
    {
     "name": "stdout",
     "output_type": "stream",
     "text": [
      "Relative cost: -0.111\n",
      "Absolute cost: 0.503\n",
      "--------------------------------------------------\n"
     ]
    },
    {
     "data": {
      "application/vnd.jupyter.widget-view+json": {
       "model_id": "44c916d36c0f46e09d1a5bd0f753f8d2",
       "version_major": 2,
       "version_minor": 0
      },
      "text/plain": [
       "  0%|          | 0/200 [00:00<?, ?it/s]"
      ]
     },
     "metadata": {},
     "output_type": "display_data"
    },
    {
     "name": "stdout",
     "output_type": "stream",
     "text": [
      "Relative cost: 0.093\n",
      "Absolute cost: 0.695\n",
      "--------------------------------------------------\n"
     ]
    },
    {
     "data": {
      "application/vnd.jupyter.widget-view+json": {
       "model_id": "1bf03d2a1e73487192f84246786836f1",
       "version_major": 2,
       "version_minor": 0
      },
      "text/plain": [
       "  0%|          | 0/200 [00:00<?, ?it/s]"
      ]
     },
     "metadata": {},
     "output_type": "display_data"
    },
    {
     "name": "stdout",
     "output_type": "stream",
     "text": [
      "Relative cost: 0.181\n",
      "Absolute cost: 0.782\n",
      "--------------------------------------------------\n",
      "Best model for sample 59: HillClimbing\n",
      "--------------------------------------------------\n",
      "Running attack for sample 60...\n"
     ]
    },
    {
     "data": {
      "application/vnd.jupyter.widget-view+json": {
       "model_id": "fb356b09f98144f785360dd499025402",
       "version_major": 2,
       "version_minor": 0
      },
      "text/plain": [
       "  0%|          | 0/200 [00:00<?, ?it/s]"
      ]
     },
     "metadata": {},
     "output_type": "display_data"
    },
    {
     "name": "stdout",
     "output_type": "stream",
     "text": [
      "Radar Warning: The number of trials exceeded 10% of maximum generation trials. Found 0 valid samples.\n",
      "Radar Warning: The number of trials exceeded 25% of maximum generation trials. Found 0 valid samples.\n",
      "Radar Warning: The number of trials exceeded 50% of maximum generation trials. Found 0 valid samples.\n",
      "Error: RADAR: No valid sample satisfied the constraints after 1000 trials.\n"
     ]
    },
    {
     "data": {
      "application/vnd.jupyter.widget-view+json": {
       "model_id": "639dd67c8ded410e83624c5711809017",
       "version_major": 2,
       "version_minor": 0
      },
      "text/plain": [
       "  0%|          | 0/200 [00:00<?, ?it/s]"
      ]
     },
     "metadata": {},
     "output_type": "display_data"
    },
    {
     "name": "stdout",
     "output_type": "stream",
     "text": [
      "Relative cost: 0.122\n",
      "Absolute cost: 0.304\n",
      "--------------------------------------------------\n"
     ]
    },
    {
     "data": {
      "application/vnd.jupyter.widget-view+json": {
       "model_id": "5cddcef72d884a0e826c7c5f9662b2bc",
       "version_major": 2,
       "version_minor": 0
      },
      "text/plain": [
       "  0%|          | 0/200 [00:00<?, ?it/s]"
      ]
     },
     "metadata": {},
     "output_type": "display_data"
    },
    {
     "name": "stdout",
     "output_type": "stream",
     "text": [
      "Relative cost: 0.196\n",
      "Absolute cost: 0.366\n",
      "--------------------------------------------------\n",
      "Best model for sample 60: SimulatedAnnealing\n",
      "--------------------------------------------------\n",
      "Running attack for sample 61...\n"
     ]
    },
    {
     "data": {
      "application/vnd.jupyter.widget-view+json": {
       "model_id": "5158e8a24335474e8a77107cd91c010d",
       "version_major": 2,
       "version_minor": 0
      },
      "text/plain": [
       "  0%|          | 0/200 [00:00<?, ?it/s]"
      ]
     },
     "metadata": {},
     "output_type": "display_data"
    },
    {
     "name": "stdout",
     "output_type": "stream",
     "text": [
      "Relative cost: -0.097\n",
      "Absolute cost: 0.722\n",
      "--------------------------------------------------\n"
     ]
    },
    {
     "data": {
      "application/vnd.jupyter.widget-view+json": {
       "model_id": "7fc059bf2c384ef98c66cfc2b0fbb6ac",
       "version_major": 2,
       "version_minor": 0
      },
      "text/plain": [
       "  0%|          | 0/200 [00:00<?, ?it/s]"
      ]
     },
     "metadata": {},
     "output_type": "display_data"
    },
    {
     "name": "stdout",
     "output_type": "stream",
     "text": [
      "Relative cost: 0.063\n",
      "Absolute cost: 0.893\n",
      "--------------------------------------------------\n"
     ]
    },
    {
     "data": {
      "application/vnd.jupyter.widget-view+json": {
       "model_id": "c315228986da45738309a027ca86c8fa",
       "version_major": 2,
       "version_minor": 0
      },
      "text/plain": [
       "  0%|          | 0/200 [00:00<?, ?it/s]"
      ]
     },
     "metadata": {},
     "output_type": "display_data"
    },
    {
     "name": "stdout",
     "output_type": "stream",
     "text": [
      "Relative cost: 0.155\n",
      "Absolute cost: 0.962\n",
      "--------------------------------------------------\n",
      "Best model for sample 61: HillClimbing\n",
      "--------------------------------------------------\n",
      "Running attack for sample 62...\n"
     ]
    },
    {
     "data": {
      "application/vnd.jupyter.widget-view+json": {
       "model_id": "5600b15220ca4d349c8f7c6f02e5a6f4",
       "version_major": 2,
       "version_minor": 0
      },
      "text/plain": [
       "  0%|          | 0/200 [00:00<?, ?it/s]"
      ]
     },
     "metadata": {},
     "output_type": "display_data"
    },
    {
     "name": "stdout",
     "output_type": "stream",
     "text": [
      "Radar Warning: The number of trials exceeded 10% of maximum generation trials. Found 0 valid samples.\n",
      "Radar Warning: The number of trials exceeded 25% of maximum generation trials. Found 0 valid samples.\n",
      "Radar Warning: The number of trials exceeded 50% of maximum generation trials. Found 0 valid samples.\n",
      "Error: RADAR: No valid sample satisfied the constraints after 1000 trials.\n"
     ]
    },
    {
     "data": {
      "application/vnd.jupyter.widget-view+json": {
       "model_id": "86c2c71dc99e46f59157369ecedaa6af",
       "version_major": 2,
       "version_minor": 0
      },
      "text/plain": [
       "  0%|          | 0/200 [00:00<?, ?it/s]"
      ]
     },
     "metadata": {},
     "output_type": "display_data"
    },
    {
     "name": "stdout",
     "output_type": "stream",
     "text": [
      "Relative cost: 0.203\n",
      "Absolute cost: 0.509\n",
      "--------------------------------------------------\n"
     ]
    },
    {
     "data": {
      "application/vnd.jupyter.widget-view+json": {
       "model_id": "14e01dc81331408cb9f3024245428af9",
       "version_major": 2,
       "version_minor": 0
      },
      "text/plain": [
       "  0%|          | 0/200 [00:00<?, ?it/s]"
      ]
     },
     "metadata": {},
     "output_type": "display_data"
    },
    {
     "name": "stdout",
     "output_type": "stream",
     "text": [
      "Relative cost: 2.688\n",
      "Absolute cost: 3.214\n",
      "--------------------------------------------------\n",
      "Best model for sample 62: SimulatedAnnealing\n",
      "--------------------------------------------------\n",
      "Running attack for sample 63...\n"
     ]
    },
    {
     "data": {
      "application/vnd.jupyter.widget-view+json": {
       "model_id": "d556b0a12fab4aa2b3d2e7492425b56f",
       "version_major": 2,
       "version_minor": 0
      },
      "text/plain": [
       "  0%|          | 0/200 [00:00<?, ?it/s]"
      ]
     },
     "metadata": {},
     "output_type": "display_data"
    },
    {
     "name": "stdout",
     "output_type": "stream",
     "text": [
      "Relative cost: -0.092\n",
      "Absolute cost: 0.804\n",
      "--------------------------------------------------\n"
     ]
    },
    {
     "data": {
      "application/vnd.jupyter.widget-view+json": {
       "model_id": "6cd684986a2e43fcb6c7357cc687b951",
       "version_major": 2,
       "version_minor": 0
      },
      "text/plain": [
       "  0%|          | 0/200 [00:00<?, ?it/s]"
      ]
     },
     "metadata": {},
     "output_type": "display_data"
    },
    {
     "name": "stdout",
     "output_type": "stream",
     "text": [
      "Relative cost: 0.048\n",
      "Absolute cost: 0.541\n",
      "--------------------------------------------------\n"
     ]
    },
    {
     "data": {
      "application/vnd.jupyter.widget-view+json": {
       "model_id": "a2a777d66d194648932d7a68ecd2071a",
       "version_major": 2,
       "version_minor": 0
      },
      "text/plain": [
       "  0%|          | 0/200 [00:00<?, ?it/s]"
      ]
     },
     "metadata": {},
     "output_type": "display_data"
    },
    {
     "name": "stdout",
     "output_type": "stream",
     "text": [
      "Relative cost: 0.001\n",
      "Absolute cost: 0.496\n",
      "--------------------------------------------------\n",
      "Best model for sample 63: TabuSearch\n",
      "--------------------------------------------------\n",
      "Running attack for sample 64...\n"
     ]
    },
    {
     "data": {
      "application/vnd.jupyter.widget-view+json": {
       "model_id": "4ded9b5cdca44818896d534e611cb014",
       "version_major": 2,
       "version_minor": 0
      },
      "text/plain": [
       "  0%|          | 0/200 [00:00<?, ?it/s]"
      ]
     },
     "metadata": {},
     "output_type": "display_data"
    },
    {
     "name": "stdout",
     "output_type": "stream",
     "text": [
      "Relative cost: -0.273\n",
      "Absolute cost: 0.446\n",
      "--------------------------------------------------\n"
     ]
    },
    {
     "data": {
      "application/vnd.jupyter.widget-view+json": {
       "model_id": "e709a0cdcb8c49acb57601132f4684fc",
       "version_major": 2,
       "version_minor": 0
      },
      "text/plain": [
       "  0%|          | 0/200 [00:00<?, ?it/s]"
      ]
     },
     "metadata": {},
     "output_type": "display_data"
    },
    {
     "name": "stdout",
     "output_type": "stream",
     "text": [
      "Radar Warning: The number of trials exceeded 10% of maximum generation trials. Found 0 valid samples.\n",
      "Relative cost: -0.254\n",
      "Absolute cost: 0.44\n",
      "--------------------------------------------------\n"
     ]
    },
    {
     "data": {
      "application/vnd.jupyter.widget-view+json": {
       "model_id": "2944066bfe7943afb17cf43d045f1c02",
       "version_major": 2,
       "version_minor": 0
      },
      "text/plain": [
       "  0%|          | 0/200 [00:00<?, ?it/s]"
      ]
     },
     "metadata": {},
     "output_type": "display_data"
    },
    {
     "name": "stdout",
     "output_type": "stream",
     "text": [
      "Radar Warning: The number of trials exceeded 10% of maximum generation trials. Found 0 valid samples.\n",
      "Relative cost: -0.362\n",
      "Absolute cost: 0.367\n",
      "--------------------------------------------------\n",
      "Best model for sample 64: TabuSearch\n",
      "--------------------------------------------------\n",
      "Running attack for sample 65...\n"
     ]
    },
    {
     "data": {
      "application/vnd.jupyter.widget-view+json": {
       "model_id": "67bc6d26f1a74a7cb99a331096d64a3d",
       "version_major": 2,
       "version_minor": 0
      },
      "text/plain": [
       "  0%|          | 0/200 [00:00<?, ?it/s]"
      ]
     },
     "metadata": {},
     "output_type": "display_data"
    },
    {
     "name": "stdout",
     "output_type": "stream",
     "text": [
      "Radar Warning: The number of trials exceeded 10% of maximum generation trials. Found 0 valid samples.\n",
      "Relative cost: -0.624\n",
      "Absolute cost: 0.278\n",
      "--------------------------------------------------\n"
     ]
    },
    {
     "data": {
      "application/vnd.jupyter.widget-view+json": {
       "model_id": "5f4c0af0677d44b4b3863144a3f1ddc1",
       "version_major": 2,
       "version_minor": 0
      },
      "text/plain": [
       "  0%|          | 0/200 [00:00<?, ?it/s]"
      ]
     },
     "metadata": {},
     "output_type": "display_data"
    },
    {
     "name": "stdout",
     "output_type": "stream",
     "text": [
      "Radar Warning: The number of trials exceeded 10% of maximum generation trials. Found 0 valid samples.\n",
      "Radar Warning: The number of trials exceeded 25% of maximum generation trials. Found 0 valid samples.\n",
      "Relative cost: -0.402\n",
      "Absolute cost: 0.476\n",
      "--------------------------------------------------\n"
     ]
    },
    {
     "data": {
      "application/vnd.jupyter.widget-view+json": {
       "model_id": "ab4d0da63df44598aed8510b2f129ffa",
       "version_major": 2,
       "version_minor": 0
      },
      "text/plain": [
       "  0%|          | 0/200 [00:00<?, ?it/s]"
      ]
     },
     "metadata": {},
     "output_type": "display_data"
    },
    {
     "name": "stdout",
     "output_type": "stream",
     "text": [
      "Radar Warning: The number of trials exceeded 10% of maximum generation trials. Found 0 valid samples.\n",
      "Relative cost: -0.443\n",
      "Absolute cost: 0.397\n",
      "--------------------------------------------------\n",
      "Best model for sample 65: HillClimbing\n",
      "--------------------------------------------------\n",
      "Running attack for sample 66...\n"
     ]
    },
    {
     "data": {
      "application/vnd.jupyter.widget-view+json": {
       "model_id": "cd7440958c054623b62715e43b74deae",
       "version_major": 2,
       "version_minor": 0
      },
      "text/plain": [
       "  0%|          | 0/200 [00:00<?, ?it/s]"
      ]
     },
     "metadata": {},
     "output_type": "display_data"
    },
    {
     "name": "stdout",
     "output_type": "stream",
     "text": [
      "Relative cost: -0.47\n",
      "Absolute cost: 0.292\n",
      "--------------------------------------------------\n"
     ]
    },
    {
     "data": {
      "application/vnd.jupyter.widget-view+json": {
       "model_id": "258750251a89457f8c9abc7d20e34efb",
       "version_major": 2,
       "version_minor": 0
      },
      "text/plain": [
       "  0%|          | 0/200 [00:00<?, ?it/s]"
      ]
     },
     "metadata": {},
     "output_type": "display_data"
    },
    {
     "name": "stdout",
     "output_type": "stream",
     "text": [
      "Radar Warning: The number of trials exceeded 10% of maximum generation trials. Found 0 valid samples.\n",
      "Relative cost: -0.415\n",
      "Absolute cost: 0.338\n",
      "--------------------------------------------------\n"
     ]
    },
    {
     "data": {
      "application/vnd.jupyter.widget-view+json": {
       "model_id": "3af3da258fcb46d2aa18bbcf8efb642a",
       "version_major": 2,
       "version_minor": 0
      },
      "text/plain": [
       "  0%|          | 0/200 [00:00<?, ?it/s]"
      ]
     },
     "metadata": {},
     "output_type": "display_data"
    },
    {
     "name": "stdout",
     "output_type": "stream",
     "text": [
      "Radar Warning: The number of trials exceeded 10% of maximum generation trials. Found 0 valid samples.\n",
      "Relative cost: -0.246\n",
      "Absolute cost: 0.527\n",
      "--------------------------------------------------\n",
      "Best model for sample 66: HillClimbing\n",
      "--------------------------------------------------\n",
      "Running attack for sample 67...\n"
     ]
    },
    {
     "data": {
      "application/vnd.jupyter.widget-view+json": {
       "model_id": "477de8efbeba44b5863c938d17541751",
       "version_major": 2,
       "version_minor": 0
      },
      "text/plain": [
       "  0%|          | 0/200 [00:00<?, ?it/s]"
      ]
     },
     "metadata": {},
     "output_type": "display_data"
    },
    {
     "name": "stdout",
     "output_type": "stream",
     "text": [
      "Relative cost: -0.054\n",
      "Absolute cost: 0.305\n",
      "--------------------------------------------------\n"
     ]
    },
    {
     "data": {
      "application/vnd.jupyter.widget-view+json": {
       "model_id": "1225d7322efa4d188d72e3480c881863",
       "version_major": 2,
       "version_minor": 0
      },
      "text/plain": [
       "  0%|          | 0/200 [00:00<?, ?it/s]"
      ]
     },
     "metadata": {},
     "output_type": "display_data"
    },
    {
     "name": "stdout",
     "output_type": "stream",
     "text": [
      "Relative cost: -0.051\n",
      "Absolute cost: 0.307\n",
      "--------------------------------------------------\n"
     ]
    },
    {
     "data": {
      "application/vnd.jupyter.widget-view+json": {
       "model_id": "8b1a4fc983674bc5bf27be0d8d6a8ebf",
       "version_major": 2,
       "version_minor": 0
      },
      "text/plain": [
       "  0%|          | 0/200 [00:00<?, ?it/s]"
      ]
     },
     "metadata": {},
     "output_type": "display_data"
    },
    {
     "name": "stdout",
     "output_type": "stream",
     "text": [
      "Relative cost: -0.021\n",
      "Absolute cost: 0.345\n",
      "--------------------------------------------------\n",
      "Best model for sample 67: HillClimbing\n",
      "--------------------------------------------------\n",
      "Running attack for sample 68...\n"
     ]
    },
    {
     "data": {
      "application/vnd.jupyter.widget-view+json": {
       "model_id": "afefb2f752464396ab236465f4685226",
       "version_major": 2,
       "version_minor": 0
      },
      "text/plain": [
       "  0%|          | 0/200 [00:00<?, ?it/s]"
      ]
     },
     "metadata": {},
     "output_type": "display_data"
    },
    {
     "name": "stdout",
     "output_type": "stream",
     "text": [
      "Relative cost: 0.099\n",
      "Absolute cost: 0.319\n",
      "--------------------------------------------------\n"
     ]
    },
    {
     "data": {
      "application/vnd.jupyter.widget-view+json": {
       "model_id": "bd6f71d1157d4865ab828489657a4783",
       "version_major": 2,
       "version_minor": 0
      },
      "text/plain": [
       "  0%|          | 0/200 [00:00<?, ?it/s]"
      ]
     },
     "metadata": {},
     "output_type": "display_data"
    },
    {
     "name": "stdout",
     "output_type": "stream",
     "text": [
      "Relative cost: 0.118\n",
      "Absolute cost: 0.316\n",
      "--------------------------------------------------\n"
     ]
    },
    {
     "data": {
      "application/vnd.jupyter.widget-view+json": {
       "model_id": "72201ccf578645a68624c57b9500ff12",
       "version_major": 2,
       "version_minor": 0
      },
      "text/plain": [
       "  0%|          | 0/200 [00:00<?, ?it/s]"
      ]
     },
     "metadata": {},
     "output_type": "display_data"
    },
    {
     "name": "stdout",
     "output_type": "stream",
     "text": [
      "Relative cost: 0.122\n",
      "Absolute cost: 0.322\n",
      "--------------------------------------------------\n",
      "Best model for sample 68: SimulatedAnnealing\n",
      "--------------------------------------------------\n",
      "Running attack for sample 69...\n"
     ]
    },
    {
     "data": {
      "application/vnd.jupyter.widget-view+json": {
       "model_id": "9388320501834aac8078e74be2feedc5",
       "version_major": 2,
       "version_minor": 0
      },
      "text/plain": [
       "  0%|          | 0/200 [00:00<?, ?it/s]"
      ]
     },
     "metadata": {},
     "output_type": "display_data"
    },
    {
     "name": "stdout",
     "output_type": "stream",
     "text": [
      "Relative cost: -0.913\n",
      "Absolute cost: 0.608\n",
      "--------------------------------------------------\n"
     ]
    },
    {
     "data": {
      "application/vnd.jupyter.widget-view+json": {
       "model_id": "e7f85e79d4004d46bc3f5b6d398c152b",
       "version_major": 2,
       "version_minor": 0
      },
      "text/plain": [
       "  0%|          | 0/200 [00:00<?, ?it/s]"
      ]
     },
     "metadata": {},
     "output_type": "display_data"
    },
    {
     "name": "stdout",
     "output_type": "stream",
     "text": [
      "Relative cost: 0.111\n",
      "Absolute cost: 0.793\n",
      "--------------------------------------------------\n"
     ]
    },
    {
     "data": {
      "application/vnd.jupyter.widget-view+json": {
       "model_id": "42820d962c9f449dad2a652b59086566",
       "version_major": 2,
       "version_minor": 0
      },
      "text/plain": [
       "  0%|          | 0/200 [00:00<?, ?it/s]"
      ]
     },
     "metadata": {},
     "output_type": "display_data"
    },
    {
     "name": "stdout",
     "output_type": "stream",
     "text": [
      "Relative cost: 0.196\n",
      "Absolute cost: 0.857\n",
      "--------------------------------------------------\n",
      "Best model for sample 69: HillClimbing\n",
      "--------------------------------------------------\n",
      "Running attack for sample 70...\n"
     ]
    },
    {
     "data": {
      "application/vnd.jupyter.widget-view+json": {
       "model_id": "a5662b523fcb4c988fa0f6eb4af3a0c0",
       "version_major": 2,
       "version_minor": 0
      },
      "text/plain": [
       "  0%|          | 0/200 [00:00<?, ?it/s]"
      ]
     },
     "metadata": {},
     "output_type": "display_data"
    },
    {
     "name": "stdout",
     "output_type": "stream",
     "text": [
      "Radar Warning: The number of trials exceeded 10% of maximum generation trials. Found 0 valid samples.\n",
      "Relative cost: -0.399\n",
      "Absolute cost: 0.317\n",
      "--------------------------------------------------\n"
     ]
    },
    {
     "data": {
      "application/vnd.jupyter.widget-view+json": {
       "model_id": "8f893e04c98d4e1c9a26bc181712c5b1",
       "version_major": 2,
       "version_minor": 0
      },
      "text/plain": [
       "  0%|          | 0/200 [00:00<?, ?it/s]"
      ]
     },
     "metadata": {},
     "output_type": "display_data"
    },
    {
     "name": "stdout",
     "output_type": "stream",
     "text": [
      "Radar Warning: The number of trials exceeded 10% of maximum generation trials. Found 0 valid samples.\n",
      "Relative cost: -0.569\n",
      "Absolute cost: 0.219\n",
      "--------------------------------------------------\n"
     ]
    },
    {
     "data": {
      "application/vnd.jupyter.widget-view+json": {
       "model_id": "f7c76dbc3b0d45e2957fec6e9c07eb09",
       "version_major": 2,
       "version_minor": 0
      },
      "text/plain": [
       "  0%|          | 0/200 [00:00<?, ?it/s]"
      ]
     },
     "metadata": {},
     "output_type": "display_data"
    },
    {
     "name": "stdout",
     "output_type": "stream",
     "text": [
      "Radar Warning: The number of trials exceeded 10% of maximum generation trials. Found 0 valid samples.\n",
      "Relative cost: -0.404\n",
      "Absolute cost: 0.321\n",
      "--------------------------------------------------\n",
      "Best model for sample 70: SimulatedAnnealing\n",
      "--------------------------------------------------\n",
      "Running attack for sample 71...\n"
     ]
    },
    {
     "data": {
      "application/vnd.jupyter.widget-view+json": {
       "model_id": "6536308df3ac4a6c9f7e47f2ff76b644",
       "version_major": 2,
       "version_minor": 0
      },
      "text/plain": [
       "  0%|          | 0/200 [00:00<?, ?it/s]"
      ]
     },
     "metadata": {},
     "output_type": "display_data"
    },
    {
     "name": "stdout",
     "output_type": "stream",
     "text": [
      "Relative cost: -0.021\n",
      "Absolute cost: 0.732\n",
      "--------------------------------------------------\n"
     ]
    },
    {
     "data": {
      "application/vnd.jupyter.widget-view+json": {
       "model_id": "7f516628ac3443aa899e274d5ce0ad09",
       "version_major": 2,
       "version_minor": 0
      },
      "text/plain": [
       "  0%|          | 0/200 [00:00<?, ?it/s]"
      ]
     },
     "metadata": {},
     "output_type": "display_data"
    },
    {
     "name": "stdout",
     "output_type": "stream",
     "text": [
      "Relative cost: 0.004\n",
      "Absolute cost: 0.752\n",
      "--------------------------------------------------\n"
     ]
    },
    {
     "data": {
      "application/vnd.jupyter.widget-view+json": {
       "model_id": "a9ce49b964b44d928888c0b4ac1639c2",
       "version_major": 2,
       "version_minor": 0
      },
      "text/plain": [
       "  0%|          | 0/200 [00:00<?, ?it/s]"
      ]
     },
     "metadata": {},
     "output_type": "display_data"
    },
    {
     "name": "stdout",
     "output_type": "stream",
     "text": [
      "Relative cost: -0.001\n",
      "Absolute cost: 0.747\n",
      "--------------------------------------------------\n",
      "Best model for sample 71: HillClimbing\n",
      "--------------------------------------------------\n",
      "Running attack for sample 72...\n"
     ]
    },
    {
     "data": {
      "application/vnd.jupyter.widget-view+json": {
       "model_id": "91385494d2b7495eb8f5287c4df8648d",
       "version_major": 2,
       "version_minor": 0
      },
      "text/plain": [
       "  0%|          | 0/200 [00:00<?, ?it/s]"
      ]
     },
     "metadata": {},
     "output_type": "display_data"
    },
    {
     "name": "stdout",
     "output_type": "stream",
     "text": [
      "Relative cost: -0.025\n",
      "Absolute cost: 0.64\n",
      "--------------------------------------------------\n"
     ]
    },
    {
     "data": {
      "application/vnd.jupyter.widget-view+json": {
       "model_id": "1afca9087469407fb4cbdf99517af9e9",
       "version_major": 2,
       "version_minor": 0
      },
      "text/plain": [
       "  0%|          | 0/200 [00:00<?, ?it/s]"
      ]
     },
     "metadata": {},
     "output_type": "display_data"
    },
    {
     "name": "stdout",
     "output_type": "stream",
     "text": [
      "Relative cost: 0.053\n",
      "Absolute cost: 0.719\n",
      "--------------------------------------------------\n"
     ]
    },
    {
     "data": {
      "application/vnd.jupyter.widget-view+json": {
       "model_id": "ffbc9a48d2034e4aa488810fb8d44bef",
       "version_major": 2,
       "version_minor": 0
      },
      "text/plain": [
       "  0%|          | 0/200 [00:00<?, ?it/s]"
      ]
     },
     "metadata": {},
     "output_type": "display_data"
    },
    {
     "name": "stdout",
     "output_type": "stream",
     "text": [
      "Relative cost: 0.027\n",
      "Absolute cost: 0.671\n",
      "--------------------------------------------------\n",
      "Best model for sample 72: HillClimbing\n",
      "--------------------------------------------------\n",
      "Running attack for sample 73...\n"
     ]
    },
    {
     "data": {
      "application/vnd.jupyter.widget-view+json": {
       "model_id": "86fc7bb202344930bd7c60e8c8c2e624",
       "version_major": 2,
       "version_minor": 0
      },
      "text/plain": [
       "  0%|          | 0/200 [00:00<?, ?it/s]"
      ]
     },
     "metadata": {},
     "output_type": "display_data"
    },
    {
     "name": "stdout",
     "output_type": "stream",
     "text": [
      "Relative cost: 0.025\n",
      "Absolute cost: 0.338\n",
      "--------------------------------------------------\n"
     ]
    },
    {
     "data": {
      "application/vnd.jupyter.widget-view+json": {
       "model_id": "b486a4901eaf40cfbc8b5edddb3b098d",
       "version_major": 2,
       "version_minor": 0
      },
      "text/plain": [
       "  0%|          | 0/200 [00:00<?, ?it/s]"
      ]
     },
     "metadata": {},
     "output_type": "display_data"
    },
    {
     "name": "stdout",
     "output_type": "stream",
     "text": [
      "Relative cost: 0.024\n",
      "Absolute cost: 0.337\n",
      "--------------------------------------------------\n"
     ]
    },
    {
     "data": {
      "application/vnd.jupyter.widget-view+json": {
       "model_id": "ed9d538b678f41c48f5f23e3cb8e721a",
       "version_major": 2,
       "version_minor": 0
      },
      "text/plain": [
       "  0%|          | 0/200 [00:00<?, ?it/s]"
      ]
     },
     "metadata": {},
     "output_type": "display_data"
    },
    {
     "name": "stdout",
     "output_type": "stream",
     "text": [
      "Relative cost: 0.024\n",
      "Absolute cost: 0.337\n",
      "--------------------------------------------------\n",
      "Best model for sample 73: SimulatedAnnealing\n",
      "--------------------------------------------------\n",
      "Running attack for sample 74...\n"
     ]
    },
    {
     "data": {
      "application/vnd.jupyter.widget-view+json": {
       "model_id": "f6e0a90edbd14113a00c445246e0947d",
       "version_major": 2,
       "version_minor": 0
      },
      "text/plain": [
       "  0%|          | 0/200 [00:00<?, ?it/s]"
      ]
     },
     "metadata": {},
     "output_type": "display_data"
    },
    {
     "name": "stdout",
     "output_type": "stream",
     "text": [
      "Relative cost: 0.019\n",
      "Absolute cost: 0.401\n",
      "--------------------------------------------------\n"
     ]
    },
    {
     "data": {
      "application/vnd.jupyter.widget-view+json": {
       "model_id": "be3739839bfc4201aee9a00d4d7e45f3",
       "version_major": 2,
       "version_minor": 0
      },
      "text/plain": [
       "  0%|          | 0/200 [00:00<?, ?it/s]"
      ]
     },
     "metadata": {},
     "output_type": "display_data"
    },
    {
     "name": "stdout",
     "output_type": "stream",
     "text": [
      "Relative cost: 0.028\n",
      "Absolute cost: 0.408\n",
      "--------------------------------------------------\n"
     ]
    },
    {
     "data": {
      "application/vnd.jupyter.widget-view+json": {
       "model_id": "0cdf34b49e5749998202f9c1c4702f73",
       "version_major": 2,
       "version_minor": 0
      },
      "text/plain": [
       "  0%|          | 0/200 [00:00<?, ?it/s]"
      ]
     },
     "metadata": {},
     "output_type": "display_data"
    },
    {
     "name": "stdout",
     "output_type": "stream",
     "text": [
      "Relative cost: 0.1\n",
      "Absolute cost: 0.456\n",
      "--------------------------------------------------\n",
      "Best model for sample 74: HillClimbing\n",
      "--------------------------------------------------\n",
      "Running attack for sample 75...\n"
     ]
    },
    {
     "data": {
      "application/vnd.jupyter.widget-view+json": {
       "model_id": "07d0a6a84fc6488f8cb213b8780fbe1d",
       "version_major": 2,
       "version_minor": 0
      },
      "text/plain": [
       "  0%|          | 0/200 [00:00<?, ?it/s]"
      ]
     },
     "metadata": {},
     "output_type": "display_data"
    },
    {
     "name": "stdout",
     "output_type": "stream",
     "text": [
      "Relative cost: -0.0\n",
      "Absolute cost: 0.365\n",
      "--------------------------------------------------\n"
     ]
    },
    {
     "data": {
      "application/vnd.jupyter.widget-view+json": {
       "model_id": "a61d7f4f727447f9885621db7fd02cfc",
       "version_major": 2,
       "version_minor": 0
      },
      "text/plain": [
       "  0%|          | 0/200 [00:00<?, ?it/s]"
      ]
     },
     "metadata": {},
     "output_type": "display_data"
    },
    {
     "name": "stdout",
     "output_type": "stream",
     "text": [
      "Relative cost: 0.186\n",
      "Absolute cost: 0.526\n",
      "--------------------------------------------------\n"
     ]
    },
    {
     "data": {
      "application/vnd.jupyter.widget-view+json": {
       "model_id": "88516de5b4424c8a956ceed11f96d94c",
       "version_major": 2,
       "version_minor": 0
      },
      "text/plain": [
       "  0%|          | 0/200 [00:00<?, ?it/s]"
      ]
     },
     "metadata": {},
     "output_type": "display_data"
    },
    {
     "name": "stdout",
     "output_type": "stream",
     "text": [
      "Relative cost: 0.244\n",
      "Absolute cost: 0.607\n",
      "--------------------------------------------------\n",
      "Best model for sample 75: HillClimbing\n",
      "--------------------------------------------------\n",
      "Running attack for sample 76...\n"
     ]
    },
    {
     "data": {
      "application/vnd.jupyter.widget-view+json": {
       "model_id": "22eac4c15e4d4abfba3864d18b3dd6c5",
       "version_major": 2,
       "version_minor": 0
      },
      "text/plain": [
       "  0%|          | 0/200 [00:00<?, ?it/s]"
      ]
     },
     "metadata": {},
     "output_type": "display_data"
    },
    {
     "name": "stdout",
     "output_type": "stream",
     "text": [
      "Relative cost: -5.383\n",
      "Absolute cost: 2.77\n",
      "--------------------------------------------------\n"
     ]
    },
    {
     "data": {
      "application/vnd.jupyter.widget-view+json": {
       "model_id": "065955e119404432889984f4b573403d",
       "version_major": 2,
       "version_minor": 0
      },
      "text/plain": [
       "  0%|          | 0/200 [00:00<?, ?it/s]"
      ]
     },
     "metadata": {},
     "output_type": "display_data"
    },
    {
     "name": "stdout",
     "output_type": "stream",
     "text": [
      "Relative cost: 0.277\n",
      "Absolute cost: 1.222\n",
      "--------------------------------------------------\n"
     ]
    },
    {
     "data": {
      "application/vnd.jupyter.widget-view+json": {
       "model_id": "1a724fec81c44f03a5fbb9d3f42b81bb",
       "version_major": 2,
       "version_minor": 0
      },
      "text/plain": [
       "  0%|          | 0/200 [00:00<?, ?it/s]"
      ]
     },
     "metadata": {},
     "output_type": "display_data"
    },
    {
     "name": "stdout",
     "output_type": "stream",
     "text": [
      "Relative cost: 0.078\n",
      "Absolute cost: 1.035\n",
      "--------------------------------------------------\n",
      "Best model for sample 76: TabuSearch\n",
      "--------------------------------------------------\n",
      "Running attack for sample 77...\n"
     ]
    },
    {
     "data": {
      "application/vnd.jupyter.widget-view+json": {
       "model_id": "e3efc46215dd4f779cddda077793f53d",
       "version_major": 2,
       "version_minor": 0
      },
      "text/plain": [
       "  0%|          | 0/200 [00:00<?, ?it/s]"
      ]
     },
     "metadata": {},
     "output_type": "display_data"
    },
    {
     "name": "stdout",
     "output_type": "stream",
     "text": [
      "Relative cost: 0.156\n",
      "Absolute cost: 0.775\n",
      "--------------------------------------------------\n"
     ]
    },
    {
     "data": {
      "application/vnd.jupyter.widget-view+json": {
       "model_id": "9ffae49c1cc0465a82eb59f5f4416d86",
       "version_major": 2,
       "version_minor": 0
      },
      "text/plain": [
       "  0%|          | 0/200 [00:00<?, ?it/s]"
      ]
     },
     "metadata": {},
     "output_type": "display_data"
    },
    {
     "name": "stdout",
     "output_type": "stream",
     "text": [
      "Radar Warning: The number of trials exceeded 10% of maximum generation trials. Found 0 valid samples.\n",
      "Relative cost: 1.385\n",
      "Absolute cost: 0.971\n",
      "--------------------------------------------------\n"
     ]
    },
    {
     "data": {
      "application/vnd.jupyter.widget-view+json": {
       "model_id": "b538c387a02c4e1cb73ed2a13756207f",
       "version_major": 2,
       "version_minor": 0
      },
      "text/plain": [
       "  0%|          | 0/200 [00:00<?, ?it/s]"
      ]
     },
     "metadata": {},
     "output_type": "display_data"
    },
    {
     "name": "stdout",
     "output_type": "stream",
     "text": [
      "Relative cost: -0.157\n",
      "Absolute cost: 0.463\n",
      "--------------------------------------------------\n",
      "Best model for sample 77: TabuSearch\n",
      "--------------------------------------------------\n",
      "Running attack for sample 78...\n"
     ]
    },
    {
     "data": {
      "application/vnd.jupyter.widget-view+json": {
       "model_id": "0b20d69c51c6458b85e4acbeecae28b6",
       "version_major": 2,
       "version_minor": 0
      },
      "text/plain": [
       "  0%|          | 0/200 [00:00<?, ?it/s]"
      ]
     },
     "metadata": {},
     "output_type": "display_data"
    },
    {
     "name": "stdout",
     "output_type": "stream",
     "text": [
      "Radar Warning: The number of trials exceeded 10% of maximum generation trials. Found 0 valid samples.\n",
      "Radar Warning: The number of trials exceeded 25% of maximum generation trials. Found 0 valid samples.\n",
      "Radar Warning: The number of trials exceeded 50% of maximum generation trials. Found 0 valid samples.\n",
      "Error: RADAR: No valid sample satisfied the constraints after 1000 trials.\n"
     ]
    },
    {
     "data": {
      "application/vnd.jupyter.widget-view+json": {
       "model_id": "0023a79231e140fd82e26bdcc6540ced",
       "version_major": 2,
       "version_minor": 0
      },
      "text/plain": [
       "  0%|          | 0/200 [00:00<?, ?it/s]"
      ]
     },
     "metadata": {},
     "output_type": "display_data"
    },
    {
     "name": "stdout",
     "output_type": "stream",
     "text": [
      "Relative cost: 0.224\n",
      "Absolute cost: 0.671\n",
      "--------------------------------------------------\n"
     ]
    },
    {
     "data": {
      "application/vnd.jupyter.widget-view+json": {
       "model_id": "4c1c12133fe9419e90778cd2c4016587",
       "version_major": 2,
       "version_minor": 0
      },
      "text/plain": [
       "  0%|          | 0/200 [00:00<?, ?it/s]"
      ]
     },
     "metadata": {},
     "output_type": "display_data"
    },
    {
     "name": "stdout",
     "output_type": "stream",
     "text": [
      "Relative cost: 0.239\n",
      "Absolute cost: 0.488\n",
      "--------------------------------------------------\n",
      "Best model for sample 78: TabuSearch\n",
      "--------------------------------------------------\n",
      "Running attack for sample 79...\n"
     ]
    },
    {
     "data": {
      "application/vnd.jupyter.widget-view+json": {
       "model_id": "61890fd3267e4ca6b97766f5bb6c48a2",
       "version_major": 2,
       "version_minor": 0
      },
      "text/plain": [
       "  0%|          | 0/200 [00:00<?, ?it/s]"
      ]
     },
     "metadata": {},
     "output_type": "display_data"
    },
    {
     "name": "stdout",
     "output_type": "stream",
     "text": [
      "Relative cost: -0.917\n",
      "Absolute cost: 0.396\n",
      "--------------------------------------------------\n"
     ]
    },
    {
     "data": {
      "application/vnd.jupyter.widget-view+json": {
       "model_id": "eb2326c2720047d4bd8dba2a307f587f",
       "version_major": 2,
       "version_minor": 0
      },
      "text/plain": [
       "  0%|          | 0/200 [00:00<?, ?it/s]"
      ]
     },
     "metadata": {},
     "output_type": "display_data"
    },
    {
     "name": "stdout",
     "output_type": "stream",
     "text": [
      "Relative cost: 2.447\n",
      "Absolute cost: 2.917\n",
      "--------------------------------------------------\n"
     ]
    },
    {
     "data": {
      "application/vnd.jupyter.widget-view+json": {
       "model_id": "6490dbb6d5124216bc95da9fa1a0818b",
       "version_major": 2,
       "version_minor": 0
      },
      "text/plain": [
       "  0%|          | 0/200 [00:00<?, ?it/s]"
      ]
     },
     "metadata": {},
     "output_type": "display_data"
    },
    {
     "name": "stdout",
     "output_type": "stream",
     "text": [
      "Relative cost: 0.179\n",
      "Absolute cost: 0.876\n",
      "--------------------------------------------------\n",
      "Best model for sample 79: HillClimbing\n",
      "--------------------------------------------------\n",
      "Running attack for sample 80...\n"
     ]
    },
    {
     "data": {
      "application/vnd.jupyter.widget-view+json": {
       "model_id": "a460f862f54449ba9048fc0913563f01",
       "version_major": 2,
       "version_minor": 0
      },
      "text/plain": [
       "  0%|          | 0/200 [00:00<?, ?it/s]"
      ]
     },
     "metadata": {},
     "output_type": "display_data"
    },
    {
     "name": "stdout",
     "output_type": "stream",
     "text": [
      "Relative cost: -0.046\n",
      "Absolute cost: 0.304\n",
      "--------------------------------------------------\n"
     ]
    },
    {
     "data": {
      "application/vnd.jupyter.widget-view+json": {
       "model_id": "79065b7f49484fd6bb2d06dca3eb745d",
       "version_major": 2,
       "version_minor": 0
      },
      "text/plain": [
       "  0%|          | 0/200 [00:00<?, ?it/s]"
      ]
     },
     "metadata": {},
     "output_type": "display_data"
    },
    {
     "name": "stdout",
     "output_type": "stream",
     "text": [
      "Relative cost: -0.363\n",
      "Absolute cost: 0.246\n",
      "--------------------------------------------------\n"
     ]
    },
    {
     "data": {
      "application/vnd.jupyter.widget-view+json": {
       "model_id": "04534eff25dc409494afe3df1133166d",
       "version_major": 2,
       "version_minor": 0
      },
      "text/plain": [
       "  0%|          | 0/200 [00:00<?, ?it/s]"
      ]
     },
     "metadata": {},
     "output_type": "display_data"
    },
    {
     "name": "stdout",
     "output_type": "stream",
     "text": [
      "Relative cost: 0.019\n",
      "Absolute cost: 0.32\n",
      "--------------------------------------------------\n",
      "Best model for sample 80: SimulatedAnnealing\n",
      "--------------------------------------------------\n",
      "Running attack for sample 81...\n"
     ]
    },
    {
     "data": {
      "application/vnd.jupyter.widget-view+json": {
       "model_id": "47cdbe845b444d9e8ba473433e4ebf0b",
       "version_major": 2,
       "version_minor": 0
      },
      "text/plain": [
       "  0%|          | 0/200 [00:00<?, ?it/s]"
      ]
     },
     "metadata": {},
     "output_type": "display_data"
    },
    {
     "name": "stdout",
     "output_type": "stream",
     "text": [
      "Relative cost: 0.029\n",
      "Absolute cost: 0.772\n",
      "--------------------------------------------------\n"
     ]
    },
    {
     "data": {
      "application/vnd.jupyter.widget-view+json": {
       "model_id": "3d06d666f7c14ceba669ae8275759fe0",
       "version_major": 2,
       "version_minor": 0
      },
      "text/plain": [
       "  0%|          | 0/200 [00:00<?, ?it/s]"
      ]
     },
     "metadata": {},
     "output_type": "display_data"
    },
    {
     "name": "stdout",
     "output_type": "stream",
     "text": [
      "Relative cost: 0.088\n",
      "Absolute cost: 0.841\n",
      "--------------------------------------------------\n"
     ]
    },
    {
     "data": {
      "application/vnd.jupyter.widget-view+json": {
       "model_id": "65f32cb97912498ca719cd7388f25562",
       "version_major": 2,
       "version_minor": 0
      },
      "text/plain": [
       "  0%|          | 0/200 [00:00<?, ?it/s]"
      ]
     },
     "metadata": {},
     "output_type": "display_data"
    },
    {
     "name": "stdout",
     "output_type": "stream",
     "text": [
      "Relative cost: 0.048\n",
      "Absolute cost: 0.781\n",
      "--------------------------------------------------\n",
      "Best model for sample 81: HillClimbing\n",
      "--------------------------------------------------\n",
      "Running attack for sample 82...\n"
     ]
    },
    {
     "data": {
      "application/vnd.jupyter.widget-view+json": {
       "model_id": "4ffe9653b2d6420a89eafae71d4ba89b",
       "version_major": 2,
       "version_minor": 0
      },
      "text/plain": [
       "  0%|          | 0/200 [00:00<?, ?it/s]"
      ]
     },
     "metadata": {},
     "output_type": "display_data"
    },
    {
     "name": "stdout",
     "output_type": "stream",
     "text": [
      "Radar Warning: The number of trials exceeded 10% of maximum generation trials. Found 0 valid samples.\n",
      "Radar Warning: The number of trials exceeded 25% of maximum generation trials. Found 0 valid samples.\n",
      "Radar Warning: The number of trials exceeded 50% of maximum generation trials. Found 0 valid samples.\n",
      "Error: RADAR: No valid sample satisfied the constraints after 1000 trials.\n"
     ]
    },
    {
     "data": {
      "application/vnd.jupyter.widget-view+json": {
       "model_id": "c7fd7423811e41c3a4688673db746809",
       "version_major": 2,
       "version_minor": 0
      },
      "text/plain": [
       "  0%|          | 0/200 [00:00<?, ?it/s]"
      ]
     },
     "metadata": {},
     "output_type": "display_data"
    },
    {
     "name": "stdout",
     "output_type": "stream",
     "text": [
      "Relative cost: 0.14\n",
      "Absolute cost: 0.327\n",
      "--------------------------------------------------\n"
     ]
    },
    {
     "data": {
      "application/vnd.jupyter.widget-view+json": {
       "model_id": "ee6390e84da044bdb2f126d2bb76dd15",
       "version_major": 2,
       "version_minor": 0
      },
      "text/plain": [
       "  0%|          | 0/200 [00:00<?, ?it/s]"
      ]
     },
     "metadata": {},
     "output_type": "display_data"
    },
    {
     "name": "stdout",
     "output_type": "stream",
     "text": [
      "Relative cost: 0.155\n",
      "Absolute cost: 0.336\n",
      "--------------------------------------------------\n",
      "Best model for sample 82: SimulatedAnnealing\n",
      "--------------------------------------------------\n",
      "Running attack for sample 83...\n"
     ]
    },
    {
     "data": {
      "application/vnd.jupyter.widget-view+json": {
       "model_id": "f05fe3834f9a413a83ffcfb855b0c049",
       "version_major": 2,
       "version_minor": 0
      },
      "text/plain": [
       "  0%|          | 0/200 [00:00<?, ?it/s]"
      ]
     },
     "metadata": {},
     "output_type": "display_data"
    },
    {
     "name": "stdout",
     "output_type": "stream",
     "text": [
      "Relative cost: -0.198\n",
      "Absolute cost: 0.414\n",
      "--------------------------------------------------\n"
     ]
    },
    {
     "data": {
      "application/vnd.jupyter.widget-view+json": {
       "model_id": "b8ceacfc89bc4aa0869c7fd3431d8392",
       "version_major": 2,
       "version_minor": 0
      },
      "text/plain": [
       "  0%|          | 0/200 [00:00<?, ?it/s]"
      ]
     },
     "metadata": {},
     "output_type": "display_data"
    },
    {
     "name": "stdout",
     "output_type": "stream",
     "text": [
      "Relative cost: -0.204\n",
      "Absolute cost: 0.41\n",
      "--------------------------------------------------\n"
     ]
    },
    {
     "data": {
      "application/vnd.jupyter.widget-view+json": {
       "model_id": "0f76e5904d5a42179a3f9f5ce647a5a9",
       "version_major": 2,
       "version_minor": 0
      },
      "text/plain": [
       "  0%|          | 0/200 [00:00<?, ?it/s]"
      ]
     },
     "metadata": {},
     "output_type": "display_data"
    },
    {
     "name": "stdout",
     "output_type": "stream",
     "text": [
      "Relative cost: -0.179\n",
      "Absolute cost: 0.448\n",
      "--------------------------------------------------\n",
      "Best model for sample 83: SimulatedAnnealing\n",
      "--------------------------------------------------\n",
      "Running attack for sample 84...\n"
     ]
    },
    {
     "data": {
      "application/vnd.jupyter.widget-view+json": {
       "model_id": "44eff75e5cdc45c09771e8635029a494",
       "version_major": 2,
       "version_minor": 0
      },
      "text/plain": [
       "  0%|          | 0/200 [00:00<?, ?it/s]"
      ]
     },
     "metadata": {},
     "output_type": "display_data"
    },
    {
     "name": "stdout",
     "output_type": "stream",
     "text": [
      "Relative cost: -0.104\n",
      "Absolute cost: 0.802\n",
      "--------------------------------------------------\n"
     ]
    },
    {
     "data": {
      "application/vnd.jupyter.widget-view+json": {
       "model_id": "544090d9609e48018c7187756a5bb705",
       "version_major": 2,
       "version_minor": 0
      },
      "text/plain": [
       "  0%|          | 0/200 [00:00<?, ?it/s]"
      ]
     },
     "metadata": {},
     "output_type": "display_data"
    },
    {
     "name": "stdout",
     "output_type": "stream",
     "text": [
      "Relative cost: 0.001\n",
      "Absolute cost: 0.711\n",
      "--------------------------------------------------\n"
     ]
    },
    {
     "data": {
      "application/vnd.jupyter.widget-view+json": {
       "model_id": "163cb4591d5a4b8480d380cbae5cef33",
       "version_major": 2,
       "version_minor": 0
      },
      "text/plain": [
       "  0%|          | 0/200 [00:00<?, ?it/s]"
      ]
     },
     "metadata": {},
     "output_type": "display_data"
    },
    {
     "name": "stdout",
     "output_type": "stream",
     "text": [
      "Relative cost: 0.025\n",
      "Absolute cost: 0.734\n",
      "--------------------------------------------------\n",
      "Best model for sample 84: SimulatedAnnealing\n",
      "--------------------------------------------------\n",
      "Running attack for sample 85...\n"
     ]
    },
    {
     "data": {
      "application/vnd.jupyter.widget-view+json": {
       "model_id": "5425fa876cd94c07a4748a857a5a772d",
       "version_major": 2,
       "version_minor": 0
      },
      "text/plain": [
       "  0%|          | 0/200 [00:00<?, ?it/s]"
      ]
     },
     "metadata": {},
     "output_type": "display_data"
    },
    {
     "name": "stdout",
     "output_type": "stream",
     "text": [
      "Relative cost: -0.349\n",
      "Absolute cost: 0.358\n",
      "--------------------------------------------------\n"
     ]
    },
    {
     "data": {
      "application/vnd.jupyter.widget-view+json": {
       "model_id": "b4e0d51e4ecb47408f69a86a213036c5",
       "version_major": 2,
       "version_minor": 0
      },
      "text/plain": [
       "  0%|          | 0/200 [00:00<?, ?it/s]"
      ]
     },
     "metadata": {},
     "output_type": "display_data"
    },
    {
     "name": "stdout",
     "output_type": "stream",
     "text": [
      "Relative cost: 0.189\n",
      "Absolute cost: 0.456\n",
      "--------------------------------------------------\n"
     ]
    },
    {
     "data": {
      "application/vnd.jupyter.widget-view+json": {
       "model_id": "53ddbc30f6ab4c97981f4ebf621ab0a0",
       "version_major": 2,
       "version_minor": 0
      },
      "text/plain": [
       "  0%|          | 0/200 [00:00<?, ?it/s]"
      ]
     },
     "metadata": {},
     "output_type": "display_data"
    },
    {
     "name": "stdout",
     "output_type": "stream",
     "text": [
      "Relative cost: 0.143\n",
      "Absolute cost: 0.41\n",
      "--------------------------------------------------\n",
      "Best model for sample 85: HillClimbing\n",
      "--------------------------------------------------\n",
      "Running attack for sample 86...\n"
     ]
    },
    {
     "data": {
      "application/vnd.jupyter.widget-view+json": {
       "model_id": "9e9d90613b644b0482188ef2e3f12a72",
       "version_major": 2,
       "version_minor": 0
      },
      "text/plain": [
       "  0%|          | 0/200 [00:00<?, ?it/s]"
      ]
     },
     "metadata": {},
     "output_type": "display_data"
    },
    {
     "name": "stdout",
     "output_type": "stream",
     "text": [
      "Radar Warning: The number of trials exceeded 10% of maximum generation trials. Found 0 valid samples.\n",
      "Radar Warning: The number of trials exceeded 25% of maximum generation trials. Found 0 valid samples.\n",
      "Radar Warning: The number of trials exceeded 50% of maximum generation trials. Found 0 valid samples.\n",
      "Error: RADAR: No valid sample satisfied the constraints after 1000 trials.\n"
     ]
    },
    {
     "data": {
      "application/vnd.jupyter.widget-view+json": {
       "model_id": "101759887fdc433dbdbbbf20fa4424d6",
       "version_major": 2,
       "version_minor": 0
      },
      "text/plain": [
       "  0%|          | 0/200 [00:00<?, ?it/s]"
      ]
     },
     "metadata": {},
     "output_type": "display_data"
    },
    {
     "name": "stdout",
     "output_type": "stream",
     "text": [
      "Relative cost: 0.123\n",
      "Absolute cost: 0.282\n",
      "--------------------------------------------------\n"
     ]
    },
    {
     "data": {
      "application/vnd.jupyter.widget-view+json": {
       "model_id": "6646e3adfb1e4e148d11e1814959aecd",
       "version_major": 2,
       "version_minor": 0
      },
      "text/plain": [
       "  0%|          | 0/200 [00:00<?, ?it/s]"
      ]
     },
     "metadata": {},
     "output_type": "display_data"
    },
    {
     "name": "stdout",
     "output_type": "stream",
     "text": [
      "Relative cost: 0.125\n",
      "Absolute cost: 0.307\n",
      "--------------------------------------------------\n",
      "Best model for sample 86: SimulatedAnnealing\n",
      "--------------------------------------------------\n",
      "Running attack for sample 87...\n"
     ]
    },
    {
     "data": {
      "application/vnd.jupyter.widget-view+json": {
       "model_id": "3fd78246a24748458551908c9ba2ea04",
       "version_major": 2,
       "version_minor": 0
      },
      "text/plain": [
       "  0%|          | 0/200 [00:00<?, ?it/s]"
      ]
     },
     "metadata": {},
     "output_type": "display_data"
    },
    {
     "name": "stdout",
     "output_type": "stream",
     "text": [
      "Radar Warning: The number of trials exceeded 10% of maximum generation trials. Found 0 valid samples.\n",
      "Radar Warning: The number of trials exceeded 25% of maximum generation trials. Found 0 valid samples.\n",
      "Radar Warning: The number of trials exceeded 50% of maximum generation trials. Found 0 valid samples.\n",
      "Error: RADAR: No valid sample satisfied the constraints after 1000 trials.\n"
     ]
    },
    {
     "data": {
      "application/vnd.jupyter.widget-view+json": {
       "model_id": "54be00d960844efab7fa302ed8a1c168",
       "version_major": 2,
       "version_minor": 0
      },
      "text/plain": [
       "  0%|          | 0/200 [00:00<?, ?it/s]"
      ]
     },
     "metadata": {},
     "output_type": "display_data"
    },
    {
     "name": "stdout",
     "output_type": "stream",
     "text": [
      "Relative cost: 0.105\n",
      "Absolute cost: 0.411\n",
      "--------------------------------------------------\n"
     ]
    },
    {
     "data": {
      "application/vnd.jupyter.widget-view+json": {
       "model_id": "5a0c56d9d44f46c5a94dce8278ec4e78",
       "version_major": 2,
       "version_minor": 0
      },
      "text/plain": [
       "  0%|          | 0/200 [00:00<?, ?it/s]"
      ]
     },
     "metadata": {},
     "output_type": "display_data"
    },
    {
     "name": "stdout",
     "output_type": "stream",
     "text": [
      "Relative cost: 0.245\n",
      "Absolute cost: 0.512\n",
      "--------------------------------------------------\n",
      "Best model for sample 87: SimulatedAnnealing\n",
      "--------------------------------------------------\n",
      "Running attack for sample 88...\n"
     ]
    },
    {
     "data": {
      "application/vnd.jupyter.widget-view+json": {
       "model_id": "fd73b7bbec0c485eb05468cb2cd2c7a2",
       "version_major": 2,
       "version_minor": 0
      },
      "text/plain": [
       "  0%|          | 0/200 [00:00<?, ?it/s]"
      ]
     },
     "metadata": {},
     "output_type": "display_data"
    },
    {
     "name": "stdout",
     "output_type": "stream",
     "text": [
      "Relative cost: -0.478\n",
      "Absolute cost: 0.635\n",
      "--------------------------------------------------\n"
     ]
    },
    {
     "data": {
      "application/vnd.jupyter.widget-view+json": {
       "model_id": "263d462c8f6f451c9da9d0e95d414fe1",
       "version_major": 2,
       "version_minor": 0
      },
      "text/plain": [
       "  0%|          | 0/200 [00:00<?, ?it/s]"
      ]
     },
     "metadata": {},
     "output_type": "display_data"
    },
    {
     "name": "stdout",
     "output_type": "stream",
     "text": [
      "Relative cost: -0.062\n",
      "Absolute cost: 0.616\n",
      "--------------------------------------------------\n"
     ]
    },
    {
     "data": {
      "application/vnd.jupyter.widget-view+json": {
       "model_id": "6d47f9e203fa46e8a773a843a6fe35ea",
       "version_major": 2,
       "version_minor": 0
      },
      "text/plain": [
       "  0%|          | 0/200 [00:00<?, ?it/s]"
      ]
     },
     "metadata": {},
     "output_type": "display_data"
    },
    {
     "name": "stdout",
     "output_type": "stream",
     "text": [
      "Relative cost: -0.045\n",
      "Absolute cost: 0.886\n",
      "--------------------------------------------------\n",
      "Best model for sample 88: SimulatedAnnealing\n",
      "--------------------------------------------------\n",
      "Running attack for sample 89...\n"
     ]
    },
    {
     "data": {
      "application/vnd.jupyter.widget-view+json": {
       "model_id": "14ea87f24f0844a0bebbd1449f4cc7cf",
       "version_major": 2,
       "version_minor": 0
      },
      "text/plain": [
       "  0%|          | 0/200 [00:00<?, ?it/s]"
      ]
     },
     "metadata": {},
     "output_type": "display_data"
    },
    {
     "name": "stdout",
     "output_type": "stream",
     "text": [
      "Radar Warning: The number of trials exceeded 10% of maximum generation trials. Found 0 valid samples.\n",
      "Radar Warning: The number of trials exceeded 25% of maximum generation trials. Found 0 valid samples.\n",
      "Radar Warning: The number of trials exceeded 50% of maximum generation trials. Found 0 valid samples.\n",
      "Error: RADAR: No valid sample satisfied the constraints after 1000 trials.\n"
     ]
    },
    {
     "data": {
      "application/vnd.jupyter.widget-view+json": {
       "model_id": "a0b7320b22774455aa9495f98c5bb4c9",
       "version_major": 2,
       "version_minor": 0
      },
      "text/plain": [
       "  0%|          | 0/200 [00:00<?, ?it/s]"
      ]
     },
     "metadata": {},
     "output_type": "display_data"
    },
    {
     "name": "stdout",
     "output_type": "stream",
     "text": [
      "Relative cost: 0.232\n",
      "Absolute cost: 0.292\n",
      "--------------------------------------------------\n"
     ]
    },
    {
     "data": {
      "application/vnd.jupyter.widget-view+json": {
       "model_id": "c83a65f8e8b64ca0819caefacf62f053",
       "version_major": 2,
       "version_minor": 0
      },
      "text/plain": [
       "  0%|          | 0/200 [00:00<?, ?it/s]"
      ]
     },
     "metadata": {},
     "output_type": "display_data"
    },
    {
     "name": "stdout",
     "output_type": "stream",
     "text": [
      "Relative cost: 0.13\n",
      "Absolute cost: 0.19\n",
      "--------------------------------------------------\n",
      "Best model for sample 89: TabuSearch\n",
      "--------------------------------------------------\n",
      "Running attack for sample 90...\n"
     ]
    },
    {
     "data": {
      "application/vnd.jupyter.widget-view+json": {
       "model_id": "97539fd01cc443ab916f79575ebe6556",
       "version_major": 2,
       "version_minor": 0
      },
      "text/plain": [
       "  0%|          | 0/200 [00:00<?, ?it/s]"
      ]
     },
     "metadata": {},
     "output_type": "display_data"
    },
    {
     "name": "stdout",
     "output_type": "stream",
     "text": [
      "Radar Warning: The number of trials exceeded 10% of maximum generation trials. Found 0 valid samples.\n",
      "Radar Warning: The number of trials exceeded 25% of maximum generation trials. Found 0 valid samples.\n",
      "Radar Warning: The number of trials exceeded 50% of maximum generation trials. Found 0 valid samples.\n",
      "Error: RADAR: No valid sample satisfied the constraints after 1000 trials.\n"
     ]
    },
    {
     "data": {
      "application/vnd.jupyter.widget-view+json": {
       "model_id": "579bc8509fb9461283f96251c481d27f",
       "version_major": 2,
       "version_minor": 0
      },
      "text/plain": [
       "  0%|          | 0/200 [00:00<?, ?it/s]"
      ]
     },
     "metadata": {},
     "output_type": "display_data"
    },
    {
     "name": "stdout",
     "output_type": "stream",
     "text": [
      "Relative cost: 0.264\n",
      "Absolute cost: 0.436\n",
      "--------------------------------------------------\n"
     ]
    },
    {
     "data": {
      "application/vnd.jupyter.widget-view+json": {
       "model_id": "04a85c051fbe4649b64a3a1fcf918ad0",
       "version_major": 2,
       "version_minor": 0
      },
      "text/plain": [
       "  0%|          | 0/200 [00:00<?, ?it/s]"
      ]
     },
     "metadata": {},
     "output_type": "display_data"
    },
    {
     "name": "stdout",
     "output_type": "stream",
     "text": [
      "Relative cost: 0.22\n",
      "Absolute cost: 0.562\n",
      "--------------------------------------------------\n",
      "Best model for sample 90: SimulatedAnnealing\n",
      "--------------------------------------------------\n",
      "Running attack for sample 91...\n"
     ]
    },
    {
     "data": {
      "application/vnd.jupyter.widget-view+json": {
       "model_id": "d065c31b42e14219849b14ed1f602320",
       "version_major": 2,
       "version_minor": 0
      },
      "text/plain": [
       "  0%|          | 0/200 [00:00<?, ?it/s]"
      ]
     },
     "metadata": {},
     "output_type": "display_data"
    },
    {
     "name": "stdout",
     "output_type": "stream",
     "text": [
      "Radar Warning: The number of trials exceeded 10% of maximum generation trials. Found 0 valid samples.\n",
      "Radar Warning: The number of trials exceeded 25% of maximum generation trials. Found 0 valid samples.\n",
      "Radar Warning: The number of trials exceeded 50% of maximum generation trials. Found 0 valid samples.\n",
      "Error: RADAR: No valid sample satisfied the constraints after 1000 trials.\n"
     ]
    },
    {
     "data": {
      "application/vnd.jupyter.widget-view+json": {
       "model_id": "5b3e902e9d124e219a930603721537f3",
       "version_major": 2,
       "version_minor": 0
      },
      "text/plain": [
       "  0%|          | 0/200 [00:00<?, ?it/s]"
      ]
     },
     "metadata": {},
     "output_type": "display_data"
    },
    {
     "name": "stdout",
     "output_type": "stream",
     "text": [
      "Relative cost: 0.091\n",
      "Absolute cost: 0.328\n",
      "--------------------------------------------------\n"
     ]
    },
    {
     "data": {
      "application/vnd.jupyter.widget-view+json": {
       "model_id": "ab8f1216aaef4d5ca15a311cedb5323c",
       "version_major": 2,
       "version_minor": 0
      },
      "text/plain": [
       "  0%|          | 0/200 [00:00<?, ?it/s]"
      ]
     },
     "metadata": {},
     "output_type": "display_data"
    },
    {
     "name": "stdout",
     "output_type": "stream",
     "text": [
      "Relative cost: 0.131\n",
      "Absolute cost: 0.368\n",
      "--------------------------------------------------\n",
      "Best model for sample 91: SimulatedAnnealing\n",
      "--------------------------------------------------\n",
      "Running attack for sample 92...\n"
     ]
    },
    {
     "data": {
      "application/vnd.jupyter.widget-view+json": {
       "model_id": "213975d98ed7454ebbed3ddb46d4ec47",
       "version_major": 2,
       "version_minor": 0
      },
      "text/plain": [
       "  0%|          | 0/200 [00:00<?, ?it/s]"
      ]
     },
     "metadata": {},
     "output_type": "display_data"
    },
    {
     "name": "stdout",
     "output_type": "stream",
     "text": [
      "Radar Warning: The number of trials exceeded 10% of maximum generation trials. Found 0 valid samples.\n",
      "Radar Warning: The number of trials exceeded 25% of maximum generation trials. Found 0 valid samples.\n",
      "Radar Warning: The number of trials exceeded 50% of maximum generation trials. Found 0 valid samples.\n",
      "Error: RADAR: No valid sample satisfied the constraints after 1000 trials.\n"
     ]
    },
    {
     "data": {
      "application/vnd.jupyter.widget-view+json": {
       "model_id": "d65889f8831b4860ab265f7574804ce7",
       "version_major": 2,
       "version_minor": 0
      },
      "text/plain": [
       "  0%|          | 0/200 [00:00<?, ?it/s]"
      ]
     },
     "metadata": {},
     "output_type": "display_data"
    },
    {
     "name": "stdout",
     "output_type": "stream",
     "text": [
      "Relative cost: 0.262\n",
      "Absolute cost: 0.646\n",
      "--------------------------------------------------\n"
     ]
    },
    {
     "data": {
      "application/vnd.jupyter.widget-view+json": {
       "model_id": "e32427e9020445e787357aa91cc48798",
       "version_major": 2,
       "version_minor": 0
      },
      "text/plain": [
       "  0%|          | 0/200 [00:00<?, ?it/s]"
      ]
     },
     "metadata": {},
     "output_type": "display_data"
    },
    {
     "name": "stdout",
     "output_type": "stream",
     "text": [
      "Relative cost: 0.159\n",
      "Absolute cost: 0.514\n",
      "--------------------------------------------------\n",
      "Best model for sample 92: TabuSearch\n",
      "--------------------------------------------------\n",
      "Running attack for sample 93...\n"
     ]
    },
    {
     "data": {
      "application/vnd.jupyter.widget-view+json": {
       "model_id": "f8a3a2dbb56546aebf6c17337b7c447b",
       "version_major": 2,
       "version_minor": 0
      },
      "text/plain": [
       "  0%|          | 0/200 [00:00<?, ?it/s]"
      ]
     },
     "metadata": {},
     "output_type": "display_data"
    },
    {
     "name": "stdout",
     "output_type": "stream",
     "text": [
      "Relative cost: -0.175\n",
      "Absolute cost: 0.731\n",
      "--------------------------------------------------\n"
     ]
    },
    {
     "data": {
      "application/vnd.jupyter.widget-view+json": {
       "model_id": "12ca26fbe4ba4606aac7fc78c2c3c36b",
       "version_major": 2,
       "version_minor": 0
      },
      "text/plain": [
       "  0%|          | 0/200 [00:00<?, ?it/s]"
      ]
     },
     "metadata": {},
     "output_type": "display_data"
    },
    {
     "name": "stdout",
     "output_type": "stream",
     "text": [
      "Relative cost: 0.016\n",
      "Absolute cost: 0.931\n",
      "--------------------------------------------------\n"
     ]
    },
    {
     "data": {
      "application/vnd.jupyter.widget-view+json": {
       "model_id": "a034bc6c4b9944d5a80d141e0bf96ae1",
       "version_major": 2,
       "version_minor": 0
      },
      "text/plain": [
       "  0%|          | 0/200 [00:00<?, ?it/s]"
      ]
     },
     "metadata": {},
     "output_type": "display_data"
    },
    {
     "name": "stdout",
     "output_type": "stream",
     "text": [
      "Relative cost: -0.015\n",
      "Absolute cost: 0.88\n",
      "--------------------------------------------------\n",
      "Best model for sample 93: HillClimbing\n",
      "--------------------------------------------------\n",
      "Running attack for sample 94...\n"
     ]
    },
    {
     "data": {
      "application/vnd.jupyter.widget-view+json": {
       "model_id": "809d8b314a104dbbb456694d168378f6",
       "version_major": 2,
       "version_minor": 0
      },
      "text/plain": [
       "  0%|          | 0/200 [00:00<?, ?it/s]"
      ]
     },
     "metadata": {},
     "output_type": "display_data"
    },
    {
     "name": "stdout",
     "output_type": "stream",
     "text": [
      "Relative cost: 1.301\n",
      "Absolute cost: 1.045\n",
      "--------------------------------------------------\n"
     ]
    },
    {
     "data": {
      "application/vnd.jupyter.widget-view+json": {
       "model_id": "f020d094b09f4911aff88eafb98e57df",
       "version_major": 2,
       "version_minor": 0
      },
      "text/plain": [
       "  0%|          | 0/200 [00:00<?, ?it/s]"
      ]
     },
     "metadata": {},
     "output_type": "display_data"
    },
    {
     "name": "stdout",
     "output_type": "stream",
     "text": [
      "Relative cost: 3.275\n",
      "Absolute cost: 4.112\n",
      "--------------------------------------------------\n"
     ]
    },
    {
     "data": {
      "application/vnd.jupyter.widget-view+json": {
       "model_id": "1437d09f455f48748857e3464ad1b51f",
       "version_major": 2,
       "version_minor": 0
      },
      "text/plain": [
       "  0%|          | 0/200 [00:00<?, ?it/s]"
      ]
     },
     "metadata": {},
     "output_type": "display_data"
    },
    {
     "name": "stdout",
     "output_type": "stream",
     "text": [
      "Relative cost: -0.332\n",
      "Absolute cost: 0.431\n",
      "--------------------------------------------------\n",
      "Best model for sample 94: TabuSearch\n",
      "--------------------------------------------------\n",
      "Running attack for sample 95...\n"
     ]
    },
    {
     "data": {
      "application/vnd.jupyter.widget-view+json": {
       "model_id": "4f30842907c24bc9a3677537c7cf6172",
       "version_major": 2,
       "version_minor": 0
      },
      "text/plain": [
       "  0%|          | 0/200 [00:00<?, ?it/s]"
      ]
     },
     "metadata": {},
     "output_type": "display_data"
    },
    {
     "name": "stdout",
     "output_type": "stream",
     "text": [
      "Radar Warning: The number of trials exceeded 10% of maximum generation trials. Found 0 valid samples.\n",
      "Radar Warning: The number of trials exceeded 25% of maximum generation trials. Found 0 valid samples.\n",
      "Radar Warning: The number of trials exceeded 50% of maximum generation trials. Found 0 valid samples.\n",
      "Error: RADAR: No valid sample satisfied the constraints after 1000 trials.\n"
     ]
    },
    {
     "data": {
      "application/vnd.jupyter.widget-view+json": {
       "model_id": "31e5d1128dc04e229334a6bba3c59bdc",
       "version_major": 2,
       "version_minor": 0
      },
      "text/plain": [
       "  0%|          | 0/200 [00:00<?, ?it/s]"
      ]
     },
     "metadata": {},
     "output_type": "display_data"
    },
    {
     "name": "stdout",
     "output_type": "stream",
     "text": [
      "Relative cost: 0.079\n",
      "Absolute cost: 0.321\n",
      "--------------------------------------------------\n"
     ]
    },
    {
     "data": {
      "application/vnd.jupyter.widget-view+json": {
       "model_id": "f5516170e6d84e1789c7c63e8ea4a211",
       "version_major": 2,
       "version_minor": 0
      },
      "text/plain": [
       "  0%|          | 0/200 [00:00<?, ?it/s]"
      ]
     },
     "metadata": {},
     "output_type": "display_data"
    },
    {
     "name": "stdout",
     "output_type": "stream",
     "text": [
      "Relative cost: 2.465\n",
      "Absolute cost: 2.535\n",
      "--------------------------------------------------\n",
      "Best model for sample 95: SimulatedAnnealing\n",
      "--------------------------------------------------\n",
      "Running attack for sample 96...\n"
     ]
    },
    {
     "data": {
      "application/vnd.jupyter.widget-view+json": {
       "model_id": "6bb953c16c7b41a7a51f58299246540a",
       "version_major": 2,
       "version_minor": 0
      },
      "text/plain": [
       "  0%|          | 0/200 [00:00<?, ?it/s]"
      ]
     },
     "metadata": {},
     "output_type": "display_data"
    },
    {
     "name": "stdout",
     "output_type": "stream",
     "text": [
      "Relative cost: -0.001\n",
      "Absolute cost: 0.977\n",
      "--------------------------------------------------\n"
     ]
    },
    {
     "data": {
      "application/vnd.jupyter.widget-view+json": {
       "model_id": "3c1ebde669ff4dd4a1a40d6aea0cea2e",
       "version_major": 2,
       "version_minor": 0
      },
      "text/plain": [
       "  0%|          | 0/200 [00:00<?, ?it/s]"
      ]
     },
     "metadata": {},
     "output_type": "display_data"
    },
    {
     "name": "stdout",
     "output_type": "stream",
     "text": [
      "Relative cost: -0.019\n",
      "Absolute cost: 0.971\n",
      "--------------------------------------------------\n"
     ]
    },
    {
     "data": {
      "application/vnd.jupyter.widget-view+json": {
       "model_id": "083d8720c1c248599605d6e9ed937914",
       "version_major": 2,
       "version_minor": 0
      },
      "text/plain": [
       "  0%|          | 0/200 [00:00<?, ?it/s]"
      ]
     },
     "metadata": {},
     "output_type": "display_data"
    },
    {
     "name": "stdout",
     "output_type": "stream",
     "text": [
      "Relative cost: 0.127\n",
      "Absolute cost: 1.091\n",
      "--------------------------------------------------\n",
      "Best model for sample 96: SimulatedAnnealing\n",
      "--------------------------------------------------\n",
      "Running attack for sample 97...\n"
     ]
    },
    {
     "data": {
      "application/vnd.jupyter.widget-view+json": {
       "model_id": "def0d2da0004493faa4d55c774f59a34",
       "version_major": 2,
       "version_minor": 0
      },
      "text/plain": [
       "  0%|          | 0/200 [00:00<?, ?it/s]"
      ]
     },
     "metadata": {},
     "output_type": "display_data"
    },
    {
     "name": "stdout",
     "output_type": "stream",
     "text": [
      "Relative cost: -0.01\n",
      "Absolute cost: 0.319\n",
      "--------------------------------------------------\n"
     ]
    },
    {
     "data": {
      "application/vnd.jupyter.widget-view+json": {
       "model_id": "bcff63c5985a48ff8ce8d1ba26ab5649",
       "version_major": 2,
       "version_minor": 0
      },
      "text/plain": [
       "  0%|          | 0/200 [00:00<?, ?it/s]"
      ]
     },
     "metadata": {},
     "output_type": "display_data"
    },
    {
     "name": "stdout",
     "output_type": "stream",
     "text": [
      "Relative cost: -0.011\n",
      "Absolute cost: 0.319\n",
      "--------------------------------------------------\n"
     ]
    },
    {
     "data": {
      "application/vnd.jupyter.widget-view+json": {
       "model_id": "205470c1f0254395b699fa0b25748307",
       "version_major": 2,
       "version_minor": 0
      },
      "text/plain": [
       "  0%|          | 0/200 [00:00<?, ?it/s]"
      ]
     },
     "metadata": {},
     "output_type": "display_data"
    },
    {
     "name": "stdout",
     "output_type": "stream",
     "text": [
      "Relative cost: -0.011\n",
      "Absolute cost: 0.318\n",
      "--------------------------------------------------\n",
      "Best model for sample 97: TabuSearch\n",
      "--------------------------------------------------\n",
      "Running attack for sample 98...\n"
     ]
    },
    {
     "data": {
      "application/vnd.jupyter.widget-view+json": {
       "model_id": "a3a4c89c44694f18b2231417145c1545",
       "version_major": 2,
       "version_minor": 0
      },
      "text/plain": [
       "  0%|          | 0/200 [00:00<?, ?it/s]"
      ]
     },
     "metadata": {},
     "output_type": "display_data"
    },
    {
     "name": "stdout",
     "output_type": "stream",
     "text": [
      "Relative cost: -0.03\n",
      "Absolute cost: 0.308\n",
      "--------------------------------------------------\n"
     ]
    },
    {
     "data": {
      "application/vnd.jupyter.widget-view+json": {
       "model_id": "8286bffc178b4a71837ee97cc79a1ced",
       "version_major": 2,
       "version_minor": 0
      },
      "text/plain": [
       "  0%|          | 0/200 [00:00<?, ?it/s]"
      ]
     },
     "metadata": {},
     "output_type": "display_data"
    },
    {
     "name": "stdout",
     "output_type": "stream",
     "text": [
      "Relative cost: -0.007\n",
      "Absolute cost: 0.326\n",
      "--------------------------------------------------\n"
     ]
    },
    {
     "data": {
      "application/vnd.jupyter.widget-view+json": {
       "model_id": "8544d19d376749ee9cf565b93ff7f5d4",
       "version_major": 2,
       "version_minor": 0
      },
      "text/plain": [
       "  0%|          | 0/200 [00:00<?, ?it/s]"
      ]
     },
     "metadata": {},
     "output_type": "display_data"
    },
    {
     "name": "stdout",
     "output_type": "stream",
     "text": [
      "Relative cost: -0.008\n",
      "Absolute cost: 0.325\n",
      "--------------------------------------------------\n",
      "Best model for sample 98: HillClimbing\n",
      "--------------------------------------------------\n",
      "Running attack for sample 99...\n"
     ]
    },
    {
     "data": {
      "application/vnd.jupyter.widget-view+json": {
       "model_id": "f57f294935fb4f5d97092d492833554b",
       "version_major": 2,
       "version_minor": 0
      },
      "text/plain": [
       "  0%|          | 0/200 [00:00<?, ?it/s]"
      ]
     },
     "metadata": {},
     "output_type": "display_data"
    },
    {
     "name": "stdout",
     "output_type": "stream",
     "text": [
      "Relative cost: 0.033\n",
      "Absolute cost: 0.326\n",
      "--------------------------------------------------\n"
     ]
    },
    {
     "data": {
      "application/vnd.jupyter.widget-view+json": {
       "model_id": "7a76d64729184772b7d8ce3e1c6339b4",
       "version_major": 2,
       "version_minor": 0
      },
      "text/plain": [
       "  0%|          | 0/200 [00:00<?, ?it/s]"
      ]
     },
     "metadata": {},
     "output_type": "display_data"
    },
    {
     "name": "stdout",
     "output_type": "stream",
     "text": [
      "Relative cost: 0.069\n",
      "Absolute cost: 0.36\n",
      "--------------------------------------------------\n"
     ]
    },
    {
     "data": {
      "application/vnd.jupyter.widget-view+json": {
       "model_id": "ca25c2e18b6e40179567b36405cfb3da",
       "version_major": 2,
       "version_minor": 0
      },
      "text/plain": [
       "  0%|          | 0/200 [00:00<?, ?it/s]"
      ]
     },
     "metadata": {},
     "output_type": "display_data"
    },
    {
     "name": "stdout",
     "output_type": "stream",
     "text": [
      "Relative cost: 0.092\n",
      "Absolute cost: 0.36\n",
      "--------------------------------------------------\n",
      "Best model for sample 99: HillClimbing\n",
      "--------------------------------------------------\n",
      "Running attack for sample 100...\n"
     ]
    },
    {
     "data": {
      "application/vnd.jupyter.widget-view+json": {
       "model_id": "7a80e125c23d4c3786a2433cb30f1906",
       "version_major": 2,
       "version_minor": 0
      },
      "text/plain": [
       "  0%|          | 0/200 [00:00<?, ?it/s]"
      ]
     },
     "metadata": {},
     "output_type": "display_data"
    },
    {
     "name": "stdout",
     "output_type": "stream",
     "text": [
      "Relative cost: -0.223\n",
      "Absolute cost: 0.7\n",
      "--------------------------------------------------\n"
     ]
    },
    {
     "data": {
      "application/vnd.jupyter.widget-view+json": {
       "model_id": "4c856959de87467ebca9659ae039e7c4",
       "version_major": 2,
       "version_minor": 0
      },
      "text/plain": [
       "  0%|          | 0/200 [00:00<?, ?it/s]"
      ]
     },
     "metadata": {},
     "output_type": "display_data"
    },
    {
     "name": "stdout",
     "output_type": "stream",
     "text": [
      "Relative cost: 0.065\n",
      "Absolute cost: 0.766\n",
      "--------------------------------------------------\n"
     ]
    },
    {
     "data": {
      "application/vnd.jupyter.widget-view+json": {
       "model_id": "e206e92a3fb74894b3c68061fd21bcd6",
       "version_major": 2,
       "version_minor": 0
      },
      "text/plain": [
       "  0%|          | 0/200 [00:00<?, ?it/s]"
      ]
     },
     "metadata": {},
     "output_type": "display_data"
    },
    {
     "name": "stdout",
     "output_type": "stream",
     "text": [
      "Relative cost: 0.048\n",
      "Absolute cost: 0.772\n",
      "--------------------------------------------------\n",
      "Best model for sample 100: HillClimbing\n",
      "--------------------------------------------------\n",
      "HillClimbing best: 34\n",
      "SimulatedAnnealing best: 41\n",
      "TabuSearch best: 25\n",
      "\n",
      "HillClimbing time: 95.17796874046326\n",
      "SimulatedAnnealing time: 110.07478785514832\n",
      "TabuSearch time: 102.3433849811554\n"
     ]
    }
   ],
   "source": [
    "%autoreload 2\n",
    "sys.path.append('..')\n",
    "from neighborhoods.Radar import Radar\n",
    "\n",
    "model_wrapper = model\n",
    "\n",
    "# Define the constraints for the attack: clip values between 1st and 99th percentiles\n",
    "clip_min = X_train.quantile(0.01)\n",
    "clip_max = X_train.quantile(0.99)\n",
    "constraints = {\n",
    "    \"equality\": [\"x[4] = 0.0\", \"x[5] = 0.0\", \"x[6] = 1.0\"],\n",
    "    \"inequality\": [],\n",
    "    \"clip_min\": list(clip_min),\n",
    "    \"clip_max\": list(clip_max),\n",
    "    \"categorical\": [None] * X_test.shape[1]\n",
    "}\n",
    "\n",
    "# Define the neighborhood function\n",
    "neighborhood = Radar(constraints)\n",
    "\n",
    "# Define the attack\n",
    "attack = HillClimbing(estimator=model_wrapper)\n",
    "attack2 = SimulatedAnnealing(estimator=model_wrapper)\n",
    "attack3 = TabuSearch(estimator=model_wrapper)\n",
    "\n",
    "# Initiate list to store results\n",
    "resulthc = list()\n",
    "resultsa = list()\n",
    "resultts = list()\n",
    "\n",
    "hc_best = 0\n",
    "sa_best = 0\n",
    "ts_best = 0\n",
    "\n",
    "hc_time = 0\n",
    "sa_time = 0\n",
    "ts_time = 0\n",
    "\n",
    "hc_best_absolute_scores = []\n",
    "sa_best_absolute_scores = []\n",
    "ts_best_absolute_scores = []\n",
    "\n",
    "# Perform the attack for all samples in X_attack\n",
    "for k, x in enumerate(X_attack):\n",
    "    best_cost = np.inf\n",
    "    best_model = None\n",
    "    print(f\"Running attack for sample {k + 1}...\")\n",
    "    for at in [attack, attack2, attack3]:\n",
    "        t0 = time.time()\n",
    "        try:\n",
    "            result = at.run(\n",
    "                input=x,\n",
    "                cost_function=SLARC_cost_function,\n",
    "                targeted=False,\n",
    "                neighborhood=neighborhood,\n",
    "                max_iter=200,\n",
    "                patience=100,\n",
    "            )\n",
    "        except Exception as e:\n",
    "            print(f\"Error: {e}\")\n",
    "            continue\n",
    "        x_adv = result[0]\n",
    "        rel_cost = SLARC_cost_function(x0=x, x1=x_adv)\n",
    "        abs_cost = SLARC_cost_function(x0=mu_k, x1=x_adv)\n",
    "        print(\"Relative cost:\", round(rel_cost, 3))\n",
    "        print(\"Absolute cost:\", round(abs_cost, 3))\n",
    "        print(\"-\" * 50)\n",
    "        y_pred = model_wrapper.predict([x_adv])\n",
    "        res = {\n",
    "            \"sample\": k + 1,\n",
    "            \"attack\": at.__class__.__name__,\n",
    "            \"success\": int(y_pred[0] == 0), # predicted as not a fraud\n",
    "            \"relative_cost\": rel_cost,\n",
    "            \"absolute_cost\": abs_cost,\n",
    "            \"x_adv\": x_adv\n",
    "        }\n",
    "\n",
    "        if abs_cost < best_cost:\n",
    "            best_cost = abs_cost\n",
    "            best_model = at.__class__.__name__\n",
    "        #print(res)\n",
    "        if at.__class__.__name__ == 'HillClimbing':\n",
    "            resulthc.append(result)\n",
    "        elif at.__class__.__name__ == 'SimulatedAnnealing':\n",
    "            resultsa.append(result)\n",
    "        elif at.__class__.__name__ == 'TabuSearch':\n",
    "            resultts.append(result)\n",
    "\n",
    "        time_taken = time.time() - t0\n",
    "        \n",
    "        hc_time += time_taken if at.__class__.__name__ == 'HillClimbing' else 0\n",
    "        sa_time += time_taken if at.__class__.__name__ == 'SimulatedAnnealing' else 0\n",
    "        ts_time += time_taken if at.__class__.__name__ == 'TabuSearch' else 0\n",
    "\n",
    "        hc_best_absolute_scores.append(abs_cost) if at.__class__.__name__ == 'HillClimbing' else 0\n",
    "        sa_best_absolute_scores.append(abs_cost) if at.__class__.__name__ == 'SimulatedAnnealing' else 0\n",
    "        ts_best_absolute_scores.append(abs_cost) if at.__class__.__name__ == 'TabuSearch' else 0\n",
    "\n",
    "    print(f\"Best model for sample {k + 1}: {best_model}\")\n",
    "    print(\"-\" * 50)\n",
    "\n",
    "    hc_best += 1 if best_model == 'HillClimbing' else 0\n",
    "    sa_best += 1 if best_model == 'SimulatedAnnealing' else 0\n",
    "    ts_best += 1 if best_model == 'TabuSearch' else 0\n",
    "\n",
    "\n",
    "print(f\"HillClimbing best: {hc_best}\")\n",
    "print(f\"SimulatedAnnealing best: {sa_best}\")\n",
    "print(f\"TabuSearch best: {ts_best}\")\n",
    "\n",
    "print(f\"\\nHillClimbing time: {hc_time}\")\n",
    "print(f\"SimulatedAnnealing time: {sa_time}\")\n",
    "print(f\"TabuSearch time: {ts_time}\")\n",
    "\n",
    "# Save the results (absolute costs) to a file\n",
    "np.save('Credit_hc_best_absolute_scores.npy', hc_best_absolute_scores)\n",
    "np.save('Credit_sa_best_absolute_scores.npy', sa_best_absolute_scores)\n",
    "np.save('Credit_ts_best_absolute_scores.npy', ts_best_absolute_scores)"
   ]
  },
  {
   "cell_type": "code",
   "execution_count": 75,
   "metadata": {},
   "outputs": [
    {
     "data": {
      "image/png": "[encoded data removed]",
      "text/plain": [
       "<Figure size 1500x500 with 2 Axes>"
      ]
     },
     "metadata": {},
     "output_type": "display_data"
    }
   ],
   "source": [
    "# Compare the scores from custom cost and SLARC cost.\n",
    "# Custom cost information is in the files Credit_hc_best_absolute_scores_custom.npy, etc.\n",
    "# SLARC cost information is in the files Credit_hc_best_absolute_scores.npy, etc.\n",
    "\n",
    "hc_custom = np.load('Credit_hc_best_absolute_scores_custom.npy')\n",
    "sa_custom = np.load('Credit_sa_best_absolute_scores_custom.npy')\n",
    "ts_custom = np.load('Credit_ts_best_absolute_scores_custom.npy')\n",
    "\n",
    "hc_slarc = np.load('Credit_hc_best_absolute_scores.npy')\n",
    "sa_slarc = np.load('Credit_sa_best_absolute_scores.npy')\n",
    "ts_slarc = np.load('Credit_ts_best_absolute_scores.npy')\n",
    "\n",
    "# Make a DataFrame with the scores (column 'custom' and column 'SLARC').\n",
    "# Compare the scores from custom cost and SLARC cost.\n",
    "# Each row is a sample, and each column is an attack.\n",
    "# 2 dataframes are made for the 2 cost functions.\n",
    "\n",
    "# df_custom: 10 samples with the 3 custom costs. Add sampples using a for loop but first create columns.\n",
    "\n",
    "df_custom = pd.DataFrame(columns=['HillClimbing', 'SimulatedAnnealing', 'TabuSearch'])\n",
    "for i in range(8):\n",
    "    df_custom.loc[i] = [hc_custom[i], sa_custom[i], ts_custom[i]]\n",
    "\n",
    "# df_slarc: 10 samples with the 3 SLARC costs. Add sampples using a for loop but first create columns.\n",
    "\n",
    "df_slarc = pd.DataFrame(columns=['HillClimbing', 'SimulatedAnnealing', 'TabuSearch'])\n",
    "for i in range(8):\n",
    "    df_slarc.loc[i] = [hc_slarc[i], sa_slarc[i], ts_slarc[i]]\n",
    "\n",
    "# Plot with seaborn to compare how different attack strategies perform better depending on the chosen cost\n",
    "\n",
    "fig, ax = plt.subplots(1, 2, figsize=(15, 5))\n",
    "sns.boxplot(data=df_custom, ax=ax[0])\n",
    "ax[0].set_title('Custom cost')\n",
    "ax[0].set_ylabel('Cost')\n",
    "ax[0].set_xlabel('Attack')\n",
    "ax[0].set_ylim(-5, 5)\n",
    "sns.boxplot(data=df_slarc, ax=ax[1])\n",
    "ax[1].set_title('SLARC cost')\n",
    "ax[1].set_ylabel('Cost')\n",
    "ax[1].set_xlabel('Attack')\n",
    "ax[1].set_ylim(0.3, 1)\n",
    "plt.show()\n"
   ]
  },
  {
   "cell_type": "code",
   "execution_count": 78,
   "metadata": {},
   "outputs": [
    {
     "data": {
      "text/plain": [
       "[<matplotlib.lines.Line2D at 0x1fd9f822d50>]"
      ]
     },
     "execution_count": 78,
     "metadata": {},
     "output_type": "execute_result"
    },
    {
     "data": {
      "image/png": "[encoded data removed]",
      "text/plain": [
       "<Figure size 640x480 with 1 Axes>"
      ]
     },
     "metadata": {},
     "output_type": "display_data"
    }
   ],
   "source": [
    "plt.plot(sa_custom)\n",
    "plt.plot(hc_custom, linestyle='--')\n",
    "plt.plot(ts_custom, linestyle='--')"
   ]
  },
  {
   "cell_type": "code",
   "execution_count": 79,
   "metadata": {},
   "outputs": [
    {
     "data": {
      "text/plain": [
       "[<matplotlib.lines.Line2D at 0x1fd9f8a5590>]"
      ]
     },
     "execution_count": 79,
     "metadata": {},
     "output_type": "execute_result"
    },
    {
     "data": {
      "image/png": "[encoded data removed]",
      "text/plain": [
       "<Figure size 640x480 with 1 Axes>"
      ]
     },
     "metadata": {},
     "output_type": "display_data"
    }
   ],
   "source": [
    "plt.plot(sa_slarc)\n",
    "plt.plot(hc_slarc, linestyle='--')\n",
    "plt.plot(ts_slarc, linestyle='--')"
   ]
  },
  {
   "cell_type": "code",
   "execution_count": 81,
   "metadata": {},
   "outputs": [
    {
     "data": {
      "text/plain": [
       "array([ True,  True,  True, False, False, False,  True, False])"
      ]
     },
     "execution_count": 81,
     "metadata": {},
     "output_type": "execute_result"
    }
   ],
   "source": [
    "# Check when sa is better than hc and ts for both costs\n",
    "# sa_better = (sa > hc) & (sa > ts)\n",
    "\n",
    "sa_better_custom = (sa_custom > hc_custom) & (sa_custom > ts_custom)\n",
    "sa_better_slarc = (sa_slarc > hc_slarc) & (sa_slarc > ts_slarc)\n",
    "\n",
    "sa_better_custom == sa_better_slarc"
   ]
  }
 ],
 "metadata": {
  "kernelspec": {
   "display_name": "Python 3",
   "language": "python",
   "name": "python3"
  },
  "language_info": {
   "codemirror_mode": {
    "name": "ipython",
    "version": 3
   },
   "file_extension": ".py",
   "mimetype": "text/x-python",
   "name": "python",
   "nbconvert_exporter": "python",
   "pygments_lexer": "ipython3",
   "version": "3.13.0"
  }
 },
 "nbformat": 4,
 "nbformat_minor": 2
}
